{
  "nbformat": 4,
  "nbformat_minor": 0,
  "metadata": {
    "kernelspec": {
      "display_name": "Python 3",
      "language": "python",
      "name": "python3"
    },
    "language_info": {
      "codemirror_mode": {
        "name": "ipython",
        "version": 3
      },
      "file_extension": ".py",
      "mimetype": "text/x-python",
      "name": "python",
      "nbconvert_exporter": "python",
      "pygments_lexer": "ipython3",
      "version": "3.8.3"
    },
    "colab": {
      "name": "05_merging_session2_activityblank.ipynb",
      "provenance": [],
      "include_colab_link": true
    }
  },
  "cells": [
    {
      "cell_type": "markdown",
      "metadata": {
        "id": "view-in-github",
        "colab_type": "text"
      },
      "source": [
        "<a href=\"https://colab.research.google.com/github/andrew66882011/qss20_slides_activities/blob/main/activities/05_merging_session2_activityblank.ipynb\" target=\"_parent\"><img src=\"https://colab.research.google.com/assets/colab-badge.svg\" alt=\"Open In Colab\"/></a>"
      ]
    },
    {
      "cell_type": "markdown",
      "metadata": {
        "id": "gjj1nxAa-DTq"
      },
      "source": [
        "# Imports "
      ]
    },
    {
      "cell_type": "code",
      "metadata": {
        "id": "nlxl5k5b-DTs"
      },
      "source": [
        "import pandas as pd\n",
        "import re \n",
        "import numpy as np\n",
        "import datetime\n",
        "from datetime import datetime\n",
        "\n",
        "## a couple recordlinkage packages\n",
        "import recordlinkage\n",
        "\n",
        "## repeated printouts\n",
        "from IPython.core.interactiveshell import InteractiveShell\n",
        "InteractiveShell.ast_node_interactivity = \"all\""
      ],
      "execution_count": null,
      "outputs": []
    },
    {
      "cell_type": "code",
      "metadata": {
        "id": "YgVtigOh-DTt"
      },
      "source": [
        "## modules still being installed on jhub\n",
        "## nltk for string distance\n",
        "import nltk\n",
        "\n",
        "## jarowinkler\n",
        "from pyjarowinkler import distance"
      ],
      "execution_count": null,
      "outputs": []
    },
    {
      "cell_type": "markdown",
      "metadata": {
        "id": "RWCUXCit-DTt"
      },
      "source": [
        "# Load raw data "
      ]
    },
    {
      "cell_type": "code",
      "metadata": {
        "id": "njZmj7VB-DTt",
        "outputId": "2ab5594e-41b3-4d5f-82d9-c3c4416d1130"
      },
      "source": [
        "## general link: https://data.sandiego.gov/datasets/business-listings/\n",
        "\n",
        "## active tax certificates\n",
        "sd = pd.read_csv(\"https://seshat.datasd.org/ttcs/sd_businesses_active_datasd.csv\")\n",
        "\n",
        "## PPP loans subsetted to CA and sd zip\n",
        "ppp = pd.read_csv(\"https://data.sba.gov/dataset/8aa276e2-6cab-4f86-aca4-a7dde42adf24/resource/6b62a44b-69ec-436a-9b95-0ea550475543/download/public_150k_plus.csv\")\n",
        "ppp.BorrowerState.value_counts(dropna = False)\n",
        "ppp = ppp[(ppp.BorrowerState == \"CA\") &\n",
        "                  (ppp.BorrowerZip.isin(sd.address_zip))].copy()\n",
        "ppp.shape"
      ],
      "execution_count": null,
      "outputs": [
        {
          "output_type": "execute_result",
          "data": {
            "text/plain": [
              "CA     127150\n",
              "TX      74279\n",
              "NY      71696\n",
              "FL      58508\n",
              "IL      40116\n",
              "PA      37675\n",
              "OH      31980\n",
              "NJ      31620\n",
              "MI      29242\n",
              "MA      26863\n",
              "GA      25170\n",
              "WA      23197\n",
              "VA      22797\n",
              "NC      22292\n",
              "CO      19386\n",
              "MN      19336\n",
              "MD      18562\n",
              "WI      17119\n",
              "IN      16323\n",
              "MO      16003\n",
              "TN      15548\n",
              "AZ      15400\n",
              "LA      13375\n",
              "OR      13195\n",
              "CT      12613\n",
              "AL      10672\n",
              "SC      10496\n",
              "OK       9833\n",
              "UT       9102\n",
              "KY       9001\n",
              "IA       8144\n",
              "NV       8039\n",
              "KS       8036\n",
              "AR       5747\n",
              "NE       5695\n",
              "MS       5347\n",
              "NH       4982\n",
              "HI       4894\n",
              "NM       4392\n",
              "ID       4324\n",
              "DC       4241\n",
              "ME       4129\n",
              "RI       3720\n",
              "WV       3285\n",
              "ND       3162\n",
              "MT       3093\n",
              "DE       2921\n",
              "PR       2817\n",
              "SD       2647\n",
              "AK       2599\n",
              "VT       2234\n",
              "WY       2114\n",
              "GU        425\n",
              "VI        272\n",
              "MP         80\n",
              "AS         18\n",
              "NaN        14\n",
              "Name: BorrowerState, dtype: int64"
            ]
          },
          "metadata": {
            "tags": []
          },
          "execution_count": 4
        },
        {
          "output_type": "execute_result",
          "data": {
            "text/plain": [
              "(17196, 51)"
            ]
          },
          "metadata": {
            "tags": []
          },
          "execution_count": 4
        }
      ]
    },
    {
      "cell_type": "markdown",
      "metadata": {
        "id": "o3ti5U7E-DTu"
      },
      "source": [
        "# Activity\n",
        "\n",
        "- Clean the address fields in the respective data sets \n",
        "- Clean the naics code fields in the to extract the first two digits\n",
        "- Take a random sample of ~200 rows of each of the datasets (sd and ppp). Write code to fuzzy match using different variables to block on between zip code, city name, 2-digit naics sector, etc. As a warning, you may not get any matches with a random sample so may want to construct a targeted sample using a few ones you know have matches\n",
        "- If you haven't already, put the steps in the recordlinkage process into a function\n",
        "- **Challenge exercise**: make the function general enough so that it can take in multiple string arguments to potentially fuzzy match on\n",
        "\n"
      ]
    }
  ]
}