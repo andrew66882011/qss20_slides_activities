{
  "nbformat": 4,
  "nbformat_minor": 0,
  "metadata": {
    "kernelspec": {
      "display_name": "Python 3",
      "language": "python",
      "name": "python3"
    },
    "language_info": {
      "codemirror_mode": {
        "name": "ipython",
        "version": 3
      },
      "file_extension": ".py",
      "mimetype": "text/x-python",
      "name": "python",
      "nbconvert_exporter": "python",
      "pygments_lexer": "ipython3",
      "version": "3.8.3"
    },
    "colab": {
      "name": "04_basicregex_formerging.ipynb",
      "provenance": [],
      "include_colab_link": true
    }
  },
  "cells": [
    {
      "cell_type": "markdown",
      "metadata": {
        "id": "view-in-github",
        "colab_type": "text"
      },
      "source": [
        "<a href=\"https://colab.research.google.com/github/andrew66882011/qss20_slides_activities/blob/main/activities/04_basicregex_formerging.ipynb\" target=\"_parent\"><img src=\"https://colab.research.google.com/assets/colab-badge.svg\" alt=\"Open In Colab\"/></a>"
      ]
    },
    {
      "cell_type": "code",
      "metadata": {
        "id": "g0KJ3jyM7uMF"
      },
      "source": [
        "import pandas as pd\n",
        "import re\n",
        "import numpy as np\n",
        "\n",
        "## print multiple things from same cell\n",
        "from IPython.core.interactiveshell import InteractiveShell\n",
        "InteractiveShell.ast_node_interactivity = \"all\""
      ],
      "execution_count": null,
      "outputs": []
    },
    {
      "cell_type": "markdown",
      "metadata": {
        "id": "fVcKSUcJ7uMH"
      },
      "source": [
        "# Load data and show examples"
      ]
    },
    {
      "cell_type": "code",
      "metadata": {
        "id": "YniVoLye7uMI"
      },
      "source": [
        "cep_optin = pd.read_excel(\"https://frac.org/wp-content/uploads/2021SY-CEP_Database_Export.xlsx\")\n"
      ],
      "execution_count": null,
      "outputs": []
    },
    {
      "cell_type": "code",
      "metadata": {
        "id": "VhEhbzJz7uMI"
      },
      "source": [
        "## clean colnames\n",
        "new_colnames = [re.sub(\"[^A-Za-z0-9]+\", \"\", col.lower()) for col in cep_optin.columns]\n",
        "\n",
        "## add back\n",
        "cep_optin.columns = new_colnames\n",
        "\n",
        "cep_optin.head()\n",
        "\n",
        "cep_optin['schoolname_lower'] = cep_optin.schoolname.str.lower()\n",
        "\n",
        "## check whether name of school contains\n",
        "## space followed by elem*\n",
        "cep_optin['is_elem'] = np.where(cep_optin.schoolname_lower.str.contains(\"\\s+elem\", regex = True),\n",
        "                True, False)\n",
        "\n",
        "\n",
        "test_schools = cep_optin.loc[(cep_optin.is_elem) &\n",
        "               (cep_optin.schoolname_lower.str.contains(\"elem\\\\.\")) |\n",
        "               (cep_optin.schoolname_lower.str.contains(\"elem\")) |\n",
        "               (cep_optin.schoolname_lower.str.contains(\"elementary\")) |\n",
        "               (cep_optin.schoolname_lower.str.contains(\"esd\")),\n",
        "            'schoolname_lower'].sample(n = 30, random_state = 470)\n",
        "\n",
        "test_schools_show = test_schools.iloc[13:23]\n",
        "\n",
        "test_schools_show"
      ],
      "execution_count": null,
      "outputs": []
    },
    {
      "cell_type": "markdown",
      "metadata": {
        "id": "ovWQQGgx7uMK"
      },
      "source": [
        "# Re.sub illustrations\n",
        "\n",
        "**Task**: for the `schoolname` field, replace the different varieties of elementary school with `elemschool` in the field"
      ]
    },
    {
      "cell_type": "markdown",
      "metadata": {
        "id": "yBCWWC_J7uMK"
      },
      "source": [
        "## Incorrect approach \n",
        "\n",
        "Returns incorrect results that we'll see below"
      ]
    },
    {
      "cell_type": "code",
      "metadata": {
        "id": "rn5YrzG37uML"
      },
      "source": [
        "elem_pattern = r\"elementary|elem|elem\\\\.|elementary school\"\n",
        "\n",
        "new_schools = [re.sub(elem_pattern, \"elemschool\", school) for school in test_schools_show]\n",
        "\n",
        "old_and_new = pd.DataFrame({'orig_name': test_schools_show,\n",
        "                           'cleaned_name': new_schools})\n",
        "\n",
        "#print(old_and_new.to_latex(index = False))\n",
        "old_and_new"
      ],
      "execution_count": null,
      "outputs": []
    },
    {
      "cell_type": "markdown",
      "metadata": {
        "id": "Oe5B1Zya7uML"
      },
      "source": [
        "### Question in class: would it work to change order of OR statement?\n"
      ]
    },
    {
      "cell_type": "markdown",
      "metadata": {
        "id": "X0_XlgJF7uMM"
      },
      "source": [
        "Answer: it gets closer (e.g., stewart county and stove prairie are fixed!) still have an issue with those with elem."
      ]
    },
    {
      "cell_type": "code",
      "metadata": {
        "id": "7mAP1fPV7uMM"
      },
      "source": [
        "elem_pattern_difforder = r\"elementary school|elementary|elem\\\\.|elem\"\n",
        "\n",
        "new_schools_difforder = [re.sub(elem_pattern_difforder, \"elemschool\", school) for school in test_schools_show]\n",
        "\n",
        "new_schools_difforder"
      ],
      "execution_count": null,
      "outputs": []
    },
    {
      "cell_type": "markdown",
      "metadata": {
        "id": "GiopnaA37uMM"
      },
      "source": [
        "## A correct approach\n",
        "\n",
        "Addresses issues above with `elementary school` and `elem.`"
      ]
    },
    {
      "cell_type": "code",
      "metadata": {
        "id": "EveHJ17a7uMN"
      },
      "source": [
        "elem_pattern_try2 = r\"(elem.*)(\\s+)?(school)?\"\n",
        "    \n",
        "new_schools_try2 = [re.sub(elem_pattern_try2, \"elemschool\", school) \n",
        "                   for school in test_schools_show]    \n",
        "\n",
        "\n",
        "old_and_new_try2 = pd.DataFrame({'orig_name': test_schools_show,\n",
        "                           'cleaned_name': new_schools_try2})\n",
        "\n",
        "#print(old_and_new_try2.to_latex(index = False))\n",
        "old_and_new_try2"
      ],
      "execution_count": null,
      "outputs": []
    },
    {
      "cell_type": "markdown",
      "metadata": {
        "id": "A6dK0rjU7uMN"
      },
      "source": [
        "## Question from class - how do we tell re.something to ignore the case?\n",
        "\n",
        "Answer: optional argument inside re: `flags = re.IGNORECASE` to ignore the case"
      ]
    },
    {
      "cell_type": "code",
      "metadata": {
        "id": "4wNLTurl7uMN"
      },
      "source": [
        "orig_case_schools = cep_optin.schoolname.sample(n = 10, random_state = 54)\n",
        "\n",
        "orig_case_schools\n",
        "\n",
        "## do same pattern but with the re.ignorecase\n",
        "orig_case_schools_sub = [re.sub(elem_pattern_try2, \"elemschool\", school, flags=re.IGNORECASE) \n",
        "                           for school in orig_case_schools]\n",
        "\n",
        "\n",
        "## see that it matches things like Elementary despite capitalization\n",
        "## leaves the capitalization the same but just does the replacement despite that\n",
        "orig_case_schools_sub\n",
        "\n",
        "## example also shows we may want to modify pattern to capture things like El"
      ],
      "execution_count": null,
      "outputs": []
    },
    {
      "cell_type": "markdown",
      "metadata": {
        "id": "Xt4Jtht57uMO"
      },
      "source": [
        "# re.findall and re.search illustrations"
      ]
    },
    {
      "cell_type": "markdown",
      "metadata": {
        "id": "z-Q5gUke7uMO"
      },
      "source": [
        "**Task**: want to create pattern that, for charter schools, allows us to extract the school name prior to the appearance of charter. School names without charter will not have matches"
      ]
    },
    {
      "cell_type": "markdown",
      "metadata": {
        "id": "SjuGWeNZ7uMO"
      },
      "source": [
        "## re.findall "
      ]
    },
    {
      "cell_type": "code",
      "metadata": {
        "id": "tRmDXFtI7uMO"
      },
      "source": [
        "\n",
        "test_patterns = [\"rebeccajohnson8\", \"rebeccajohnson88\", \"rebeccajohnson796\"]\n",
        "\n",
        "[re.findall(r\"[a-z]+\\d+\", pat)[0] for pat in test_patterns]"
      ],
      "execution_count": null,
      "outputs": []
    },
    {
      "cell_type": "code",
      "metadata": {
        "id": "1bfe6kOs7uMP"
      },
      "source": [
        "## pull some charter examples and other examples\n",
        "charter_examples = cep_optin.schoolname_lower[cep_optin.schoolname_lower.astype(str).str.contains(\"charter\")].sample(n = 8,\n",
        "                    random_state = 422).to_list()\n",
        "other_examples = cep_optin.schoolname_lower[~cep_optin.schoolname_lower.astype(str).str.contains(\"charter\")].sample(n = 8,\n",
        "                    random_state = 422).to_list()\n",
        "\n",
        "\n",
        "combined_examples = charter_examples + other_examples\n",
        "combined_examples\n"
      ],
      "execution_count": null,
      "outputs": []
    },
    {
      "cell_type": "code",
      "metadata": {
        "id": "MvThFv9R7uMP"
      },
      "source": [
        "## charter pattern\n",
        "charter_pattern = r\"(.*)\\s+(charter)(\\s+)?(\\w+)?\"\n",
        "\n",
        "## findall \n",
        "test_charter_findall = [re.findall(charter_pattern, \n",
        "                    school) for school in combined_examples]\n",
        "\n",
        "## print result\n",
        "test_charter_findall\n",
        "\n"
      ],
      "execution_count": null,
      "outputs": []
    },
    {
      "cell_type": "code",
      "metadata": {
        "id": "EB-VKICE7uMQ"
      },
      "source": [
        "## show example of one\n",
        "print(test_charter_findall[0][0][0])"
      ],
      "execution_count": null,
      "outputs": []
    },
    {
      "cell_type": "markdown",
      "metadata": {
        "id": "h-56fRwh7uMR"
      },
      "source": [
        "## re.search"
      ]
    },
    {
      "cell_type": "code",
      "metadata": {
        "id": "mv1jCqPX7uMR"
      },
      "source": [
        "## get matches\n",
        "test_charter_search = [re.search(charter_pattern, \n",
        "                    school) for school in combined_examples]\n",
        "\n",
        "test_charter_search\n"
      ],
      "execution_count": null,
      "outputs": []
    },
    {
      "cell_type": "code",
      "metadata": {
        "id": "QWLoaqJE7uMR"
      },
      "source": [
        "## extract matches\n",
        "\n",
        "### here, we're just focusing on the 2nd match (thomas edison charter academy)\n",
        "### and we're getting the first group from that match\n",
        "thomas_match = test_charter_search[1]\n",
        "thomas_match\n",
        "\n",
        "### example where we're just getting the first group\n",
        "### (name of school before charter)\n",
        "thomas_firstgroup = thomas_match.group(1)\n",
        "thomas_firstgroup\n"
      ],
      "execution_count": null,
      "outputs": []
    },
    {
      "cell_type": "code",
      "metadata": {
        "id": "7N03KF_E7uMS"
      },
      "source": [
        "### iterate over all groups and print\n",
        "for i in range(0, len(thomas_match.groups())+1):\n",
        "    print(\"Group \" + str(i) + \" is: \")\n",
        "    print(thomas_match.group(i))\n",
        "\n",
        "## see error if we go beyond actual number of \n",
        "## groups thomas_match.group(5)"
      ],
      "execution_count": null,
      "outputs": []
    },
    {
      "cell_type": "markdown",
      "metadata": {
        "id": "enCWeB1C7uMS"
      },
      "source": [
        "## Question from class - is there a way to pull multiple matched groups at one by feeding .group() something like a list of indices\n",
        "\n",
        "Response: if you do object.groups() with no index fed, it returns a tuple of groups. You can then slices/subset that tuple using indices"
      ]
    },
    {
      "cell_type": "code",
      "metadata": {
        "id": "uLGEI0ss7uMT"
      },
      "source": [
        "## example- want to return group 1 and group 2 and paste together\n",
        "thomas_groups_all = thomas_match.groups()\n",
        "thomas_groups_all\n",
        "\n",
        "## slice the tuple\n",
        "thomas_groups_all[0:2]\n",
        "\n",
        "## do in one step\n",
        "\n",
        "\n",
        "thomas_groups_12 = thomas_match.groups()[0:2]\n",
        "thomas_groups_12"
      ],
      "execution_count": null,
      "outputs": []
    },
    {
      "cell_type": "code",
      "metadata": {
        "id": "pRflukFd7uMT"
      },
      "source": [
        "## can generalize to the full list with ifelse\n",
        "def get_precharter_name(one_matchobj):\n",
        "    \n",
        "    if one_matchobj:\n",
        "        school_name = one_matchobj.group(1)\n",
        "    else:\n",
        "        school_name = \"\"\n",
        "    \n",
        "    return(school_name)\n",
        "\n",
        "all_charter_match = [get_precharter_name(one_search) \n",
        "                    for one_search in test_charter_search]\n",
        "\n",
        "all_charter_match"
      ],
      "execution_count": null,
      "outputs": []
    },
    {
      "cell_type": "markdown",
      "metadata": {
        "id": "jZKLoEc27uMU"
      },
      "source": [
        "# Group activity\n",
        "\n",
        "- Return to the full list of school names in the original data\n",
        "- You want to find the names of high schools. Try out some patterns to standardize the high school names (e.g., `high school` and `high` could both become `highschool`)\n",
        "- Then, using some example results, try writing a regex pattern and using re.match to get the name of the school that precedes the `highschool` part of the name (e.g., `new trier highschool` -> `new trier`)\n",
        "\n"
      ]
    },
    {
      "cell_type": "markdown",
      "metadata": {
        "id": "JSo1VHYQ7uMU"
      },
      "source": [
        "### Standardizing high school name"
      ]
    },
    {
      "cell_type": "code",
      "metadata": {
        "id": "aSsKgiyy7uMU"
      },
      "source": [
        "\n",
        "### first pull out some examples to test one\n",
        "hs_examples = cep_optin.schoolname_lower[cep_optin.schoolname_lower.astype(str).str.contains(\"high|hs\")].sample(n = 15,\n",
        "                    random_state = 422).to_list()\n",
        "\n",
        "hs_examples\n"
      ],
      "execution_count": null,
      "outputs": []
    },
    {
      "cell_type": "code",
      "metadata": {
        "id": "c2xCYf4z7uMU"
      },
      "source": [
        "\n",
        "## for now, ignoring jr/senior distinction\n",
        "## and matching on high school, high, and hs\n",
        "\n",
        "## to avoid matching things like highland, \n",
        "## after high or hs, add (\\s|$) that tells it \n",
        "## to either look for a space or look for the \n",
        "## end of the string\n",
        "hs_sub_pattern = r\"(\\shigh(\\s|$)|\\shs(\\s|$)?)(\\s+)?(school)?\"\n",
        "test_pat_examples = [re.sub(hs_sub_pattern, \" highschool\", example) \n",
        "                    for example in hs_examples]\n",
        "\n",
        "test_pat_examples"
      ],
      "execution_count": null,
      "outputs": []
    },
    {
      "cell_type": "code",
      "metadata": {
        "id": "f4mzkmb07uMV"
      },
      "source": [
        "### apply over all and assign as a new column\n",
        "### since we're pulling from original df\n",
        "### casting it to string since was object\n",
        "hs_clean_all = [re.sub(hs_sub_pattern, \" highschool\", str(oneschool)) \n",
        "                    for oneschool in cep_optin.schoolname_lower.to_list()]\n",
        "\n",
        "\n",
        "### assign as col\n",
        "cep_optin['school_cleanhs'] = hs_clean_all"
      ],
      "execution_count": null,
      "outputs": []
    },
    {
      "cell_type": "markdown",
      "metadata": {
        "id": "muuI-i-b7uMV"
      },
      "source": [
        "### With some examples, pulling out name of school before high"
      ]
    },
    {
      "cell_type": "code",
      "metadata": {
        "id": "R5GZqJ4v7uMV"
      },
      "source": [
        "## using the test_pat_examples and want to get things like huron, thomson, clovis east\n",
        "prehs_pattern = r\"(.*)\\s+(highschool)(\\s+)?(\\w+)?\"\n",
        "\n",
        "schoolname_preh_matchobj  = [re.search(prehs_pattern, \n",
        "                    school) for school in test_pat_examples]\n",
        "\n",
        "schoolname_preh_matchobj\n",
        "\n",
        "## get the first group if exists; else return empty string\n",
        "schoolname_preh = [obj.group(1) if obj else \"\" for obj in schoolname_preh_matchobj]\n",
        "schoolname_preh"
      ],
      "execution_count": null,
      "outputs": []
    }
  ]
}