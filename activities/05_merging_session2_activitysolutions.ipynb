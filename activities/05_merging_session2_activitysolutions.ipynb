{
  "nbformat": 4,
  "nbformat_minor": 0,
  "metadata": {
    "kernelspec": {
      "display_name": "Python 3",
      "language": "python",
      "name": "python3"
    },
    "language_info": {
      "codemirror_mode": {
        "name": "ipython",
        "version": 3
      },
      "file_extension": ".py",
      "mimetype": "text/x-python",
      "name": "python",
      "nbconvert_exporter": "python",
      "pygments_lexer": "ipython3",
      "version": "3.8.3"
    },
    "colab": {
      "name": "05_merging_session2_activitysolutions.ipynb",
      "provenance": [],
      "include_colab_link": true
    }
  },
  "cells": [
    {
      "cell_type": "markdown",
      "metadata": {
        "id": "view-in-github",
        "colab_type": "text"
      },
      "source": [
        "<a href=\"https://colab.research.google.com/github/andrew66882011/qss20_slides_activities/blob/main/activities/05_merging_session2_activitysolutions.ipynb\" target=\"_parent\"><img src=\"https://colab.research.google.com/assets/colab-badge.svg\" alt=\"Open In Colab\"/></a>"
      ]
    },
    {
      "cell_type": "markdown",
      "metadata": {
        "id": "805hu2Le1ikw"
      },
      "source": [
        "# Imports "
      ]
    },
    {
      "cell_type": "code",
      "metadata": {
        "colab": {
          "base_uri": "https://localhost:8080/"
        },
        "id": "3WYJG4xn1sQh",
        "outputId": "cc88c81a-9630-427b-fae4-23dea82c2597"
      },
      "source": [
        "!pip install recordlinkage"
      ],
      "execution_count": 3,
      "outputs": [
        {
          "output_type": "stream",
          "text": [
            "Collecting recordlinkage\n",
            "\u001b[?25l  Downloading https://files.pythonhosted.org/packages/db/26/babbca39d74824e8bc17428a8eb04951a1d63318af7d02beeb2106a1ec26/recordlinkage-0.14-py3-none-any.whl (944kB)\n",
            "\u001b[K     |████████████████████████████████| 952kB 14.0MB/s \n",
            "\u001b[?25hCollecting jellyfish>=0.5.4\n",
            "\u001b[?25l  Downloading https://files.pythonhosted.org/packages/30/a6/4d039bc827a102f62ce7a7910713e38fdfd7c7a40aa39c72fb14938a1473/jellyfish-0.8.2-cp37-cp37m-manylinux2014_x86_64.whl (90kB)\n",
            "\u001b[K     |████████████████████████████████| 92kB 9.1MB/s \n",
            "\u001b[?25hRequirement already satisfied: scikit-learn>=0.19.0 in /usr/local/lib/python3.7/dist-packages (from recordlinkage) (0.22.2.post1)\n",
            "Requirement already satisfied: joblib in /usr/local/lib/python3.7/dist-packages (from recordlinkage) (1.0.1)\n",
            "Requirement already satisfied: pandas>=0.23 in /usr/local/lib/python3.7/dist-packages (from recordlinkage) (1.1.5)\n",
            "Requirement already satisfied: scipy>=1 in /usr/local/lib/python3.7/dist-packages (from recordlinkage) (1.4.1)\n",
            "Requirement already satisfied: numpy>=1.13.0 in /usr/local/lib/python3.7/dist-packages (from recordlinkage) (1.19.5)\n",
            "Requirement already satisfied: pytz>=2017.2 in /usr/local/lib/python3.7/dist-packages (from pandas>=0.23->recordlinkage) (2018.9)\n",
            "Requirement already satisfied: python-dateutil>=2.7.3 in /usr/local/lib/python3.7/dist-packages (from pandas>=0.23->recordlinkage) (2.8.1)\n",
            "Requirement already satisfied: six>=1.5 in /usr/local/lib/python3.7/dist-packages (from python-dateutil>=2.7.3->pandas>=0.23->recordlinkage) (1.15.0)\n",
            "Installing collected packages: jellyfish, recordlinkage\n",
            "Successfully installed jellyfish-0.8.2 recordlinkage-0.14\n"
          ],
          "name": "stdout"
        }
      ]
    },
    {
      "cell_type": "code",
      "metadata": {
        "id": "-IN9dpoM1iky"
      },
      "source": [
        "import pandas as pd\n",
        "import re \n",
        "import numpy as np\n",
        "import datetime\n",
        "from datetime import datetime\n",
        "\n",
        "## a couple recordlinkage packages\n",
        "import recordlinkage\n",
        "\n",
        "## repeated printouts\n",
        "from IPython.core.interactiveshell import InteractiveShell\n",
        "InteractiveShell.ast_node_interactivity = \"all\""
      ],
      "execution_count": 8,
      "outputs": []
    },
    {
      "cell_type": "code",
      "metadata": {
        "colab": {
          "base_uri": "https://localhost:8080/"
        },
        "id": "XuQ9xPX61mK0",
        "outputId": "09dd48cd-b7d6-43d2-d216-2cb09d521327"
      },
      "source": [
        "!pip install pyjarowinkler"
      ],
      "execution_count": 9,
      "outputs": [
        {
          "output_type": "stream",
          "text": [
            "Requirement already satisfied: pyjarowinkler in /usr/local/lib/python3.7/dist-packages (1.8)\n"
          ],
          "name": "stdout"
        }
      ]
    },
    {
      "cell_type": "code",
      "metadata": {
        "id": "HsSUvaUl1ik0"
      },
      "source": [
        "## modules still being installed on jhub\n",
        "## nltk for string distance\n",
        "import nltk\n",
        "\n",
        "## jarowinkler\n",
        "from pyjarowinkler import distance"
      ],
      "execution_count": 6,
      "outputs": []
    },
    {
      "cell_type": "markdown",
      "metadata": {
        "id": "7lOk0ji41ik0"
      },
      "source": [
        "# Load raw data "
      ]
    },
    {
      "cell_type": "code",
      "metadata": {
        "id": "MRNPHpSV1ik0"
      },
      "source": [
        "## general link: https://data.sandiego.gov/datasets/business-listings/\n",
        "\n",
        "## active tax certificates\n",
        "sd = pd.read_csv(\"https://seshat.datasd.org/ttcs/sd_businesses_active_datasd.csv\")\n",
        "\n"
      ],
      "execution_count": 10,
      "outputs": []
    },
    {
      "cell_type": "code",
      "metadata": {
        "colab": {
          "base_uri": "https://localhost:8080/"
        },
        "id": "u6KIkvU81ik2",
        "outputId": "c207518e-b85f-4fe8-f9e5-192ca3a63190"
      },
      "source": [
        "## PPP loans subsetted to CA and sd zip\n",
        "ppp = pd.read_csv(\"https://data.sba.gov/dataset/8aa276e2-6cab-4f86-aca4-a7dde42adf24/resource/6b62a44b-69ec-436a-9b95-0ea550475543/download/public_150k_plus.csv\")\n",
        "ppp.BorrowerState.value_counts(dropna = False)\n",
        "ppp = ppp[(ppp.BorrowerState == \"CA\") &\n",
        "                  (ppp.BorrowerZip.isin(sd.address_zip))].copy()\n",
        "ppp.shape"
      ],
      "execution_count": 11,
      "outputs": [
        {
          "output_type": "execute_result",
          "data": {
            "text/plain": [
              "CA     131005\n",
              "TX      76303\n",
              "NY      74218\n",
              "FL      60418\n",
              "IL      40877\n",
              "PA      38584\n",
              "OH      32687\n",
              "NJ      32552\n",
              "MI      29846\n",
              "MA      27483\n",
              "GA      25984\n",
              "WA      23779\n",
              "VA      23313\n",
              "NC      22876\n",
              "CO      19760\n",
              "MN      19736\n",
              "MD      19021\n",
              "WI      17361\n",
              "IN      16623\n",
              "MO      16358\n",
              "TN      15893\n",
              "AZ      15812\n",
              "LA      13692\n",
              "OR      13471\n",
              "CT      12900\n",
              "AL      10927\n",
              "SC      10766\n",
              "OK       9999\n",
              "UT       9306\n",
              "KY       9183\n",
              "IA       8305\n",
              "NV       8286\n",
              "KS       8204\n",
              "AR       5860\n",
              "NE       5807\n",
              "MS       5515\n",
              "NH       5080\n",
              "HI       4981\n",
              "NM       4491\n",
              "ID       4426\n",
              "DC       4412\n",
              "ME       4187\n",
              "RI       3794\n",
              "WV       3368\n",
              "ND       3221\n",
              "MT       3146\n",
              "DE       2996\n",
              "PR       2948\n",
              "SD       2697\n",
              "AK       2665\n",
              "VT       2269\n",
              "WY       2145\n",
              "GU        444\n",
              "VI        290\n",
              "MP         84\n",
              "AS         20\n",
              "NaN        13\n",
              "Name: BorrowerState, dtype: int64"
            ]
          },
          "metadata": {
            "tags": []
          },
          "execution_count": 11
        },
        {
          "output_type": "execute_result",
          "data": {
            "text/plain": [
              "(17381, 51)"
            ]
          },
          "metadata": {
            "tags": []
          },
          "execution_count": 11
        }
      ]
    },
    {
      "cell_type": "markdown",
      "metadata": {
        "id": "obXJTxFi1ik2"
      },
      "source": [
        "# Activity\n",
        "\n",
        "- Clean the address fields in the respective data sets \n",
        "- Clean the naics code fields in the data to extract the first two digits\n",
        "- Take a random sample of ~200 rows of each of the datasets (sd and ppp). Write code to fuzzy match using different variables to block on between zip code, city name, 2-digit naics sector, etc. As a warning, you may not get any matches with a random sample so may want to construct a targeted sample using a few ones you know have matches\n",
        "- If you haven't already, put the steps in the recordlinkage process into a function\n",
        "- **Challenge exercise**: make the function general enough so that it can take in multiple string arguments to potentially fuzzy match on\n",
        "\n"
      ]
    },
    {
      "cell_type": "markdown",
      "metadata": {
        "id": "2xU-6UYf1ik3"
      },
      "source": [
        "## Step 1 and 2- preprocess join fields"
      ]
    },
    {
      "cell_type": "markdown",
      "metadata": {
        "id": "VEDsFuvP1ik4"
      },
      "source": [
        "### Cleaning ppp address cols"
      ]
    },
    {
      "cell_type": "code",
      "metadata": {
        "colab": {
          "base_uri": "https://localhost:8080/",
          "height": 701
        },
        "id": "CViseG3x1ik4",
        "outputId": "761ab211-92ba-4ee6-ea8f-5c5f6002fa93"
      },
      "source": [
        "## view random sample of ppp rows\n",
        "ppp_addcols = [\"BorrowerAddress\", \"BorrowerCity\", \"BorrowerState\", \"BorrowerZip\"]\n",
        "ppp[ppp_addcols].sample(n = 10, random_state = 666)\n",
        "\n",
        "## see that (1) 5-digit versus 9 dig zip code\n",
        "## and (2) variable capitalization\n",
        "\n",
        "## first, strip zip code to be first 5 dig\n",
        "ppp['BorrowerZip'] = ppp.BorrowerZip.str.replace(\"\\-.*\", \"\", regex = True)\n",
        "\n",
        "## first, convert those cols to upper\n",
        "## using apply to do less manually\n",
        "ppp[ppp_addcols] = ppp[ppp_addcols].apply(lambda x: x.astype(str).str.upper())\n",
        "ppp[ppp_addcols].sample(n = 10, random_state = 666)\n"
      ],
      "execution_count": 12,
      "outputs": [
        {
          "output_type": "execute_result",
          "data": {
            "text/html": [
              "<div>\n",
              "<style scoped>\n",
              "    .dataframe tbody tr th:only-of-type {\n",
              "        vertical-align: middle;\n",
              "    }\n",
              "\n",
              "    .dataframe tbody tr th {\n",
              "        vertical-align: top;\n",
              "    }\n",
              "\n",
              "    .dataframe thead th {\n",
              "        text-align: right;\n",
              "    }\n",
              "</style>\n",
              "<table border=\"1\" class=\"dataframe\">\n",
              "  <thead>\n",
              "    <tr style=\"text-align: right;\">\n",
              "      <th></th>\n",
              "      <th>BorrowerAddress</th>\n",
              "      <th>BorrowerCity</th>\n",
              "      <th>BorrowerState</th>\n",
              "      <th>BorrowerZip</th>\n",
              "    </tr>\n",
              "  </thead>\n",
              "  <tbody>\n",
              "    <tr>\n",
              "      <th>69950</th>\n",
              "      <td>9346 Abraham Way</td>\n",
              "      <td>Santee</td>\n",
              "      <td>CA</td>\n",
              "      <td>92071-2861</td>\n",
              "    </tr>\n",
              "    <tr>\n",
              "      <th>43424</th>\n",
              "      <td>14251 Danielson St</td>\n",
              "      <td>Poway</td>\n",
              "      <td>CA</td>\n",
              "      <td>92064-8818</td>\n",
              "    </tr>\n",
              "    <tr>\n",
              "      <th>119758</th>\n",
              "      <td>950 eastlake parkway</td>\n",
              "      <td>CHULA VISTA</td>\n",
              "      <td>CA</td>\n",
              "      <td>91914-3558</td>\n",
              "    </tr>\n",
              "    <tr>\n",
              "      <th>50954</th>\n",
              "      <td>10201 wateridge circle</td>\n",
              "      <td>san diego</td>\n",
              "      <td>CA</td>\n",
              "      <td>92121-5800</td>\n",
              "    </tr>\n",
              "    <tr>\n",
              "      <th>127737</th>\n",
              "      <td>2128 Missouri St</td>\n",
              "      <td>San Diego</td>\n",
              "      <td>CA</td>\n",
              "      <td>92109-3627</td>\n",
              "    </tr>\n",
              "    <tr>\n",
              "      <th>141502</th>\n",
              "      <td>7389 Jackson Dr</td>\n",
              "      <td>San Diego</td>\n",
              "      <td>CA</td>\n",
              "      <td>92119-2316</td>\n",
              "    </tr>\n",
              "    <tr>\n",
              "      <th>132173</th>\n",
              "      <td>3506 Breakwater Court</td>\n",
              "      <td>HAYWARD</td>\n",
              "      <td>CA</td>\n",
              "      <td>94545</td>\n",
              "    </tr>\n",
              "    <tr>\n",
              "      <th>64407</th>\n",
              "      <td>28300 Constellation Rd</td>\n",
              "      <td>Santa Clarita</td>\n",
              "      <td>CA</td>\n",
              "      <td>91355</td>\n",
              "    </tr>\n",
              "    <tr>\n",
              "      <th>98925</th>\n",
              "      <td>6701 Koll Center Pkwy Ste 250</td>\n",
              "      <td>Pleasanton</td>\n",
              "      <td>CA</td>\n",
              "      <td>94566-8062</td>\n",
              "    </tr>\n",
              "    <tr>\n",
              "      <th>59291</th>\n",
              "      <td>199 Fremont St., Ste 2100</td>\n",
              "      <td>San Francisco</td>\n",
              "      <td>CA</td>\n",
              "      <td>94105</td>\n",
              "    </tr>\n",
              "  </tbody>\n",
              "</table>\n",
              "</div>"
            ],
            "text/plain": [
              "                      BorrowerAddress   BorrowerCity BorrowerState BorrowerZip\n",
              "69950                9346 Abraham Way         Santee            CA  92071-2861\n",
              "43424              14251 Danielson St          Poway            CA  92064-8818\n",
              "119758           950 eastlake parkway    CHULA VISTA            CA  91914-3558\n",
              "50954          10201 wateridge circle      san diego            CA  92121-5800\n",
              "127737               2128 Missouri St      San Diego            CA  92109-3627\n",
              "141502                7389 Jackson Dr      San Diego            CA  92119-2316\n",
              "132173          3506 Breakwater Court        HAYWARD            CA       94545\n",
              "64407          28300 Constellation Rd  Santa Clarita            CA       91355\n",
              "98925   6701 Koll Center Pkwy Ste 250     Pleasanton            CA  94566-8062\n",
              "59291       199 Fremont St., Ste 2100  San Francisco            CA       94105"
            ]
          },
          "metadata": {
            "tags": []
          },
          "execution_count": 12
        },
        {
          "output_type": "execute_result",
          "data": {
            "text/html": [
              "<div>\n",
              "<style scoped>\n",
              "    .dataframe tbody tr th:only-of-type {\n",
              "        vertical-align: middle;\n",
              "    }\n",
              "\n",
              "    .dataframe tbody tr th {\n",
              "        vertical-align: top;\n",
              "    }\n",
              "\n",
              "    .dataframe thead th {\n",
              "        text-align: right;\n",
              "    }\n",
              "</style>\n",
              "<table border=\"1\" class=\"dataframe\">\n",
              "  <thead>\n",
              "    <tr style=\"text-align: right;\">\n",
              "      <th></th>\n",
              "      <th>BorrowerAddress</th>\n",
              "      <th>BorrowerCity</th>\n",
              "      <th>BorrowerState</th>\n",
              "      <th>BorrowerZip</th>\n",
              "    </tr>\n",
              "  </thead>\n",
              "  <tbody>\n",
              "    <tr>\n",
              "      <th>69950</th>\n",
              "      <td>9346 ABRAHAM WAY</td>\n",
              "      <td>SANTEE</td>\n",
              "      <td>CA</td>\n",
              "      <td>92071</td>\n",
              "    </tr>\n",
              "    <tr>\n",
              "      <th>43424</th>\n",
              "      <td>14251 DANIELSON ST</td>\n",
              "      <td>POWAY</td>\n",
              "      <td>CA</td>\n",
              "      <td>92064</td>\n",
              "    </tr>\n",
              "    <tr>\n",
              "      <th>119758</th>\n",
              "      <td>950 EASTLAKE PARKWAY</td>\n",
              "      <td>CHULA VISTA</td>\n",
              "      <td>CA</td>\n",
              "      <td>91914</td>\n",
              "    </tr>\n",
              "    <tr>\n",
              "      <th>50954</th>\n",
              "      <td>10201 WATERIDGE CIRCLE</td>\n",
              "      <td>SAN DIEGO</td>\n",
              "      <td>CA</td>\n",
              "      <td>92121</td>\n",
              "    </tr>\n",
              "    <tr>\n",
              "      <th>127737</th>\n",
              "      <td>2128 MISSOURI ST</td>\n",
              "      <td>SAN DIEGO</td>\n",
              "      <td>CA</td>\n",
              "      <td>92109</td>\n",
              "    </tr>\n",
              "    <tr>\n",
              "      <th>141502</th>\n",
              "      <td>7389 JACKSON DR</td>\n",
              "      <td>SAN DIEGO</td>\n",
              "      <td>CA</td>\n",
              "      <td>92119</td>\n",
              "    </tr>\n",
              "    <tr>\n",
              "      <th>132173</th>\n",
              "      <td>3506 BREAKWATER COURT</td>\n",
              "      <td>HAYWARD</td>\n",
              "      <td>CA</td>\n",
              "      <td>94545</td>\n",
              "    </tr>\n",
              "    <tr>\n",
              "      <th>64407</th>\n",
              "      <td>28300 CONSTELLATION RD</td>\n",
              "      <td>SANTA CLARITA</td>\n",
              "      <td>CA</td>\n",
              "      <td>91355</td>\n",
              "    </tr>\n",
              "    <tr>\n",
              "      <th>98925</th>\n",
              "      <td>6701 KOLL CENTER PKWY STE 250</td>\n",
              "      <td>PLEASANTON</td>\n",
              "      <td>CA</td>\n",
              "      <td>94566</td>\n",
              "    </tr>\n",
              "    <tr>\n",
              "      <th>59291</th>\n",
              "      <td>199 FREMONT ST., STE 2100</td>\n",
              "      <td>SAN FRANCISCO</td>\n",
              "      <td>CA</td>\n",
              "      <td>94105</td>\n",
              "    </tr>\n",
              "  </tbody>\n",
              "</table>\n",
              "</div>"
            ],
            "text/plain": [
              "                      BorrowerAddress   BorrowerCity BorrowerState BorrowerZip\n",
              "69950                9346 ABRAHAM WAY         SANTEE            CA       92071\n",
              "43424              14251 DANIELSON ST          POWAY            CA       92064\n",
              "119758           950 EASTLAKE PARKWAY    CHULA VISTA            CA       91914\n",
              "50954          10201 WATERIDGE CIRCLE      SAN DIEGO            CA       92121\n",
              "127737               2128 MISSOURI ST      SAN DIEGO            CA       92109\n",
              "141502                7389 JACKSON DR      SAN DIEGO            CA       92119\n",
              "132173          3506 BREAKWATER COURT        HAYWARD            CA       94545\n",
              "64407          28300 CONSTELLATION RD  SANTA CLARITA            CA       91355\n",
              "98925   6701 KOLL CENTER PKWY STE 250     PLEASANTON            CA       94566\n",
              "59291       199 FREMONT ST., STE 2100  SAN FRANCISCO            CA       94105"
            ]
          },
          "metadata": {
            "tags": []
          },
          "execution_count": 12
        }
      ]
    },
    {
      "cell_type": "markdown",
      "metadata": {
        "id": "anAtQDi51ik5"
      },
      "source": [
        "### Cleaning sd address cols"
      ]
    },
    {
      "cell_type": "code",
      "metadata": {
        "colab": {
          "base_uri": "https://localhost:8080/",
          "height": 391
        },
        "id": "njxkDXkZ1ik5",
        "outputId": "25282524-ff45-4153-f218-2834944f8543"
      },
      "source": [
        "sd_address = ['address_no', 'address_pd', 'address_road', 'address_sfx', 'address_city', \n",
        "             'address_state', 'address_zip']\n",
        "\n",
        "sd[sd_address].head()\n",
        "\n",
        "## truncate zip\n",
        "sd['BorrowerZip'] = sd.address_zip.str.replace(\"\\-.*\", \"\", regex = True)\n",
        "\n",
        "## replace NA for those with \"\"\n",
        "sd[sd_address] = sd[sd_address].fillna(\"\")\n",
        "\n",
        "## do more manual truncation since no, pd, road, and sfx are\n",
        "## separated by whitespace; others are comma\n",
        "sd['address_merged'] = sd[['address_no', 'address_pd', 'address_road', \n",
        "                               'address_sfx']].agg(' '.join, axis=1) \n",
        "\n",
        "sd[sd_address + ['address_merged']].head()\n",
        "                            \n",
        "## leaving city, state, and zip separate"
      ],
      "execution_count": 13,
      "outputs": [
        {
          "output_type": "execute_result",
          "data": {
            "text/html": [
              "<div>\n",
              "<style scoped>\n",
              "    .dataframe tbody tr th:only-of-type {\n",
              "        vertical-align: middle;\n",
              "    }\n",
              "\n",
              "    .dataframe tbody tr th {\n",
              "        vertical-align: top;\n",
              "    }\n",
              "\n",
              "    .dataframe thead th {\n",
              "        text-align: right;\n",
              "    }\n",
              "</style>\n",
              "<table border=\"1\" class=\"dataframe\">\n",
              "  <thead>\n",
              "    <tr style=\"text-align: right;\">\n",
              "      <th></th>\n",
              "      <th>address_no</th>\n",
              "      <th>address_pd</th>\n",
              "      <th>address_road</th>\n",
              "      <th>address_sfx</th>\n",
              "      <th>address_city</th>\n",
              "      <th>address_state</th>\n",
              "      <th>address_zip</th>\n",
              "    </tr>\n",
              "  </thead>\n",
              "  <tbody>\n",
              "    <tr>\n",
              "      <th>0</th>\n",
              "      <td>9655</td>\n",
              "      <td>NaN</td>\n",
              "      <td>GRANITE RIDGE</td>\n",
              "      <td>DR</td>\n",
              "      <td>SAN DIEGO</td>\n",
              "      <td>CA</td>\n",
              "      <td>92123-2697</td>\n",
              "    </tr>\n",
              "    <tr>\n",
              "      <th>1</th>\n",
              "      <td>1168</td>\n",
              "      <td>NaN</td>\n",
              "      <td>FESLER</td>\n",
              "      <td>ST</td>\n",
              "      <td>EL CAJON</td>\n",
              "      <td>CA</td>\n",
              "      <td>92020-1812</td>\n",
              "    </tr>\n",
              "    <tr>\n",
              "      <th>2</th>\n",
              "      <td>8666</td>\n",
              "      <td>NaN</td>\n",
              "      <td>COMMERCE</td>\n",
              "      <td>AVE</td>\n",
              "      <td>SAN DIEGO</td>\n",
              "      <td>CA</td>\n",
              "      <td>92121-2613</td>\n",
              "    </tr>\n",
              "    <tr>\n",
              "      <th>3</th>\n",
              "      <td>10101</td>\n",
              "      <td>NaN</td>\n",
              "      <td>OLD GROVE</td>\n",
              "      <td>RD</td>\n",
              "      <td>SAN DIEGO</td>\n",
              "      <td>CA</td>\n",
              "      <td>92131-1650</td>\n",
              "    </tr>\n",
              "    <tr>\n",
              "      <th>4</th>\n",
              "      <td>1</td>\n",
              "      <td>NaN</td>\n",
              "      <td>VISION</td>\n",
              "      <td>WAY</td>\n",
              "      <td>BLOOMFIELD</td>\n",
              "      <td>CT</td>\n",
              "      <td>06002-5321</td>\n",
              "    </tr>\n",
              "  </tbody>\n",
              "</table>\n",
              "</div>"
            ],
            "text/plain": [
              "  address_no address_pd   address_road  ... address_city address_state address_zip\n",
              "0       9655        NaN  GRANITE RIDGE  ...    SAN DIEGO            CA  92123-2697\n",
              "1       1168        NaN         FESLER  ...     EL CAJON            CA  92020-1812\n",
              "2       8666        NaN       COMMERCE  ...    SAN DIEGO            CA  92121-2613\n",
              "3      10101        NaN      OLD GROVE  ...    SAN DIEGO            CA  92131-1650\n",
              "4          1        NaN         VISION  ...   BLOOMFIELD            CT  06002-5321\n",
              "\n",
              "[5 rows x 7 columns]"
            ]
          },
          "metadata": {
            "tags": []
          },
          "execution_count": 13
        },
        {
          "output_type": "execute_result",
          "data": {
            "text/html": [
              "<div>\n",
              "<style scoped>\n",
              "    .dataframe tbody tr th:only-of-type {\n",
              "        vertical-align: middle;\n",
              "    }\n",
              "\n",
              "    .dataframe tbody tr th {\n",
              "        vertical-align: top;\n",
              "    }\n",
              "\n",
              "    .dataframe thead th {\n",
              "        text-align: right;\n",
              "    }\n",
              "</style>\n",
              "<table border=\"1\" class=\"dataframe\">\n",
              "  <thead>\n",
              "    <tr style=\"text-align: right;\">\n",
              "      <th></th>\n",
              "      <th>address_no</th>\n",
              "      <th>address_pd</th>\n",
              "      <th>address_road</th>\n",
              "      <th>address_sfx</th>\n",
              "      <th>address_city</th>\n",
              "      <th>address_state</th>\n",
              "      <th>address_zip</th>\n",
              "      <th>address_merged</th>\n",
              "    </tr>\n",
              "  </thead>\n",
              "  <tbody>\n",
              "    <tr>\n",
              "      <th>0</th>\n",
              "      <td>9655</td>\n",
              "      <td></td>\n",
              "      <td>GRANITE RIDGE</td>\n",
              "      <td>DR</td>\n",
              "      <td>SAN DIEGO</td>\n",
              "      <td>CA</td>\n",
              "      <td>92123-2697</td>\n",
              "      <td>9655  GRANITE RIDGE DR</td>\n",
              "    </tr>\n",
              "    <tr>\n",
              "      <th>1</th>\n",
              "      <td>1168</td>\n",
              "      <td></td>\n",
              "      <td>FESLER</td>\n",
              "      <td>ST</td>\n",
              "      <td>EL CAJON</td>\n",
              "      <td>CA</td>\n",
              "      <td>92020-1812</td>\n",
              "      <td>1168  FESLER ST</td>\n",
              "    </tr>\n",
              "    <tr>\n",
              "      <th>2</th>\n",
              "      <td>8666</td>\n",
              "      <td></td>\n",
              "      <td>COMMERCE</td>\n",
              "      <td>AVE</td>\n",
              "      <td>SAN DIEGO</td>\n",
              "      <td>CA</td>\n",
              "      <td>92121-2613</td>\n",
              "      <td>8666  COMMERCE AVE</td>\n",
              "    </tr>\n",
              "    <tr>\n",
              "      <th>3</th>\n",
              "      <td>10101</td>\n",
              "      <td></td>\n",
              "      <td>OLD GROVE</td>\n",
              "      <td>RD</td>\n",
              "      <td>SAN DIEGO</td>\n",
              "      <td>CA</td>\n",
              "      <td>92131-1650</td>\n",
              "      <td>10101  OLD GROVE RD</td>\n",
              "    </tr>\n",
              "    <tr>\n",
              "      <th>4</th>\n",
              "      <td>1</td>\n",
              "      <td></td>\n",
              "      <td>VISION</td>\n",
              "      <td>WAY</td>\n",
              "      <td>BLOOMFIELD</td>\n",
              "      <td>CT</td>\n",
              "      <td>06002-5321</td>\n",
              "      <td>1  VISION WAY</td>\n",
              "    </tr>\n",
              "  </tbody>\n",
              "</table>\n",
              "</div>"
            ],
            "text/plain": [
              "  address_no address_pd  ... address_zip          address_merged\n",
              "0       9655             ...  92123-2697  9655  GRANITE RIDGE DR\n",
              "1       1168             ...  92020-1812         1168  FESLER ST\n",
              "2       8666             ...  92121-2613      8666  COMMERCE AVE\n",
              "3      10101             ...  92131-1650     10101  OLD GROVE RD\n",
              "4          1             ...  06002-5321           1  VISION WAY\n",
              "\n",
              "[5 rows x 8 columns]"
            ]
          },
          "metadata": {
            "tags": []
          },
          "execution_count": 13
        }
      ]
    },
    {
      "cell_type": "markdown",
      "metadata": {
        "id": "lnVexhd-1ik6"
      },
      "source": [
        "### Create 2-dig naics codes"
      ]
    },
    {
      "cell_type": "code",
      "metadata": {
        "colab": {
          "base_uri": "https://localhost:8080/",
          "height": 1000
        },
        "id": "vWcqfwOF1ik6",
        "outputId": "9e8b676c-3bb8-4322-b532-6acb3e41531f"
      },
      "source": [
        "## already exists for sd\n",
        "sd[[col for col in sd.columns if \"naics\" in col]]\n",
        "print('NAICS 2-dig in SD are:-----------------')\n",
        "sd.naics_sector.value_counts(dropna = False)\n",
        "\n",
        "## for ppp- truncate to first 2dig\n",
        "ppp['naics_sector'] = ppp.NAICSCode.astype(str).str[0:2]\n",
        "print('NAICS 2-dig in PPP are:-----------------')\n",
        "ppp.naics_sector.value_counts(dropna = False)"
      ],
      "execution_count": 14,
      "outputs": [
        {
          "output_type": "execute_result",
          "data": {
            "text/html": [
              "<div>\n",
              "<style scoped>\n",
              "    .dataframe tbody tr th:only-of-type {\n",
              "        vertical-align: middle;\n",
              "    }\n",
              "\n",
              "    .dataframe tbody tr th {\n",
              "        vertical-align: top;\n",
              "    }\n",
              "\n",
              "    .dataframe thead th {\n",
              "        text-align: right;\n",
              "    }\n",
              "</style>\n",
              "<table border=\"1\" class=\"dataframe\">\n",
              "  <thead>\n",
              "    <tr style=\"text-align: right;\">\n",
              "      <th></th>\n",
              "      <th>naics_sector</th>\n",
              "      <th>naics_code</th>\n",
              "      <th>naics_description</th>\n",
              "    </tr>\n",
              "  </thead>\n",
              "  <tbody>\n",
              "    <tr>\n",
              "      <th>0</th>\n",
              "      <td>44</td>\n",
              "      <td>442</td>\n",
              "      <td>FURNITURE &amp; HOME FURNISHINGS STORES</td>\n",
              "    </tr>\n",
              "    <tr>\n",
              "      <th>1</th>\n",
              "      <td>23</td>\n",
              "      <td>23511</td>\n",
              "      <td>PLUMBING, HEATING &amp; AC CONTRACTOR</td>\n",
              "    </tr>\n",
              "    <tr>\n",
              "      <th>2</th>\n",
              "      <td>42</td>\n",
              "      <td>42199</td>\n",
              "      <td>OTHER MISCELLANEOUS DURABLE GOODS WHSLE</td>\n",
              "    </tr>\n",
              "    <tr>\n",
              "      <th>3</th>\n",
              "      <td>42</td>\n",
              "      <td>42199</td>\n",
              "      <td>OTHER MISCELLANEOUS DURABLE GOODS WHSLE</td>\n",
              "    </tr>\n",
              "    <tr>\n",
              "      <th>4</th>\n",
              "      <td>45</td>\n",
              "      <td>4539</td>\n",
              "      <td>OTHER MISCELLANEOUS STORE RETAILERS</td>\n",
              "    </tr>\n",
              "    <tr>\n",
              "      <th>...</th>\n",
              "      <td>...</td>\n",
              "      <td>...</td>\n",
              "      <td>...</td>\n",
              "    </tr>\n",
              "    <tr>\n",
              "      <th>63588</th>\n",
              "      <td>45</td>\n",
              "      <td>454</td>\n",
              "      <td>NONSTORE RETAILERS</td>\n",
              "    </tr>\n",
              "    <tr>\n",
              "      <th>63589</th>\n",
              "      <td>48</td>\n",
              "      <td>4841</td>\n",
              "      <td>GENERAL FREIGHT TRUCKING</td>\n",
              "    </tr>\n",
              "    <tr>\n",
              "      <th>63590</th>\n",
              "      <td>54</td>\n",
              "      <td>54161</td>\n",
              "      <td>MANAGEMENT CONSULTING SERVICES</td>\n",
              "    </tr>\n",
              "    <tr>\n",
              "      <th>63591</th>\n",
              "      <td>52</td>\n",
              "      <td>52421</td>\n",
              "      <td>INSURANCE AGENCIES &amp; BROKERAGES</td>\n",
              "    </tr>\n",
              "    <tr>\n",
              "      <th>63592</th>\n",
              "      <td>48</td>\n",
              "      <td>48721</td>\n",
              "      <td>SCENIC &amp; SIGHTSEEING TRANSPORTATION, WATER</td>\n",
              "    </tr>\n",
              "  </tbody>\n",
              "</table>\n",
              "<p>63593 rows × 3 columns</p>\n",
              "</div>"
            ],
            "text/plain": [
              "       naics_sector  naics_code                           naics_description\n",
              "0                44         442         FURNITURE & HOME FURNISHINGS STORES\n",
              "1                23       23511           PLUMBING, HEATING & AC CONTRACTOR\n",
              "2                42       42199     OTHER MISCELLANEOUS DURABLE GOODS WHSLE\n",
              "3                42       42199     OTHER MISCELLANEOUS DURABLE GOODS WHSLE\n",
              "4                45        4539         OTHER MISCELLANEOUS STORE RETAILERS\n",
              "...             ...         ...                                         ...\n",
              "63588            45         454                          NONSTORE RETAILERS\n",
              "63589            48        4841                    GENERAL FREIGHT TRUCKING\n",
              "63590            54       54161              MANAGEMENT CONSULTING SERVICES\n",
              "63591            52       52421             INSURANCE AGENCIES & BROKERAGES\n",
              "63592            48       48721  SCENIC & SIGHTSEEING TRANSPORTATION, WATER\n",
              "\n",
              "[63593 rows x 3 columns]"
            ]
          },
          "metadata": {
            "tags": []
          },
          "execution_count": 14
        },
        {
          "output_type": "stream",
          "text": [
            "NAICS 2-dig in SD are:-----------------\n"
          ],
          "name": "stdout"
        },
        {
          "output_type": "execute_result",
          "data": {
            "text/plain": [
              "54    13175\n",
              "81     9403\n",
              "56     4905\n",
              "45     4868\n",
              "62     4840\n",
              "23     4741\n",
              "44     3617\n",
              "72     3576\n",
              "53     3172\n",
              "42     2001\n",
              "48     1908\n",
              "61     1766\n",
              "71     1424\n",
              "52     1202\n",
              "33      835\n",
              "51      801\n",
              "32      323\n",
              "49      309\n",
              "31      305\n",
              "55      229\n",
              "11      114\n",
              "22       65\n",
              "92       12\n",
              "21        2\n",
              "Name: naics_sector, dtype: int64"
            ]
          },
          "metadata": {
            "tags": []
          },
          "execution_count": 14
        },
        {
          "output_type": "stream",
          "text": [
            "NAICS 2-dig in PPP are:-----------------\n"
          ],
          "name": "stdout"
        },
        {
          "output_type": "execute_result",
          "data": {
            "text/plain": [
              "23    2710\n",
              "54    2680\n",
              "72    2042\n",
              "62    1329\n",
              "33    1300\n",
              "42    1009\n",
              "56     976\n",
              "81     816\n",
              "44     597\n",
              "53     469\n",
              "51     415\n",
              "45     414\n",
              "48     392\n",
              "32     383\n",
              "na     361\n",
              "52     336\n",
              "61     268\n",
              "99     208\n",
              "31     206\n",
              "71     202\n",
              "11      94\n",
              "49      43\n",
              "22      42\n",
              "92      41\n",
              "55      28\n",
              "21      20\n",
              "Name: naics_sector, dtype: int64"
            ]
          },
          "metadata": {
            "tags": []
          },
          "execution_count": 14
        }
      ]
    },
    {
      "cell_type": "markdown",
      "metadata": {
        "id": "kEHcihzj1ik7"
      },
      "source": [
        "## Clean business name by converting to upper and removing some puncutation\n",
        "\n",
        "Here, i'm stripping out the , and . but keeping & since it may be relevant"
      ]
    },
    {
      "cell_type": "code",
      "metadata": {
        "colab": {
          "base_uri": "https://localhost:8080/"
        },
        "id": "OMbuGEeR1ik7",
        "outputId": "7ad8cf7f-374d-4daa-f58c-c22b609c1800"
      },
      "source": [
        "print(\"Before cleaning names:-----------------\")\n",
        "sd.dba_name.sample(10, random_state = 4)\n",
        "ppp.BorrowerName.sample(10, random_state = 4)\n",
        "\n",
        "sd['clean_name'] = [re.sub(r\"\\,|\\.\", \"\", name) for name in sd.dba_name]\n",
        "ppp['clean_name'] = [re.sub(r\"\\,|\\.\", \"\", name) for name in ppp.BorrowerName]\n",
        "\n",
        "print(\"After cleaning names:-----------------\")\n",
        "sd.clean_name.sample(10, random_state = 4)\n",
        "ppp.clean_name.sample(10, random_state = 4)"
      ],
      "execution_count": 15,
      "outputs": [
        {
          "output_type": "stream",
          "text": [
            "Before cleaning names:-----------------\n"
          ],
          "name": "stdout"
        },
        {
          "output_type": "execute_result",
          "data": {
            "text/plain": [
              "10219    COASTAL PACIFIC FUNDING CORPORATION\n",
              "1457                           LSW ENGINEERS\n",
              "22544            SMITH  RAFTERY  CONSULTANTS\n",
              "8471             SAN DIEGO ASSOC OF REALTORS\n",
              "1660                          SCHMIDT DESIGN\n",
              "26545                             LIGHTHOUSE\n",
              "12157             MITSUBISHI ELECTRIC US INC\n",
              "1575        LAW OFFICES OF CHARLES WOLFINGER\n",
              "35862                   METAL METHOD COMPANY\n",
              "13446        ATS ADVANCED TRUSTEE STRATEGIES\n",
              "Name: dba_name, dtype: object"
            ]
          },
          "metadata": {
            "tags": []
          },
          "execution_count": 15
        },
        {
          "output_type": "execute_result",
          "data": {
            "text/plain": [
              "145519                     THE RECESSROOM INCORPORATED\n",
              "84738                   FINAL CLEANING SOLUTIONS, INC.\n",
              "79834           DOREL GABORAS DBA TODAY'S CONSTRUCTION\n",
              "38354                        INVESTMENT CONCEPTS, INC.\n",
              "57542                    PACIFIC 9 TRANSPORTATION, INC\n",
              "104945    PACIFIC ENVIRNMENTAL &AMP; ABATEMENT SOLUTIO\n",
              "103451                           INFOCAP NETWORKS, LLC\n",
              "114808                TOTAL CARE FAMILY MEDICAL CENTER\n",
              "50150                                      AFFLUENT HR\n",
              "94652                        INDUSTRIAL PLASTIC SUPPLY\n",
              "Name: BorrowerName, dtype: object"
            ]
          },
          "metadata": {
            "tags": []
          },
          "execution_count": 15
        },
        {
          "output_type": "stream",
          "text": [
            "After cleaning names:-----------------\n"
          ],
          "name": "stdout"
        },
        {
          "output_type": "execute_result",
          "data": {
            "text/plain": [
              "10219    COASTAL PACIFIC FUNDING CORPORATION\n",
              "1457                           LSW ENGINEERS\n",
              "22544            SMITH  RAFTERY  CONSULTANTS\n",
              "8471             SAN DIEGO ASSOC OF REALTORS\n",
              "1660                          SCHMIDT DESIGN\n",
              "26545                             LIGHTHOUSE\n",
              "12157             MITSUBISHI ELECTRIC US INC\n",
              "1575        LAW OFFICES OF CHARLES WOLFINGER\n",
              "35862                   METAL METHOD COMPANY\n",
              "13446        ATS ADVANCED TRUSTEE STRATEGIES\n",
              "Name: clean_name, dtype: object"
            ]
          },
          "metadata": {
            "tags": []
          },
          "execution_count": 15
        },
        {
          "output_type": "execute_result",
          "data": {
            "text/plain": [
              "145519                     THE RECESSROOM INCORPORATED\n",
              "84738                     FINAL CLEANING SOLUTIONS INC\n",
              "79834           DOREL GABORAS DBA TODAY'S CONSTRUCTION\n",
              "38354                          INVESTMENT CONCEPTS INC\n",
              "57542                     PACIFIC 9 TRANSPORTATION INC\n",
              "104945    PACIFIC ENVIRNMENTAL &AMP; ABATEMENT SOLUTIO\n",
              "103451                            INFOCAP NETWORKS LLC\n",
              "114808                TOTAL CARE FAMILY MEDICAL CENTER\n",
              "50150                                      AFFLUENT HR\n",
              "94652                        INDUSTRIAL PLASTIC SUPPLY\n",
              "Name: clean_name, dtype: object"
            ]
          },
          "metadata": {
            "tags": []
          },
          "execution_count": 15
        }
      ]
    },
    {
      "cell_type": "markdown",
      "metadata": {
        "id": "Tr7wAZ7-1ik7"
      },
      "source": [
        "## Step 2 - randomly sample rows and try fuzzy matching"
      ]
    },
    {
      "cell_type": "code",
      "metadata": {
        "colab": {
          "base_uri": "https://localhost:8080/",
          "height": 503
        },
        "id": "BwtM6hHu1ik8",
        "outputId": "46f64fa2-ce75-4537-c96c-d44f722e2c70"
      },
      "source": [
        "## shift to larger sample out of SD since that's the pool\n",
        "## we're searching for PPP in\n",
        "ppp_samp = ppp.sample(n = 200, random_state = 566)\n",
        "sd_samp = sd.sample(n = 20000, random_state = 566)\n",
        "\n",
        "## here, i'm blocking on zip code and fuzzily matching on \n",
        "## business name and street name  \n",
        "\n",
        "### step 1- init recordlinker\n",
        "link_ppp_sd = recordlinkage.Index()\n",
        "\n",
        "### step 2 - tell it what to block on \n",
        "link_ppp_sd.block(\"BorrowerZip\")\n",
        "\n",
        "### step 3- compute candidate links\n",
        "candidate_links_zipcode = link_ppp_sd.index(sd_samp, ppp_samp)\n",
        "candidate_links_zipcode\n",
        "\n",
        "## step 3 under the hood - pull out example\n",
        "## see that they have the same zip but unlikely to be matches\n",
        "sd_samp.loc[sd_samp.index == 7201,\n",
        "           [\"clean_name\", \"BorrowerZip\"]]\n",
        "ppp_samp.loc[ppp_samp.index.isin([137429, 84332]),\n",
        "           [\"clean_name\", \"BorrowerZip\"]]\n",
        "\n",
        "### step 4- create compare class and add fuzzy strings\n",
        "compare = recordlinkage.Compare()\n",
        "compare.string('clean_name', 'clean_name', method='jarowinkler', threshold=0.7)\n",
        "compare.string('address_merged', 'BorrowerAddress', method = \"jarowinkler\", threshold = 0.9)\n",
        "\n"
      ],
      "execution_count": 16,
      "outputs": [
        {
          "output_type": "execute_result",
          "data": {
            "text/plain": [
              "<Index>"
            ]
          },
          "metadata": {
            "tags": []
          },
          "execution_count": 16
        },
        {
          "output_type": "execute_result",
          "data": {
            "text/plain": [
              "MultiIndex([(10601,  60327),\n",
              "            (10601,  53058),\n",
              "            (10601,  46158),\n",
              "            (10601,  45518),\n",
              "            (10601,  52265),\n",
              "            (48595,  60327),\n",
              "            (48595,  53058),\n",
              "            (48595,  46158),\n",
              "            (48595,  45518),\n",
              "            (48595,  52265),\n",
              "            ...\n",
              "            (19897,  37101),\n",
              "            (18710, 151546),\n",
              "            (22534, 162330),\n",
              "            (23028,  53287),\n",
              "            (40265,  53287),\n",
              "            (52357,  41790),\n",
              "            (31892,  41790),\n",
              "            (11635, 125712),\n",
              "            ( 5840, 125712),\n",
              "            (58497,  39770)],\n",
              "           length=44621)"
            ]
          },
          "metadata": {
            "tags": []
          },
          "execution_count": 16
        },
        {
          "output_type": "execute_result",
          "data": {
            "text/html": [
              "<div>\n",
              "<style scoped>\n",
              "    .dataframe tbody tr th:only-of-type {\n",
              "        vertical-align: middle;\n",
              "    }\n",
              "\n",
              "    .dataframe tbody tr th {\n",
              "        vertical-align: top;\n",
              "    }\n",
              "\n",
              "    .dataframe thead th {\n",
              "        text-align: right;\n",
              "    }\n",
              "</style>\n",
              "<table border=\"1\" class=\"dataframe\">\n",
              "  <thead>\n",
              "    <tr style=\"text-align: right;\">\n",
              "      <th></th>\n",
              "      <th>clean_name</th>\n",
              "      <th>BorrowerZip</th>\n",
              "    </tr>\n",
              "  </thead>\n",
              "  <tbody>\n",
              "    <tr>\n",
              "      <th>7201</th>\n",
              "      <td>MILTONS DELICATESSEN GRILL &amp; BAKERY</td>\n",
              "      <td>92014</td>\n",
              "    </tr>\n",
              "  </tbody>\n",
              "</table>\n",
              "</div>"
            ],
            "text/plain": [
              "                               clean_name BorrowerZip\n",
              "7201  MILTONS DELICATESSEN GRILL & BAKERY       92014"
            ]
          },
          "metadata": {
            "tags": []
          },
          "execution_count": 16
        },
        {
          "output_type": "execute_result",
          "data": {
            "text/html": [
              "<div>\n",
              "<style scoped>\n",
              "    .dataframe tbody tr th:only-of-type {\n",
              "        vertical-align: middle;\n",
              "    }\n",
              "\n",
              "    .dataframe tbody tr th {\n",
              "        vertical-align: top;\n",
              "    }\n",
              "\n",
              "    .dataframe thead th {\n",
              "        text-align: right;\n",
              "    }\n",
              "</style>\n",
              "<table border=\"1\" class=\"dataframe\">\n",
              "  <thead>\n",
              "    <tr style=\"text-align: right;\">\n",
              "      <th></th>\n",
              "      <th>clean_name</th>\n",
              "      <th>BorrowerZip</th>\n",
              "    </tr>\n",
              "  </thead>\n",
              "  <tbody>\n",
              "  </tbody>\n",
              "</table>\n",
              "</div>"
            ],
            "text/plain": [
              "Empty DataFrame\n",
              "Columns: [clean_name, BorrowerZip]\n",
              "Index: []"
            ]
          },
          "metadata": {
            "tags": []
          },
          "execution_count": 16
        },
        {
          "output_type": "execute_result",
          "data": {
            "text/plain": [
              "<Compare>"
            ]
          },
          "metadata": {
            "tags": []
          },
          "execution_count": 16
        },
        {
          "output_type": "execute_result",
          "data": {
            "text/plain": [
              "<Compare>"
            ]
          },
          "metadata": {
            "tags": []
          },
          "execution_count": 16
        }
      ]
    },
    {
      "cell_type": "code",
      "metadata": {
        "colab": {
          "base_uri": "https://localhost:8080/",
          "height": 668
        },
        "id": "CCfbltvI1ik9",
        "outputId": "e8fcd7c5-d204-4c46-9e53-1e57474dd11d"
      },
      "source": [
        "## step 5- feed the candidate links to the compare class and compute\n",
        "compare_vectors = compare.compute(candidate_links_zipcode, sd_samp, ppp_samp)\n",
        "compare_vectors\n",
        "\n",
        "## step 5 under the hood - pull out example\n",
        "## of biz with matching (non-zero) address col\n",
        "## and name col\n",
        "compare_vectors.columns = [\"name\", \"address\"]\n",
        "compare_vectors[(compare_vectors.name == 1) &\n",
        "               (compare_vectors.address == 1)]\n"
      ],
      "execution_count": 17,
      "outputs": [
        {
          "output_type": "execute_result",
          "data": {
            "text/html": [
              "<div>\n",
              "<style scoped>\n",
              "    .dataframe tbody tr th:only-of-type {\n",
              "        vertical-align: middle;\n",
              "    }\n",
              "\n",
              "    .dataframe tbody tr th {\n",
              "        vertical-align: top;\n",
              "    }\n",
              "\n",
              "    .dataframe thead th {\n",
              "        text-align: right;\n",
              "    }\n",
              "</style>\n",
              "<table border=\"1\" class=\"dataframe\">\n",
              "  <thead>\n",
              "    <tr style=\"text-align: right;\">\n",
              "      <th></th>\n",
              "      <th></th>\n",
              "      <th>0</th>\n",
              "      <th>1</th>\n",
              "    </tr>\n",
              "  </thead>\n",
              "  <tbody>\n",
              "    <tr>\n",
              "      <th rowspan=\"5\" valign=\"top\">10601</th>\n",
              "      <th>60327</th>\n",
              "      <td>0.0</td>\n",
              "      <td>0.0</td>\n",
              "    </tr>\n",
              "    <tr>\n",
              "      <th>53058</th>\n",
              "      <td>0.0</td>\n",
              "      <td>0.0</td>\n",
              "    </tr>\n",
              "    <tr>\n",
              "      <th>46158</th>\n",
              "      <td>0.0</td>\n",
              "      <td>0.0</td>\n",
              "    </tr>\n",
              "    <tr>\n",
              "      <th>45518</th>\n",
              "      <td>0.0</td>\n",
              "      <td>0.0</td>\n",
              "    </tr>\n",
              "    <tr>\n",
              "      <th>52265</th>\n",
              "      <td>0.0</td>\n",
              "      <td>0.0</td>\n",
              "    </tr>\n",
              "    <tr>\n",
              "      <th>...</th>\n",
              "      <th>...</th>\n",
              "      <td>...</td>\n",
              "      <td>...</td>\n",
              "    </tr>\n",
              "    <tr>\n",
              "      <th>52357</th>\n",
              "      <th>41790</th>\n",
              "      <td>1.0</td>\n",
              "      <td>1.0</td>\n",
              "    </tr>\n",
              "    <tr>\n",
              "      <th>31892</th>\n",
              "      <th>41790</th>\n",
              "      <td>0.0</td>\n",
              "      <td>0.0</td>\n",
              "    </tr>\n",
              "    <tr>\n",
              "      <th>11635</th>\n",
              "      <th>125712</th>\n",
              "      <td>0.0</td>\n",
              "      <td>0.0</td>\n",
              "    </tr>\n",
              "    <tr>\n",
              "      <th>5840</th>\n",
              "      <th>125712</th>\n",
              "      <td>0.0</td>\n",
              "      <td>0.0</td>\n",
              "    </tr>\n",
              "    <tr>\n",
              "      <th>58497</th>\n",
              "      <th>39770</th>\n",
              "      <td>0.0</td>\n",
              "      <td>0.0</td>\n",
              "    </tr>\n",
              "  </tbody>\n",
              "</table>\n",
              "<p>44621 rows × 2 columns</p>\n",
              "</div>"
            ],
            "text/plain": [
              "                0    1\n",
              "10601 60327   0.0  0.0\n",
              "      53058   0.0  0.0\n",
              "      46158   0.0  0.0\n",
              "      45518   0.0  0.0\n",
              "      52265   0.0  0.0\n",
              "...           ...  ...\n",
              "52357 41790   1.0  1.0\n",
              "31892 41790   0.0  0.0\n",
              "11635 125712  0.0  0.0\n",
              "5840  125712  0.0  0.0\n",
              "58497 39770   0.0  0.0\n",
              "\n",
              "[44621 rows x 2 columns]"
            ]
          },
          "metadata": {
            "tags": []
          },
          "execution_count": 17
        },
        {
          "output_type": "execute_result",
          "data": {
            "text/html": [
              "<div>\n",
              "<style scoped>\n",
              "    .dataframe tbody tr th:only-of-type {\n",
              "        vertical-align: middle;\n",
              "    }\n",
              "\n",
              "    .dataframe tbody tr th {\n",
              "        vertical-align: top;\n",
              "    }\n",
              "\n",
              "    .dataframe thead th {\n",
              "        text-align: right;\n",
              "    }\n",
              "</style>\n",
              "<table border=\"1\" class=\"dataframe\">\n",
              "  <thead>\n",
              "    <tr style=\"text-align: right;\">\n",
              "      <th></th>\n",
              "      <th></th>\n",
              "      <th>name</th>\n",
              "      <th>address</th>\n",
              "    </tr>\n",
              "  </thead>\n",
              "  <tbody>\n",
              "    <tr>\n",
              "      <th>5106</th>\n",
              "      <th>145118</th>\n",
              "      <td>1.0</td>\n",
              "      <td>1.0</td>\n",
              "    </tr>\n",
              "    <tr>\n",
              "      <th>48857</th>\n",
              "      <th>145118</th>\n",
              "      <td>1.0</td>\n",
              "      <td>1.0</td>\n",
              "    </tr>\n",
              "    <tr>\n",
              "      <th>25503</th>\n",
              "      <th>149344</th>\n",
              "      <td>1.0</td>\n",
              "      <td>1.0</td>\n",
              "    </tr>\n",
              "    <tr>\n",
              "      <th>28646</th>\n",
              "      <th>88146</th>\n",
              "      <td>1.0</td>\n",
              "      <td>1.0</td>\n",
              "    </tr>\n",
              "    <tr>\n",
              "      <th>1699</th>\n",
              "      <th>97872</th>\n",
              "      <td>1.0</td>\n",
              "      <td>1.0</td>\n",
              "    </tr>\n",
              "    <tr>\n",
              "      <th>24478</th>\n",
              "      <th>41407</th>\n",
              "      <td>1.0</td>\n",
              "      <td>1.0</td>\n",
              "    </tr>\n",
              "    <tr>\n",
              "      <th>52357</th>\n",
              "      <th>41790</th>\n",
              "      <td>1.0</td>\n",
              "      <td>1.0</td>\n",
              "    </tr>\n",
              "  </tbody>\n",
              "</table>\n",
              "</div>"
            ],
            "text/plain": [
              "              name  address\n",
              "5106  145118   1.0      1.0\n",
              "48857 145118   1.0      1.0\n",
              "25503 149344   1.0      1.0\n",
              "28646 88146    1.0      1.0\n",
              "1699  97872    1.0      1.0\n",
              "24478 41407    1.0      1.0\n",
              "52357 41790    1.0      1.0"
            ]
          },
          "metadata": {
            "tags": []
          },
          "execution_count": 17
        }
      ]
    },
    {
      "cell_type": "code",
      "metadata": {
        "colab": {
          "base_uri": "https://localhost:8080/",
          "height": 378
        },
        "id": "hNjEKwzl1ik9",
        "outputId": "44d5cfe0-7d8c-439e-864f-c1f8e5df2edf"
      },
      "source": [
        "### step 5 under the hood - example of similar-enough name\n",
        "example_id = 14769\n",
        "sd_samp.loc[sd_samp.index == example_id,\n",
        "           [\"clean_name\", \"BorrowerZip\", \"address_merged\"]]\n",
        "ppp_samp.loc[ppp_samp.index.isin([68600]),\n",
        "           [\"clean_name\", \"BorrowerZip\", \"BorrowerAddress\"]]\n",
        "\n",
        "## yay looks like a true match!\n",
        "\n",
        "## step 6 -- algorithm to aggregate across fields\n",
        "## example code has k-means\n",
        "## here, we're using e-m alg\n",
        "## and transforming it to a df\n",
        "## sd_index is on left \n",
        "ecm = recordlinkage.ECMClassifier()\n",
        "predicted_matches_ecm = pd.DataFrame(list(ecm.fit_predict(compare_vectors)),\n",
        "                                     columns = ['sd_index', 'ppp_index'])\n",
        "print(\"Matches returned are:------------\")\n",
        "predicted_matches_ecm\n"
      ],
      "execution_count": 18,
      "outputs": [
        {
          "output_type": "execute_result",
          "data": {
            "text/html": [
              "<div>\n",
              "<style scoped>\n",
              "    .dataframe tbody tr th:only-of-type {\n",
              "        vertical-align: middle;\n",
              "    }\n",
              "\n",
              "    .dataframe tbody tr th {\n",
              "        vertical-align: top;\n",
              "    }\n",
              "\n",
              "    .dataframe thead th {\n",
              "        text-align: right;\n",
              "    }\n",
              "</style>\n",
              "<table border=\"1\" class=\"dataframe\">\n",
              "  <thead>\n",
              "    <tr style=\"text-align: right;\">\n",
              "      <th></th>\n",
              "      <th>clean_name</th>\n",
              "      <th>BorrowerZip</th>\n",
              "      <th>address_merged</th>\n",
              "    </tr>\n",
              "  </thead>\n",
              "  <tbody>\n",
              "    <tr>\n",
              "      <th>14769</th>\n",
              "      <td>AQUA CLEAR WATER TREATMENT SPECIALISTS INC</td>\n",
              "      <td>92117</td>\n",
              "      <td>3952D  CLMNT MSA BLVD</td>\n",
              "    </tr>\n",
              "  </tbody>\n",
              "</table>\n",
              "</div>"
            ],
            "text/plain": [
              "                                       clean_name  ...         address_merged\n",
              "14769  AQUA CLEAR WATER TREATMENT SPECIALISTS INC  ...  3952D  CLMNT MSA BLVD\n",
              "\n",
              "[1 rows x 3 columns]"
            ]
          },
          "metadata": {
            "tags": []
          },
          "execution_count": 18
        },
        {
          "output_type": "execute_result",
          "data": {
            "text/html": [
              "<div>\n",
              "<style scoped>\n",
              "    .dataframe tbody tr th:only-of-type {\n",
              "        vertical-align: middle;\n",
              "    }\n",
              "\n",
              "    .dataframe tbody tr th {\n",
              "        vertical-align: top;\n",
              "    }\n",
              "\n",
              "    .dataframe thead th {\n",
              "        text-align: right;\n",
              "    }\n",
              "</style>\n",
              "<table border=\"1\" class=\"dataframe\">\n",
              "  <thead>\n",
              "    <tr style=\"text-align: right;\">\n",
              "      <th></th>\n",
              "      <th>clean_name</th>\n",
              "      <th>BorrowerZip</th>\n",
              "      <th>BorrowerAddress</th>\n",
              "    </tr>\n",
              "  </thead>\n",
              "  <tbody>\n",
              "  </tbody>\n",
              "</table>\n",
              "</div>"
            ],
            "text/plain": [
              "Empty DataFrame\n",
              "Columns: [clean_name, BorrowerZip, BorrowerAddress]\n",
              "Index: []"
            ]
          },
          "metadata": {
            "tags": []
          },
          "execution_count": 18
        },
        {
          "output_type": "stream",
          "text": [
            "Matches returned are:------------\n"
          ],
          "name": "stdout"
        },
        {
          "output_type": "execute_result",
          "data": {
            "text/html": [
              "<div>\n",
              "<style scoped>\n",
              "    .dataframe tbody tr th:only-of-type {\n",
              "        vertical-align: middle;\n",
              "    }\n",
              "\n",
              "    .dataframe tbody tr th {\n",
              "        vertical-align: top;\n",
              "    }\n",
              "\n",
              "    .dataframe thead th {\n",
              "        text-align: right;\n",
              "    }\n",
              "</style>\n",
              "<table border=\"1\" class=\"dataframe\">\n",
              "  <thead>\n",
              "    <tr style=\"text-align: right;\">\n",
              "      <th></th>\n",
              "      <th>sd_index</th>\n",
              "      <th>ppp_index</th>\n",
              "    </tr>\n",
              "  </thead>\n",
              "  <tbody>\n",
              "    <tr>\n",
              "      <th>0</th>\n",
              "      <td>5106</td>\n",
              "      <td>145118</td>\n",
              "    </tr>\n",
              "    <tr>\n",
              "      <th>1</th>\n",
              "      <td>48857</td>\n",
              "      <td>145118</td>\n",
              "    </tr>\n",
              "    <tr>\n",
              "      <th>2</th>\n",
              "      <td>25503</td>\n",
              "      <td>149344</td>\n",
              "    </tr>\n",
              "    <tr>\n",
              "      <th>3</th>\n",
              "      <td>28646</td>\n",
              "      <td>88146</td>\n",
              "    </tr>\n",
              "    <tr>\n",
              "      <th>4</th>\n",
              "      <td>1699</td>\n",
              "      <td>97872</td>\n",
              "    </tr>\n",
              "    <tr>\n",
              "      <th>5</th>\n",
              "      <td>24478</td>\n",
              "      <td>41407</td>\n",
              "    </tr>\n",
              "    <tr>\n",
              "      <th>6</th>\n",
              "      <td>52357</td>\n",
              "      <td>41790</td>\n",
              "    </tr>\n",
              "  </tbody>\n",
              "</table>\n",
              "</div>"
            ],
            "text/plain": [
              "   sd_index  ppp_index\n",
              "0      5106     145118\n",
              "1     48857     145118\n",
              "2     25503     149344\n",
              "3     28646      88146\n",
              "4      1699      97872\n",
              "5     24478      41407\n",
              "6     52357      41790"
            ]
          },
          "metadata": {
            "tags": []
          },
          "execution_count": 18
        }
      ]
    },
    {
      "cell_type": "code",
      "metadata": {
        "colab": {
          "base_uri": "https://localhost:8080/",
          "height": 368
        },
        "id": "ivG1LvOM1ik-",
        "outputId": "4f51f446-69d6-41c2-a204-a13caecf54da"
      },
      "source": [
        "## step 7 - merge the two to compare\n",
        "### merge to sd data\n",
        "sd_samp['sd_index'] = sd_samp.index\n",
        "m1_addsd = pd.merge(predicted_matches_ecm,\n",
        "                   sd_samp[['clean_name', 'sd_index', 'address_merged', \"naics_sector\"]],\n",
        "                   on = \"sd_index\",\n",
        "                   how = \"inner\")\n",
        "ppp_samp['ppp_index'] = ppp_samp.index\n",
        "m2_addp = pd.merge(m1_addsd, \n",
        "                  ppp_samp[['clean_name', 'ppp_index', 'BorrowerAddress', 'naics_sector']],\n",
        "                  on = \"ppp_index\",\n",
        "                  how = \"inner\",\n",
        "                  suffixes = [\"_SDtaxdata\", \"_PPPloandata\"])\n",
        "\n",
        "## see some true matches and some false matches (e.g., adaptive launch solutions\n",
        "## is a false match; habitat restoration sciences is a false match)\n",
        "## would then want to adjust string threshold\n",
        "## or possibly add naics code as field\n",
        "m2_addp"
      ],
      "execution_count": 19,
      "outputs": [
        {
          "output_type": "execute_result",
          "data": {
            "text/html": [
              "<div>\n",
              "<style scoped>\n",
              "    .dataframe tbody tr th:only-of-type {\n",
              "        vertical-align: middle;\n",
              "    }\n",
              "\n",
              "    .dataframe tbody tr th {\n",
              "        vertical-align: top;\n",
              "    }\n",
              "\n",
              "    .dataframe thead th {\n",
              "        text-align: right;\n",
              "    }\n",
              "</style>\n",
              "<table border=\"1\" class=\"dataframe\">\n",
              "  <thead>\n",
              "    <tr style=\"text-align: right;\">\n",
              "      <th></th>\n",
              "      <th>sd_index</th>\n",
              "      <th>ppp_index</th>\n",
              "      <th>clean_name_SDtaxdata</th>\n",
              "      <th>address_merged</th>\n",
              "      <th>naics_sector_SDtaxdata</th>\n",
              "      <th>clean_name_PPPloandata</th>\n",
              "      <th>BorrowerAddress</th>\n",
              "      <th>naics_sector_PPPloandata</th>\n",
              "    </tr>\n",
              "  </thead>\n",
              "  <tbody>\n",
              "    <tr>\n",
              "      <th>0</th>\n",
              "      <td>5106</td>\n",
              "      <td>145118</td>\n",
              "      <td>ROBERT HOWES</td>\n",
              "      <td>1285  UNIVERSITY AVE</td>\n",
              "      <td>81</td>\n",
              "      <td>SCOOTER BREW INC</td>\n",
              "      <td>1458 UNIVERSITY AVE</td>\n",
              "      <td>72</td>\n",
              "    </tr>\n",
              "    <tr>\n",
              "      <th>1</th>\n",
              "      <td>48857</td>\n",
              "      <td>145118</td>\n",
              "      <td>SACRED WOMB MEDICINE</td>\n",
              "      <td>1286  UNIVERSITY AVE</td>\n",
              "      <td>45</td>\n",
              "      <td>SCOOTER BREW INC</td>\n",
              "      <td>1458 UNIVERSITY AVE</td>\n",
              "      <td>72</td>\n",
              "    </tr>\n",
              "    <tr>\n",
              "      <th>2</th>\n",
              "      <td>25503</td>\n",
              "      <td>149344</td>\n",
              "      <td>CHALLENGE ELECTRIC CORP</td>\n",
              "      <td>285  VERNON WAY</td>\n",
              "      <td>23</td>\n",
              "      <td>CHALLENGE ELECTRIC CORP</td>\n",
              "      <td>285 VERNON WAY</td>\n",
              "      <td>23</td>\n",
              "    </tr>\n",
              "    <tr>\n",
              "      <th>3</th>\n",
              "      <td>28646</td>\n",
              "      <td>88146</td>\n",
              "      <td>GEARY FLOORS INC</td>\n",
              "      <td>349 S MARSHALL AVE</td>\n",
              "      <td>23</td>\n",
              "      <td>GEARY FLOORS INC</td>\n",
              "      <td>349 S MARSHALL AVE</td>\n",
              "      <td>23</td>\n",
              "    </tr>\n",
              "    <tr>\n",
              "      <th>4</th>\n",
              "      <td>1699</td>\n",
              "      <td>97872</td>\n",
              "      <td>C &amp; M MOTORS INC</td>\n",
              "      <td>904  ROOSEVELT AVE</td>\n",
              "      <td>81</td>\n",
              "      <td>C&amp;M MOTORS INC</td>\n",
              "      <td>904 ROOSEVELT AVE</td>\n",
              "      <td>44</td>\n",
              "    </tr>\n",
              "    <tr>\n",
              "      <th>5</th>\n",
              "      <td>24478</td>\n",
              "      <td>41407</td>\n",
              "      <td>SPECTRA COMPANY INC</td>\n",
              "      <td>2510  SUPPLY ST</td>\n",
              "      <td>23</td>\n",
              "      <td>SPECTRA COMPANY</td>\n",
              "      <td>2510 SUPPLY ST</td>\n",
              "      <td>23</td>\n",
              "    </tr>\n",
              "    <tr>\n",
              "      <th>6</th>\n",
              "      <td>52357</td>\n",
              "      <td>41790</td>\n",
              "      <td>HAL HAYS CONSTRUCTION INC</td>\n",
              "      <td>4181  LATHAM ST</td>\n",
              "      <td>23</td>\n",
              "      <td>HAL HAYS CONSTRUCTION INC</td>\n",
              "      <td>4181 LATHAM ST</td>\n",
              "      <td>23</td>\n",
              "    </tr>\n",
              "  </tbody>\n",
              "</table>\n",
              "</div>"
            ],
            "text/plain": [
              "   sd_index  ppp_index  ...      BorrowerAddress naics_sector_PPPloandata\n",
              "0      5106     145118  ...  1458 UNIVERSITY AVE                       72\n",
              "1     48857     145118  ...  1458 UNIVERSITY AVE                       72\n",
              "2     25503     149344  ...       285 VERNON WAY                       23\n",
              "3     28646      88146  ...   349 S MARSHALL AVE                       23\n",
              "4      1699      97872  ...    904 ROOSEVELT AVE                       44\n",
              "5     24478      41407  ...       2510 SUPPLY ST                       23\n",
              "6     52357      41790  ...       4181 LATHAM ST                       23\n",
              "\n",
              "[7 rows x 8 columns]"
            ]
          },
          "metadata": {
            "tags": []
          },
          "execution_count": 19
        }
      ]
    },
    {
      "cell_type": "markdown",
      "metadata": {
        "id": "OZZ6Zgj61ik-"
      },
      "source": [
        "## Example of more manual versus more automatic way of concatenating address columns\n"
      ]
    },
    {
      "cell_type": "code",
      "metadata": {
        "colab": {
          "base_uri": "https://localhost:8080/",
          "height": 391
        },
        "id": "s3izJlgK1ik-",
        "outputId": "1c35320d-f9fb-4cc0-f02d-6462d981a056"
      },
      "source": [
        "\n",
        "## more manual way\n",
        "ppp['address_merged_manual'] = ppp.BorrowerAddress + \", \" + ppp.BorrowerCity + \", \" + ppp.BorrowerState + \", \" + ppp.BorrowerZip\n",
        "ppp[ppp_addcols + ['address_merged_manual']].head()\n",
        "\n",
        "### more automatic using agg and join\n",
        "ppp['address_merged_auto'] = ppp[ppp_addcols].agg(', '.join, axis=1)\n",
        "ppp[[\"address_merged_manual\", \"address_merged_auto\"]].head()"
      ],
      "execution_count": 21,
      "outputs": [
        {
          "output_type": "execute_result",
          "data": {
            "text/html": [
              "<div>\n",
              "<style scoped>\n",
              "    .dataframe tbody tr th:only-of-type {\n",
              "        vertical-align: middle;\n",
              "    }\n",
              "\n",
              "    .dataframe tbody tr th {\n",
              "        vertical-align: top;\n",
              "    }\n",
              "\n",
              "    .dataframe thead th {\n",
              "        text-align: right;\n",
              "    }\n",
              "</style>\n",
              "<table border=\"1\" class=\"dataframe\">\n",
              "  <thead>\n",
              "    <tr style=\"text-align: right;\">\n",
              "      <th></th>\n",
              "      <th>BorrowerAddress</th>\n",
              "      <th>BorrowerCity</th>\n",
              "      <th>BorrowerState</th>\n",
              "      <th>BorrowerZip</th>\n",
              "      <th>address_merged_manual</th>\n",
              "    </tr>\n",
              "  </thead>\n",
              "  <tbody>\n",
              "    <tr>\n",
              "      <th>35298</th>\n",
              "      <td>431 ISIS AVE</td>\n",
              "      <td>INGLEWOOD</td>\n",
              "      <td>CA</td>\n",
              "      <td>90301</td>\n",
              "      <td>431 ISIS AVE, INGLEWOOD, CA, 90301</td>\n",
              "    </tr>\n",
              "    <tr>\n",
              "      <th>35307</th>\n",
              "      <td>9242 LIGHTWAVE AVE STE 100</td>\n",
              "      <td>SAN DIEGO</td>\n",
              "      <td>CA</td>\n",
              "      <td>92123</td>\n",
              "      <td>9242 LIGHTWAVE AVE STE 100, SAN DIEGO, CA, 92123</td>\n",
              "    </tr>\n",
              "    <tr>\n",
              "      <th>35320</th>\n",
              "      <td>26460 CORPORATE AVE SUITE 250</td>\n",
              "      <td>HAYWARD</td>\n",
              "      <td>CA</td>\n",
              "      <td>94545</td>\n",
              "      <td>26460 CORPORATE AVE SUITE 250, HAYWARD, CA, 94545</td>\n",
              "    </tr>\n",
              "    <tr>\n",
              "      <th>35321</th>\n",
              "      <td>6400 OAK CANYON DRIVE, #200</td>\n",
              "      <td>IRVINE</td>\n",
              "      <td>CA</td>\n",
              "      <td>92618</td>\n",
              "      <td>6400 OAK CANYON DRIVE, #200, IRVINE, CA, 92618</td>\n",
              "    </tr>\n",
              "    <tr>\n",
              "      <th>35323</th>\n",
              "      <td>3708 RUFFIN RD</td>\n",
              "      <td>SAN DIEGO</td>\n",
              "      <td>CA</td>\n",
              "      <td>92123</td>\n",
              "      <td>3708 RUFFIN RD, SAN DIEGO, CA, 92123</td>\n",
              "    </tr>\n",
              "  </tbody>\n",
              "</table>\n",
              "</div>"
            ],
            "text/plain": [
              "                     BorrowerAddress  ...                              address_merged_manual\n",
              "35298                   431 ISIS AVE  ...                 431 ISIS AVE, INGLEWOOD, CA, 90301\n",
              "35307     9242 LIGHTWAVE AVE STE 100  ...   9242 LIGHTWAVE AVE STE 100, SAN DIEGO, CA, 92123\n",
              "35320  26460 CORPORATE AVE SUITE 250  ...  26460 CORPORATE AVE SUITE 250, HAYWARD, CA, 94545\n",
              "35321    6400 OAK CANYON DRIVE, #200  ...     6400 OAK CANYON DRIVE, #200, IRVINE, CA, 92618\n",
              "35323                 3708 RUFFIN RD  ...               3708 RUFFIN RD, SAN DIEGO, CA, 92123\n",
              "\n",
              "[5 rows x 5 columns]"
            ]
          },
          "metadata": {
            "tags": []
          },
          "execution_count": 21
        },
        {
          "output_type": "execute_result",
          "data": {
            "text/html": [
              "<div>\n",
              "<style scoped>\n",
              "    .dataframe tbody tr th:only-of-type {\n",
              "        vertical-align: middle;\n",
              "    }\n",
              "\n",
              "    .dataframe tbody tr th {\n",
              "        vertical-align: top;\n",
              "    }\n",
              "\n",
              "    .dataframe thead th {\n",
              "        text-align: right;\n",
              "    }\n",
              "</style>\n",
              "<table border=\"1\" class=\"dataframe\">\n",
              "  <thead>\n",
              "    <tr style=\"text-align: right;\">\n",
              "      <th></th>\n",
              "      <th>address_merged_manual</th>\n",
              "      <th>address_merged_auto</th>\n",
              "    </tr>\n",
              "  </thead>\n",
              "  <tbody>\n",
              "    <tr>\n",
              "      <th>35298</th>\n",
              "      <td>431 ISIS AVE, INGLEWOOD, CA, 90301</td>\n",
              "      <td>431 ISIS AVE, INGLEWOOD, CA, 90301</td>\n",
              "    </tr>\n",
              "    <tr>\n",
              "      <th>35307</th>\n",
              "      <td>9242 LIGHTWAVE AVE STE 100, SAN DIEGO, CA, 92123</td>\n",
              "      <td>9242 LIGHTWAVE AVE STE 100, SAN DIEGO, CA, 92123</td>\n",
              "    </tr>\n",
              "    <tr>\n",
              "      <th>35320</th>\n",
              "      <td>26460 CORPORATE AVE SUITE 250, HAYWARD, CA, 94545</td>\n",
              "      <td>26460 CORPORATE AVE SUITE 250, HAYWARD, CA, 94545</td>\n",
              "    </tr>\n",
              "    <tr>\n",
              "      <th>35321</th>\n",
              "      <td>6400 OAK CANYON DRIVE, #200, IRVINE, CA, 92618</td>\n",
              "      <td>6400 OAK CANYON DRIVE, #200, IRVINE, CA, 92618</td>\n",
              "    </tr>\n",
              "    <tr>\n",
              "      <th>35323</th>\n",
              "      <td>3708 RUFFIN RD, SAN DIEGO, CA, 92123</td>\n",
              "      <td>3708 RUFFIN RD, SAN DIEGO, CA, 92123</td>\n",
              "    </tr>\n",
              "  </tbody>\n",
              "</table>\n",
              "</div>"
            ],
            "text/plain": [
              "                                   address_merged_manual                                address_merged_auto\n",
              "35298                 431 ISIS AVE, INGLEWOOD, CA, 90301                 431 ISIS AVE, INGLEWOOD, CA, 90301\n",
              "35307   9242 LIGHTWAVE AVE STE 100, SAN DIEGO, CA, 92123   9242 LIGHTWAVE AVE STE 100, SAN DIEGO, CA, 92123\n",
              "35320  26460 CORPORATE AVE SUITE 250, HAYWARD, CA, 94545  26460 CORPORATE AVE SUITE 250, HAYWARD, CA, 94545\n",
              "35321     6400 OAK CANYON DRIVE, #200, IRVINE, CA, 92618     6400 OAK CANYON DRIVE, #200, IRVINE, CA, 92618\n",
              "35323               3708 RUFFIN RD, SAN DIEGO, CA, 92123               3708 RUFFIN RD, SAN DIEGO, CA, 92123"
            ]
          },
          "metadata": {
            "tags": []
          },
          "execution_count": 21
        }
      ]
    }
  ]
}