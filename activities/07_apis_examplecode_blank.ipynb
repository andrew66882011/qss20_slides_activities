{
  "nbformat": 4,
  "nbformat_minor": 0,
  "metadata": {
    "kernelspec": {
      "display_name": "Python 3",
      "language": "python",
      "name": "python3"
    },
    "language_info": {
      "codemirror_mode": {
        "name": "ipython",
        "version": 3
      },
      "file_extension": ".py",
      "mimetype": "text/x-python",
      "name": "python",
      "nbconvert_exporter": "python",
      "pygments_lexer": "ipython3",
      "version": "3.8.3"
    },
    "colab": {
      "name": "07_apis_examplecode_blank.ipynb",
      "provenance": [],
      "include_colab_link": true
    }
  },
  "cells": [
    {
      "cell_type": "markdown",
      "metadata": {
        "id": "view-in-github",
        "colab_type": "text"
      },
      "source": [
        "<a href=\"https://colab.research.google.com/github/andrew66882011/qss20_slides_activities/blob/main/activities/07_apis_examplecode_blank.ipynb\" target=\"_parent\"><img src=\"https://colab.research.google.com/assets/colab-badge.svg\" alt=\"Open In Colab\"/></a>"
      ]
    },
    {
      "cell_type": "code",
      "metadata": {
        "id": "3ijeswfD30vw"
      },
      "source": [
        "## imports\n",
        "import pandas as pd\n",
        "import numpy as np\n",
        "import re\n",
        "import requests\n",
        "import yaml\n",
        "\n",
        "\n",
        "## repeated printouts\n",
        "from IPython.core.interactiveshell import InteractiveShell\n",
        "InteractiveShell.ast_node_interactivity = \"all\""
      ],
      "execution_count": null,
      "outputs": []
    },
    {
      "cell_type": "markdown",
      "metadata": {
        "id": "qTib6z2R30vy"
      },
      "source": [
        "# Example 1: no credentials; no wrapper\n",
        "\n",
        "Site: National Assessment of Education Progress (NAEP)\n",
        "\n",
        "Documentation: https://www.nationsreportcard.gov/api_documentation.aspx\n",
        "\n",
        "Base link: https://www.nationsreportcard.gov/DataService/GetAdhocData.aspx "
      ]
    },
    {
      "cell_type": "markdown",
      "metadata": {
        "id": "uTIniW7N30vz"
      },
      "source": [
        "## Query returns something"
      ]
    },
    {
      "cell_type": "code",
      "metadata": {
        "id": "zAJGG-Or30vz",
        "outputId": "484fd242-bfd5-4e38-dad3-27127d6143b6"
      },
      "source": [
        "## using their example query of 2011 writing scores separated by gender\n",
        "## based on here - https://stackoverflow.com/questions/40836749/pythonic-way-of-writing-a-single-line-long-string\n",
        "## using the ( ) syntax to formulate a long\n",
        "## string without linebreaks added\n",
        "example_naep_query = (\n",
        "'https://www.nationsreportcard.gov/'\n",
        "'Dataservice/GetAdhocData.aspx?'\n",
        "'type=data&subject=writing&grade=8&'\n",
        "'subscale=WRIRP&variable=GENDER&jurisdiction=NP&stattype=MN:MN&Year=2011')\n",
        "\n",
        "\n",
        "example_naep_query\n"
      ],
      "execution_count": null,
      "outputs": [
        {
          "output_type": "execute_result",
          "data": {
            "text/plain": [
              "'https://www.nationsreportcard.gov/Dataservice/GetAdhocData.aspx?type=data&subject=writing&grade=8&subscale=WRIRP&variable=GENDER&jurisdiction=NP&stattype=MN:MN&Year=2011'"
            ]
          },
          "metadata": {
            "tags": []
          },
          "execution_count": 2
        }
      ]
    },
    {
      "cell_type": "code",
      "metadata": {
        "id": "UxVyb0fA30v1",
        "outputId": "1d38d833-f7be-4e23-b607-ed42dceec8a5"
      },
      "source": [
        "## use requests to call the api\n",
        "naep_resp = requests.get(example_naep_query)\n",
        "naep_resp\n",
        "print(type(naep_resp))\n",
        "\n",
        "## get the json contents of the response \n",
        "## here, we're assuming valid response\n",
        "naep_resp_j = naep_resp.json()\n",
        "naep_resp_j\n",
        "\n",
        "## with result, turn it into a dataframe\n",
        "naep_resp_d = pd.DataFrame(naep_resp_j['result'])\n",
        "naep_resp_d"
      ],
      "execution_count": null,
      "outputs": [
        {
          "output_type": "execute_result",
          "data": {
            "text/plain": [
              "<Response [200]>"
            ]
          },
          "metadata": {
            "tags": []
          },
          "execution_count": 3
        },
        {
          "output_type": "stream",
          "text": [
            "<class 'requests.models.Response'>\n"
          ],
          "name": "stdout"
        },
        {
          "output_type": "execute_result",
          "data": {
            "text/plain": [
              "{'status': 200,\n",
              " 'result': [{'year': 2011,\n",
              "   'sample': 'R3',\n",
              "   'yearSampleLabel': '2011',\n",
              "   'Cohort': 2,\n",
              "   'CohortLabel': 'Grade 8',\n",
              "   'stattype': 'MN:MN',\n",
              "   'subject': 'WRI',\n",
              "   'grade': 8,\n",
              "   'scale': 'WRIRP',\n",
              "   'jurisdiction': 'NP',\n",
              "   'variable': 'GENDER',\n",
              "   'variableLabel': 'Gender',\n",
              "   'varValue': '1',\n",
              "   'varValueLabel': 'Male',\n",
              "   'value': 139.099504632971,\n",
              "   'isStatDisplayable': 1,\n",
              "   'errorFlag': 0},\n",
              "  {'year': 2011,\n",
              "   'sample': 'R3',\n",
              "   'yearSampleLabel': '2011',\n",
              "   'Cohort': 2,\n",
              "   'CohortLabel': 'Grade 8',\n",
              "   'stattype': 'MN:MN',\n",
              "   'subject': 'WRI',\n",
              "   'grade': 8,\n",
              "   'scale': 'WRIRP',\n",
              "   'jurisdiction': 'NP',\n",
              "   'variable': 'GENDER',\n",
              "   'variableLabel': 'Gender',\n",
              "   'varValue': '2',\n",
              "   'varValueLabel': 'Female',\n",
              "   'value': 158.567104984955,\n",
              "   'isStatDisplayable': 1,\n",
              "   'errorFlag': 0}]}"
            ]
          },
          "metadata": {
            "tags": []
          },
          "execution_count": 3
        },
        {
          "output_type": "execute_result",
          "data": {
            "text/html": [
              "<div>\n",
              "<style scoped>\n",
              "    .dataframe tbody tr th:only-of-type {\n",
              "        vertical-align: middle;\n",
              "    }\n",
              "\n",
              "    .dataframe tbody tr th {\n",
              "        vertical-align: top;\n",
              "    }\n",
              "\n",
              "    .dataframe thead th {\n",
              "        text-align: right;\n",
              "    }\n",
              "</style>\n",
              "<table border=\"1\" class=\"dataframe\">\n",
              "  <thead>\n",
              "    <tr style=\"text-align: right;\">\n",
              "      <th></th>\n",
              "      <th>year</th>\n",
              "      <th>sample</th>\n",
              "      <th>yearSampleLabel</th>\n",
              "      <th>Cohort</th>\n",
              "      <th>CohortLabel</th>\n",
              "      <th>stattype</th>\n",
              "      <th>subject</th>\n",
              "      <th>grade</th>\n",
              "      <th>scale</th>\n",
              "      <th>jurisdiction</th>\n",
              "      <th>variable</th>\n",
              "      <th>variableLabel</th>\n",
              "      <th>varValue</th>\n",
              "      <th>varValueLabel</th>\n",
              "      <th>value</th>\n",
              "      <th>isStatDisplayable</th>\n",
              "      <th>errorFlag</th>\n",
              "    </tr>\n",
              "  </thead>\n",
              "  <tbody>\n",
              "    <tr>\n",
              "      <th>0</th>\n",
              "      <td>2011</td>\n",
              "      <td>R3</td>\n",
              "      <td>2011</td>\n",
              "      <td>2</td>\n",
              "      <td>Grade 8</td>\n",
              "      <td>MN:MN</td>\n",
              "      <td>WRI</td>\n",
              "      <td>8</td>\n",
              "      <td>WRIRP</td>\n",
              "      <td>NP</td>\n",
              "      <td>GENDER</td>\n",
              "      <td>Gender</td>\n",
              "      <td>1</td>\n",
              "      <td>Male</td>\n",
              "      <td>139.099505</td>\n",
              "      <td>1</td>\n",
              "      <td>0</td>\n",
              "    </tr>\n",
              "    <tr>\n",
              "      <th>1</th>\n",
              "      <td>2011</td>\n",
              "      <td>R3</td>\n",
              "      <td>2011</td>\n",
              "      <td>2</td>\n",
              "      <td>Grade 8</td>\n",
              "      <td>MN:MN</td>\n",
              "      <td>WRI</td>\n",
              "      <td>8</td>\n",
              "      <td>WRIRP</td>\n",
              "      <td>NP</td>\n",
              "      <td>GENDER</td>\n",
              "      <td>Gender</td>\n",
              "      <td>2</td>\n",
              "      <td>Female</td>\n",
              "      <td>158.567105</td>\n",
              "      <td>1</td>\n",
              "      <td>0</td>\n",
              "    </tr>\n",
              "  </tbody>\n",
              "</table>\n",
              "</div>"
            ],
            "text/plain": [
              "   year sample yearSampleLabel  Cohort CohortLabel stattype subject  grade  \\\n",
              "0  2011     R3            2011       2     Grade 8    MN:MN     WRI      8   \n",
              "1  2011     R3            2011       2     Grade 8    MN:MN     WRI      8   \n",
              "\n",
              "   scale jurisdiction variable variableLabel varValue varValueLabel  \\\n",
              "0  WRIRP           NP   GENDER        Gender        1          Male   \n",
              "1  WRIRP           NP   GENDER        Gender        2        Female   \n",
              "\n",
              "        value  isStatDisplayable  errorFlag  \n",
              "0  139.099505                  1          0  \n",
              "1  158.567105                  1          0  "
            ]
          },
          "metadata": {
            "tags": []
          },
          "execution_count": 3
        }
      ]
    },
    {
      "cell_type": "markdown",
      "metadata": {
        "id": "JajWO-b-30v2"
      },
      "source": [
        "## What happens if there's an error in our query?"
      ]
    },
    {
      "cell_type": "code",
      "metadata": {
        "id": "_3WnQXeY30v2",
        "outputId": "87e0342d-030e-4651-bc84-8d0a773f419b"
      },
      "source": [
        "## here's a query that from the documentation we know\n",
        "## won't work since i modified year to 2025 which doesnt\n",
        "## exist in the data\n",
        "wrong_naep_query = (\n",
        "'https://www.nationsreportcard.gov/'\n",
        "'Dataservice/GetAdhocData.aspx?'\n",
        "'type=data&subject=writing&grade=8&'\n",
        "'subscale=WRIRP&variable=GENDER&jurisdiction=NP&stattype=MN:MN&Year=2025')\n",
        "\n",
        "wrong_naep_query"
      ],
      "execution_count": null,
      "outputs": [
        {
          "output_type": "execute_result",
          "data": {
            "text/plain": [
              "'https://www.nationsreportcard.gov/Dataservice/GetAdhocData.aspx?type=data&subject=writing&grade=8&subscale=WRIRP&variable=GENDER&jurisdiction=NP&stattype=MN:MN&Year=2025'"
            ]
          },
          "metadata": {
            "tags": []
          },
          "execution_count": 4
        }
      ]
    },
    {
      "cell_type": "code",
      "metadata": {
        "id": "sMXUwVv230v3",
        "outputId": "2bba2bf1-b549-4c11-8c86-64f4aeab68dd"
      },
      "source": [
        "## use requests to call the api\n",
        "naep_wrong_resp = requests.get(wrong_naep_query)\n",
        "naep_wrong_resp\n",
        "\n",
        "## in the case of this particular api,\n",
        "## the call returns some response but\n",
        "## when we try to extract the json containing\n",
        "## status or results, we get in an error\n",
        "naep_wrong_resp.json()"
      ],
      "execution_count": null,
      "outputs": [
        {
          "output_type": "execute_result",
          "data": {
            "text/plain": [
              "<Response [200]>"
            ]
          },
          "metadata": {
            "tags": []
          },
          "execution_count": 5
        },
        {
          "output_type": "error",
          "ename": "JSONDecodeError",
          "evalue": "Invalid control character at: line 1 column 289 (char 288)",
          "traceback": [
            "\u001b[0;31m---------------------------------------------------------------------------\u001b[0m",
            "\u001b[0;31mJSONDecodeError\u001b[0m                           Traceback (most recent call last)",
            "\u001b[0;32m<ipython-input-5-d0ea52ff1436>\u001b[0m in \u001b[0;36m<module>\u001b[0;34m\u001b[0m\n\u001b[1;32m      7\u001b[0m \u001b[0;31m## when we try to extract the json containing\u001b[0m\u001b[0;34m\u001b[0m\u001b[0;34m\u001b[0m\u001b[0;34m\u001b[0m\u001b[0m\n\u001b[1;32m      8\u001b[0m \u001b[0;31m## status or results, we get in an error\u001b[0m\u001b[0;34m\u001b[0m\u001b[0;34m\u001b[0m\u001b[0;34m\u001b[0m\u001b[0m\n\u001b[0;32m----> 9\u001b[0;31m \u001b[0mnaep_wrong_resp\u001b[0m\u001b[0;34m.\u001b[0m\u001b[0mjson\u001b[0m\u001b[0;34m(\u001b[0m\u001b[0;34m)\u001b[0m\u001b[0;34m\u001b[0m\u001b[0;34m\u001b[0m\u001b[0m\n\u001b[0m",
            "\u001b[0;32m~/opt/anaconda3/lib/python3.8/site-packages/requests/models.py\u001b[0m in \u001b[0;36mjson\u001b[0;34m(self, **kwargs)\u001b[0m\n\u001b[1;32m    896\u001b[0m                     \u001b[0;31m# used.\u001b[0m\u001b[0;34m\u001b[0m\u001b[0;34m\u001b[0m\u001b[0;34m\u001b[0m\u001b[0m\n\u001b[1;32m    897\u001b[0m                     \u001b[0;32mpass\u001b[0m\u001b[0;34m\u001b[0m\u001b[0;34m\u001b[0m\u001b[0m\n\u001b[0;32m--> 898\u001b[0;31m         \u001b[0;32mreturn\u001b[0m \u001b[0mcomplexjson\u001b[0m\u001b[0;34m.\u001b[0m\u001b[0mloads\u001b[0m\u001b[0;34m(\u001b[0m\u001b[0mself\u001b[0m\u001b[0;34m.\u001b[0m\u001b[0mtext\u001b[0m\u001b[0;34m,\u001b[0m \u001b[0;34m**\u001b[0m\u001b[0mkwargs\u001b[0m\u001b[0;34m)\u001b[0m\u001b[0;34m\u001b[0m\u001b[0;34m\u001b[0m\u001b[0m\n\u001b[0m\u001b[1;32m    899\u001b[0m \u001b[0;34m\u001b[0m\u001b[0m\n\u001b[1;32m    900\u001b[0m     \u001b[0;34m@\u001b[0m\u001b[0mproperty\u001b[0m\u001b[0;34m\u001b[0m\u001b[0;34m\u001b[0m\u001b[0m\n",
            "\u001b[0;32m~/opt/anaconda3/lib/python3.8/json/__init__.py\u001b[0m in \u001b[0;36mloads\u001b[0;34m(s, cls, object_hook, parse_float, parse_int, parse_constant, object_pairs_hook, **kw)\u001b[0m\n\u001b[1;32m    355\u001b[0m             \u001b[0mparse_int\u001b[0m \u001b[0;32mis\u001b[0m \u001b[0;32mNone\u001b[0m \u001b[0;32mand\u001b[0m \u001b[0mparse_float\u001b[0m \u001b[0;32mis\u001b[0m \u001b[0;32mNone\u001b[0m \u001b[0;32mand\u001b[0m\u001b[0;34m\u001b[0m\u001b[0;34m\u001b[0m\u001b[0m\n\u001b[1;32m    356\u001b[0m             parse_constant is None and object_pairs_hook is None and not kw):\n\u001b[0;32m--> 357\u001b[0;31m         \u001b[0;32mreturn\u001b[0m \u001b[0m_default_decoder\u001b[0m\u001b[0;34m.\u001b[0m\u001b[0mdecode\u001b[0m\u001b[0;34m(\u001b[0m\u001b[0ms\u001b[0m\u001b[0;34m)\u001b[0m\u001b[0;34m\u001b[0m\u001b[0;34m\u001b[0m\u001b[0m\n\u001b[0m\u001b[1;32m    358\u001b[0m     \u001b[0;32mif\u001b[0m \u001b[0mcls\u001b[0m \u001b[0;32mis\u001b[0m \u001b[0;32mNone\u001b[0m\u001b[0;34m:\u001b[0m\u001b[0;34m\u001b[0m\u001b[0;34m\u001b[0m\u001b[0m\n\u001b[1;32m    359\u001b[0m         \u001b[0mcls\u001b[0m \u001b[0;34m=\u001b[0m \u001b[0mJSONDecoder\u001b[0m\u001b[0;34m\u001b[0m\u001b[0;34m\u001b[0m\u001b[0m\n",
            "\u001b[0;32m~/opt/anaconda3/lib/python3.8/json/decoder.py\u001b[0m in \u001b[0;36mdecode\u001b[0;34m(self, s, _w)\u001b[0m\n\u001b[1;32m    335\u001b[0m \u001b[0;34m\u001b[0m\u001b[0m\n\u001b[1;32m    336\u001b[0m         \"\"\"\n\u001b[0;32m--> 337\u001b[0;31m         \u001b[0mobj\u001b[0m\u001b[0;34m,\u001b[0m \u001b[0mend\u001b[0m \u001b[0;34m=\u001b[0m \u001b[0mself\u001b[0m\u001b[0;34m.\u001b[0m\u001b[0mraw_decode\u001b[0m\u001b[0;34m(\u001b[0m\u001b[0ms\u001b[0m\u001b[0;34m,\u001b[0m \u001b[0midx\u001b[0m\u001b[0;34m=\u001b[0m\u001b[0m_w\u001b[0m\u001b[0;34m(\u001b[0m\u001b[0ms\u001b[0m\u001b[0;34m,\u001b[0m \u001b[0;36m0\u001b[0m\u001b[0;34m)\u001b[0m\u001b[0;34m.\u001b[0m\u001b[0mend\u001b[0m\u001b[0;34m(\u001b[0m\u001b[0;34m)\u001b[0m\u001b[0;34m)\u001b[0m\u001b[0;34m\u001b[0m\u001b[0;34m\u001b[0m\u001b[0m\n\u001b[0m\u001b[1;32m    338\u001b[0m         \u001b[0mend\u001b[0m \u001b[0;34m=\u001b[0m \u001b[0m_w\u001b[0m\u001b[0;34m(\u001b[0m\u001b[0ms\u001b[0m\u001b[0;34m,\u001b[0m \u001b[0mend\u001b[0m\u001b[0;34m)\u001b[0m\u001b[0;34m.\u001b[0m\u001b[0mend\u001b[0m\u001b[0;34m(\u001b[0m\u001b[0;34m)\u001b[0m\u001b[0;34m\u001b[0m\u001b[0;34m\u001b[0m\u001b[0m\n\u001b[1;32m    339\u001b[0m         \u001b[0;32mif\u001b[0m \u001b[0mend\u001b[0m \u001b[0;34m!=\u001b[0m \u001b[0mlen\u001b[0m\u001b[0;34m(\u001b[0m\u001b[0ms\u001b[0m\u001b[0;34m)\u001b[0m\u001b[0;34m:\u001b[0m\u001b[0;34m\u001b[0m\u001b[0;34m\u001b[0m\u001b[0m\n",
            "\u001b[0;32m~/opt/anaconda3/lib/python3.8/json/decoder.py\u001b[0m in \u001b[0;36mraw_decode\u001b[0;34m(self, s, idx)\u001b[0m\n\u001b[1;32m    351\u001b[0m         \"\"\"\n\u001b[1;32m    352\u001b[0m         \u001b[0;32mtry\u001b[0m\u001b[0;34m:\u001b[0m\u001b[0;34m\u001b[0m\u001b[0;34m\u001b[0m\u001b[0m\n\u001b[0;32m--> 353\u001b[0;31m             \u001b[0mobj\u001b[0m\u001b[0;34m,\u001b[0m \u001b[0mend\u001b[0m \u001b[0;34m=\u001b[0m \u001b[0mself\u001b[0m\u001b[0;34m.\u001b[0m\u001b[0mscan_once\u001b[0m\u001b[0;34m(\u001b[0m\u001b[0ms\u001b[0m\u001b[0;34m,\u001b[0m \u001b[0midx\u001b[0m\u001b[0;34m)\u001b[0m\u001b[0;34m\u001b[0m\u001b[0;34m\u001b[0m\u001b[0m\n\u001b[0m\u001b[1;32m    354\u001b[0m         \u001b[0;32mexcept\u001b[0m \u001b[0mStopIteration\u001b[0m \u001b[0;32mas\u001b[0m \u001b[0merr\u001b[0m\u001b[0;34m:\u001b[0m\u001b[0;34m\u001b[0m\u001b[0;34m\u001b[0m\u001b[0m\n\u001b[1;32m    355\u001b[0m             \u001b[0;32mraise\u001b[0m \u001b[0mJSONDecodeError\u001b[0m\u001b[0;34m(\u001b[0m\u001b[0;34m\"Expecting value\"\u001b[0m\u001b[0;34m,\u001b[0m \u001b[0ms\u001b[0m\u001b[0;34m,\u001b[0m \u001b[0merr\u001b[0m\u001b[0;34m.\u001b[0m\u001b[0mvalue\u001b[0m\u001b[0;34m)\u001b[0m \u001b[0;32mfrom\u001b[0m \u001b[0;32mNone\u001b[0m\u001b[0;34m\u001b[0m\u001b[0;34m\u001b[0m\u001b[0m\n",
            "\u001b[0;31mJSONDecodeError\u001b[0m: Invalid control character at: line 1 column 289 (char 288)"
          ]
        }
      ]
    },
    {
      "cell_type": "markdown",
      "metadata": {
        "id": "X2y09qS-30v3"
      },
      "source": [
        "### More all-purpose way of allowing remainder of calls to run: try, except"
      ]
    },
    {
      "cell_type": "code",
      "metadata": {
        "id": "nZTOpJOK30v3"
      },
      "source": [
        "## putting it in a try; except as general error catching\n",
        "try:\n",
        "    results = naep_wrong_resp.json()['result']\n",
        "except:\n",
        "    pass"
      ],
      "execution_count": null,
      "outputs": []
    },
    {
      "cell_type": "markdown",
      "metadata": {
        "id": "XAFABE7J30v4"
      },
      "source": [
        "### Can usually also find more targeted way but that varies more across APIs"
      ]
    },
    {
      "cell_type": "code",
      "metadata": {
        "id": "lxrNsOX230v4",
        "outputId": "fe53005c-5e68-476b-8932-b1f2bcd55c9f"
      },
      "source": [
        "## if we wanted do more specific error catching,\n",
        "## see that the status == 400 actually appears here\n",
        "## so could write if else along thos elines\n",
        "naep_wrong_resp.text\n",
        "naep_resp.text\n",
        "\n",
        "if \"System.Exception\" in naep_wrong_resp.text:\n",
        "    print(\"NAEP results not found\")"
      ],
      "execution_count": null,
      "outputs": [
        {
          "output_type": "execute_result",
          "data": {
            "text/plain": [
              "'{\"status\":400,\"result\": \"System.Exception: The query \\'SELECT DISTINCT Framework FROM Cycles WHERE Subject=\\'WRI\\' AND Cohort=2 AND CONVERT(VARCHAR(10),Year)+Sample IN (\\'2025R3\\')\\' did not return exactly 1 framework. Make sure you can trend the years defined for the given subject and cohort.\\r\\n   at NRCDataService3.GetAdhocData.GetFramework(NDEContext& ndeContext, String subjectCode, List`1 yearSamples, String cohort) in C:\\\\projects\\\\ndecore2015\\\\NRCDataService2\\\\GetAdhocData.aspx.cs:line 1734\\r\\n   at NRCDataService3.GetAdhocData.PopulateBaseOrchestratorRequest() in C:\\\\projects\\\\ndecore2015\\\\NRCDataService2\\\\GetAdhocData.aspx.cs:line 1495\\r\\n   at NRCDataService3.GetAdhocData.ConstructRequest_Datapoint() in C:\\\\projects\\\\ndecore2015\\\\NRCDataService2\\\\GetAdhocData.aspx.cs:line 482\\r\\n   at NRCDataService3.GetAdhocData.Page_Load(Object sender, EventArgs e) in C:\\\\projects\\\\ndecore2015\\\\NRCDataService2\\\\GetAdhocData.aspx.cs:line 136\"}'"
            ]
          },
          "metadata": {
            "tags": []
          },
          "execution_count": 8
        },
        {
          "output_type": "execute_result",
          "data": {
            "text/plain": [
              "'{\"status\":200,\"result\": [{\"year\":2011,\"sample\":\"R3\",\"yearSampleLabel\":\"2011\",\"Cohort\":2,\"CohortLabel\":\"Grade 8\",\"stattype\":\"MN:MN\",\"subject\":\"WRI\",\"grade\":8,\"scale\":\"WRIRP\",\"jurisdiction\":\"NP\",\"variable\":\"GENDER\",\"variableLabel\":\"Gender\",\"varValue\":\"1\",\"varValueLabel\":\"Male\",\"value\":139.099504632971,\"isStatDisplayable\":1,\"errorFlag\":0},{\"year\":2011,\"sample\":\"R3\",\"yearSampleLabel\":\"2011\",\"Cohort\":2,\"CohortLabel\":\"Grade 8\",\"stattype\":\"MN:MN\",\"subject\":\"WRI\",\"grade\":8,\"scale\":\"WRIRP\",\"jurisdiction\":\"NP\",\"variable\":\"GENDER\",\"variableLabel\":\"Gender\",\"varValue\":\"2\",\"varValueLabel\":\"Female\",\"value\":158.567104984955,\"isStatDisplayable\":1,\"errorFlag\":0}]}'"
            ]
          },
          "metadata": {
            "tags": []
          },
          "execution_count": 8
        },
        {
          "output_type": "stream",
          "text": [
            "NAEP results not found\n"
          ],
          "name": "stdout"
        }
      ]
    },
    {
      "cell_type": "markdown",
      "metadata": {
        "id": "NSUZaf2-30v5"
      },
      "source": [
        "## Writing a function to make multiple, sequential calls\n",
        "\n",
        "- Say we want to pull the data for grades 4, 8, and 12\n",
        "- How can we write a function that iterates over a list of those grades and pulls the data for each grade?\n",
        "\n",
        "**Note**: an ideal function would have arguments for each parameter in the API like subject, subscale, etc. Here we can leave those other parts constant"
      ]
    },
    {
      "cell_type": "code",
      "metadata": {
        "id": "xtqjWYA230v5"
      },
      "source": [
        "\n",
        "\n",
        "\n"
      ],
      "execution_count": null,
      "outputs": []
    },
    {
      "cell_type": "markdown",
      "metadata": {
        "id": "sE9ao0e830v5"
      },
      "source": [
        "# Example 2: needs credentials; no wrapper"
      ]
    },
    {
      "cell_type": "code",
      "metadata": {
        "id": "LPs20nPd30v5"
      },
      "source": [
        "## load creds\n",
        "with open(\"../private_data/my_cred.yaml\", 'r') as stream:\n",
        "    try:\n",
        "        creds = yaml.safe_load(stream)\n",
        "    except yaml.YAMLError as exc:\n",
        "        print(exc)\n",
        "\n",
        "## get the key\n",
        "API_KEY = creds['yelp_api']['api_key']"
      ],
      "execution_count": null,
      "outputs": []
    },
    {
      "cell_type": "code",
      "metadata": {
        "id": "87mPq4_w30v6",
        "outputId": "50671fd2-b56b-45a8-83ab-57969b2d1a14"
      },
      "source": [
        "## use documentation to define what to search\n",
        "## doc: https://www.yelp.com/developers/documentation/v3/business_search\n",
        "## write the query \n",
        "base_url = \"https://api.yelp.com/v3/businesses/search?\"\n",
        "my_name = \"restaurants\"\n",
        "my_location = \"Hanover,NH,03755\"\n",
        "yelp_genquery = ('{base_url}'\n",
        "                'term={name}'\n",
        "                '&location={loc}').format(base_url = base_url,\n",
        "                name = my_name,\n",
        "                loc = my_location)\n",
        "\n",
        "## use requests to call the API; here, we're\n",
        "## passing it our credentials (structure varies\n",
        "## by API and telling it to only return 10 results\n",
        "## (max is 50 at once)\n",
        "header = {'Authorization': f\"Bearer {API_KEY}\"}\n",
        "yelp_genresp = requests.get(yelp_genquery, headers = header)\n",
        "yelp_genresp\n",
        "\n",
        "## then, look at structure of response\n",
        "yelp_genjson = yelp_genresp.json()\n"
      ],
      "execution_count": null,
      "outputs": [
        {
          "output_type": "execute_result",
          "data": {
            "text/plain": [
              "<Response [200]>"
            ]
          },
          "metadata": {
            "tags": []
          },
          "execution_count": 10
        }
      ]
    },
    {
      "cell_type": "code",
      "metadata": {
        "id": "xjc4dmPt30v6",
        "outputId": "5c226056-28fa-4ab5-a187-a1c29f299eb4"
      },
      "source": [
        "## example business\n",
        "yelp_genjson['businesses'][0]\n",
        "\n",
        "## more automatic way of summarizing but things end up in lists\n",
        "## within columns for things like categories\n",
        "yelp_gendf = pd.DataFrame(yelp_genjson['businesses'])\n",
        "yelp_gendf.head()"
      ],
      "execution_count": null,
      "outputs": [
        {
          "output_type": "execute_result",
          "data": {
            "text/plain": [
              "{'id': '8ybF6YyRldtZmU9jil4xlg',\n",
              " 'alias': 'mollys-restaurant-and-bar-hanover',\n",
              " 'name': \"Molly's Restaurant & Bar\",\n",
              " 'image_url': 'https://s3-media2.fl.yelpcdn.com/bphoto/1YkJFic4Czt9b2FsZyOrwQ/o.jpg',\n",
              " 'is_closed': False,\n",
              " 'url': 'https://www.yelp.com/biz/mollys-restaurant-and-bar-hanover?adjust_creative=ABQTB3e9fTiSiyqs0c-3Bg&utm_campaign=yelp_api_v3&utm_medium=api_v3_business_search&utm_source=ABQTB3e9fTiSiyqs0c-3Bg',\n",
              " 'review_count': 403,\n",
              " 'categories': [{'alias': 'tradamerican', 'title': 'American (Traditional)'},\n",
              "  {'alias': 'burgers', 'title': 'Burgers'},\n",
              "  {'alias': 'pizza', 'title': 'Pizza'}],\n",
              " 'rating': 4.0,\n",
              " 'coordinates': {'latitude': 43.701144, 'longitude': -72.2894249},\n",
              " 'transactions': ['delivery'],\n",
              " 'price': '$$',\n",
              " 'location': {'address1': '43 South Main St',\n",
              "  'address2': '',\n",
              "  'address3': '',\n",
              "  'city': 'Hanover',\n",
              "  'zip_code': '03755',\n",
              "  'country': 'US',\n",
              "  'state': 'NH',\n",
              "  'display_address': ['43 South Main St', 'Hanover, NH 03755']},\n",
              " 'phone': '+16036432570',\n",
              " 'display_phone': '(603) 643-2570',\n",
              " 'distance': 250.8301601841674}"
            ]
          },
          "metadata": {
            "tags": []
          },
          "execution_count": 14
        },
        {
          "output_type": "execute_result",
          "data": {
            "text/html": [
              "<div>\n",
              "<style scoped>\n",
              "    .dataframe tbody tr th:only-of-type {\n",
              "        vertical-align: middle;\n",
              "    }\n",
              "\n",
              "    .dataframe tbody tr th {\n",
              "        vertical-align: top;\n",
              "    }\n",
              "\n",
              "    .dataframe thead th {\n",
              "        text-align: right;\n",
              "    }\n",
              "</style>\n",
              "<table border=\"1\" class=\"dataframe\">\n",
              "  <thead>\n",
              "    <tr style=\"text-align: right;\">\n",
              "      <th></th>\n",
              "      <th>id</th>\n",
              "      <th>alias</th>\n",
              "      <th>name</th>\n",
              "      <th>image_url</th>\n",
              "      <th>is_closed</th>\n",
              "      <th>url</th>\n",
              "      <th>review_count</th>\n",
              "      <th>categories</th>\n",
              "      <th>rating</th>\n",
              "      <th>coordinates</th>\n",
              "      <th>transactions</th>\n",
              "      <th>price</th>\n",
              "      <th>location</th>\n",
              "      <th>phone</th>\n",
              "      <th>display_phone</th>\n",
              "      <th>distance</th>\n",
              "    </tr>\n",
              "  </thead>\n",
              "  <tbody>\n",
              "    <tr>\n",
              "      <th>0</th>\n",
              "      <td>8ybF6YyRldtZmU9jil4xlg</td>\n",
              "      <td>mollys-restaurant-and-bar-hanover</td>\n",
              "      <td>Molly's Restaurant &amp; Bar</td>\n",
              "      <td>https://s3-media2.fl.yelpcdn.com/bphoto/1YkJFi...</td>\n",
              "      <td>False</td>\n",
              "      <td>https://www.yelp.com/biz/mollys-restaurant-and...</td>\n",
              "      <td>403</td>\n",
              "      <td>[{'alias': 'tradamerican', 'title': 'American ...</td>\n",
              "      <td>4.0</td>\n",
              "      <td>{'latitude': 43.701144, 'longitude': -72.2894249}</td>\n",
              "      <td>[delivery]</td>\n",
              "      <td>$$</td>\n",
              "      <td>{'address1': '43 South Main St', 'address2': '...</td>\n",
              "      <td>+16036432570</td>\n",
              "      <td>(603) 643-2570</td>\n",
              "      <td>250.830160</td>\n",
              "    </tr>\n",
              "    <tr>\n",
              "      <th>1</th>\n",
              "      <td>XVGEEIH5rVB2QzW-qywcJw</td>\n",
              "      <td>base-camp-cafe-hanover</td>\n",
              "      <td>Base Camp Cafe</td>\n",
              "      <td>https://s3-media2.fl.yelpcdn.com/bphoto/jpAl7T...</td>\n",
              "      <td>False</td>\n",
              "      <td>https://www.yelp.com/biz/base-camp-cafe-hanove...</td>\n",
              "      <td>186</td>\n",
              "      <td>[{'alias': 'himalayan', 'title': 'Himalayan/Ne...</td>\n",
              "      <td>4.5</td>\n",
              "      <td>{'latitude': 43.700626, 'longitude': -72.2887803}</td>\n",
              "      <td>[delivery]</td>\n",
              "      <td>$$</td>\n",
              "      <td>{'address1': '3 Lebanon St', 'address2': 'Ste ...</td>\n",
              "      <td>+16036432007</td>\n",
              "      <td>(603) 643-2007</td>\n",
              "      <td>196.139758</td>\n",
              "    </tr>\n",
              "    <tr>\n",
              "      <th>2</th>\n",
              "      <td>KA8yhrd-ClVYMyOefXdVYg</td>\n",
              "      <td>lous-restaurant-and-bakery-hanover</td>\n",
              "      <td>Lou's Restaurant &amp; Bakery</td>\n",
              "      <td>https://s3-media1.fl.yelpcdn.com/bphoto/QCIlbB...</td>\n",
              "      <td>False</td>\n",
              "      <td>https://www.yelp.com/biz/lous-restaurant-and-b...</td>\n",
              "      <td>265</td>\n",
              "      <td>[{'alias': 'tradamerican', 'title': 'American ...</td>\n",
              "      <td>4.0</td>\n",
              "      <td>{'latitude': 43.70143, 'longitude': -72.289001}</td>\n",
              "      <td>[delivery]</td>\n",
              "      <td>$$</td>\n",
              "      <td>{'address1': '30 S Main St', 'address2': '', '...</td>\n",
              "      <td>+16036433321</td>\n",
              "      <td>(603) 643-3321</td>\n",
              "      <td>244.977210</td>\n",
              "    </tr>\n",
              "    <tr>\n",
              "      <th>3</th>\n",
              "      <td>WFvBi7bA6JZ-rMzm2Ipa_g</td>\n",
              "      <td>candela-tapas-lounge-hanover</td>\n",
              "      <td>Candela Tapas Lounge</td>\n",
              "      <td>https://s3-media1.fl.yelpcdn.com/bphoto/7sd_y_...</td>\n",
              "      <td>False</td>\n",
              "      <td>https://www.yelp.com/biz/candela-tapas-lounge-...</td>\n",
              "      <td>69</td>\n",
              "      <td>[{'alias': 'lounges', 'title': 'Lounges'}, {'a...</td>\n",
              "      <td>4.0</td>\n",
              "      <td>{'latitude': 43.70076, 'longitude': -72.287631...</td>\n",
              "      <td>[pickup]</td>\n",
              "      <td>$$$</td>\n",
              "      <td>{'address1': '15 Lebanon St', 'address2': '', ...</td>\n",
              "      <td>+16032779094</td>\n",
              "      <td>(603) 277-9094</td>\n",
              "      <td>103.183327</td>\n",
              "    </tr>\n",
              "    <tr>\n",
              "      <th>4</th>\n",
              "      <td>vMyN7JL5cJExJORgIobbQg</td>\n",
              "      <td>tuk-tuk-thai-cuisine-hanover</td>\n",
              "      <td>Tuk Tuk Thai Cuisine</td>\n",
              "      <td>https://s3-media2.fl.yelpcdn.com/bphoto/Aanb8l...</td>\n",
              "      <td>False</td>\n",
              "      <td>https://www.yelp.com/biz/tuk-tuk-thai-cuisine-...</td>\n",
              "      <td>239</td>\n",
              "      <td>[{'alias': 'thai', 'title': 'Thai'}]</td>\n",
              "      <td>4.5</td>\n",
              "      <td>{'latitude': 43.70202, 'longitude': -72.28953}</td>\n",
              "      <td>[delivery]</td>\n",
              "      <td>$$</td>\n",
              "      <td>{'address1': '5 S Main St', 'address2': '', 'a...</td>\n",
              "      <td>+16032779192</td>\n",
              "      <td>(603) 277-9192</td>\n",
              "      <td>296.877658</td>\n",
              "    </tr>\n",
              "  </tbody>\n",
              "</table>\n",
              "</div>"
            ],
            "text/plain": [
              "                       id                               alias  \\\n",
              "0  8ybF6YyRldtZmU9jil4xlg   mollys-restaurant-and-bar-hanover   \n",
              "1  XVGEEIH5rVB2QzW-qywcJw              base-camp-cafe-hanover   \n",
              "2  KA8yhrd-ClVYMyOefXdVYg  lous-restaurant-and-bakery-hanover   \n",
              "3  WFvBi7bA6JZ-rMzm2Ipa_g        candela-tapas-lounge-hanover   \n",
              "4  vMyN7JL5cJExJORgIobbQg        tuk-tuk-thai-cuisine-hanover   \n",
              "\n",
              "                        name  \\\n",
              "0   Molly's Restaurant & Bar   \n",
              "1             Base Camp Cafe   \n",
              "2  Lou's Restaurant & Bakery   \n",
              "3       Candela Tapas Lounge   \n",
              "4       Tuk Tuk Thai Cuisine   \n",
              "\n",
              "                                           image_url  is_closed  \\\n",
              "0  https://s3-media2.fl.yelpcdn.com/bphoto/1YkJFi...      False   \n",
              "1  https://s3-media2.fl.yelpcdn.com/bphoto/jpAl7T...      False   \n",
              "2  https://s3-media1.fl.yelpcdn.com/bphoto/QCIlbB...      False   \n",
              "3  https://s3-media1.fl.yelpcdn.com/bphoto/7sd_y_...      False   \n",
              "4  https://s3-media2.fl.yelpcdn.com/bphoto/Aanb8l...      False   \n",
              "\n",
              "                                                 url  review_count  \\\n",
              "0  https://www.yelp.com/biz/mollys-restaurant-and...           403   \n",
              "1  https://www.yelp.com/biz/base-camp-cafe-hanove...           186   \n",
              "2  https://www.yelp.com/biz/lous-restaurant-and-b...           265   \n",
              "3  https://www.yelp.com/biz/candela-tapas-lounge-...            69   \n",
              "4  https://www.yelp.com/biz/tuk-tuk-thai-cuisine-...           239   \n",
              "\n",
              "                                          categories  rating  \\\n",
              "0  [{'alias': 'tradamerican', 'title': 'American ...     4.0   \n",
              "1  [{'alias': 'himalayan', 'title': 'Himalayan/Ne...     4.5   \n",
              "2  [{'alias': 'tradamerican', 'title': 'American ...     4.0   \n",
              "3  [{'alias': 'lounges', 'title': 'Lounges'}, {'a...     4.0   \n",
              "4               [{'alias': 'thai', 'title': 'Thai'}]     4.5   \n",
              "\n",
              "                                         coordinates transactions price  \\\n",
              "0  {'latitude': 43.701144, 'longitude': -72.2894249}   [delivery]    $$   \n",
              "1  {'latitude': 43.700626, 'longitude': -72.2887803}   [delivery]    $$   \n",
              "2    {'latitude': 43.70143, 'longitude': -72.289001}   [delivery]    $$   \n",
              "3  {'latitude': 43.70076, 'longitude': -72.287631...     [pickup]   $$$   \n",
              "4     {'latitude': 43.70202, 'longitude': -72.28953}   [delivery]    $$   \n",
              "\n",
              "                                            location         phone  \\\n",
              "0  {'address1': '43 South Main St', 'address2': '...  +16036432570   \n",
              "1  {'address1': '3 Lebanon St', 'address2': 'Ste ...  +16036432007   \n",
              "2  {'address1': '30 S Main St', 'address2': '', '...  +16036433321   \n",
              "3  {'address1': '15 Lebanon St', 'address2': '', ...  +16032779094   \n",
              "4  {'address1': '5 S Main St', 'address2': '', 'a...  +16032779192   \n",
              "\n",
              "    display_phone    distance  \n",
              "0  (603) 643-2570  250.830160  \n",
              "1  (603) 643-2007  196.139758  \n",
              "2  (603) 643-3321  244.977210  \n",
              "3  (603) 277-9094  103.183327  \n",
              "4  (603) 277-9192  296.877658  "
            ]
          },
          "metadata": {
            "tags": []
          },
          "execution_count": 14
        }
      ]
    },
    {
      "cell_type": "code",
      "metadata": {
        "id": "-KvCKvgc30v7",
        "outputId": "51ee71e7-517f-4aab-e66d-fbda0f4997ea"
      },
      "source": [
        "## more data-specific way of summarizing\n",
        "## we're doing a simple approach and just retaining\n",
        "## cols that have a simple str structure\n",
        "## if doing for real, would want to extract things\n",
        "def clean_yelp_json(one_biz):\n",
        "\n",
        "    ## restrict to str cols\n",
        "    d_str = {key:value for key, value in one_biz.items() if type(value) == str}\n",
        "    \n",
        "    df_str = pd.DataFrame(d_str, index = [d_str['id']])\n",
        "    return(df_str)\n",
        "\n",
        "yelp_stronly = [clean_yelp_json(one_b) for one_b in yelp_genjson['businesses']]\n",
        "yelp_stronly_df = pd.concat(yelp_stronly)\n",
        "\n",
        "yelp_stronly_df.head(7)\n"
      ],
      "execution_count": null,
      "outputs": [
        {
          "output_type": "execute_result",
          "data": {
            "text/html": [
              "<div>\n",
              "<style scoped>\n",
              "    .dataframe tbody tr th:only-of-type {\n",
              "        vertical-align: middle;\n",
              "    }\n",
              "\n",
              "    .dataframe tbody tr th {\n",
              "        vertical-align: top;\n",
              "    }\n",
              "\n",
              "    .dataframe thead th {\n",
              "        text-align: right;\n",
              "    }\n",
              "</style>\n",
              "<table border=\"1\" class=\"dataframe\">\n",
              "  <thead>\n",
              "    <tr style=\"text-align: right;\">\n",
              "      <th></th>\n",
              "      <th>id</th>\n",
              "      <th>alias</th>\n",
              "      <th>name</th>\n",
              "      <th>image_url</th>\n",
              "      <th>url</th>\n",
              "      <th>price</th>\n",
              "      <th>phone</th>\n",
              "      <th>display_phone</th>\n",
              "    </tr>\n",
              "  </thead>\n",
              "  <tbody>\n",
              "    <tr>\n",
              "      <th>8ybF6YyRldtZmU9jil4xlg</th>\n",
              "      <td>8ybF6YyRldtZmU9jil4xlg</td>\n",
              "      <td>mollys-restaurant-and-bar-hanover</td>\n",
              "      <td>Molly's Restaurant &amp; Bar</td>\n",
              "      <td>https://s3-media2.fl.yelpcdn.com/bphoto/1YkJFi...</td>\n",
              "      <td>https://www.yelp.com/biz/mollys-restaurant-and...</td>\n",
              "      <td>$$</td>\n",
              "      <td>+16036432570</td>\n",
              "      <td>(603) 643-2570</td>\n",
              "    </tr>\n",
              "    <tr>\n",
              "      <th>XVGEEIH5rVB2QzW-qywcJw</th>\n",
              "      <td>XVGEEIH5rVB2QzW-qywcJw</td>\n",
              "      <td>base-camp-cafe-hanover</td>\n",
              "      <td>Base Camp Cafe</td>\n",
              "      <td>https://s3-media2.fl.yelpcdn.com/bphoto/jpAl7T...</td>\n",
              "      <td>https://www.yelp.com/biz/base-camp-cafe-hanove...</td>\n",
              "      <td>$$</td>\n",
              "      <td>+16036432007</td>\n",
              "      <td>(603) 643-2007</td>\n",
              "    </tr>\n",
              "    <tr>\n",
              "      <th>KA8yhrd-ClVYMyOefXdVYg</th>\n",
              "      <td>KA8yhrd-ClVYMyOefXdVYg</td>\n",
              "      <td>lous-restaurant-and-bakery-hanover</td>\n",
              "      <td>Lou's Restaurant &amp; Bakery</td>\n",
              "      <td>https://s3-media1.fl.yelpcdn.com/bphoto/QCIlbB...</td>\n",
              "      <td>https://www.yelp.com/biz/lous-restaurant-and-b...</td>\n",
              "      <td>$$</td>\n",
              "      <td>+16036433321</td>\n",
              "      <td>(603) 643-3321</td>\n",
              "    </tr>\n",
              "    <tr>\n",
              "      <th>WFvBi7bA6JZ-rMzm2Ipa_g</th>\n",
              "      <td>WFvBi7bA6JZ-rMzm2Ipa_g</td>\n",
              "      <td>candela-tapas-lounge-hanover</td>\n",
              "      <td>Candela Tapas Lounge</td>\n",
              "      <td>https://s3-media1.fl.yelpcdn.com/bphoto/7sd_y_...</td>\n",
              "      <td>https://www.yelp.com/biz/candela-tapas-lounge-...</td>\n",
              "      <td>$$$</td>\n",
              "      <td>+16032779094</td>\n",
              "      <td>(603) 277-9094</td>\n",
              "    </tr>\n",
              "    <tr>\n",
              "      <th>vMyN7JL5cJExJORgIobbQg</th>\n",
              "      <td>vMyN7JL5cJExJORgIobbQg</td>\n",
              "      <td>tuk-tuk-thai-cuisine-hanover</td>\n",
              "      <td>Tuk Tuk Thai Cuisine</td>\n",
              "      <td>https://s3-media2.fl.yelpcdn.com/bphoto/Aanb8l...</td>\n",
              "      <td>https://www.yelp.com/biz/tuk-tuk-thai-cuisine-...</td>\n",
              "      <td>$$</td>\n",
              "      <td>+16032779192</td>\n",
              "      <td>(603) 277-9192</td>\n",
              "    </tr>\n",
              "    <tr>\n",
              "      <th>34j_2nRCVQBTKafJvncZlg</th>\n",
              "      <td>34j_2nRCVQBTKafJvncZlg</td>\n",
              "      <td>pine-restaurant-hanover-2</td>\n",
              "      <td>PINE Restaurant</td>\n",
              "      <td>https://s3-media1.fl.yelpcdn.com/bphoto/zWSReI...</td>\n",
              "      <td>https://www.yelp.com/biz/pine-restaurant-hanov...</td>\n",
              "      <td>$$$</td>\n",
              "      <td>+16036468000</td>\n",
              "      <td>(603) 646-8000</td>\n",
              "    </tr>\n",
              "    <tr>\n",
              "      <th>neBEWvgHNhsXIBImCYx_6A</th>\n",
              "      <td>neBEWvgHNhsXIBImCYx_6A</td>\n",
              "      <td>murphys-on-the-green-hanover</td>\n",
              "      <td>Murphy's On the Green</td>\n",
              "      <td>https://s3-media1.fl.yelpcdn.com/bphoto/wv3hxs...</td>\n",
              "      <td>https://www.yelp.com/biz/murphys-on-the-green-...</td>\n",
              "      <td>$$</td>\n",
              "      <td>+16036434075</td>\n",
              "      <td>(603) 643-4075</td>\n",
              "    </tr>\n",
              "  </tbody>\n",
              "</table>\n",
              "</div>"
            ],
            "text/plain": [
              "                                            id  \\\n",
              "8ybF6YyRldtZmU9jil4xlg  8ybF6YyRldtZmU9jil4xlg   \n",
              "XVGEEIH5rVB2QzW-qywcJw  XVGEEIH5rVB2QzW-qywcJw   \n",
              "KA8yhrd-ClVYMyOefXdVYg  KA8yhrd-ClVYMyOefXdVYg   \n",
              "WFvBi7bA6JZ-rMzm2Ipa_g  WFvBi7bA6JZ-rMzm2Ipa_g   \n",
              "vMyN7JL5cJExJORgIobbQg  vMyN7JL5cJExJORgIobbQg   \n",
              "34j_2nRCVQBTKafJvncZlg  34j_2nRCVQBTKafJvncZlg   \n",
              "neBEWvgHNhsXIBImCYx_6A  neBEWvgHNhsXIBImCYx_6A   \n",
              "\n",
              "                                                     alias  \\\n",
              "8ybF6YyRldtZmU9jil4xlg   mollys-restaurant-and-bar-hanover   \n",
              "XVGEEIH5rVB2QzW-qywcJw              base-camp-cafe-hanover   \n",
              "KA8yhrd-ClVYMyOefXdVYg  lous-restaurant-and-bakery-hanover   \n",
              "WFvBi7bA6JZ-rMzm2Ipa_g        candela-tapas-lounge-hanover   \n",
              "vMyN7JL5cJExJORgIobbQg        tuk-tuk-thai-cuisine-hanover   \n",
              "34j_2nRCVQBTKafJvncZlg           pine-restaurant-hanover-2   \n",
              "neBEWvgHNhsXIBImCYx_6A        murphys-on-the-green-hanover   \n",
              "\n",
              "                                             name  \\\n",
              "8ybF6YyRldtZmU9jil4xlg   Molly's Restaurant & Bar   \n",
              "XVGEEIH5rVB2QzW-qywcJw             Base Camp Cafe   \n",
              "KA8yhrd-ClVYMyOefXdVYg  Lou's Restaurant & Bakery   \n",
              "WFvBi7bA6JZ-rMzm2Ipa_g       Candela Tapas Lounge   \n",
              "vMyN7JL5cJExJORgIobbQg       Tuk Tuk Thai Cuisine   \n",
              "34j_2nRCVQBTKafJvncZlg            PINE Restaurant   \n",
              "neBEWvgHNhsXIBImCYx_6A      Murphy's On the Green   \n",
              "\n",
              "                                                                image_url  \\\n",
              "8ybF6YyRldtZmU9jil4xlg  https://s3-media2.fl.yelpcdn.com/bphoto/1YkJFi...   \n",
              "XVGEEIH5rVB2QzW-qywcJw  https://s3-media2.fl.yelpcdn.com/bphoto/jpAl7T...   \n",
              "KA8yhrd-ClVYMyOefXdVYg  https://s3-media1.fl.yelpcdn.com/bphoto/QCIlbB...   \n",
              "WFvBi7bA6JZ-rMzm2Ipa_g  https://s3-media1.fl.yelpcdn.com/bphoto/7sd_y_...   \n",
              "vMyN7JL5cJExJORgIobbQg  https://s3-media2.fl.yelpcdn.com/bphoto/Aanb8l...   \n",
              "34j_2nRCVQBTKafJvncZlg  https://s3-media1.fl.yelpcdn.com/bphoto/zWSReI...   \n",
              "neBEWvgHNhsXIBImCYx_6A  https://s3-media1.fl.yelpcdn.com/bphoto/wv3hxs...   \n",
              "\n",
              "                                                                      url  \\\n",
              "8ybF6YyRldtZmU9jil4xlg  https://www.yelp.com/biz/mollys-restaurant-and...   \n",
              "XVGEEIH5rVB2QzW-qywcJw  https://www.yelp.com/biz/base-camp-cafe-hanove...   \n",
              "KA8yhrd-ClVYMyOefXdVYg  https://www.yelp.com/biz/lous-restaurant-and-b...   \n",
              "WFvBi7bA6JZ-rMzm2Ipa_g  https://www.yelp.com/biz/candela-tapas-lounge-...   \n",
              "vMyN7JL5cJExJORgIobbQg  https://www.yelp.com/biz/tuk-tuk-thai-cuisine-...   \n",
              "34j_2nRCVQBTKafJvncZlg  https://www.yelp.com/biz/pine-restaurant-hanov...   \n",
              "neBEWvgHNhsXIBImCYx_6A  https://www.yelp.com/biz/murphys-on-the-green-...   \n",
              "\n",
              "                       price         phone   display_phone  \n",
              "8ybF6YyRldtZmU9jil4xlg    $$  +16036432570  (603) 643-2570  \n",
              "XVGEEIH5rVB2QzW-qywcJw    $$  +16036432007  (603) 643-2007  \n",
              "KA8yhrd-ClVYMyOefXdVYg    $$  +16036433321  (603) 643-3321  \n",
              "WFvBi7bA6JZ-rMzm2Ipa_g   $$$  +16032779094  (603) 277-9094  \n",
              "vMyN7JL5cJExJORgIobbQg    $$  +16032779192  (603) 277-9192  \n",
              "34j_2nRCVQBTKafJvncZlg   $$$  +16036468000  (603) 646-8000  \n",
              "neBEWvgHNhsXIBImCYx_6A    $$  +16036434075  (603) 643-4075  "
            ]
          },
          "metadata": {
            "tags": []
          },
          "execution_count": 13
        }
      ]
    },
    {
      "cell_type": "markdown",
      "metadata": {
        "id": "xngzSeEc30v8"
      },
      "source": [
        "# Activity\n",
        "\n",
        "- Try running a business search query for your hometown or another place by constructing a query similar to `yelp_genquery` but changing the location parameter\n",
        "- Other endpoints require feeding what's called the fusion id into the API. Take an id from `yelp_stronly.id` and use the documentation here to pull the reviews for that business: https://www.yelp.com/developers/documentation/v3/business_reviews\n",
        "- **Challenge**: generalize the previous step by writing a function that (1) takes a list of ids as an input, (2) calls the reviews API for each id, (3) returns the results, and (4) rowbinds all results\n"
      ]
    },
    {
      "cell_type": "code",
      "metadata": {
        "id": "DXiYv14030v8"
      },
      "source": [
        ""
      ],
      "execution_count": null,
      "outputs": []
    }
  ]
}