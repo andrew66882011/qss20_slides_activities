{
  "nbformat": 4,
  "nbformat_minor": 0,
  "metadata": {
    "kernelspec": {
      "display_name": "Python 3",
      "language": "python",
      "name": "python3"
    },
    "language_info": {
      "codemirror_mode": {
        "name": "ipython",
        "version": 3
      },
      "file_extension": ".py",
      "mimetype": "text/x-python",
      "name": "python",
      "nbconvert_exporter": "python",
      "pygments_lexer": "ipython3",
      "version": "3.8.3"
    },
    "colab": {
      "name": "06_textasdata_partII_topicmodeling_examplecode.ipynb",
      "provenance": [],
      "include_colab_link": true
    }
  },
  "cells": [
    {
      "cell_type": "markdown",
      "metadata": {
        "id": "view-in-github",
        "colab_type": "text"
      },
      "source": [
        "<a href=\"https://colab.research.google.com/github/andrew66882011/qss20_slides_activities/blob/main/activities/06_textasdata_partII_topicmodeling_examplecode.ipynb\" target=\"_parent\"><img src=\"https://colab.research.google.com/assets/colab-badge.svg\" alt=\"Open In Colab\"/></a>"
      ]
    },
    {
      "cell_type": "markdown",
      "metadata": {
        "id": "lSh6oW9qvOJF"
      },
      "source": [
        "# Notebook for topic modeling "
      ]
    },
    {
      "cell_type": "markdown",
      "metadata": {
        "id": "1gwPhqWYvOJI"
      },
      "source": [
        "# Imports"
      ]
    },
    {
      "cell_type": "code",
      "metadata": {
        "id": "eQQJjtTrvOJI"
      },
      "source": [
        "## load packages \n",
        "import pandas as pd\n",
        "import re\n",
        "import numpy as np\n",
        "\n",
        "## nltk imports\n",
        "from nltk.tokenize import word_tokenize, wordpunct_tokenize\n",
        "from nltk.corpus import stopwords\n",
        "from nltk.stem.porter import PorterStemmer\n",
        "\n",
        "## sklearn imports\n",
        "from sklearn.feature_extraction.text import CountVectorizer\n",
        "\n",
        "## lda \n",
        "from gensim import corpora\n",
        "import gensim\n",
        "\n",
        "## print mult things\n",
        "from IPython.core.interactiveshell import InteractiveShell\n",
        "InteractiveShell.ast_node_interactivity = \"all\"\n",
        "\n",
        "## random\n",
        "import random"
      ],
      "execution_count": null,
      "outputs": []
    },
    {
      "cell_type": "markdown",
      "metadata": {
        "id": "PxiGV4exvOJJ"
      },
      "source": [
        "# Load data"
      ]
    },
    {
      "cell_type": "code",
      "metadata": {
        "id": "_wLRzMBOvOJK",
        "outputId": "cc069dc9-f94b-4ad6-97af-021133c4db37"
      },
      "source": [
        "ab = pd.read_csv(\"../public_data/airbnb_text.zip\")\n",
        "ab.head()"
      ],
      "execution_count": null,
      "outputs": [
        {
          "output_type": "execute_result",
          "data": {
            "text/html": [
              "<div>\n",
              "<style scoped>\n",
              "    .dataframe tbody tr th:only-of-type {\n",
              "        vertical-align: middle;\n",
              "    }\n",
              "\n",
              "    .dataframe tbody tr th {\n",
              "        vertical-align: top;\n",
              "    }\n",
              "\n",
              "    .dataframe thead th {\n",
              "        text-align: right;\n",
              "    }\n",
              "</style>\n",
              "<table border=\"1\" class=\"dataframe\">\n",
              "  <thead>\n",
              "    <tr style=\"text-align: right;\">\n",
              "      <th></th>\n",
              "      <th>id</th>\n",
              "      <th>name</th>\n",
              "      <th>name_upper</th>\n",
              "      <th>neighbourhood_group</th>\n",
              "      <th>price</th>\n",
              "    </tr>\n",
              "  </thead>\n",
              "  <tbody>\n",
              "    <tr>\n",
              "      <th>0</th>\n",
              "      <td>2539</td>\n",
              "      <td>Clean &amp; quiet apt home by the park</td>\n",
              "      <td>CLEAN &amp; QUIET APT HOME BY THE PARK</td>\n",
              "      <td>Brooklyn</td>\n",
              "      <td>149</td>\n",
              "    </tr>\n",
              "    <tr>\n",
              "      <th>1</th>\n",
              "      <td>2595</td>\n",
              "      <td>Skylit Midtown Castle</td>\n",
              "      <td>SKYLIT MIDTOWN CASTLE</td>\n",
              "      <td>Manhattan</td>\n",
              "      <td>225</td>\n",
              "    </tr>\n",
              "    <tr>\n",
              "      <th>2</th>\n",
              "      <td>3647</td>\n",
              "      <td>THE VILLAGE OF HARLEM....NEW YORK !</td>\n",
              "      <td>THE VILLAGE OF HARLEM....NEW YORK !</td>\n",
              "      <td>Manhattan</td>\n",
              "      <td>150</td>\n",
              "    </tr>\n",
              "    <tr>\n",
              "      <th>3</th>\n",
              "      <td>3831</td>\n",
              "      <td>Cozy Entire Floor of Brownstone</td>\n",
              "      <td>COZY ENTIRE FLOOR OF BROWNSTONE</td>\n",
              "      <td>Brooklyn</td>\n",
              "      <td>89</td>\n",
              "    </tr>\n",
              "    <tr>\n",
              "      <th>4</th>\n",
              "      <td>5022</td>\n",
              "      <td>Entire Apt: Spacious Studio/Loft by central park</td>\n",
              "      <td>ENTIRE APT: SPACIOUS STUDIO/LOFT BY CENTRAL PARK</td>\n",
              "      <td>Manhattan</td>\n",
              "      <td>80</td>\n",
              "    </tr>\n",
              "  </tbody>\n",
              "</table>\n",
              "</div>"
            ],
            "text/plain": [
              "     id                                              name  \\\n",
              "0  2539                Clean & quiet apt home by the park   \n",
              "1  2595                             Skylit Midtown Castle   \n",
              "2  3647               THE VILLAGE OF HARLEM....NEW YORK !   \n",
              "3  3831                   Cozy Entire Floor of Brownstone   \n",
              "4  5022  Entire Apt: Spacious Studio/Loft by central park   \n",
              "\n",
              "                                         name_upper neighbourhood_group  price  \n",
              "0                CLEAN & QUIET APT HOME BY THE PARK            Brooklyn    149  \n",
              "1                             SKYLIT MIDTOWN CASTLE           Manhattan    225  \n",
              "2               THE VILLAGE OF HARLEM....NEW YORK !           Manhattan    150  \n",
              "3                   COZY ENTIRE FLOOR OF BROWNSTONE            Brooklyn     89  \n",
              "4  ENTIRE APT: SPACIOUS STUDIO/LOFT BY CENTRAL PARK           Manhattan     80  "
            ]
          },
          "metadata": {
            "tags": []
          },
          "execution_count": 8
        }
      ]
    },
    {
      "cell_type": "markdown",
      "metadata": {
        "id": "TxTT7JNUvOJL"
      },
      "source": [
        "## Preprocess documents\n",
        "\n",
        "In this case, each name/name_upper, or listing title, we're treating as a document"
      ]
    },
    {
      "cell_type": "markdown",
      "metadata": {
        "id": "EndbfqfdvOJM"
      },
      "source": [
        "### Step 1- load stopwords and augment with our own custom ones"
      ]
    },
    {
      "cell_type": "code",
      "metadata": {
        "id": "dc74cLtOvOJM"
      },
      "source": [
        "list_stopwords = stopwords.words(\"english\")\n",
        "\n",
        "custom_words_toadd = ['apartment', 'new york', 'nyc',\n",
        "                      'bronx', 'brooklyn',\n",
        "                     'manhattan', 'queens', \n",
        "                      'staten island']\n",
        "\n",
        "list_stopwords_new = list_stopwords + custom_words_toadd\n"
      ],
      "execution_count": null,
      "outputs": []
    },
    {
      "cell_type": "markdown",
      "metadata": {
        "id": "3uDXFicnvOJM"
      },
      "source": [
        "### Step 2- remove stopwords from lowercase version of corpus\n"
      ]
    },
    {
      "cell_type": "code",
      "metadata": {
        "id": "mUoJwL-qvOJN",
        "outputId": "bdbcf51f-bbe7-4fb2-b35c-9a8531078515"
      },
      "source": [
        "## convert to lowercase and a list\n",
        "corpus_lower = ab.name.str.lower().to_list()\n",
        "corpus_lower[0:5]\n",
        "\n",
        "## use wordpunct tokenize and filter out with one\n",
        "example_listing = corpus_lower[3]\n",
        "nostop_listing = [word for word in wordpunct_tokenize(example_listing) \n",
        "                          if word not in list_stopwords_new]\n",
        "nostop_listing"
      ],
      "execution_count": null,
      "outputs": [
        {
          "output_type": "execute_result",
          "data": {
            "text/plain": [
              "['cozy', 'entire', 'floor', 'brownstone']"
            ]
          },
          "metadata": {
            "tags": []
          },
          "execution_count": 4
        }
      ]
    },
    {
      "cell_type": "markdown",
      "metadata": {
        "id": "UE_H2SjOvOJN"
      },
      "source": [
        "### Step 3- stem and remove non-alpha\n",
        "\n",
        "Other contexts we may want to leave digits in"
      ]
    },
    {
      "cell_type": "code",
      "metadata": {
        "id": "FrCQ4sGRvOJO",
        "outputId": "6be14260-e113-4303-efc1-1d75d7197e50"
      },
      "source": [
        "## initialize stemmer\n",
        "porter = PorterStemmer()\n",
        "\n",
        "## apply to one by iterating\n",
        "## over the tokens in the list\n",
        "example_listing_preprocess = [porter.stem(token) \n",
        "                            for token in nostop_listing \n",
        "                            if token.isalpha() and \n",
        "                            len(token) > 2]\n",
        "\n",
        "example_listing_preprocess"
      ],
      "execution_count": null,
      "outputs": [
        {
          "output_type": "execute_result",
          "data": {
            "text/plain": [
              "['cozi', 'entir', 'floor', 'brownston']"
            ]
          },
          "metadata": {
            "tags": []
          },
          "execution_count": 5
        }
      ]
    },
    {
      "cell_type": "code",
      "metadata": {
        "id": "b-bXzbKxvOJO",
        "outputId": "b8f45796-d603-42f2-c18a-70d417af1449"
      },
      "source": [
        "example_listing\n",
        "example_listing_preprocess"
      ],
      "execution_count": null,
      "outputs": [
        {
          "output_type": "execute_result",
          "data": {
            "text/plain": [
              "['cozi', 'entir', 'floor', 'brownston']"
            ]
          },
          "metadata": {
            "tags": []
          },
          "execution_count": 6
        }
      ]
    },
    {
      "cell_type": "markdown",
      "metadata": {
        "id": "_cd0Ci0QvOJP"
      },
      "source": [
        "# Activity\n",
        "\n",
        "- Embed steps two and three into one or two functions\n",
        "- Apply the function to all the texts in `corpus_lower`"
      ]
    },
    {
      "cell_type": "markdown",
      "metadata": {
        "id": "zvfJw6ZWvOJP"
      },
      "source": [
        "## Create a document-term matrix and do some basic diagnostics (more manual approach)\n",
        "\n",
        "Here we'll create a DTM first using the raw documents; in the activity, you'll create one using the preprocessed docs\n",
        "that you created in the previous activity break"
      ]
    },
    {
      "cell_type": "code",
      "metadata": {
        "id": "VAlkBlXMvOJP"
      },
      "source": [
        "## function I'm providing\n",
        "def create_dtm(list_of_strings, metadata):\n",
        "    vectorizer = CountVectorizer(lowercase = True)\n",
        "    dtm_sparse = vectorizer.fit_transform(list_of_strings)\n",
        "    dtm_dense_named = pd.DataFrame(dtm_sparse.todense(), columns=vectorizer.get_feature_names())\n",
        "    dtm_dense_named_withid = pd.concat([metadata.reset_index(), dtm_dense_named], axis = 1)\n",
        "    return(dtm_dense_named_withid)"
      ],
      "execution_count": null,
      "outputs": []
    },
    {
      "cell_type": "code",
      "metadata": {
        "id": "FTuRKrQ7vOJQ",
        "outputId": "28291826-1b76-4f8b-e47c-72552f833863"
      },
      "source": [
        "## first, filter out na's\n",
        "corpus_lower_nonull = ab.name[~ab.name.isnull()].str.lower()\n",
        "\n",
        "## filter out na's\n",
        "## for shorter runtime, random sampling of 1000\n",
        "## get metadata for those\n",
        "## and also renaming price col since it's likely to be corpus word\n",
        "ab_small = ab.loc[(ab.name.str.lower().isin(corpus_lower_small)) & \n",
        "                  (~ab.name.isnull()),\n",
        "           ['id', 'neighbourhood_group', 'price', 'name']].copy().rename(columns = {'price':\n",
        "            'price_rawdata'}).sample(n = 1000, random_state = 422)\n",
        "\n",
        "ab_small['name_lower'] = ab_small['name'].str.lower()\n",
        "ab_small.head()"
      ],
      "execution_count": null,
      "outputs": [
        {
          "output_type": "execute_result",
          "data": {
            "text/html": [
              "<div>\n",
              "<style scoped>\n",
              "    .dataframe tbody tr th:only-of-type {\n",
              "        vertical-align: middle;\n",
              "    }\n",
              "\n",
              "    .dataframe tbody tr th {\n",
              "        vertical-align: top;\n",
              "    }\n",
              "\n",
              "    .dataframe thead th {\n",
              "        text-align: right;\n",
              "    }\n",
              "</style>\n",
              "<table border=\"1\" class=\"dataframe\">\n",
              "  <thead>\n",
              "    <tr style=\"text-align: right;\">\n",
              "      <th></th>\n",
              "      <th>id</th>\n",
              "      <th>neighbourhood_group</th>\n",
              "      <th>price_rawdata</th>\n",
              "      <th>name</th>\n",
              "      <th>name_lower</th>\n",
              "    </tr>\n",
              "  </thead>\n",
              "  <tbody>\n",
              "    <tr>\n",
              "      <th>21667</th>\n",
              "      <td>17387135</td>\n",
              "      <td>Brooklyn</td>\n",
              "      <td>90</td>\n",
              "      <td>Intimate Williamsburg Apartment</td>\n",
              "      <td>intimate williamsburg apartment</td>\n",
              "    </tr>\n",
              "    <tr>\n",
              "      <th>944</th>\n",
              "      <td>361803</td>\n",
              "      <td>Manhattan</td>\n",
              "      <td>115</td>\n",
              "      <td>Luxury, Adorable Studio Apartment</td>\n",
              "      <td>luxury, adorable studio apartment</td>\n",
              "    </tr>\n",
              "    <tr>\n",
              "      <th>43024</th>\n",
              "      <td>33401610</td>\n",
              "      <td>Brooklyn</td>\n",
              "      <td>120</td>\n",
              "      <td>Park Slope,  Brooklyn</td>\n",
              "      <td>park slope,  brooklyn</td>\n",
              "    </tr>\n",
              "    <tr>\n",
              "      <th>35198</th>\n",
              "      <td>27924639</td>\n",
              "      <td>Bronx</td>\n",
              "      <td>145</td>\n",
              "      <td>NYC Private home-1 bedroom/Private Entrance</td>\n",
              "      <td>nyc private home-1 bedroom/private entrance</td>\n",
              "    </tr>\n",
              "    <tr>\n",
              "      <th>10255</th>\n",
              "      <td>7853110</td>\n",
              "      <td>Brooklyn</td>\n",
              "      <td>60</td>\n",
              "      <td>Carroll Gardens, 25 ft from F/G</td>\n",
              "      <td>carroll gardens, 25 ft from f/g</td>\n",
              "    </tr>\n",
              "  </tbody>\n",
              "</table>\n",
              "</div>"
            ],
            "text/plain": [
              "             id neighbourhood_group  price_rawdata  \\\n",
              "21667  17387135            Brooklyn             90   \n",
              "944      361803           Manhattan            115   \n",
              "43024  33401610            Brooklyn            120   \n",
              "35198  27924639               Bronx            145   \n",
              "10255   7853110            Brooklyn             60   \n",
              "\n",
              "                                              name  \\\n",
              "21667              Intimate Williamsburg Apartment   \n",
              "944              Luxury, Adorable Studio Apartment   \n",
              "43024                        Park Slope,  Brooklyn   \n",
              "35198  NYC Private home-1 bedroom/Private Entrance   \n",
              "10255              Carroll Gardens, 25 ft from F/G   \n",
              "\n",
              "                                        name_lower  \n",
              "21667              intimate williamsburg apartment  \n",
              "944              luxury, adorable studio apartment  \n",
              "43024                        park slope,  brooklyn  \n",
              "35198  nyc private home-1 bedroom/private entrance  \n",
              "10255              carroll gardens, 25 ft from f/g  "
            ]
          },
          "metadata": {
            "tags": []
          },
          "execution_count": 56
        }
      ]
    },
    {
      "cell_type": "code",
      "metadata": {
        "id": "WDjuUUdmvOJQ"
      },
      "source": [
        "\n",
        "## example application on raw lowercase texts; \n",
        "dtm_nopre = create_dtm(list_of_strings= ab_small.name_lower,\n",
        "                      metadata = ab_small[['id', 'neighbourhood_group', 'price_rawdata']])\n",
        "\n"
      ],
      "execution_count": null,
      "outputs": []
    },
    {
      "cell_type": "code",
      "metadata": {
        "id": "apgm4botvOJR",
        "outputId": "3a84b632-859d-4df8-c1c1-cff37856679e"
      },
      "source": [
        "## first set of rows/cols\n",
        "dtm_nopre.head()\n",
        "\n",
        "## arbitrary later cols\n",
        "dtm_nopre.shape\n",
        "dtm_nopre.iloc[0:5, 480:500]"
      ],
      "execution_count": null,
      "outputs": [
        {
          "output_type": "execute_result",
          "data": {
            "text/html": [
              "<div>\n",
              "<style scoped>\n",
              "    .dataframe tbody tr th:only-of-type {\n",
              "        vertical-align: middle;\n",
              "    }\n",
              "\n",
              "    .dataframe tbody tr th {\n",
              "        vertical-align: top;\n",
              "    }\n",
              "\n",
              "    .dataframe thead th {\n",
              "        text-align: right;\n",
              "    }\n",
              "</style>\n",
              "<table border=\"1\" class=\"dataframe\">\n",
              "  <thead>\n",
              "    <tr style=\"text-align: right;\">\n",
              "      <th></th>\n",
              "      <th>index</th>\n",
              "      <th>id</th>\n",
              "      <th>neighbourhood_group</th>\n",
              "      <th>price_rawdata</th>\n",
              "      <th>10</th>\n",
              "      <th>10min</th>\n",
              "      <th>110th</th>\n",
              "      <th>116</th>\n",
              "      <th>12</th>\n",
              "      <th>14</th>\n",
              "      <th>...</th>\n",
              "      <th>无其他费用</th>\n",
              "      <th>法拉盛美丽豪华大套房</th>\n",
              "      <th>独立洗手间privatebathroom</th>\n",
              "      <th>纽约之家</th>\n",
              "      <th>超级便利的豪华公寓次卧</th>\n",
              "      <th>近哥伦比亚大学超方便短租房</th>\n",
              "      <th>限1</th>\n",
              "      <th>限女生</th>\n",
              "      <th>韓城</th>\n",
              "      <th>한성</th>\n",
              "    </tr>\n",
              "  </thead>\n",
              "  <tbody>\n",
              "    <tr>\n",
              "      <th>0</th>\n",
              "      <td>21667</td>\n",
              "      <td>17387135</td>\n",
              "      <td>Brooklyn</td>\n",
              "      <td>90</td>\n",
              "      <td>0</td>\n",
              "      <td>0</td>\n",
              "      <td>0</td>\n",
              "      <td>0</td>\n",
              "      <td>0</td>\n",
              "      <td>0</td>\n",
              "      <td>...</td>\n",
              "      <td>0</td>\n",
              "      <td>0</td>\n",
              "      <td>0</td>\n",
              "      <td>0</td>\n",
              "      <td>0</td>\n",
              "      <td>0</td>\n",
              "      <td>0</td>\n",
              "      <td>0</td>\n",
              "      <td>0</td>\n",
              "      <td>0</td>\n",
              "    </tr>\n",
              "    <tr>\n",
              "      <th>1</th>\n",
              "      <td>944</td>\n",
              "      <td>361803</td>\n",
              "      <td>Manhattan</td>\n",
              "      <td>115</td>\n",
              "      <td>0</td>\n",
              "      <td>0</td>\n",
              "      <td>0</td>\n",
              "      <td>0</td>\n",
              "      <td>0</td>\n",
              "      <td>0</td>\n",
              "      <td>...</td>\n",
              "      <td>0</td>\n",
              "      <td>0</td>\n",
              "      <td>0</td>\n",
              "      <td>0</td>\n",
              "      <td>0</td>\n",
              "      <td>0</td>\n",
              "      <td>0</td>\n",
              "      <td>0</td>\n",
              "      <td>0</td>\n",
              "      <td>0</td>\n",
              "    </tr>\n",
              "    <tr>\n",
              "      <th>2</th>\n",
              "      <td>43024</td>\n",
              "      <td>33401610</td>\n",
              "      <td>Brooklyn</td>\n",
              "      <td>120</td>\n",
              "      <td>0</td>\n",
              "      <td>0</td>\n",
              "      <td>0</td>\n",
              "      <td>0</td>\n",
              "      <td>0</td>\n",
              "      <td>0</td>\n",
              "      <td>...</td>\n",
              "      <td>0</td>\n",
              "      <td>0</td>\n",
              "      <td>0</td>\n",
              "      <td>0</td>\n",
              "      <td>0</td>\n",
              "      <td>0</td>\n",
              "      <td>0</td>\n",
              "      <td>0</td>\n",
              "      <td>0</td>\n",
              "      <td>0</td>\n",
              "    </tr>\n",
              "    <tr>\n",
              "      <th>3</th>\n",
              "      <td>35198</td>\n",
              "      <td>27924639</td>\n",
              "      <td>Bronx</td>\n",
              "      <td>145</td>\n",
              "      <td>0</td>\n",
              "      <td>0</td>\n",
              "      <td>0</td>\n",
              "      <td>0</td>\n",
              "      <td>0</td>\n",
              "      <td>0</td>\n",
              "      <td>...</td>\n",
              "      <td>0</td>\n",
              "      <td>0</td>\n",
              "      <td>0</td>\n",
              "      <td>0</td>\n",
              "      <td>0</td>\n",
              "      <td>0</td>\n",
              "      <td>0</td>\n",
              "      <td>0</td>\n",
              "      <td>0</td>\n",
              "      <td>0</td>\n",
              "    </tr>\n",
              "    <tr>\n",
              "      <th>4</th>\n",
              "      <td>10255</td>\n",
              "      <td>7853110</td>\n",
              "      <td>Brooklyn</td>\n",
              "      <td>60</td>\n",
              "      <td>0</td>\n",
              "      <td>0</td>\n",
              "      <td>0</td>\n",
              "      <td>0</td>\n",
              "      <td>0</td>\n",
              "      <td>0</td>\n",
              "      <td>...</td>\n",
              "      <td>0</td>\n",
              "      <td>0</td>\n",
              "      <td>0</td>\n",
              "      <td>0</td>\n",
              "      <td>0</td>\n",
              "      <td>0</td>\n",
              "      <td>0</td>\n",
              "      <td>0</td>\n",
              "      <td>0</td>\n",
              "      <td>0</td>\n",
              "    </tr>\n",
              "  </tbody>\n",
              "</table>\n",
              "<p>5 rows × 878 columns</p>\n",
              "</div>"
            ],
            "text/plain": [
              "   index        id neighbourhood_group  price_rawdata  10  10min  110th  116  \\\n",
              "0  21667  17387135            Brooklyn             90   0      0      0    0   \n",
              "1    944    361803           Manhattan            115   0      0      0    0   \n",
              "2  43024  33401610            Brooklyn            120   0      0      0    0   \n",
              "3  35198  27924639               Bronx            145   0      0      0    0   \n",
              "4  10255   7853110            Brooklyn             60   0      0      0    0   \n",
              "\n",
              "   12  14  ...  无其他费用  法拉盛美丽豪华大套房  独立洗手间privatebathroom  纽约之家  超级便利的豪华公寓次卧  \\\n",
              "0   0   0  ...      0           0                     0     0            0   \n",
              "1   0   0  ...      0           0                     0     0            0   \n",
              "2   0   0  ...      0           0                     0     0            0   \n",
              "3   0   0  ...      0           0                     0     0            0   \n",
              "4   0   0  ...      0           0                     0     0            0   \n",
              "\n",
              "   近哥伦比亚大学超方便短租房  限1  限女生  韓城  한성  \n",
              "0              0   0    0   0   0  \n",
              "1              0   0    0   0   0  \n",
              "2              0   0    0   0   0  \n",
              "3              0   0    0   0   0  \n",
              "4              0   0    0   0   0  \n",
              "\n",
              "[5 rows x 878 columns]"
            ]
          },
          "metadata": {
            "tags": []
          },
          "execution_count": 58
        },
        {
          "output_type": "execute_result",
          "data": {
            "text/plain": [
              "(1000, 878)"
            ]
          },
          "metadata": {
            "tags": []
          },
          "execution_count": 58
        },
        {
          "output_type": "execute_result",
          "data": {
            "text/html": [
              "<div>\n",
              "<style scoped>\n",
              "    .dataframe tbody tr th:only-of-type {\n",
              "        vertical-align: middle;\n",
              "    }\n",
              "\n",
              "    .dataframe tbody tr th {\n",
              "        vertical-align: top;\n",
              "    }\n",
              "\n",
              "    .dataframe thead th {\n",
              "        text-align: right;\n",
              "    }\n",
              "</style>\n",
              "<table border=\"1\" class=\"dataframe\">\n",
              "  <thead>\n",
              "    <tr style=\"text-align: right;\">\n",
              "      <th></th>\n",
              "      <th>lincoln</th>\n",
              "      <th>line</th>\n",
              "      <th>lit</th>\n",
              "      <th>live</th>\n",
              "      <th>lively</th>\n",
              "      <th>living</th>\n",
              "      <th>loc</th>\n",
              "      <th>local</th>\n",
              "      <th>located</th>\n",
              "      <th>location</th>\n",
              "      <th>loft</th>\n",
              "      <th>lofted</th>\n",
              "      <th>long</th>\n",
              "      <th>looking</th>\n",
              "      <th>lorimer</th>\n",
              "      <th>lots</th>\n",
              "      <th>lounge</th>\n",
              "      <th>lovely</th>\n",
              "      <th>lovers</th>\n",
              "      <th>lower</th>\n",
              "    </tr>\n",
              "  </thead>\n",
              "  <tbody>\n",
              "    <tr>\n",
              "      <th>0</th>\n",
              "      <td>0</td>\n",
              "      <td>0</td>\n",
              "      <td>0</td>\n",
              "      <td>0</td>\n",
              "      <td>0</td>\n",
              "      <td>0</td>\n",
              "      <td>0</td>\n",
              "      <td>0</td>\n",
              "      <td>0</td>\n",
              "      <td>0</td>\n",
              "      <td>0</td>\n",
              "      <td>0</td>\n",
              "      <td>0</td>\n",
              "      <td>0</td>\n",
              "      <td>0</td>\n",
              "      <td>0</td>\n",
              "      <td>0</td>\n",
              "      <td>0</td>\n",
              "      <td>0</td>\n",
              "      <td>0</td>\n",
              "    </tr>\n",
              "    <tr>\n",
              "      <th>1</th>\n",
              "      <td>0</td>\n",
              "      <td>0</td>\n",
              "      <td>0</td>\n",
              "      <td>0</td>\n",
              "      <td>0</td>\n",
              "      <td>0</td>\n",
              "      <td>0</td>\n",
              "      <td>0</td>\n",
              "      <td>0</td>\n",
              "      <td>0</td>\n",
              "      <td>0</td>\n",
              "      <td>0</td>\n",
              "      <td>0</td>\n",
              "      <td>0</td>\n",
              "      <td>0</td>\n",
              "      <td>0</td>\n",
              "      <td>0</td>\n",
              "      <td>0</td>\n",
              "      <td>0</td>\n",
              "      <td>0</td>\n",
              "    </tr>\n",
              "    <tr>\n",
              "      <th>2</th>\n",
              "      <td>0</td>\n",
              "      <td>0</td>\n",
              "      <td>0</td>\n",
              "      <td>0</td>\n",
              "      <td>0</td>\n",
              "      <td>0</td>\n",
              "      <td>0</td>\n",
              "      <td>0</td>\n",
              "      <td>0</td>\n",
              "      <td>0</td>\n",
              "      <td>0</td>\n",
              "      <td>0</td>\n",
              "      <td>0</td>\n",
              "      <td>0</td>\n",
              "      <td>0</td>\n",
              "      <td>0</td>\n",
              "      <td>0</td>\n",
              "      <td>0</td>\n",
              "      <td>0</td>\n",
              "      <td>0</td>\n",
              "    </tr>\n",
              "    <tr>\n",
              "      <th>3</th>\n",
              "      <td>0</td>\n",
              "      <td>0</td>\n",
              "      <td>0</td>\n",
              "      <td>0</td>\n",
              "      <td>0</td>\n",
              "      <td>0</td>\n",
              "      <td>0</td>\n",
              "      <td>0</td>\n",
              "      <td>0</td>\n",
              "      <td>0</td>\n",
              "      <td>0</td>\n",
              "      <td>0</td>\n",
              "      <td>0</td>\n",
              "      <td>0</td>\n",
              "      <td>0</td>\n",
              "      <td>0</td>\n",
              "      <td>0</td>\n",
              "      <td>0</td>\n",
              "      <td>0</td>\n",
              "      <td>0</td>\n",
              "    </tr>\n",
              "    <tr>\n",
              "      <th>4</th>\n",
              "      <td>0</td>\n",
              "      <td>0</td>\n",
              "      <td>0</td>\n",
              "      <td>0</td>\n",
              "      <td>0</td>\n",
              "      <td>0</td>\n",
              "      <td>0</td>\n",
              "      <td>0</td>\n",
              "      <td>0</td>\n",
              "      <td>0</td>\n",
              "      <td>0</td>\n",
              "      <td>0</td>\n",
              "      <td>0</td>\n",
              "      <td>0</td>\n",
              "      <td>0</td>\n",
              "      <td>0</td>\n",
              "      <td>0</td>\n",
              "      <td>0</td>\n",
              "      <td>0</td>\n",
              "      <td>0</td>\n",
              "    </tr>\n",
              "  </tbody>\n",
              "</table>\n",
              "</div>"
            ],
            "text/plain": [
              "   lincoln  line  lit  live  lively  living  loc  local  located  location  \\\n",
              "0        0     0    0     0       0       0    0      0        0         0   \n",
              "1        0     0    0     0       0       0    0      0        0         0   \n",
              "2        0     0    0     0       0       0    0      0        0         0   \n",
              "3        0     0    0     0       0       0    0      0        0         0   \n",
              "4        0     0    0     0       0       0    0      0        0         0   \n",
              "\n",
              "   loft  lofted  long  looking  lorimer  lots  lounge  lovely  lovers  lower  \n",
              "0     0       0     0        0        0     0       0       0       0      0  \n",
              "1     0       0     0        0        0     0       0       0       0      0  \n",
              "2     0       0     0        0        0     0       0       0       0      0  \n",
              "3     0       0     0        0        0     0       0       0       0      0  \n",
              "4     0       0     0        0        0     0       0       0       0      0  "
            ]
          },
          "metadata": {
            "tags": []
          },
          "execution_count": 58
        }
      ]
    },
    {
      "cell_type": "markdown",
      "metadata": {
        "id": "t89FJvj8vOJR"
      },
      "source": [
        "### Can use column sums on that dtm to get basic summary stats of top words"
      ]
    },
    {
      "cell_type": "code",
      "metadata": {
        "id": "SKaDIC2_vOJR",
        "outputId": "4c327295-06ea-46ee-ae40-468b1e8cf061"
      },
      "source": [
        "## summing each col\n",
        "top_terms = dtm_nopre[dtm_nopre.columns[4:]].sum(axis = 0)\n",
        "\n",
        "## sorting from most frequent to least frequent\n",
        "top_terms.sort_values(ascending = False)"
      ],
      "execution_count": null,
      "outputs": [
        {
          "output_type": "execute_result",
          "data": {
            "text/plain": [
              "in           323\n",
              "room         204\n",
              "bedroom      162\n",
              "private      153\n",
              "apartment    145\n",
              "            ... \n",
              "can            1\n",
              "lofted         1\n",
              "carriage       1\n",
              "casa           1\n",
              "한성             1\n",
              "Length: 874, dtype: int64"
            ]
          },
          "metadata": {
            "tags": []
          },
          "execution_count": 60
        }
      ]
    },
    {
      "cell_type": "markdown",
      "metadata": {
        "id": "YUJr2R8IvOJS"
      },
      "source": [
        "## Use built in functions within gensim to skip some steps and to estimate a topic model"
      ]
    },
    {
      "cell_type": "markdown",
      "metadata": {
        "id": "UlnKqhKovOJS"
      },
      "source": [
        "### Creating the objects to feed the LDA modeling function"
      ]
    },
    {
      "cell_type": "code",
      "metadata": {
        "id": "vg2Luw0qvOJS",
        "outputId": "65c963ec-a034-42e8-c6a4-1e281a908e66"
      },
      "source": [
        "\n",
        "## Step 1: re-tokenize and store in list\n",
        "## here, i'm doing with the raw random sample of text\n",
        "## in activity, you should do with the preprocessed texts\n",
        "text_raw_tokens = [wordpunct_tokenize(one_text) for one_text in \n",
        "                  ab_small.name_lower]\n",
        "\n",
        "text_raw_tokens[0:5]"
      ],
      "execution_count": null,
      "outputs": [
        {
          "output_type": "execute_result",
          "data": {
            "text/plain": [
              "[['intimate', 'williamsburg', 'apartment'],\n",
              " ['luxury', ',', 'adorable', 'studio', 'apartment'],\n",
              " ['park', 'slope', ',', 'brooklyn'],\n",
              " ['nyc', 'private', 'home', '-', '1', 'bedroom', '/', 'private', 'entrance'],\n",
              " ['carroll', 'gardens', ',', '25', 'ft', 'from', 'f', '/', 'g']]"
            ]
          },
          "metadata": {
            "tags": []
          },
          "execution_count": 106
        }
      ]
    },
    {
      "cell_type": "code",
      "metadata": {
        "id": "8fD5oL49vOJT",
        "outputId": "0167ca6e-ca99-4e22-e78f-db4e7f6b1d30"
      },
      "source": [
        "## Step 2: use gensim create dictionary - gets all unique words across documents\n",
        "text_raw_dict = corpora.Dictionary(text_raw_tokens)\n",
        "\n",
        "### explore first few keys and values\n",
        "### see that key is just an arbitrary counter; value is the word itself\n",
        "firstkpairs = {k: text_raw_dict[k] for k in list(text_raw_dict)[:5]}\n",
        "firstkpairs\n",
        "\n",
        "## Step 3: filter out very rare and very common words\n",
        "## here, i'm using the threshold that a word needs to appear in at least\n",
        "## 5% of docs but not more than 95%\n",
        "## this is an integer count of docs so i round\n",
        "lower_bound = round(ab_small.shape[0]*0.05)\n",
        "lower_bound\n",
        "upper_bound = round(ab_small.shape[0]*0.95)\n",
        "upper_bound\n",
        "### apply filtering to dictionary\n",
        "text_raw_dict.filter_extremes(no_below = lower_bound,\n",
        "                             no_above = upper_bound)\n",
        "\n",
        "## Step 4: apply dictionary to TOKENIZED texts\n",
        "## this creates a mapping between each word \n",
        "## in a specific listing and the key in the dictionary\n",
        "## for words that remain in the filtered dictionary\n",
        "## output is a list where len(list) == n documents\n",
        "## and each element in the list is a list of tuples\n",
        "## containing the mappings\n",
        "corpus_fromdict = [text_raw_dict.doc2bow(one_text) \n",
        "                   for one_text in text_raw_tokens]\n",
        "corpus_fromdict[0:5]\n",
        "text_raw_tokens[0:5]\n",
        "\n",
        "### can apply doc2bow(one_text, return_missing = True) to print words\n",
        "### eliminated from the listing bc they're not in filtered dictionary\n",
        "### but feeding that one with missing values to\n",
        "### the lda function can cause errors\n",
        "corpus_fromdict_showmiss = [text_raw_dict.doc2bow(one_text, return_missing = True)\n",
        "                            for one_text in text_raw_tokens]\n",
        "corpus_fromdict_showmiss[0:5]"
      ],
      "execution_count": null,
      "outputs": [
        {
          "output_type": "execute_result",
          "data": {
            "text/plain": [
              "{0: 'apartment', 1: 'intimate', 2: 'williamsburg', 3: ',', 4: 'adorable'}"
            ]
          },
          "metadata": {
            "tags": []
          },
          "execution_count": 107
        },
        {
          "output_type": "execute_result",
          "data": {
            "text/plain": [
              "50"
            ]
          },
          "metadata": {
            "tags": []
          },
          "execution_count": 107
        },
        {
          "output_type": "execute_result",
          "data": {
            "text/plain": [
              "950"
            ]
          },
          "metadata": {
            "tags": []
          },
          "execution_count": 107
        },
        {
          "output_type": "execute_result",
          "data": {
            "text/plain": [
              "[[(0, 1), (1, 1)],\n",
              " [(0, 1), (2, 1), (3, 1)],\n",
              " [(2, 1), (4, 1), (5, 1)],\n",
              " [(6, 1), (7, 1), (8, 1), (9, 1), (10, 1), (11, 1), (12, 2)],\n",
              " [(2, 1), (7, 1), (13, 1)]]"
            ]
          },
          "metadata": {
            "tags": []
          },
          "execution_count": 107
        },
        {
          "output_type": "execute_result",
          "data": {
            "text/plain": [
              "[['intimate', 'williamsburg', 'apartment'],\n",
              " ['luxury', ',', 'adorable', 'studio', 'apartment'],\n",
              " ['park', 'slope', ',', 'brooklyn'],\n",
              " ['nyc', 'private', 'home', '-', '1', 'bedroom', '/', 'private', 'entrance'],\n",
              " ['carroll', 'gardens', ',', '25', 'ft', 'from', 'f', '/', 'g']]"
            ]
          },
          "metadata": {
            "tags": []
          },
          "execution_count": 107
        },
        {
          "output_type": "execute_result",
          "data": {
            "text/plain": [
              "[([(0, 1), (1, 1)], {'intimate': 1}),\n",
              " ([(0, 1), (2, 1), (3, 1)], {'adorable': 1, 'luxury': 1}),\n",
              " ([(2, 1), (4, 1), (5, 1)], {'slope': 1}),\n",
              " ([(6, 1), (7, 1), (8, 1), (9, 1), (10, 1), (11, 1), (12, 2)],\n",
              "  {'entrance': 1}),\n",
              " ([(2, 1), (7, 1), (13, 1)],\n",
              "  {'25': 1, 'carroll': 1, 'f': 1, 'ft': 1, 'g': 1, 'gardens': 1})]"
            ]
          },
          "metadata": {
            "tags": []
          },
          "execution_count": 107
        }
      ]
    },
    {
      "cell_type": "markdown",
      "metadata": {
        "id": "vutQw8fpvOJU"
      },
      "source": [
        "### Estimating the model"
      ]
    },
    {
      "cell_type": "code",
      "metadata": {
        "id": "hCklXNuCvOJV",
        "outputId": "53cb1162-2b76-43a1-fc65-bc1079dfd60f"
      },
      "source": [
        "## Step 5: we're finally ready to estimate the model!\n",
        "## full documentation here - https://radimrehurek.com/gensim/models/ldamodel.html\n",
        "## here, we're feed the lda function (1) the corpus we created from the dictionary\n",
        "## (2) a parameter we decide on for the number of topics,\n",
        "## (3) the dictionary itself,\n",
        "## (4) parameter for number of passes through training data\n",
        "## (5) parameter that returns, for each word remaining in dict, the \n",
        "## topic probabilities\n",
        "## see documentation for many other arguments you can vary\n",
        "ldamod = gensim.models.ldamodel.LdaModel(corpus_fromdict, \n",
        "                                         num_topics = 5, id2word=text_raw_dict, \n",
        "                                         passes=6, alpha = 'auto',\n",
        "                                        per_word_topics = True)\n",
        "\n",
        "print(type(ldamod))\n",
        "\n"
      ],
      "execution_count": null,
      "outputs": [
        {
          "output_type": "stream",
          "text": [
            "<class 'gensim.models.ldamodel.LdaModel'>\n"
          ],
          "name": "stdout"
        }
      ]
    },
    {
      "cell_type": "markdown",
      "metadata": {
        "id": "EM8eEiuKvOJV"
      },
      "source": [
        "### Post-model exploration"
      ]
    },
    {
      "cell_type": "code",
      "metadata": {
        "id": "4sM9e8a1vOJV",
        "outputId": "3d21db9c-5867-44b5-9443-5e8f0266bada"
      },
      "source": [
        "## Post-model 1: explore corpus-wide summary of topics\n",
        "### getting the topics and top words; can retrieve diff top words\n",
        "topics = ldamod.print_topics(num_words = 10)\n",
        "for topic in topics:\n",
        "    print(topic)\n"
      ],
      "execution_count": null,
      "outputs": [
        {
          "output_type": "stream",
          "text": [
            "(0, '0.156*\"2\" + 0.150*\"manhattan\" + 0.097*\"studio\" + 0.078*\"in\" + 0.077*\"bedroom\" + 0.062*\",\" + 0.059*\"apt\" + 0.054*\"-\" + 0.047*\"to\" + 0.039*\"/\"')\n",
            "(1, '0.165*\"room\" + 0.125*\"private\" + 0.115*\"in\" + 0.115*\",\" + 0.070*\"/\" + 0.059*\"east\" + 0.046*\"-\" + 0.044*\"bedroom\" + 0.036*\"park\" + 0.028*\"with\"')\n",
            "(2, '0.246*\"home\" + 0.163*\"-\" + 0.130*\"from\" + 0.079*\"near\" + 0.068*\"cozy\" + 0.048*\"&\" + 0.041*\"1\" + 0.034*\"spacious\" + 0.033*\"and\" + 0.031*\"park\"')\n",
            "(3, '0.131*\"bedroom\" + 0.124*\"in\" + 0.119*\"!\" + 0.101*\"apartment\" + 0.093*\"the\" + 0.061*\"nyc\" + 0.057*\"with\" + 0.053*\"1\" + 0.041*\"cozy\" + 0.034*\"brooklyn\"')\n",
            "(4, '0.219*\"in\" + 0.156*\"apartment\" + 0.151*\"williamsburg\" + 0.099*\"brooklyn\" + 0.082*\"room\" + 0.057*\"private\" + 0.038*\"&\" + 0.037*\"apt\" + 0.037*\",\" + 0.028*\".\"')\n"
          ],
          "name": "stdout"
        }
      ]
    },
    {
      "cell_type": "code",
      "metadata": {
        "id": "BxaQSC2-vOJW",
        "outputId": "a3d5e57d-3f46-4450-9de9-f5511a646517"
      },
      "source": [
        "    \n",
        "## Post-model 2: explore topics associated with each document\n",
        "### for each item in our original dictionary, get list of topic probabilities\n",
        "l=[ldamod.get_document_topics(item) for item in corpus_fromdict]\n",
        "### print result\n",
        "text_raw_tokens[0:5]\n",
        "l[0:5]"
      ],
      "execution_count": null,
      "outputs": [
        {
          "output_type": "execute_result",
          "data": {
            "text/plain": [
              "[['intimate', 'williamsburg', 'apartment'],\n",
              " ['luxury', ',', 'adorable', 'studio', 'apartment'],\n",
              " ['park', 'slope', ',', 'brooklyn'],\n",
              " ['nyc', 'private', 'home', '-', '1', 'bedroom', '/', 'private', 'entrance'],\n",
              " ['carroll', 'gardens', ',', '25', 'ft', 'from', 'f', '/', 'g']]"
            ]
          },
          "metadata": {
            "tags": []
          },
          "execution_count": 115
        },
        {
          "output_type": "execute_result",
          "data": {
            "text/plain": [
              "[[(0, 0.050828494),\n",
              "  (1, 0.07230436),\n",
              "  (2, 0.055267576),\n",
              "  (3, 0.05542449),\n",
              "  (4, 0.7661751)],\n",
              " [(0, 0.47102296),\n",
              "  (1, 0.05487115),\n",
              "  (2, 0.040755004),\n",
              "  (3, 0.040973753),\n",
              "  (4, 0.3923771)],\n",
              " [(0, 0.03749694),\n",
              "  (1, 0.8420732),\n",
              "  (2, 0.040822763),\n",
              "  (3, 0.040919527),\n",
              "  (4, 0.038687598)],\n",
              " [(0, 0.016214045),\n",
              "  (1, 0.7037901),\n",
              "  (2, 0.2456928),\n",
              "  (3, 0.017770553),\n",
              "  (4, 0.01653242)],\n",
              " [(0, 0.03755963),\n",
              "  (1, 0.5739747),\n",
              "  (2, 0.3094248),\n",
              "  (3, 0.040759083),\n",
              "  (4, 0.038281746)]]"
            ]
          },
          "metadata": {
            "tags": []
          },
          "execution_count": 115
        }
      ]
    },
    {
      "cell_type": "markdown",
      "metadata": {
        "id": "DcVKYwvqvOJW"
      },
      "source": [
        "### Visualizing "
      ]
    },
    {
      "cell_type": "code",
      "metadata": {
        "id": "7ecGKKx_vOJW",
        "outputId": "fbafdeed-f465-4b9b-f9fa-b98e69718f4c"
      },
      "source": [
        "## Visualize - may not work on jhub yet\n",
        "import pyLDAvis.gensim as gensimvis\n",
        "import pyLDAvis\n",
        "pyLDAvis.enable_notebook()\n",
        "lda_display = gensimvis.prepare(ldamod, corpus_fromdict, text_raw_dict)\n",
        "pyLDAvis.display(lda_display)"
      ],
      "execution_count": null,
      "outputs": [
        {
          "output_type": "execute_result",
          "data": {
            "text/html": [
              "\n",
              "<link rel=\"stylesheet\" type=\"text/css\" href=\"https://cdn.rawgit.com/bmabey/pyLDAvis/files/ldavis.v1.0.0.css\">\n",
              "\n",
              "\n",
              "<div id=\"ldavis_el38397140329289894368994979735\"></div>\n",
              "<script type=\"text/javascript\">\n",
              "\n",
              "var ldavis_el38397140329289894368994979735_data = {\"mdsDat\": {\"x\": [-0.06786783684195972, -0.06042810566273484, -0.17769779328847782, 0.2946605780602739, 0.011333157732898443], \"y\": [0.06249396385290854, -0.1352212262311737, -0.04218483279134335, -0.044924352844840885, 0.15983644801444946], \"topics\": [1, 2, 3, 4, 5], \"cluster\": [1, 1, 1, 1, 1], \"Freq\": [31.111356764755765, 21.0882349017687, 16.091648546163693, 16.017666005230126, 15.691093782081719]}, \"tinfo\": {\"Term\": [\"home\", \"williamsburg\", \"2\", \"manhattan\", \"apartment\", \"from\", \"-\", \"in\", \"room\", \"!\", \"the\", \"private\", \"bedroom\", \"brooklyn\", \"studio\", \"near\", \"/\", \"nyc\", \"east\", \",\", \"with\", \"apt\", \"cozy\", \"1\", \"&\", \"and\", \"to\", \"park\", \"spacious\", \".\", \"east\", \"private\", \"/\", \"room\", \",\", \"park\", \".\", \"with\", \"spacious\", \"and\", \"in\", \"nyc\", \"to\", \"-\", \"cozy\", \"bedroom\", \"brooklyn\", \"1\", \"&\", \"apt\", \"2\", \"near\", \"!\", \"studio\", \"from\", \"williamsburg\", \"the\", \"manhattan\", \"apartment\", \"home\", \"the\", \"!\", \"nyc\", \"with\", \"bedroom\", \"apartment\", \"1\", \"and\", \"cozy\", \"apt\", \"in\", \"brooklyn\", \"spacious\", \"&\", \".\", \"to\", \"studio\", \",\", \"room\", \"/\", \"east\", \"-\", \"private\", \"williamsburg\", \"near\", \"2\", \"manhattan\", \"park\", \"home\", \"from\", \"williamsburg\", \"brooklyn\", \"apartment\", \"in\", \"&\", \".\", \"apt\", \"room\", \"private\", \"studio\", \",\", \"near\", \"park\", \"cozy\", \"bedroom\", \"east\", \"to\", \"-\", \"spacious\", \"with\", \"the\", \"2\", \"1\", \"/\", \"!\", \"manhattan\", \"from\", \"and\", \"nyc\", \"home\", \"home\", \"from\", \"near\", \"-\", \"&\", \"cozy\", \"and\", \"spacious\", \"1\", \"park\", \"to\", \"!\", \"apt\", \"studio\", \".\", \"with\", \"/\", \"the\", \"brooklyn\", \"nyc\", \"apartment\", \"private\", \"bedroom\", \"in\", \",\", \"room\", \"williamsburg\", \"manhattan\", \"2\", \"east\", \"manhattan\", \"2\", \"studio\", \"to\", \"apt\", \"bedroom\", \"/\", \"near\", \",\", \"-\", \"1\", \"&\", \"in\", \"park\", \"spacious\", \".\", \"private\", \"the\", \"!\", \"from\", \"apartment\", \"east\", \"room\", \"cozy\", \"nyc\", \"with\", \"williamsburg\", \"and\", \"brooklyn\", \"home\"], \"Freq\": [116.0, 72.0, 77.0, 70.0, 145.0, 65.0, 146.0, 321.0, 203.0, 90.0, 63.0, 152.0, 164.0, 89.0, 70.0, 55.0, 86.0, 56.0, 58.0, 164.0, 65.0, 73.0, 91.0, 76.0, 62.0, 51.0, 54.0, 58.0, 54.0, 55.0, 53.901101600481674, 113.59701710694934, 63.53931572449426, 149.8132348079073, 103.95891116754551, 32.52554710432956, 22.624801052194385, 25.69480978690474, 20.790612149350125, 18.43826461099084, 104.59619965152031, 17.853153225737678, 16.08831065710007, 41.7386261428887, 25.313835996818618, 39.81745343384304, 19.4237317351409, 15.230452350120311, 4.335758937336164, 4.537200791803216, 4.233766207055671, 2.442389250142289, 2.0315336878511596, 1.217627491155398, 1.037684369503863, 0.6922295198465753, 0.41192356835540767, 0.4268379365508835, 0.820328759823327, 0.3856394626363911, 57.068075466628834, 73.37664715153906, 37.45110427150848, 35.30842476459979, 80.53359667860512, 62.34471183380747, 32.753923750121146, 17.546678410047523, 25.104811887295856, 17.53409758495955, 76.27433428338553, 21.107902089561925, 12.446568893249404, 11.231384935572034, 9.712086457566901, 8.701887451609753, 7.999659710720448, 13.954119538865925, 7.266767068025193, 1.7595267836668584, 0.8560301178938544, 1.860652326527884, 1.0168965336572426, 0.3506033831288528, 0.21199610489545453, 0.29495600478294814, 0.26676943886860793, 0.2138143377562444, 0.38438276958815604, 0.21140732758063774, 71.05391131963529, 46.38249622766466, 73.07479212160501, 102.63173012811308, 17.730633375914522, 13.367427858745913, 17.47226504817519, 38.71053677796681, 26.6435913964105, 9.890964894744627, 17.163270482239454, 5.703595588468389, 5.636318927499602, 6.212901455082189, 6.928253243407667, 1.2822875799461286, 1.0926611530024921, 2.4561041341918255, 0.7258710343312824, 0.8436418575413107, 0.707964496548037, 0.8351781221392596, 0.7629981481657566, 0.4926455531720375, 0.41856094228621465, 0.32121038960716053, 0.2523019321249409, 0.19879667581000016, 0.19814926046132886, 0.20227642914287358, 114.75144104828954, 60.72396277978698, 36.79144590149316, 76.23638216280716, 22.2591128723951, 31.988963935427737, 15.297980781766276, 15.766010752532008, 19.000968631482767, 14.278422261836834, 6.927851628404088, 10.245034411076345, 7.35226553020927, 6.958395452418924, 5.111543238450326, 3.4350690543213767, 2.5052088667882497, 1.6335730613568011, 1.7002987976558501, 1.002490974661862, 2.4404279103142277, 2.5469759970059376, 1.6339519654307828, 2.742212222803409, 1.2705261718253278, 1.4308244612461303, 0.37650491930990704, 0.3152504468767192, 0.3176486496648113, 0.1945602388457879, 68.79563546763721, 71.35144344802848, 44.38648932593678, 21.495183683102713, 27.06138944348776, 35.1122613112049, 17.985715168710392, 9.860014149922174, 28.480850807347153, 24.683483035985052, 9.091603315788774, 7.1162462137557805, 35.701308449492416, 6.3310921535239535, 4.761184731480091, 4.684086092763307, 8.828761350853151, 3.649315246823508, 4.489416996106184, 3.1099029201878428, 6.762334876049964, 2.539575218503161, 6.273649903672453, 2.444192369871418, 0.4776437061064457, 0.49608041587212826, 0.48118253387931104, 0.31788005091056465, 0.5410878001877775, 0.4001908862199349], \"Total\": [116.0, 72.0, 77.0, 70.0, 145.0, 65.0, 146.0, 321.0, 203.0, 90.0, 63.0, 152.0, 164.0, 89.0, 70.0, 55.0, 86.0, 56.0, 58.0, 164.0, 65.0, 73.0, 91.0, 76.0, 62.0, 51.0, 54.0, 58.0, 54.0, 55.0, 58.7735547556706, 152.63324238487618, 86.28241209683179, 203.49501301881787, 164.82767816782336, 58.9851947849462, 55.49994469972083, 65.77802587923935, 54.49024756094291, 51.79960052952521, 321.94578473531476, 56.98254143847579, 54.30589457321912, 146.97524780240062, 91.06470564449582, 164.0255166324915, 89.15551665021111, 76.83994619567875, 62.6731363349736, 73.95721839863499, 77.03299243167116, 55.00944099492147, 90.56119318885898, 70.45313687497618, 65.33525932918427, 72.95443167579994, 63.47085183971258, 70.12570367954058, 145.44259550160004, 116.12393059587689, 63.47085183971258, 90.56119318885898, 56.98254143847579, 65.77802587923935, 164.0255166324915, 145.44259550160004, 76.83994619567875, 51.79960052952521, 91.06470564449582, 73.95721839863499, 321.94578473531476, 89.15551665021111, 54.49024756094291, 62.6731363349736, 55.49994469972083, 54.30589457321912, 70.45313687497618, 164.82767816782336, 203.49501301881787, 86.28241209683179, 58.7735547556706, 146.97524780240062, 152.63324238487618, 72.95443167579994, 55.00944099492147, 77.03299243167116, 70.12570367954058, 58.9851947849462, 116.12393059587689, 65.33525932918427, 72.95443167579994, 89.15551665021111, 145.44259550160004, 321.94578473531476, 62.6731363349736, 55.49994469972083, 73.95721839863499, 203.49501301881787, 152.63324238487618, 70.45313687497618, 164.82767816782336, 55.00944099492147, 58.9851947849462, 91.06470564449582, 164.0255166324915, 58.7735547556706, 54.30589457321912, 146.97524780240062, 54.49024756094291, 65.77802587923935, 63.47085183971258, 77.03299243167116, 76.83994619567875, 86.28241209683179, 90.56119318885898, 70.12570367954058, 65.33525932918427, 51.79960052952521, 56.98254143847579, 116.12393059587689, 116.12393059587689, 65.33525932918427, 55.00944099492147, 146.97524780240062, 62.6731363349736, 91.06470564449582, 51.79960052952521, 54.49024756094291, 76.83994619567875, 58.9851947849462, 54.30589457321912, 90.56119318885898, 73.95721839863499, 70.45313687497618, 55.49994469972083, 65.77802587923935, 86.28241209683179, 63.47085183971258, 89.15551665021111, 56.98254143847579, 145.44259550160004, 152.63324238487618, 164.0255166324915, 321.94578473531476, 164.82767816782336, 203.49501301881787, 72.95443167579994, 70.12570367954058, 77.03299243167116, 58.7735547556706, 70.12570367954058, 77.03299243167116, 70.45313687497618, 54.30589457321912, 73.95721839863499, 164.0255166324915, 86.28241209683179, 55.00944099492147, 164.82767816782336, 146.97524780240062, 76.83994619567875, 62.6731363349736, 321.94578473531476, 58.9851947849462, 54.49024756094291, 55.49994469972083, 152.63324238487618, 63.47085183971258, 90.56119318885898, 65.33525932918427, 145.44259550160004, 58.7735547556706, 203.49501301881787, 91.06470564449582, 56.98254143847579, 65.77802587923935, 72.95443167579994, 51.79960052952521, 89.15551665021111, 116.12393059587689], \"Category\": [\"Default\", \"Default\", \"Default\", \"Default\", \"Default\", \"Default\", \"Default\", \"Default\", \"Default\", \"Default\", \"Default\", \"Default\", \"Default\", \"Default\", \"Default\", \"Default\", \"Default\", \"Default\", \"Default\", \"Default\", \"Default\", \"Default\", \"Default\", \"Default\", \"Default\", \"Default\", \"Default\", \"Default\", \"Default\", \"Default\", \"Topic1\", \"Topic1\", \"Topic1\", \"Topic1\", \"Topic1\", \"Topic1\", \"Topic1\", \"Topic1\", \"Topic1\", \"Topic1\", \"Topic1\", \"Topic1\", \"Topic1\", \"Topic1\", \"Topic1\", \"Topic1\", \"Topic1\", \"Topic1\", \"Topic1\", \"Topic1\", \"Topic1\", \"Topic1\", \"Topic1\", \"Topic1\", \"Topic1\", \"Topic1\", \"Topic1\", \"Topic1\", \"Topic1\", \"Topic1\", \"Topic2\", \"Topic2\", \"Topic2\", \"Topic2\", \"Topic2\", \"Topic2\", \"Topic2\", \"Topic2\", \"Topic2\", \"Topic2\", \"Topic2\", \"Topic2\", \"Topic2\", \"Topic2\", \"Topic2\", \"Topic2\", \"Topic2\", \"Topic2\", \"Topic2\", \"Topic2\", \"Topic2\", \"Topic2\", \"Topic2\", \"Topic2\", \"Topic2\", \"Topic2\", \"Topic2\", \"Topic2\", \"Topic2\", \"Topic2\", \"Topic3\", \"Topic3\", \"Topic3\", \"Topic3\", \"Topic3\", \"Topic3\", \"Topic3\", \"Topic3\", \"Topic3\", \"Topic3\", \"Topic3\", \"Topic3\", \"Topic3\", \"Topic3\", \"Topic3\", \"Topic3\", \"Topic3\", \"Topic3\", \"Topic3\", \"Topic3\", \"Topic3\", \"Topic3\", \"Topic3\", \"Topic3\", \"Topic3\", \"Topic3\", \"Topic3\", \"Topic3\", \"Topic3\", \"Topic3\", \"Topic4\", \"Topic4\", \"Topic4\", \"Topic4\", \"Topic4\", \"Topic4\", \"Topic4\", \"Topic4\", \"Topic4\", \"Topic4\", \"Topic4\", \"Topic4\", \"Topic4\", \"Topic4\", \"Topic4\", \"Topic4\", \"Topic4\", \"Topic4\", \"Topic4\", \"Topic4\", \"Topic4\", \"Topic4\", \"Topic4\", \"Topic4\", \"Topic4\", \"Topic4\", \"Topic4\", \"Topic4\", \"Topic4\", \"Topic4\", \"Topic5\", \"Topic5\", \"Topic5\", \"Topic5\", \"Topic5\", \"Topic5\", \"Topic5\", \"Topic5\", \"Topic5\", \"Topic5\", \"Topic5\", \"Topic5\", \"Topic5\", \"Topic5\", \"Topic5\", \"Topic5\", \"Topic5\", \"Topic5\", \"Topic5\", \"Topic5\", \"Topic5\", \"Topic5\", \"Topic5\", \"Topic5\", \"Topic5\", \"Topic5\", \"Topic5\", \"Topic5\", \"Topic5\", \"Topic5\"], \"logprob\": [30.0, 29.0, 28.0, 27.0, 26.0, 25.0, 24.0, 23.0, 22.0, 21.0, 20.0, 19.0, 18.0, 17.0, 16.0, 15.0, 14.0, 13.0, 12.0, 11.0, 10.0, 9.0, 8.0, 7.0, 6.0, 5.0, 4.0, 3.0, 2.0, 1.0, -2.8236000537872314, -2.0780999660491943, -2.65910005569458, -1.801300048828125, -2.1666998863220215, -3.328700065612793, -3.691699981689453, -3.5643999576568604, -3.77620005607605, -3.8963000774383545, -2.160599946975708, -3.928499937057495, -4.032599925994873, -3.0792999267578125, -3.579400062561035, -3.1263999938964844, -3.8441998958587646, -4.087399959564209, -5.343800067901611, -5.298399925231934, -5.367599964141846, -5.917699813842773, -6.101900100708008, -6.613800048828125, -6.77370023727417, -7.178599834442139, -7.6975998878479, -7.662099838256836, -7.008800029754639, -7.763599872589111, -2.3775999546051025, -2.126300096511841, -2.798799991607666, -2.8577001094818115, -2.0332000255584717, -2.2892000675201416, -2.932800054550171, -3.556999921798706, -3.1988000869750977, -3.5576999187469482, -2.0875000953674316, -3.3722000122070312, -3.900399923324585, -4.0030999183654785, -4.148499965667725, -4.258299827575684, -4.34250020980835, -3.786099910736084, -4.438499927520752, -5.856800079345703, -6.577300071716309, -5.800899982452393, -6.405099868774414, -7.46999979019165, -7.9730000495910645, -7.6427998542785645, -7.743199825286865, -7.9644999504089355, -7.377999782562256, -7.975800037384033, -1.8880000114440918, -2.314500093460083, -1.8600000143051147, -1.520300030708313, -3.276099920272827, -3.5585999488830566, -3.290800094604492, -2.495300054550171, -2.8689000606536865, -3.859800100326538, -3.3087000846862793, -4.410299777984619, -4.4222002029418945, -4.32480001449585, -4.215799808502197, -5.9028000831604, -6.06279993057251, -5.252900123596191, -6.471799850463867, -6.321499824523926, -6.496799945831299, -6.331600189208984, -6.421899795532227, -6.859399795532227, -7.02239990234375, -7.287099838256836, -7.528600215911865, -7.766900062561035, -7.770199775695801, -7.749599933624268, -1.404099941253662, -2.0404999256134033, -2.541599988937378, -1.812999963760376, -3.044100046157837, -2.6814000606536865, -3.419100046157837, -3.3889999389648438, -3.2023000717163086, -3.488100051879883, -4.211299896240234, -3.819999933242798, -4.151800155639648, -4.206900119781494, -4.5152997970581055, -4.912799835205078, -5.228499889373779, -5.656099796295166, -5.616000175476074, -6.1442999839782715, -5.254700183868408, -5.211900234222412, -5.655799865722656, -5.1381001472473145, -5.907400131225586, -5.788599967956543, -7.123700141906738, -7.301199913024902, -7.293600082397461, -7.78380012512207, -1.8950999975204468, -1.8586000204086304, -2.3333001136779785, -3.0583999156951904, -2.8280999660491943, -2.567699909210205, -3.2367000579833984, -3.8376998901367188, -2.7769999504089355, -2.920099973678589, -3.9189000129699707, -4.163899898529053, -2.5510001182556152, -4.280799865722656, -4.565700054168701, -4.582099914550781, -3.948199987411499, -4.831699848175049, -4.624499797821045, -4.991600036621094, -4.214900016784668, -5.194200038909912, -4.289899826049805, -5.232500076293945, -6.865099906921387, -6.827300071716309, -6.857699871063232, -7.272299766540527, -6.7403998374938965, -7.041999816894531], \"loglift\": [30.0, 29.0, 28.0, 27.0, 26.0, 25.0, 24.0, 23.0, 22.0, 21.0, 20.0, 19.0, 18.0, 17.0, 16.0, 15.0, 14.0, 13.0, 12.0, 11.0, 10.0, 9.0, 8.0, 7.0, 6.0, 5.0, 4.0, 3.0, 2.0, 1.0, 1.0811, 0.8722, 0.8616, 0.8613, 0.7067, 0.5723, 0.2703, 0.2276, 0.2041, 0.1346, 0.0433, 0.007, -0.0489, -0.0912, -0.1126, -0.2481, -0.3563, -0.4508, -1.5034, -1.6236, -1.7335, -1.9469, -2.6296, -2.8904, -2.9749, -3.4901, -3.8699, -3.934, -4.0102, -4.5399, 1.4501, 1.346, 1.1367, 0.9343, 0.8451, 0.7094, 0.7038, 0.4739, 0.2679, 0.1171, 0.1164, 0.1157, 0.0799, -0.1628, -0.1866, -0.2746, -0.6191, -0.9127, -1.7759, -2.3361, -2.6727, -2.8129, -3.4548, -3.7815, -4.0022, -4.0087, -4.0152, -4.0635, -4.1543, -4.177, 1.8005, 1.1734, 1.1386, 0.6836, 0.5642, 0.4033, 0.384, 0.1673, 0.0814, -0.1365, -0.4353, -0.4395, -0.5212, -0.8581, -1.3375, -1.9982, -2.0791, -2.2648, -2.4915, -2.5294, -2.6691, -2.6975, -2.7854, -3.3387, -3.5501, -3.5591, -3.7298, -3.736, -3.8346, -4.5259, 1.8196, 1.7583, 1.4292, 1.1751, 0.7963, 0.7853, 0.6118, 0.5913, 0.4342, 0.4129, -0.2276, -0.3478, -0.477, -0.4835, -0.5534, -1.1208, -1.7078, -1.8283, -2.1281, -2.2088, -2.2561, -2.2617, -2.7775, -2.9341, -3.034, -3.1259, -3.4352, -3.5732, -3.6596, -3.8792, 1.8329, 1.7755, 1.3901, 0.9253, 0.8467, 0.3106, 0.284, 0.1331, 0.0964, 0.0679, -0.2823, -0.3235, -0.3471, -0.3797, -0.5854, -0.6201, -0.9979, -1.004, -1.1522, -1.1929, -1.2163, -1.2896, -1.6272, -1.7658, -2.9296, -3.0352, -3.1693, -3.2414, -3.2525, -3.8184]}, \"token.table\": {\"Topic\": [1, 2, 4, 5, 1, 2, 3, 4, 5, 1, 2, 3, 4, 5, 1, 2, 3, 4, 5, 1, 2, 3, 4, 5, 1, 2, 4, 5, 1, 2, 3, 4, 5, 1, 3, 5, 1, 2, 4, 1, 2, 3, 4, 5, 1, 2, 3, 4, 5, 1, 2, 3, 4, 5, 1, 2, 3, 4, 5, 1, 2, 3, 4, 5, 1, 2, 3, 5, 1, 4, 5, 4, 1, 2, 3, 4, 5, 5, 1, 3, 4, 5, 1, 2, 4, 1, 3, 4, 5, 1, 2, 3, 4, 5, 1, 2, 3, 4, 5, 1, 2, 3, 4, 5, 1, 2, 3, 4, 5, 2, 3, 4, 5, 1, 2, 3, 4, 5, 1, 3, 1, 2, 3, 4], \"Freq\": [0.022084514675387957, 0.8060847856516604, 0.11042257337693978, 0.044169029350775914, 0.06382319816613155, 0.17551379495686179, 0.287204391747592, 0.35102758991372357, 0.11169059679073022, 0.6309619910686957, 0.08493719110540134, 0.10313801777084447, 0.006066942221814381, 0.16987438221080267, 0.2857624030439906, 0.013607733478285268, 0.013607733478285268, 0.5170938721748402, 0.17009666847856583, 0.41441482733793955, 0.18018035971214763, 0.23423446762579192, 0.09009017985607382, 0.09009017985607382, 0.7417502413837828, 0.02317969504324321, 0.034769542564864815, 0.2086172553891889, 0.1952109643830484, 0.4294641216427065, 0.013014064292203227, 0.24726722155186132, 0.11712657862982905, 0.05192580313620855, 0.012981450784052138, 0.9216830056677018, 0.347493027281942, 0.347493027281942, 0.2895775227349517, 0.0068755648684019725, 0.4262850218409223, 0.501916235393344, 0.013751129736803945, 0.04812895407881381, 0.06760665298483269, 0.2433839507453977, 0.22986262014843117, 0.09464931417876578, 0.3650759261180966, 0.24386449633700757, 0.49382560508244033, 0.04267628685897633, 0.01219322481685038, 0.21338143429488163, 0.21311076099243276, 0.23554347267584674, 0.5159523687185215, 0.022432711683413976, 0.011216355841706988, 0.27453006983404293, 0.27453006983404293, 0.0658872167601703, 0.35139848938757495, 0.021962405586723435, 0.9187805676291846, 0.017014454956096013, 0.017014454956096013, 0.05104336486828803, 0.015305671245010505, 0.9336459459456408, 0.045917013735031514, 0.990321283562229, 0.32614186915453774, 0.23606459100709398, 0.31992964307540367, 0.009318339118701079, 0.11182006942441294, 0.983947345688183, 0.036357395454802786, 0.10907218636440837, 0.6726118159138516, 0.18178697727401394, 0.3158862266512744, 0.6493216881165085, 0.017549234813959688, 0.5594624230760705, 0.10172044055928554, 0.23734769463833294, 0.10172044055928554, 0.7468884118476657, 0.00655165273550584, 0.17689462385865767, 0.019654958206517522, 0.05896487461955256, 0.7371188009709555, 0.03439887737864459, 0.19165088825244841, 0.00491412533980637, 0.029484752038838217, 0.3853900640938217, 0.2202228937678981, 0.01835190781399151, 0.29363052502386416, 0.09175953906995754, 0.014193832160725037, 0.1135506572858003, 0.14193832160725037, 0.09935682512507527, 0.6245286150719016, 0.8980500237171248, 0.015755263573984647, 0.03151052714796929, 0.06302105429593859, 0.294627316716561, 0.16572786565306555, 0.018414207294785063, 0.12889945106349543, 0.3866983531904863, 0.013707186486543692, 0.9732102405446021, 0.39526877939044436, 0.5320925876409828, 0.015202645361170938, 0.04560793608351281], \"Term\": [\"!\", \"!\", \"!\", \"!\", \"&\", \"&\", \"&\", \"&\", \"&\", \",\", \",\", \",\", \",\", \",\", \"-\", \"-\", \"-\", \"-\", \"-\", \".\", \".\", \".\", \".\", \".\", \"/\", \"/\", \"/\", \"/\", \"1\", \"1\", \"1\", \"1\", \"1\", \"2\", \"2\", \"2\", \"and\", \"and\", \"and\", \"apartment\", \"apartment\", \"apartment\", \"apartment\", \"apartment\", \"apt\", \"apt\", \"apt\", \"apt\", \"apt\", \"bedroom\", \"bedroom\", \"bedroom\", \"bedroom\", \"bedroom\", \"brooklyn\", \"brooklyn\", \"brooklyn\", \"brooklyn\", \"brooklyn\", \"cozy\", \"cozy\", \"cozy\", \"cozy\", \"cozy\", \"east\", \"east\", \"east\", \"east\", \"from\", \"from\", \"from\", \"home\", \"in\", \"in\", \"in\", \"in\", \"in\", \"manhattan\", \"near\", \"near\", \"near\", \"near\", \"nyc\", \"nyc\", \"nyc\", \"park\", \"park\", \"park\", \"park\", \"private\", \"private\", \"private\", \"private\", \"private\", \"room\", \"room\", \"room\", \"room\", \"room\", \"spacious\", \"spacious\", \"spacious\", \"spacious\", \"spacious\", \"studio\", \"studio\", \"studio\", \"studio\", \"studio\", \"the\", \"the\", \"the\", \"the\", \"to\", \"to\", \"to\", \"to\", \"to\", \"williamsburg\", \"williamsburg\", \"with\", \"with\", \"with\", \"with\"]}, \"R\": 30, \"lambda.step\": 0.01, \"plot.opts\": {\"xlab\": \"PC1\", \"ylab\": \"PC2\"}, \"topic.order\": [2, 4, 5, 3, 1]};\n",
              "\n",
              "function LDAvis_load_lib(url, callback){\n",
              "  var s = document.createElement('script');\n",
              "  s.src = url;\n",
              "  s.async = true;\n",
              "  s.onreadystatechange = s.onload = callback;\n",
              "  s.onerror = function(){console.warn(\"failed to load library \" + url);};\n",
              "  document.getElementsByTagName(\"head\")[0].appendChild(s);\n",
              "}\n",
              "\n",
              "if(typeof(LDAvis) !== \"undefined\"){\n",
              "   // already loaded: just create the visualization\n",
              "   !function(LDAvis){\n",
              "       new LDAvis(\"#\" + \"ldavis_el38397140329289894368994979735\", ldavis_el38397140329289894368994979735_data);\n",
              "   }(LDAvis);\n",
              "}else if(typeof define === \"function\" && define.amd){\n",
              "   // require.js is available: use it to load d3/LDAvis\n",
              "   require.config({paths: {d3: \"https://cdnjs.cloudflare.com/ajax/libs/d3/3.5.5/d3.min\"}});\n",
              "   require([\"d3\"], function(d3){\n",
              "      window.d3 = d3;\n",
              "      LDAvis_load_lib(\"https://cdn.rawgit.com/bmabey/pyLDAvis/files/ldavis.v1.0.0.js\", function(){\n",
              "        new LDAvis(\"#\" + \"ldavis_el38397140329289894368994979735\", ldavis_el38397140329289894368994979735_data);\n",
              "      });\n",
              "    });\n",
              "}else{\n",
              "    // require.js not available: dynamically load d3 & LDAvis\n",
              "    LDAvis_load_lib(\"https://cdnjs.cloudflare.com/ajax/libs/d3/3.5.5/d3.min.js\", function(){\n",
              "         LDAvis_load_lib(\"https://cdn.rawgit.com/bmabey/pyLDAvis/files/ldavis.v1.0.0.js\", function(){\n",
              "                 new LDAvis(\"#\" + \"ldavis_el38397140329289894368994979735\", ldavis_el38397140329289894368994979735_data);\n",
              "            })\n",
              "         });\n",
              "}\n",
              "</script>"
            ],
            "text/plain": [
              "<IPython.core.display.HTML object>"
            ]
          },
          "metadata": {
            "tags": []
          },
          "execution_count": 103
        }
      ]
    },
    {
      "cell_type": "markdown",
      "metadata": {
        "id": "kENh3FG6vOJX"
      },
      "source": [
        "# Activity\n",
        "\n",
        "- Preprocess the texts\n",
        "- Repeat the preprocessing steps and running of the topic model with preprocessed texts (can also play around with other parameters like n_topics)- what seems to produce useful topics?\n",
        "\n",
        "\n",
        "If you get stuck on the preprocessing part, you can use below function and I show example of how to apply"
      ]
    },
    {
      "cell_type": "code",
      "metadata": {
        "id": "zjvzVA3uvOJX"
      },
      "source": [
        ""
      ],
      "execution_count": null,
      "outputs": []
    },
    {
      "cell_type": "code",
      "metadata": {
        "id": "AjAw7t3GvOJX"
      },
      "source": [
        "def processtext(row, colname):\n",
        "    \n",
        "    string_of_col = str(row[colname])\n",
        "    try:\n",
        "        processed_string = \" \".join([porter.stem(i.lower()) for i in wordpunct_tokenize(string_of_col) if \n",
        "                        i.lower().isalpha() and len(i) >=3])  \n",
        "        return(processed_string)\n",
        "    except:\n",
        "        processed_string = \"\" # to handle data errors where not actually text\n",
        "        return(processed_string)\n",
        "\n",
        "# ab_small['text_preprocess'] = ab_small.apply(processtext,\n",
        "#                             axis = 1,\n",
        "#                             args = [\"name_lower\"])\n",
        "# ab_small.head()"
      ],
      "execution_count": null,
      "outputs": []
    }
  ]
}