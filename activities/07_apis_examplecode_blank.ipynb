{
  "nbformat": 4,
  "nbformat_minor": 0,
  "metadata": {
    "kernelspec": {
      "display_name": "Python 3",
      "language": "python",
      "name": "python3"
    },
    "language_info": {
      "codemirror_mode": {
        "name": "ipython",
        "version": 3
      },
      "file_extension": ".py",
      "mimetype": "text/x-python",
      "name": "python",
      "nbconvert_exporter": "python",
      "pygments_lexer": "ipython3",
      "version": "3.8.3"
    },
    "colab": {
      "name": "07_apis_examplecode_blank.ipynb",
      "provenance": [],
      "include_colab_link": true
    }
  },
  "cells": [
    {
      "cell_type": "markdown",
      "metadata": {
        "id": "view-in-github",
        "colab_type": "text"
      },
      "source": [
        "<a href=\"https://colab.research.google.com/github/andrew66882011/qss20_slides_activities/blob/main/activities/07_apis_examplecode_blank.ipynb\" target=\"_parent\"><img src=\"https://colab.research.google.com/assets/colab-badge.svg\" alt=\"Open In Colab\"/></a>"
      ]
    },
    {
      "cell_type": "code",
      "metadata": {
        "id": "3ijeswfD30vw"
      },
      "source": [
        "## imports\n",
        "import pandas as pd\n",
        "import numpy as np\n",
        "import re\n",
        "import requests\n",
        "import yaml\n",
        "\n",
        "\n",
        "## repeated printouts\n",
        "from IPython.core.interactiveshell import InteractiveShell\n",
        "InteractiveShell.ast_node_interactivity = \"all\""
      ],
      "execution_count": null,
      "outputs": []
    },
    {
      "cell_type": "markdown",
      "metadata": {
        "id": "qTib6z2R30vy"
      },
      "source": [
        "# Example 1: no credentials; no wrapper\n",
        "\n",
        "Site: National Assessment of Education Progress (NAEP)\n",
        "\n",
        "Documentation: https://www.nationsreportcard.gov/api_documentation.aspx\n",
        "\n",
        "Base link: https://www.nationsreportcard.gov/DataService/GetAdhocData.aspx "
      ]
    },
    {
      "cell_type": "markdown",
      "metadata": {
        "id": "uTIniW7N30vz"
      },
      "source": [
        "## Query returns something"
      ]
    },
    {
      "cell_type": "code",
      "metadata": {
        "id": "zAJGG-Or30vz"
      },
      "source": [
        "## using their example query of 2011 writing scores separated by gender\n",
        "## based on here - https://stackoverflow.com/questions/40836749/pythonic-way-of-writing-a-single-line-long-string\n",
        "## using the ( ) syntax to formulate a long\n",
        "## string without linebreaks added\n",
        "example_naep_query = (\n",
        "'https://www.nationsreportcard.gov/'\n",
        "'Dataservice/GetAdhocData.aspx?'\n",
        "'type=data&subject=writing&grade=8&'\n",
        "'subscale=WRIRP&variable=GENDER&jurisdiction=NP&stattype=MN:MN&Year=2011')\n",
        "\n",
        "\n",
        "example_naep_query\n"
      ],
      "execution_count": null,
      "outputs": []
    },
    {
      "cell_type": "code",
      "metadata": {
        "id": "UxVyb0fA30v1"
      },
      "source": [
        "## use requests to call the api\n",
        "naep_resp = requests.get(example_naep_query)\n",
        "naep_resp\n",
        "print(type(naep_resp))\n",
        "\n",
        "## get the json contents of the response \n",
        "## here, we're assuming valid response\n",
        "naep_resp_j = naep_resp.json()\n",
        "naep_resp_j\n",
        "\n",
        "## with result, turn it into a dataframe\n",
        "naep_resp_d = pd.DataFrame(naep_resp_j['result'])\n",
        "naep_resp_d"
      ],
      "execution_count": null,
      "outputs": []
    },
    {
      "cell_type": "markdown",
      "metadata": {
        "id": "JajWO-b-30v2"
      },
      "source": [
        "## What happens if there's an error in our query?"
      ]
    },
    {
      "cell_type": "code",
      "metadata": {
        "id": "_3WnQXeY30v2"
      },
      "source": [
        "## here's a query that from the documentation we know\n",
        "## won't work since i modified year to 2025 which doesnt\n",
        "## exist in the data\n",
        "wrong_naep_query = (\n",
        "'https://www.nationsreportcard.gov/'\n",
        "'Dataservice/GetAdhocData.aspx?'\n",
        "'type=data&subject=writing&grade=8&'\n",
        "'subscale=WRIRP&variable=GENDER&jurisdiction=NP&stattype=MN:MN&Year=2025')\n",
        "\n",
        "wrong_naep_query"
      ],
      "execution_count": null,
      "outputs": []
    },
    {
      "cell_type": "code",
      "metadata": {
        "id": "sMXUwVv230v3"
      },
      "source": [
        "## use requests to call the api\n",
        "naep_wrong_resp = requests.get(wrong_naep_query)\n",
        "naep_wrong_resp\n",
        "\n",
        "## in the case of this particular api,\n",
        "## the call returns some response but\n",
        "## when we try to extract the json containing\n",
        "## status or results, we get in an error\n",
        "naep_wrong_resp.json()"
      ],
      "execution_count": null,
      "outputs": []
    },
    {
      "cell_type": "markdown",
      "metadata": {
        "id": "X2y09qS-30v3"
      },
      "source": [
        "### More all-purpose way of allowing remainder of calls to run: try, except"
      ]
    },
    {
      "cell_type": "code",
      "metadata": {
        "id": "nZTOpJOK30v3"
      },
      "source": [
        "## putting it in a try; except as general error catching\n",
        "try:\n",
        "    results = naep_wrong_resp.json()['result']\n",
        "except:\n",
        "    pass"
      ],
      "execution_count": null,
      "outputs": []
    },
    {
      "cell_type": "markdown",
      "metadata": {
        "id": "XAFABE7J30v4"
      },
      "source": [
        "### Can usually also find more targeted way but that varies more across APIs"
      ]
    },
    {
      "cell_type": "code",
      "metadata": {
        "id": "lxrNsOX230v4"
      },
      "source": [
        "## if we wanted do more specific error catching,\n",
        "## see that the status == 400 actually appears here\n",
        "## so could write if else along thos elines\n",
        "naep_wrong_resp.text\n",
        "naep_resp.text\n",
        "\n",
        "if \"System.Exception\" in naep_wrong_resp.text:\n",
        "    print(\"NAEP results not found\")"
      ],
      "execution_count": null,
      "outputs": []
    },
    {
      "cell_type": "markdown",
      "metadata": {
        "id": "NSUZaf2-30v5"
      },
      "source": [
        "## Writing a function to make multiple, sequential calls\n",
        "\n",
        "- Say we want to pull the data for grades 4, 8, and 12\n",
        "- How can we write a function that iterates over a list of those grades and pulls the data for each grade?\n",
        "\n",
        "**Note**: an ideal function would have arguments for each parameter in the API like subject, subscale, etc. Here we can leave those other parts constant"
      ]
    },
    {
      "cell_type": "code",
      "metadata": {
        "id": "xtqjWYA230v5"
      },
      "source": [
        "\n",
        "\n",
        "\n"
      ],
      "execution_count": null,
      "outputs": []
    },
    {
      "cell_type": "markdown",
      "metadata": {
        "id": "sE9ao0e830v5"
      },
      "source": [
        "# Example 2: needs credentials; no wrapper"
      ]
    },
    {
      "cell_type": "code",
      "metadata": {
        "id": "LPs20nPd30v5"
      },
      "source": [
        "## load creds\n",
        "with open(\"../private_data/my_cred.yaml\", 'r') as stream:\n",
        "    try:\n",
        "        creds = yaml.safe_load(stream)\n",
        "    except yaml.YAMLError as exc:\n",
        "        print(exc)\n",
        "\n",
        "## get the key\n",
        "API_KEY = creds['yelp_api']['api_key']"
      ],
      "execution_count": null,
      "outputs": []
    },
    {
      "cell_type": "code",
      "metadata": {
        "id": "87mPq4_w30v6"
      },
      "source": [
        "## use documentation to define what to search\n",
        "## doc: https://www.yelp.com/developers/documentation/v3/business_search\n",
        "## write the query \n",
        "base_url = \"https://api.yelp.com/v3/businesses/search?\"\n",
        "my_name = \"restaurants\"\n",
        "my_location = \"Hanover,NH,03755\"\n",
        "yelp_genquery = ('{base_url}'\n",
        "                'term={name}'\n",
        "                '&location={loc}').format(base_url = base_url,\n",
        "                name = my_name,\n",
        "                loc = my_location)\n",
        "\n",
        "## use requests to call the API; here, we're\n",
        "## passing it our credentials (structure varies\n",
        "## by API and telling it to only return 10 results\n",
        "## (max is 50 at once)\n",
        "header = {'Authorization': f\"Bearer {API_KEY}\"}\n",
        "yelp_genresp = requests.get(yelp_genquery, headers = header)\n",
        "yelp_genresp\n",
        "\n",
        "## then, look at structure of response\n",
        "yelp_genjson = yelp_genresp.json()\n"
      ],
      "execution_count": null,
      "outputs": []
    },
    {
      "cell_type": "code",
      "metadata": {
        "id": "xjc4dmPt30v6"
      },
      "source": [
        "## example business\n",
        "yelp_genjson['businesses'][0]\n",
        "\n",
        "## more automatic way of summarizing but things end up in lists\n",
        "## within columns for things like categories\n",
        "yelp_gendf = pd.DataFrame(yelp_genjson['businesses'])\n",
        "yelp_gendf.head()"
      ],
      "execution_count": null,
      "outputs": []
    },
    {
      "cell_type": "code",
      "metadata": {
        "id": "-KvCKvgc30v7"
      },
      "source": [
        "## more data-specific way of summarizing\n",
        "## we're doing a simple approach and just retaining\n",
        "## cols that have a simple str structure\n",
        "## if doing for real, would want to extract things\n",
        "def clean_yelp_json(one_biz):\n",
        "\n",
        "    ## restrict to str cols\n",
        "    d_str = {key:value for key, value in one_biz.items() if type(value) == str}\n",
        "    \n",
        "    df_str = pd.DataFrame(d_str, index = [d_str['id']])\n",
        "    return(df_str)\n",
        "\n",
        "yelp_stronly = [clean_yelp_json(one_b) for one_b in yelp_genjson['businesses']]\n",
        "yelp_stronly_df = pd.concat(yelp_stronly)\n",
        "\n",
        "yelp_stronly_df.head(7)\n"
      ],
      "execution_count": null,
      "outputs": []
    },
    {
      "cell_type": "markdown",
      "metadata": {
        "id": "xngzSeEc30v8"
      },
      "source": [
        "# Activity\n",
        "\n",
        "- Try running a business search query for your hometown or another place by constructing a query similar to `yelp_genquery` but changing the location parameter\n",
        "- Other endpoints require feeding what's called the fusion id into the API. Take an id from `yelp_stronly.id` and use the documentation here to pull the reviews for that business: https://www.yelp.com/developers/documentation/v3/business_reviews\n",
        "- **Challenge**: generalize the previous step by writing a function that (1) takes a list of ids as an input, (2) calls the reviews API for each id, (3) returns the results, and (4) rowbinds all results\n"
      ]
    },
    {
      "cell_type": "code",
      "metadata": {
        "id": "DXiYv14030v8"
      },
      "source": [
        ""
      ],
      "execution_count": null,
      "outputs": []
    }
  ]
}