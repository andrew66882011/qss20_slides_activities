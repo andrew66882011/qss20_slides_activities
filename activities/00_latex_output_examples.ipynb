{
  "nbformat": 4,
  "nbformat_minor": 0,
  "metadata": {
    "kernelspec": {
      "display_name": "Python 3",
      "language": "python",
      "name": "python3"
    },
    "language_info": {
      "codemirror_mode": {
        "name": "ipython",
        "version": 3
      },
      "file_extension": ".py",
      "mimetype": "text/x-python",
      "name": "python",
      "nbconvert_exporter": "python",
      "pygments_lexer": "ipython3",
      "version": "3.8.3"
    },
    "colab": {
      "name": "00_latex_output_examples.ipynb",
      "provenance": [],
      "include_colab_link": true
    }
  },
  "cells": [
    {
      "cell_type": "markdown",
      "metadata": {
        "id": "view-in-github",
        "colab_type": "text"
      },
      "source": [
        "<a href=\"https://colab.research.google.com/github/andrew66882011/qss20_slides_activities/blob/main/activities/00_latex_output_examples.ipynb\" target=\"_parent\"><img src=\"https://colab.research.google.com/assets/colab-badge.svg\" alt=\"Open In Colab\"/></a>"
      ]
    },
    {
      "cell_type": "code",
      "metadata": {
        "id": "3UZYRq2hUOJU"
      },
      "source": [
        "## imports\n",
        "import pandas as pd\n",
        "import numpy as np\n",
        "import plotnine\n",
        "from plotnine import *\n",
        "import random\n",
        "\n",
        "## print multiple things from same cell\n",
        "from IPython.core.interactiveshell import InteractiveShell\n",
        "InteractiveShell.ast_node_interactivity = \"all\"\n"
      ],
      "execution_count": null,
      "outputs": []
    },
    {
      "cell_type": "markdown",
      "metadata": {
        "id": "0qvzRLC4UOJW"
      },
      "source": [
        "# Example code"
      ]
    },
    {
      "cell_type": "markdown",
      "metadata": {
        "id": "XQHjKc02UOJX"
      },
      "source": [
        "## Load data"
      ]
    },
    {
      "cell_type": "code",
      "metadata": {
        "id": "zq4osFA4UOJX"
      },
      "source": [
        "## load data on 2020 crimes in DC\n",
        "dc_crim_2020 = pd.read_csv(\"https://opendata.arcgis.com/datasets/f516e0dd7b614b088ad781b0c4002331_2.csv\")\n",
        "dc_crim_2020.head()\n",
        "dc_crim_2020.shape\n",
        "dc_crim_2020.info()\n"
      ],
      "execution_count": null,
      "outputs": []
    },
    {
      "cell_type": "markdown",
      "metadata": {
        "id": "7KJyESd7UOJY"
      },
      "source": [
        "## Example of creating a table to export to latex\n",
        "\n"
      ]
    },
    {
      "cell_type": "code",
      "metadata": {
        "id": "cbxRO_jHUOJY"
      },
      "source": [
        "method_v_offense = pd.crosstab(dc_crim_2020.METHOD, \n",
        "                              dc_crim_2020.OFFENSE)\n",
        "method_v_offense\n",
        "\n",
        "## method 1- transpose and print a table to console to copy/paste\n",
        "print(method_v_offense.T.to_latex(index = False, caption = \"Types of weapons in offenses\",\n",
        "                                 label = \"tab:method_offense\"))\n",
        "\n",
        "## method 2- write .tex to folder and upload to overleaf/reference the tex file directly \n",
        "method_v_offense.T.to_latex(\"methodoffense.tex\", \n",
        "                            index = False, caption = \"Types of weapons in offenses\",\n",
        "                            label = \"tab:method_offense_written\")\n",
        "\n",
        "\n",
        "## for method 2, if working with latex locally, can also then\n",
        "## just reference the filepath directly rather than uploading to overleaf"
      ],
      "execution_count": null,
      "outputs": []
    },
    {
      "cell_type": "markdown",
      "metadata": {
        "id": "6xC0nWKUUOJZ"
      },
      "source": [
        "## Example of creating a figure to export \n"
      ]
    },
    {
      "cell_type": "code",
      "metadata": {
        "id": "UEmdgwuiUOJZ"
      },
      "source": [
        "## create a fig with the count of crimes by shift \n",
        "\n",
        "count_byshift = pd.DataFrame(dc_crim_2020.groupby('SHIFT')['OCTO_RECORD_ID'].nunique()).reset_index()\n",
        "count_byshift\n",
        "\n",
        "plot_shifts = (ggplot(count_byshift, aes(x = 'SHIFT', \n",
        "                                       y = 'OCTO_RECORD_ID')) +\n",
        "            geom_bar(stat = \"identity\", fill = \"firebrick\") +\n",
        "            theme_classic() +\n",
        "            xlab(\"Which shift?\") +\n",
        "            ylab(\"Count of crimes\") +\n",
        "            theme(axis_text = element_text(size = 14, color = \"black\")))\n",
        "plot_shifts\n",
        "\n",
        "## method 1- (would avoid)- can left click and save image\n",
        "\n",
        "## method 2 - write image\n",
        "plot_shifts.save(\"plot_shifts.png\", \n",
        "                width = 12,\n",
        "                height = 8,\n",
        "                verbose = False)"
      ],
      "execution_count": null,
      "outputs": []
    },
    {
      "cell_type": "markdown",
      "metadata": {
        "id": "blFZ_RcUUOJa"
      },
      "source": [
        "# Activity "
      ]
    },
    {
      "cell_type": "markdown",
      "metadata": {
        "id": "MK6LbTCUUOJa"
      },
      "source": [
        "1. You decide the table is only informative for crimes where there's variation in the the type of method used. Filter and create a new table that only includes offenses where <80% of the methods == other.\n",
        "\n",
        "2. Create a table to export to latex with that filtered information. Ideally programmatically rather than manually, create a caption that specifies which offenses are excluded from the table. In LaTeX, write a few bullet points summarizing what the figure shows. Have one bullet point define the fraction using mathematical notation\n",
        "\n",
        "3. With that filtered set of offenses, create a figure where the x axis is the type of offense and the y axis is the proportion of that offense where a gun is used. Order the x axis from highest to lowest. Export for latex.\n",
        "\n",
        "4. *Challenge exercise*: an analyst on a different team wants a breakdown of how the workload varies by shift. They want a separate figure for each of the ANCs in ward 8 (ANC starts with 8). Using a loop or function, write a separate bar plot for each ANC and make sure to programatically change the name of the plot filename so you know which is which. "
      ]
    }
  ]
}