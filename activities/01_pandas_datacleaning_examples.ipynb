{
  "nbformat": 4,
  "nbformat_minor": 0,
  "metadata": {
    "kernelspec": {
      "display_name": "Python 3",
      "language": "python",
      "name": "python3"
    },
    "language_info": {
      "codemirror_mode": {
        "name": "ipython",
        "version": 3
      },
      "file_extension": ".py",
      "mimetype": "text/x-python",
      "name": "python",
      "nbconvert_exporter": "python",
      "pygments_lexer": "ipython3",
      "version": "3.8.3"
    },
    "colab": {
      "name": "01_pandas_datacleaning_examples.ipynb",
      "provenance": [],
      "include_colab_link": true
    }
  },
  "cells": [
    {
      "cell_type": "markdown",
      "metadata": {
        "id": "view-in-github",
        "colab_type": "text"
      },
      "source": [
        "<a href=\"https://colab.research.google.com/github/andrew66882011/qss20_slides_activities/blob/main/activities/01_pandas_datacleaning_examples.ipynb\" target=\"_parent\"><img src=\"https://colab.research.google.com/assets/colab-badge.svg\" alt=\"Open In Colab\"/></a>"
      ]
    },
    {
      "cell_type": "markdown",
      "metadata": {
        "id": "npqY4HU7VJF6"
      },
      "source": [
        "# Imports"
      ]
    },
    {
      "cell_type": "code",
      "metadata": {
        "id": "91tqh555VJF9"
      },
      "source": [
        "import pandas as pd\n",
        "import numpy as np\n",
        "import re\n",
        "\n",
        "## repeated printouts\n",
        "from IPython.core.interactiveshell import InteractiveShell\n",
        "InteractiveShell.ast_node_interactivity = \"all\""
      ],
      "execution_count": null,
      "outputs": []
    },
    {
      "cell_type": "code",
      "metadata": {
        "id": "aKJjvualVJF-",
        "outputId": "e924f1bc-3f1f-44d3-b57f-523f91c4be81"
      },
      "source": [
        "# Load small sample of the Chicago restaurant inspections data\n",
        "\n",
        "\n",
        "inspec = pd.read_csv('https://data.cityofchicago.org/api/views/4ijn-s7e5/rows.csv?accessType=DOWNLOAD',\n",
        "                    nrows = 500)\n",
        "\n",
        "\n",
        "inspec.shape\n",
        "inspec.info()"
      ],
      "execution_count": null,
      "outputs": [
        {
          "output_type": "execute_result",
          "data": {
            "text/plain": [
              "(500, 17)"
            ]
          },
          "metadata": {
            "tags": []
          },
          "execution_count": 53
        },
        {
          "output_type": "stream",
          "text": [
            "<class 'pandas.core.frame.DataFrame'>\n",
            "RangeIndex: 500 entries, 0 to 499\n",
            "Data columns (total 17 columns):\n",
            " #   Column           Non-Null Count  Dtype  \n",
            "---  ------           --------------  -----  \n",
            " 0   Inspection ID    500 non-null    int64  \n",
            " 1   DBA Name         500 non-null    object \n",
            " 2   AKA Name         494 non-null    object \n",
            " 3   License #        500 non-null    int64  \n",
            " 4   Facility Type    491 non-null    object \n",
            " 5   Risk             500 non-null    object \n",
            " 6   Address          500 non-null    object \n",
            " 7   City             500 non-null    object \n",
            " 8   State            500 non-null    object \n",
            " 9   Zip              500 non-null    int64  \n",
            " 10  Inspection Date  500 non-null    object \n",
            " 11  Inspection Type  500 non-null    object \n",
            " 12  Results          500 non-null    object \n",
            " 13  Violations       95 non-null     object \n",
            " 14  Latitude         497 non-null    float64\n",
            " 15  Longitude        497 non-null    float64\n",
            " 16  Location         497 non-null    object \n",
            "dtypes: float64(2), int64(3), object(12)\n",
            "memory usage: 66.5+ KB\n"
          ],
          "name": "stdout"
        }
      ]
    },
    {
      "cell_type": "markdown",
      "metadata": {
        "id": "ehjG7wlfVJF_"
      },
      "source": [
        "## Cleaning columns and list comprehension"
      ]
    },
    {
      "cell_type": "code",
      "metadata": {
        "id": "-YADXQSOVJF_",
        "outputId": "a61d3703-c452-4e60-d05b-706011a025fa"
      },
      "source": [
        "## Cleaning columns\n",
        "print(inspec.columns)\n",
        "print(type(inspec.columns))"
      ],
      "execution_count": null,
      "outputs": [
        {
          "output_type": "stream",
          "text": [
            "Index(['Inspection ID', 'DBA Name', 'AKA Name', 'License #', 'Facility Type',\n",
            "       'Risk', 'Address', 'City', 'State', 'Zip', 'Inspection Date',\n",
            "       'Inspection Type', 'Results', 'Violations', 'Latitude', 'Longitude',\n",
            "       'Location'],\n",
            "      dtype='object')\n",
            "<class 'pandas.core.indexes.base.Index'>\n"
          ],
          "name": "stdout"
        }
      ]
    },
    {
      "cell_type": "code",
      "metadata": {
        "id": "zYIZyaTVVJGA",
        "outputId": "a34fae83-17d2-4a3e-fade-c17c6d0a3ce9"
      },
      "source": [
        "## want to:\n",
        "## 1. remove spaces\n",
        "## 2. make lowercase\n",
        "## 3. remove char like # that will cause issues\n",
        "\n",
        "cleaner_cols = [re.sub(\"\\s|\\#\", '', col.lower()) for col in inspec.columns]\n",
        "print(cleaner_cols)\n",
        "\n",
        "## assign back to main data\n",
        "inspec.columns = cleaner_cols\n",
        "\n",
        "#inspec.head()\n",
        "\n",
        "## can also use to pull out columns with a particular\n",
        "## pattern in their name -- eg could pull\n",
        "## out anything with name in the str\n",
        "name_cols = [col for col in inspec.columns if \"name\" in col]\n",
        "print(name_cols)"
      ],
      "execution_count": null,
      "outputs": [
        {
          "output_type": "stream",
          "text": [
            "['inspectionid', 'dbaname', 'akaname', 'license', 'facilitytype', 'risk', 'address', 'city', 'state', 'zip', 'inspectiondate', 'inspectiontype', 'results', 'violations', 'latitude', 'longitude', 'location']\n",
            "['dbaname', 'akaname']\n"
          ],
          "name": "stdout"
        }
      ]
    },
    {
      "cell_type": "markdown",
      "metadata": {
        "id": "N0Ep94_6VJGA"
      },
      "source": [
        "## Checking datatypes and recasting if needed"
      ]
    },
    {
      "cell_type": "code",
      "metadata": {
        "id": "yVAomvj_VJGB",
        "outputId": "fe308e26-3aa6-4810-b31c-411b36b10eee"
      },
      "source": [
        "inspec.dtypes\n",
        "\n",
        "## see two major issues\n",
        "## want to treat license as string rather than int\n",
        "## esp in risk there are leading zeros\n",
        "\n",
        "## want to make sure inspectiondate is treated as datetime\n",
        "\n",
        "## see here for good crosswalk between pandas series \n",
        "## dtypes and numpy dtypes\n",
        "## https://pbpython.com/pandas_dtypes.html"
      ],
      "execution_count": null,
      "outputs": [
        {
          "output_type": "execute_result",
          "data": {
            "text/plain": [
              "inspectionid        int64\n",
              "dbaname            object\n",
              "akaname            object\n",
              "license             int64\n",
              "facilitytype       object\n",
              "risk               object\n",
              "address            object\n",
              "city               object\n",
              "state              object\n",
              "zip                 int64\n",
              "inspectiondate     object\n",
              "inspectiontype     object\n",
              "results            object\n",
              "violations         object\n",
              "latitude          float64\n",
              "longitude         float64\n",
              "location           object\n",
              "dtype: object"
            ]
          },
          "metadata": {
            "tags": []
          },
          "execution_count": 56
        }
      ]
    },
    {
      "cell_type": "code",
      "metadata": {
        "id": "a8W8L7DdVJGB",
        "outputId": "907a582e-80b6-424d-8996-d89d8bf5aebb"
      },
      "source": [
        "## recasting license # (in this case, i'm writing as new var)\n",
        "## could also write over original var by just saving with same name\n",
        "inspec['license_derived'] = inspec.license.astype(str)\n",
        "inspec.dtypes\n",
        "\n",
        "inspec[['license', 'license_derived']].head()\n",
        "\n",
        "## then, recasting inspectiondate to be datetime (no time in this case)\n",
        "inspec['inspectiondate_derived'] = pd.to_datetime(inspec.inspectiondate)\n",
        "inspec[[col for col in inspec.columns if \"inspectiondate\" in col]].head()\n",
        "\n"
      ],
      "execution_count": null,
      "outputs": [
        {
          "output_type": "execute_result",
          "data": {
            "text/plain": [
              "inspectionid         int64\n",
              "dbaname             object\n",
              "akaname             object\n",
              "license              int64\n",
              "facilitytype        object\n",
              "risk                object\n",
              "address             object\n",
              "city                object\n",
              "state               object\n",
              "zip                  int64\n",
              "inspectiondate      object\n",
              "inspectiontype      object\n",
              "results             object\n",
              "violations          object\n",
              "latitude           float64\n",
              "longitude          float64\n",
              "location            object\n",
              "license_derived     object\n",
              "dtype: object"
            ]
          },
          "metadata": {
            "tags": []
          },
          "execution_count": 57
        },
        {
          "output_type": "execute_result",
          "data": {
            "text/html": [
              "<div>\n",
              "<style scoped>\n",
              "    .dataframe tbody tr th:only-of-type {\n",
              "        vertical-align: middle;\n",
              "    }\n",
              "\n",
              "    .dataframe tbody tr th {\n",
              "        vertical-align: top;\n",
              "    }\n",
              "\n",
              "    .dataframe thead th {\n",
              "        text-align: right;\n",
              "    }\n",
              "</style>\n",
              "<table border=\"1\" class=\"dataframe\">\n",
              "  <thead>\n",
              "    <tr style=\"text-align: right;\">\n",
              "      <th></th>\n",
              "      <th>license</th>\n",
              "      <th>license_derived</th>\n",
              "    </tr>\n",
              "  </thead>\n",
              "  <tbody>\n",
              "    <tr>\n",
              "      <th>0</th>\n",
              "      <td>1193207</td>\n",
              "      <td>1193207</td>\n",
              "    </tr>\n",
              "    <tr>\n",
              "      <th>1</th>\n",
              "      <td>2484004</td>\n",
              "      <td>2484004</td>\n",
              "    </tr>\n",
              "    <tr>\n",
              "      <th>2</th>\n",
              "      <td>2535924</td>\n",
              "      <td>2535924</td>\n",
              "    </tr>\n",
              "    <tr>\n",
              "      <th>3</th>\n",
              "      <td>2069755</td>\n",
              "      <td>2069755</td>\n",
              "    </tr>\n",
              "    <tr>\n",
              "      <th>4</th>\n",
              "      <td>66021</td>\n",
              "      <td>66021</td>\n",
              "    </tr>\n",
              "  </tbody>\n",
              "</table>\n",
              "</div>"
            ],
            "text/plain": [
              "   license license_derived\n",
              "0  1193207         1193207\n",
              "1  2484004         2484004\n",
              "2  2535924         2535924\n",
              "3  2069755         2069755\n",
              "4    66021           66021"
            ]
          },
          "metadata": {
            "tags": []
          },
          "execution_count": 57
        },
        {
          "output_type": "execute_result",
          "data": {
            "text/html": [
              "<div>\n",
              "<style scoped>\n",
              "    .dataframe tbody tr th:only-of-type {\n",
              "        vertical-align: middle;\n",
              "    }\n",
              "\n",
              "    .dataframe tbody tr th {\n",
              "        vertical-align: top;\n",
              "    }\n",
              "\n",
              "    .dataframe thead th {\n",
              "        text-align: right;\n",
              "    }\n",
              "</style>\n",
              "<table border=\"1\" class=\"dataframe\">\n",
              "  <thead>\n",
              "    <tr style=\"text-align: right;\">\n",
              "      <th></th>\n",
              "      <th>inspectiondate</th>\n",
              "      <th>inspectiondate_derived</th>\n",
              "    </tr>\n",
              "  </thead>\n",
              "  <tbody>\n",
              "    <tr>\n",
              "      <th>0</th>\n",
              "      <td>12/11/2020</td>\n",
              "      <td>2020-12-11</td>\n",
              "    </tr>\n",
              "    <tr>\n",
              "      <th>1</th>\n",
              "      <td>11/23/2020</td>\n",
              "      <td>2020-11-23</td>\n",
              "    </tr>\n",
              "    <tr>\n",
              "      <th>2</th>\n",
              "      <td>11/18/2020</td>\n",
              "      <td>2020-11-18</td>\n",
              "    </tr>\n",
              "    <tr>\n",
              "      <th>3</th>\n",
              "      <td>11/05/2020</td>\n",
              "      <td>2020-11-05</td>\n",
              "    </tr>\n",
              "    <tr>\n",
              "      <th>4</th>\n",
              "      <td>11/05/2020</td>\n",
              "      <td>2020-11-05</td>\n",
              "    </tr>\n",
              "  </tbody>\n",
              "</table>\n",
              "</div>"
            ],
            "text/plain": [
              "  inspectiondate inspectiondate_derived\n",
              "0     12/11/2020             2020-12-11\n",
              "1     11/23/2020             2020-11-23\n",
              "2     11/18/2020             2020-11-18\n",
              "3     11/05/2020             2020-11-05\n",
              "4     11/05/2020             2020-11-05"
            ]
          },
          "metadata": {
            "tags": []
          },
          "execution_count": 57
        }
      ]
    },
    {
      "cell_type": "markdown",
      "metadata": {
        "id": "Hp12o4gSVJGC"
      },
      "source": [
        "## Creating boolean indicators"
      ]
    },
    {
      "cell_type": "code",
      "metadata": {
        "id": "6U2rRKHkVJGC",
        "outputId": "ae0b9cb0-6397-4cf2-9b22-5204d7bbd51a"
      },
      "source": [
        "inspec.facilitytype.value_counts()\n",
        "\n",
        "## want to create an indicator for whether\n",
        "## the facility is food-related\n",
        "\n",
        "### slower way - write out all the cats want to include\n",
        "## (here non-exhaustive)\n",
        "food_strings_manual = ['Restaurant', 'Grocery Store', 'Bakery', 'TAVERN', \n",
        "                      'COOKING SCHOOL', 'CATERING', 'Golden Diner',\n",
        "                      'DELI/GROCERY', 'CULINARY SCHOOL', \n",
        "                      'FROZEN DESSERT PUSHCARTS']\n",
        "inspec['is_foodfac_derived'] = np.where(inspec.facilitytype.isin(food_strings_manual), True, False)\n",
        "\n",
        "### usually good to do a check on categorization\n",
        "pd.crosstab(inspec.facilitytype, inspec.is_foodfac_derived)\n",
        "\n"
      ],
      "execution_count": null,
      "outputs": [
        {
          "output_type": "execute_result",
          "data": {
            "text/html": [
              "<div>\n",
              "<style scoped>\n",
              "    .dataframe tbody tr th:only-of-type {\n",
              "        vertical-align: middle;\n",
              "    }\n",
              "\n",
              "    .dataframe tbody tr th {\n",
              "        vertical-align: top;\n",
              "    }\n",
              "\n",
              "    .dataframe thead th {\n",
              "        text-align: right;\n",
              "    }\n",
              "</style>\n",
              "<table border=\"1\" class=\"dataframe\">\n",
              "  <thead>\n",
              "    <tr style=\"text-align: right;\">\n",
              "      <th>is_foodfac_derived</th>\n",
              "      <th>False</th>\n",
              "      <th>True</th>\n",
              "    </tr>\n",
              "    <tr>\n",
              "      <th>facilitytype</th>\n",
              "      <th></th>\n",
              "      <th></th>\n",
              "    </tr>\n",
              "  </thead>\n",
              "  <tbody>\n",
              "    <tr>\n",
              "      <th>Bakery</th>\n",
              "      <td>0</td>\n",
              "      <td>6</td>\n",
              "    </tr>\n",
              "    <tr>\n",
              "      <th>CHARTER SCHOOL</th>\n",
              "      <td>2</td>\n",
              "      <td>0</td>\n",
              "    </tr>\n",
              "    <tr>\n",
              "      <th>COOKING SCHOOL</th>\n",
              "      <td>0</td>\n",
              "      <td>2</td>\n",
              "    </tr>\n",
              "    <tr>\n",
              "      <th>CULINARY SCHOOL</th>\n",
              "      <td>0</td>\n",
              "      <td>1</td>\n",
              "    </tr>\n",
              "    <tr>\n",
              "      <th>Catering</th>\n",
              "      <td>2</td>\n",
              "      <td>0</td>\n",
              "    </tr>\n",
              "    <tr>\n",
              "      <th>Children's Services Facility</th>\n",
              "      <td>13</td>\n",
              "      <td>0</td>\n",
              "    </tr>\n",
              "    <tr>\n",
              "      <th>DELI/GROCERY</th>\n",
              "      <td>0</td>\n",
              "      <td>1</td>\n",
              "    </tr>\n",
              "    <tr>\n",
              "      <th>Daycare (2 - 6 Years)</th>\n",
              "      <td>3</td>\n",
              "      <td>0</td>\n",
              "    </tr>\n",
              "    <tr>\n",
              "      <th>Daycare Above and Under 2 Years</th>\n",
              "      <td>5</td>\n",
              "      <td>0</td>\n",
              "    </tr>\n",
              "    <tr>\n",
              "      <th>FROZEN DESSERT PUSHCARTS</th>\n",
              "      <td>0</td>\n",
              "      <td>1</td>\n",
              "    </tr>\n",
              "    <tr>\n",
              "      <th>GAS STATION</th>\n",
              "      <td>1</td>\n",
              "      <td>0</td>\n",
              "    </tr>\n",
              "    <tr>\n",
              "      <th>GENERAL STORE</th>\n",
              "      <td>1</td>\n",
              "      <td>0</td>\n",
              "    </tr>\n",
              "    <tr>\n",
              "      <th>Golden Diner</th>\n",
              "      <td>0</td>\n",
              "      <td>2</td>\n",
              "    </tr>\n",
              "    <tr>\n",
              "      <th>Grocery Store</th>\n",
              "      <td>0</td>\n",
              "      <td>50</td>\n",
              "    </tr>\n",
              "    <tr>\n",
              "      <th>Hospital</th>\n",
              "      <td>1</td>\n",
              "      <td>0</td>\n",
              "    </tr>\n",
              "    <tr>\n",
              "      <th>LIQUOR STORE</th>\n",
              "      <td>1</td>\n",
              "      <td>0</td>\n",
              "    </tr>\n",
              "    <tr>\n",
              "      <th>LIVE POULTRY</th>\n",
              "      <td>1</td>\n",
              "      <td>0</td>\n",
              "    </tr>\n",
              "    <tr>\n",
              "      <th>Liquor</th>\n",
              "      <td>1</td>\n",
              "      <td>0</td>\n",
              "    </tr>\n",
              "    <tr>\n",
              "      <th>Long Term Care</th>\n",
              "      <td>1</td>\n",
              "      <td>0</td>\n",
              "    </tr>\n",
              "    <tr>\n",
              "      <th>MOVIE THEATRE</th>\n",
              "      <td>1</td>\n",
              "      <td>0</td>\n",
              "    </tr>\n",
              "    <tr>\n",
              "      <th>Mobile Food Dispenser</th>\n",
              "      <td>3</td>\n",
              "      <td>0</td>\n",
              "    </tr>\n",
              "    <tr>\n",
              "      <th>Mobile Food Preparer</th>\n",
              "      <td>1</td>\n",
              "      <td>0</td>\n",
              "    </tr>\n",
              "    <tr>\n",
              "      <th>Pop-Up Establishment Host-Tier II</th>\n",
              "      <td>1</td>\n",
              "      <td>0</td>\n",
              "    </tr>\n",
              "    <tr>\n",
              "      <th>Restaurant</th>\n",
              "      <td>0</td>\n",
              "      <td>366</td>\n",
              "    </tr>\n",
              "    <tr>\n",
              "      <th>SUPPORTIVE LIVING</th>\n",
              "      <td>1</td>\n",
              "      <td>0</td>\n",
              "    </tr>\n",
              "    <tr>\n",
              "      <th>School</th>\n",
              "      <td>18</td>\n",
              "      <td>0</td>\n",
              "    </tr>\n",
              "    <tr>\n",
              "      <th>Shared Kitchen User (Short Term)</th>\n",
              "      <td>1</td>\n",
              "      <td>0</td>\n",
              "    </tr>\n",
              "    <tr>\n",
              "      <th>TAVERN</th>\n",
              "      <td>0</td>\n",
              "      <td>4</td>\n",
              "    </tr>\n",
              "  </tbody>\n",
              "</table>\n",
              "</div>"
            ],
            "text/plain": [
              "is_foodfac_derived                 False  True \n",
              "facilitytype                                   \n",
              "Bakery                                 0      6\n",
              "CHARTER SCHOOL                         2      0\n",
              "COOKING SCHOOL                         0      2\n",
              "CULINARY SCHOOL                        0      1\n",
              "Catering                               2      0\n",
              "Children's Services Facility          13      0\n",
              "DELI/GROCERY                           0      1\n",
              "Daycare (2 - 6 Years)                  3      0\n",
              "Daycare Above and Under 2 Years        5      0\n",
              "FROZEN DESSERT PUSHCARTS               0      1\n",
              "GAS STATION                            1      0\n",
              "GENERAL STORE                          1      0\n",
              "Golden Diner                           0      2\n",
              "Grocery Store                          0     50\n",
              "Hospital                               1      0\n",
              "LIQUOR STORE                           1      0\n",
              "LIVE POULTRY                           1      0\n",
              "Liquor                                 1      0\n",
              "Long Term Care                         1      0\n",
              "MOVIE THEATRE                          1      0\n",
              "Mobile Food Dispenser                  3      0\n",
              "Mobile Food Preparer                   1      0\n",
              "Pop-Up Establishment Host-Tier II      1      0\n",
              "Restaurant                             0    366\n",
              "SUPPORTIVE LIVING                      1      0\n",
              "School                                18      0\n",
              "Shared Kitchen User (Short Term)       1      0\n",
              "TAVERN                                 0      4"
            ]
          },
          "metadata": {
            "tags": []
          },
          "execution_count": 29
        }
      ]
    },
    {
      "cell_type": "code",
      "metadata": {
        "id": "v3_24fN9VJGD"
      },
      "source": [
        "### can do more rigorous check with assert to make sure nothing that appears\n",
        "### in the list is false\n",
        "all_false = inspec[~inspec.is_foodfac_derived].copy()\n",
        "all_facility_infalse = all_false.facilitytype.unique()\n",
        "compare_fac = set(all_facility_infalse).intersection(set(food_strings_manual))\n",
        "assert len(compare_fac) == 0"
      ],
      "execution_count": null,
      "outputs": []
    },
    {
      "cell_type": "code",
      "metadata": {
        "id": "ngD51XREVJGD",
        "outputId": "49a795cc-cfe4-4011-8b05-d63cdce9c1b6"
      },
      "source": [
        "## faster way --- do partial patterns and str.contains (but also more likely to lead to false positives)\n",
        "\n",
        "food_strings_partial = ['restaurant', 'grocery', 'bakery', 'tavern',\n",
        "                        'diner', 'culinary', 'dessert', 'catering',\n",
        "                      'cooking']\n",
        "\n",
        "food_strings_join = \"|\".join(food_strings_partial)\n",
        "food_strings_join"
      ],
      "execution_count": null,
      "outputs": [
        {
          "output_type": "execute_result",
          "data": {
            "text/plain": [
              "'restaurant|grocery|bakery|tavern|diner|culinary|dessert|catering|cooking'"
            ]
          },
          "metadata": {
            "tags": []
          },
          "execution_count": 37
        }
      ]
    },
    {
      "cell_type": "code",
      "metadata": {
        "id": "s0D8DeSBVJGE",
        "outputId": "0c6c5352-90f7-4954-bf5c-ce2a8cada34c"
      },
      "source": [
        "inspec['is_foodfac_derived_2'] = np.where(inspec.facilitytype.astype(str).str.lower().str.contains(food_strings_join),\n",
        "                                         True, False)\n",
        "\n",
        "inspec.is_foodfac_derived_2.value_counts()\n",
        "inspec.is_foodfac_derived.value_counts()\n",
        "\n",
        "## 2 diff\n",
        "inspec.loc[inspec.is_foodfac_derived != inspec.is_foodfac_derived_2,\n",
        "          ['facilitytype', 'is_foodfac_derived', \n",
        "          'is_foodfac_derived_2']]\n",
        "\n"
      ],
      "execution_count": null,
      "outputs": [
        {
          "output_type": "execute_result",
          "data": {
            "text/plain": [
              "True     435\n",
              "False     65\n",
              "Name: is_foodfac_derived_2, dtype: int64"
            ]
          },
          "metadata": {
            "tags": []
          },
          "execution_count": 40
        },
        {
          "output_type": "execute_result",
          "data": {
            "text/plain": [
              "True     433\n",
              "False     67\n",
              "Name: is_foodfac_derived, dtype: int64"
            ]
          },
          "metadata": {
            "tags": []
          },
          "execution_count": 40
        },
        {
          "output_type": "execute_result",
          "data": {
            "text/html": [
              "<div>\n",
              "<style scoped>\n",
              "    .dataframe tbody tr th:only-of-type {\n",
              "        vertical-align: middle;\n",
              "    }\n",
              "\n",
              "    .dataframe tbody tr th {\n",
              "        vertical-align: top;\n",
              "    }\n",
              "\n",
              "    .dataframe thead th {\n",
              "        text-align: right;\n",
              "    }\n",
              "</style>\n",
              "<table border=\"1\" class=\"dataframe\">\n",
              "  <thead>\n",
              "    <tr style=\"text-align: right;\">\n",
              "      <th></th>\n",
              "      <th>facilitytype</th>\n",
              "      <th>is_foodfac_derived</th>\n",
              "      <th>is_foodfac_derived_2</th>\n",
              "    </tr>\n",
              "  </thead>\n",
              "  <tbody>\n",
              "    <tr>\n",
              "      <th>6</th>\n",
              "      <td>Catering</td>\n",
              "      <td>False</td>\n",
              "      <td>True</td>\n",
              "    </tr>\n",
              "    <tr>\n",
              "      <th>376</th>\n",
              "      <td>Catering</td>\n",
              "      <td>False</td>\n",
              "      <td>True</td>\n",
              "    </tr>\n",
              "  </tbody>\n",
              "</table>\n",
              "</div>"
            ],
            "text/plain": [
              "    facilitytype  is_foodfac_derived  is_foodfac_derived_2\n",
              "6       Catering               False                  True\n",
              "376     Catering               False                  True"
            ]
          },
          "metadata": {
            "tags": []
          },
          "execution_count": 40
        }
      ]
    },
    {
      "cell_type": "code",
      "metadata": {
        "id": "vsr4XFh8VJGE",
        "outputId": "5ab2a119-14ad-49c5-80e3-c6cec9f85e1d"
      },
      "source": [
        "\n",
        "## create a date-based boolean indicator\n",
        "inspec.inspectiondate_derived.describe(datetime_is_numeric=True)\n",
        "\n",
        "## include everything after christmas 2019\n",
        "inspec_postxmas = inspec[inspec.inspectiondate_derived > '2019-12-25'].copy()\n",
        "\n",
        "inspec_postxmas.inspectiondate_derived.describe(datetime_is_numeric = True)"
      ],
      "execution_count": null,
      "outputs": [
        {
          "output_type": "execute_result",
          "data": {
            "text/plain": [
              "count                              500\n",
              "mean     2019-11-17 21:04:19.199999744\n",
              "min                2019-06-17 00:00:00\n",
              "25%                2019-08-13 00:00:00\n",
              "50%                2019-10-24 12:00:00\n",
              "75%                2020-01-30 00:00:00\n",
              "max                2020-12-11 00:00:00\n",
              "Name: inspectiondate_derived, dtype: object"
            ]
          },
          "metadata": {
            "tags": []
          },
          "execution_count": 52
        },
        {
          "output_type": "execute_result",
          "data": {
            "text/plain": [
              "count                              168\n",
              "mean     2020-04-01 00:17:08.571428608\n",
              "min                2019-12-27 00:00:00\n",
              "25%                2020-01-30 00:00:00\n",
              "50%                2020-02-28 00:00:00\n",
              "75%                2020-04-22 12:00:00\n",
              "max                2020-12-11 00:00:00\n",
              "Name: inspectiondate_derived, dtype: object"
            ]
          },
          "metadata": {
            "tags": []
          },
          "execution_count": 52
        }
      ]
    },
    {
      "cell_type": "markdown",
      "metadata": {
        "id": "O6i7p5O8VJGF"
      },
      "source": [
        "# Using dictionaries and map to combine categories"
      ]
    },
    {
      "cell_type": "code",
      "metadata": {
        "id": "exrVIbt7VJGF",
        "outputId": "853afcc1-08fe-4917-8e1d-4df6e0f7af67"
      },
      "source": [
        "inspec.inspectiontype.value_counts()\n",
        "\n",
        "## get all inspections that result from canvassing\n",
        "canvass_all = [i for i in inspec.inspectiontype.unique() if \"canvass\" in i.lower()]\n",
        "canvass_all\n",
        "\n",
        "## get all inspections that result from complaints\n",
        "comp_all = [i for i in inspec.inspectiontype.unique() if \"complaint\" in i.lower()]\n",
        "comp_all\n",
        "\n",
        "## create a dictionary\n",
        "cat_largesmall = {'Complaint': comp_all, \n",
        "                 'Canvass': canvass_all}\n",
        "\n",
        "cat_largesmall\n",
        "\n",
        "## to remap, we need the keys to correspond with column names, \n",
        "## so need to reverse what's a key and what's a value \n",
        "cat_smalllarge = {value: key for key, value2 in \n",
        "                      cat_largesmall.items() for value in value2}\n",
        "\n",
        "inspec['simplified_type_derived'] = inspec['inspectiontype'].map(cat_smalllarge).fillna(inspec['inspectiontype'])\n",
        "\n",
        "inspec.simplified_type_derived.value_counts()"
      ],
      "execution_count": null,
      "outputs": [
        {
          "output_type": "execute_result",
          "data": {
            "text/plain": [
              "Canvass                    290\n",
              "License                    104\n",
              "Canvass Re-Inspection       36\n",
              "Complaint                   32\n",
              "License Re-Inspection       16\n",
              "Complaint Re-Inspection     11\n",
              "Short Form Complaint        10\n",
              "Non-Inspection               1\n",
              "Name: inspectiontype, dtype: int64"
            ]
          },
          "metadata": {
            "tags": []
          },
          "execution_count": 50
        },
        {
          "output_type": "execute_result",
          "data": {
            "text/plain": [
              "['Canvass', 'Canvass Re-Inspection']"
            ]
          },
          "metadata": {
            "tags": []
          },
          "execution_count": 50
        },
        {
          "output_type": "execute_result",
          "data": {
            "text/plain": [
              "['Complaint', 'Short Form Complaint', 'Complaint Re-Inspection']"
            ]
          },
          "metadata": {
            "tags": []
          },
          "execution_count": 50
        },
        {
          "output_type": "execute_result",
          "data": {
            "text/plain": [
              "{'Complaint': ['Complaint', 'Short Form Complaint', 'Complaint Re-Inspection'],\n",
              " 'Canvass': ['Canvass', 'Canvass Re-Inspection']}"
            ]
          },
          "metadata": {
            "tags": []
          },
          "execution_count": 50
        },
        {
          "output_type": "execute_result",
          "data": {
            "text/plain": [
              "Canvass                  326\n",
              "License                  104\n",
              "Complaint                 53\n",
              "License Re-Inspection     16\n",
              "Non-Inspection             1\n",
              "Name: simplified_type_derived, dtype: int64"
            ]
          },
          "metadata": {
            "tags": []
          },
          "execution_count": 50
        }
      ]
    }
  ]
}