{
  "nbformat": 4,
  "nbformat_minor": 0,
  "metadata": {
    "kernelspec": {
      "display_name": "Python 3",
      "language": "python",
      "name": "python3"
    },
    "language_info": {
      "codemirror_mode": {
        "name": "ipython",
        "version": 3
      },
      "file_extension": ".py",
      "mimetype": "text/x-python",
      "name": "python",
      "nbconvert_exporter": "python",
      "pygments_lexer": "ipython3",
      "version": "3.8.3"
    },
    "colab": {
      "name": "07_apis_examplecode_twitter.ipynb",
      "provenance": [],
      "include_colab_link": true
    }
  },
  "cells": [
    {
      "cell_type": "markdown",
      "metadata": {
        "id": "view-in-github",
        "colab_type": "text"
      },
      "source": [
        "<a href=\"https://colab.research.google.com/github/andrew66882011/qss20_slides_activities/blob/main/activities/07_apis_examplecode_twitter.ipynb\" target=\"_parent\"><img src=\"https://colab.research.google.com/assets/colab-badge.svg\" alt=\"Open In Colab\"/></a>"
      ]
    },
    {
      "cell_type": "code",
      "metadata": {
        "id": "FLIh2gbM7RRx"
      },
      "source": [
        "## imports\n",
        "import pandas as pd\n",
        "import numpy as np\n",
        "import re\n",
        "import requests\n",
        "import yaml\n",
        "import tweepy\n",
        "import pickle\n",
        "import plotnine\n",
        "from plotnine import *\n",
        "from vaderSentiment.vaderSentiment import SentimentIntensityAnalyzer\n",
        "\n",
        "## repeated printouts\n",
        "from IPython.core.interactiveshell import InteractiveShell\n",
        "InteractiveShell.ast_node_interactivity = \"all\"\n",
        "pd.set_option('display.max_colwidth', None)\n",
        "\n",
        "## function to load credentials yaml\n",
        "def load_creds(path: str):\n",
        "    with open(path, 'r') as stream:\n",
        "        try:\n",
        "            creds = yaml.safe_load(stream)\n",
        "        except yaml.YAMLError as exc:\n",
        "            print(exc)\n",
        "    return(creds)"
      ],
      "execution_count": null,
      "outputs": []
    },
    {
      "cell_type": "markdown",
      "metadata": {
        "id": "JY8cdR8J7RR0"
      },
      "source": [
        "# Setup: authenticate to Twitter API"
      ]
    },
    {
      "cell_type": "code",
      "metadata": {
        "id": "zWAwfN157RR0"
      },
      "source": [
        "## read creds file\n",
        "creds = load_creds(\"../private_data/my_cred.yaml\")\n"
      ],
      "execution_count": null,
      "outputs": []
    },
    {
      "cell_type": "code",
      "metadata": {
        "id": "OAjOCgF17RR1",
        "outputId": "7e6215f0-5a82-406d-f8a8-f6684a6285e9"
      },
      "source": [
        "## authenticate\n",
        "### use oauth to authenticate with consumer key and secret\n",
        "auth = tweepy.OAuthHandler(creds['twitter_api']['consumer_key'],\n",
        "                          creds['twitter_api']['consumer_secret'])\n",
        "### set access token\n",
        "auth.set_access_token(creds['twitter_api']['access_token'],\n",
        "                     creds['twitter_api']['access_token_secret'])\n",
        "print(type(auth))\n",
        "\n",
        "### initialize connection\n",
        "api = tweepy.API(auth, wait_on_rate_limit = True, wait_on_rate_limit_notify = True)\n",
        "print(type(api))\n",
        "\n",
        "## check that our authentication worked\n",
        "## source- https://realpython.com/twitter-bot-python-tweepy/\n",
        "try:\n",
        "    api.verify_credentials()\n",
        "    print(\"Authentication OK\")\n",
        "except:\n",
        "    print(\"Error during authentication\")\n",
        "    "
      ],
      "execution_count": null,
      "outputs": [
        {
          "output_type": "stream",
          "text": [
            "<class 'tweepy.auth.OAuthHandler'>\n",
            "<class 'tweepy.api.API'>\n"
          ],
          "name": "stdout"
        },
        {
          "output_type": "execute_result",
          "data": {
            "text/plain": [
              "User(_api=<tweepy.api.API object at 0x7f7dd3ece910>, _json={'id': 42582848, 'id_str': '42582848', 'name': 'Rebecca Johnson', 'screen_name': 'beckyj1', 'location': 'Lebanon, NH', 'description': 'Assistant Professor @Dartmouth | Affiliate @TheLab_DC @OESatGSA | Former: @datascifellows @NIHbioethics\\n\\nEthics, data science, K-12 education, social policy.', 'url': 'https://t.co/aGsplq8nFB', 'entities': {'url': {'urls': [{'url': 'https://t.co/aGsplq8nFB', 'expanded_url': 'http://rebeccajohnson.io', 'display_url': 'rebeccajohnson.io', 'indices': [0, 23]}]}, 'description': {'urls': []}}, 'protected': False, 'followers_count': 384, 'friends_count': 618, 'listed_count': 6, 'created_at': 'Tue May 26 07:20:43 +0000 2009', 'favourites_count': 506, 'utc_offset': None, 'time_zone': None, 'geo_enabled': False, 'verified': False, 'statuses_count': 105, 'lang': None, 'status': {'created_at': 'Fri May 07 20:54:00 +0000 2021', 'id': 1390771922925985799, 'id_str': '1390771922925985799', 'text': 'RT @youngmin_yi: Just \"left\" a session org. by @jesshardie featuring thoughtful work from @_ACDennis, Emmanuelle Arpin, Rebecca Johnson, an…', 'truncated': False, 'entities': {'hashtags': [], 'symbols': [], 'user_mentions': [{'screen_name': 'youngmin_yi', 'name': 'Youngmin Yi', 'id': 410106095, 'id_str': '410106095', 'indices': [3, 15]}, {'screen_name': 'jesshardie', 'name': 'Dr. Jessica Halliday Hardie', 'id': 37729102, 'id_str': '37729102', 'indices': [47, 58]}, {'screen_name': '_ACDennis', 'name': 'Alexis C. Dennis, MPH', 'id': 1158854364699779072, 'id_str': '1158854364699779072', 'indices': [90, 100]}], 'urls': []}, 'source': '<a href=\"https://mobile.twitter.com\" rel=\"nofollow\">Twitter Web App</a>', 'in_reply_to_status_id': None, 'in_reply_to_status_id_str': None, 'in_reply_to_user_id': None, 'in_reply_to_user_id_str': None, 'in_reply_to_screen_name': None, 'geo': None, 'coordinates': None, 'place': None, 'contributors': None, 'retweeted_status': {'created_at': 'Fri May 07 19:50:09 +0000 2021', 'id': 1390755856107593729, 'id_str': '1390755856107593729', 'text': 'Just \"left\" a session org. by @jesshardie featuring thoughtful work from @_ACDennis, Emmanuelle Arpin, Rebecca John… https://t.co/FgXWgE1FUj', 'truncated': True, 'entities': {'hashtags': [], 'symbols': [], 'user_mentions': [{'screen_name': 'jesshardie', 'name': 'Dr. Jessica Halliday Hardie', 'id': 37729102, 'id_str': '37729102', 'indices': [30, 41]}, {'screen_name': '_ACDennis', 'name': 'Alexis C. Dennis, MPH', 'id': 1158854364699779072, 'id_str': '1158854364699779072', 'indices': [73, 83]}], 'urls': [{'url': 'https://t.co/FgXWgE1FUj', 'expanded_url': 'https://twitter.com/i/web/status/1390755856107593729', 'display_url': 'twitter.com/i/web/status/1…', 'indices': [117, 140]}]}, 'source': '<a href=\"https://mobile.twitter.com\" rel=\"nofollow\">Twitter Web App</a>', 'in_reply_to_status_id': None, 'in_reply_to_status_id_str': None, 'in_reply_to_user_id': None, 'in_reply_to_user_id_str': None, 'in_reply_to_screen_name': None, 'geo': None, 'coordinates': None, 'place': None, 'contributors': None, 'is_quote_status': False, 'retweet_count': 3, 'favorite_count': 10, 'favorited': True, 'retweeted': True, 'possibly_sensitive': False, 'lang': 'en'}, 'is_quote_status': False, 'retweet_count': 3, 'favorite_count': 0, 'favorited': True, 'retweeted': True, 'lang': 'en'}, 'contributors_enabled': False, 'is_translator': False, 'is_translation_enabled': False, 'profile_background_color': '000000', 'profile_background_image_url': 'http://abs.twimg.com/images/themes/theme1/bg.png', 'profile_background_image_url_https': 'https://abs.twimg.com/images/themes/theme1/bg.png', 'profile_background_tile': False, 'profile_image_url': 'http://pbs.twimg.com/profile_images/1094326328491458562/O3QiTsKf_normal.jpg', 'profile_image_url_https': 'https://pbs.twimg.com/profile_images/1094326328491458562/O3QiTsKf_normal.jpg', 'profile_banner_url': 'https://pbs.twimg.com/profile_banners/42582848/1549742806', 'profile_link_color': 'ABB8C2', 'profile_sidebar_border_color': '000000', 'profile_sidebar_fill_color': '000000', 'profile_text_color': '000000', 'profile_use_background_image': False, 'has_extended_profile': True, 'default_profile': False, 'default_profile_image': False, 'following': False, 'follow_request_sent': False, 'notifications': False, 'translator_type': 'none', 'withheld_in_countries': [], 'suspended': False, 'needs_phone_verification': False}, id=42582848, id_str='42582848', name='Rebecca Johnson', screen_name='beckyj1', location='Lebanon, NH', description='Assistant Professor @Dartmouth | Affiliate @TheLab_DC @OESatGSA | Former: @datascifellows @NIHbioethics\\n\\nEthics, data science, K-12 education, social policy.', url='https://t.co/aGsplq8nFB', entities={'url': {'urls': [{'url': 'https://t.co/aGsplq8nFB', 'expanded_url': 'http://rebeccajohnson.io', 'display_url': 'rebeccajohnson.io', 'indices': [0, 23]}]}, 'description': {'urls': []}}, protected=False, followers_count=384, friends_count=618, listed_count=6, created_at=datetime.datetime(2009, 5, 26, 7, 20, 43), favourites_count=506, utc_offset=None, time_zone=None, geo_enabled=False, verified=False, statuses_count=105, lang=None, status=Status(_api=<tweepy.api.API object at 0x7f7dd3ece910>, _json={'created_at': 'Fri May 07 20:54:00 +0000 2021', 'id': 1390771922925985799, 'id_str': '1390771922925985799', 'text': 'RT @youngmin_yi: Just \"left\" a session org. by @jesshardie featuring thoughtful work from @_ACDennis, Emmanuelle Arpin, Rebecca Johnson, an…', 'truncated': False, 'entities': {'hashtags': [], 'symbols': [], 'user_mentions': [{'screen_name': 'youngmin_yi', 'name': 'Youngmin Yi', 'id': 410106095, 'id_str': '410106095', 'indices': [3, 15]}, {'screen_name': 'jesshardie', 'name': 'Dr. Jessica Halliday Hardie', 'id': 37729102, 'id_str': '37729102', 'indices': [47, 58]}, {'screen_name': '_ACDennis', 'name': 'Alexis C. Dennis, MPH', 'id': 1158854364699779072, 'id_str': '1158854364699779072', 'indices': [90, 100]}], 'urls': []}, 'source': '<a href=\"https://mobile.twitter.com\" rel=\"nofollow\">Twitter Web App</a>', 'in_reply_to_status_id': None, 'in_reply_to_status_id_str': None, 'in_reply_to_user_id': None, 'in_reply_to_user_id_str': None, 'in_reply_to_screen_name': None, 'geo': None, 'coordinates': None, 'place': None, 'contributors': None, 'retweeted_status': {'created_at': 'Fri May 07 19:50:09 +0000 2021', 'id': 1390755856107593729, 'id_str': '1390755856107593729', 'text': 'Just \"left\" a session org. by @jesshardie featuring thoughtful work from @_ACDennis, Emmanuelle Arpin, Rebecca John… https://t.co/FgXWgE1FUj', 'truncated': True, 'entities': {'hashtags': [], 'symbols': [], 'user_mentions': [{'screen_name': 'jesshardie', 'name': 'Dr. Jessica Halliday Hardie', 'id': 37729102, 'id_str': '37729102', 'indices': [30, 41]}, {'screen_name': '_ACDennis', 'name': 'Alexis C. Dennis, MPH', 'id': 1158854364699779072, 'id_str': '1158854364699779072', 'indices': [73, 83]}], 'urls': [{'url': 'https://t.co/FgXWgE1FUj', 'expanded_url': 'https://twitter.com/i/web/status/1390755856107593729', 'display_url': 'twitter.com/i/web/status/1…', 'indices': [117, 140]}]}, 'source': '<a href=\"https://mobile.twitter.com\" rel=\"nofollow\">Twitter Web App</a>', 'in_reply_to_status_id': None, 'in_reply_to_status_id_str': None, 'in_reply_to_user_id': None, 'in_reply_to_user_id_str': None, 'in_reply_to_screen_name': None, 'geo': None, 'coordinates': None, 'place': None, 'contributors': None, 'is_quote_status': False, 'retweet_count': 3, 'favorite_count': 10, 'favorited': True, 'retweeted': True, 'possibly_sensitive': False, 'lang': 'en'}, 'is_quote_status': False, 'retweet_count': 3, 'favorite_count': 0, 'favorited': True, 'retweeted': True, 'lang': 'en'}, created_at=datetime.datetime(2021, 5, 7, 20, 54), id=1390771922925985799, id_str='1390771922925985799', text='RT @youngmin_yi: Just \"left\" a session org. by @jesshardie featuring thoughtful work from @_ACDennis, Emmanuelle Arpin, Rebecca Johnson, an…', truncated=False, entities={'hashtags': [], 'symbols': [], 'user_mentions': [{'screen_name': 'youngmin_yi', 'name': 'Youngmin Yi', 'id': 410106095, 'id_str': '410106095', 'indices': [3, 15]}, {'screen_name': 'jesshardie', 'name': 'Dr. Jessica Halliday Hardie', 'id': 37729102, 'id_str': '37729102', 'indices': [47, 58]}, {'screen_name': '_ACDennis', 'name': 'Alexis C. Dennis, MPH', 'id': 1158854364699779072, 'id_str': '1158854364699779072', 'indices': [90, 100]}], 'urls': []}, source='Twitter Web App', source_url='https://mobile.twitter.com', in_reply_to_status_id=None, in_reply_to_status_id_str=None, in_reply_to_user_id=None, in_reply_to_user_id_str=None, in_reply_to_screen_name=None, geo=None, coordinates=None, place=None, contributors=None, retweeted_status=Status(_api=<tweepy.api.API object at 0x7f7dd3ece910>, _json={'created_at': 'Fri May 07 19:50:09 +0000 2021', 'id': 1390755856107593729, 'id_str': '1390755856107593729', 'text': 'Just \"left\" a session org. by @jesshardie featuring thoughtful work from @_ACDennis, Emmanuelle Arpin, Rebecca John… https://t.co/FgXWgE1FUj', 'truncated': True, 'entities': {'hashtags': [], 'symbols': [], 'user_mentions': [{'screen_name': 'jesshardie', 'name': 'Dr. Jessica Halliday Hardie', 'id': 37729102, 'id_str': '37729102', 'indices': [30, 41]}, {'screen_name': '_ACDennis', 'name': 'Alexis C. Dennis, MPH', 'id': 1158854364699779072, 'id_str': '1158854364699779072', 'indices': [73, 83]}], 'urls': [{'url': 'https://t.co/FgXWgE1FUj', 'expanded_url': 'https://twitter.com/i/web/status/1390755856107593729', 'display_url': 'twitter.com/i/web/status/1…', 'indices': [117, 140]}]}, 'source': '<a href=\"https://mobile.twitter.com\" rel=\"nofollow\">Twitter Web App</a>', 'in_reply_to_status_id': None, 'in_reply_to_status_id_str': None, 'in_reply_to_user_id': None, 'in_reply_to_user_id_str': None, 'in_reply_to_screen_name': None, 'geo': None, 'coordinates': None, 'place': None, 'contributors': None, 'is_quote_status': False, 'retweet_count': 3, 'favorite_count': 10, 'favorited': True, 'retweeted': True, 'possibly_sensitive': False, 'lang': 'en'}, created_at=datetime.datetime(2021, 5, 7, 19, 50, 9), id=1390755856107593729, id_str='1390755856107593729', text='Just \"left\" a session org. by @jesshardie featuring thoughtful work from @_ACDennis, Emmanuelle Arpin, Rebecca John… https://t.co/FgXWgE1FUj', truncated=True, entities={'hashtags': [], 'symbols': [], 'user_mentions': [{'screen_name': 'jesshardie', 'name': 'Dr. Jessica Halliday Hardie', 'id': 37729102, 'id_str': '37729102', 'indices': [30, 41]}, {'screen_name': '_ACDennis', 'name': 'Alexis C. Dennis, MPH', 'id': 1158854364699779072, 'id_str': '1158854364699779072', 'indices': [73, 83]}], 'urls': [{'url': 'https://t.co/FgXWgE1FUj', 'expanded_url': 'https://twitter.com/i/web/status/1390755856107593729', 'display_url': 'twitter.com/i/web/status/1…', 'indices': [117, 140]}]}, source='Twitter Web App', source_url='https://mobile.twitter.com', in_reply_to_status_id=None, in_reply_to_status_id_str=None, in_reply_to_user_id=None, in_reply_to_user_id_str=None, in_reply_to_screen_name=None, geo=None, coordinates=None, place=None, contributors=None, is_quote_status=False, retweet_count=3, favorite_count=10, favorited=True, retweeted=True, possibly_sensitive=False, lang='en'), is_quote_status=False, retweet_count=3, favorite_count=0, favorited=True, retweeted=True, lang='en'), contributors_enabled=False, is_translator=False, is_translation_enabled=False, profile_background_color='000000', profile_background_image_url='http://abs.twimg.com/images/themes/theme1/bg.png', profile_background_image_url_https='https://abs.twimg.com/images/themes/theme1/bg.png', profile_background_tile=False, profile_image_url='http://pbs.twimg.com/profile_images/1094326328491458562/O3QiTsKf_normal.jpg', profile_image_url_https='https://pbs.twimg.com/profile_images/1094326328491458562/O3QiTsKf_normal.jpg', profile_banner_url='https://pbs.twimg.com/profile_banners/42582848/1549742806', profile_link_color='ABB8C2', profile_sidebar_border_color='000000', profile_sidebar_fill_color='000000', profile_text_color='000000', profile_use_background_image=False, has_extended_profile=True, default_profile=False, default_profile_image=False, following=False, follow_request_sent=False, notifications=False, translator_type='none', withheld_in_countries=[], suspended=False, needs_phone_verification=False)"
            ]
          },
          "metadata": {
            "tags": []
          },
          "execution_count": 36
        },
        {
          "output_type": "stream",
          "text": [
            "Authentication OK\n"
          ],
          "name": "stdout"
        }
      ]
    },
    {
      "cell_type": "markdown",
      "metadata": {
        "id": "OiR9mP_97RR2"
      },
      "source": [
        "# Use one: pulling recent tweets associated with a hashtag\n",
        "\n",
        "Here, we're going to pull recent tweets associated with the metoo hashtag. Note that if we want tweets older than a week, we need to either get an academic license (rather than a student one) or use another method (discussion here: https://stackoverflow.com/questions/24214189/how-can-i-get-tweets-older-than-a-week-using-tweepy-or-other-python-libraries) \n",
        "\n",
        "The `Cursor` class w/in tweepy allows us to pull while skipping annoying things like pagination\n",
        "\n",
        "**Example use**: Gallagher et al. look at the use of hashtags #BlackLivesMatter, #AllLivesMatters, and others in days following instances of officer-involved shootings or indictments/non-indictments. They examine things like the different words that are used in tweets containing those hashtags and whether the conversations occur separately or whether those using the #AllLivesMatter hashtag are inserting themselves into BLM conversations: https://journals.plos.org/plosone/article?id=10.1371/journal.pone.0195644"
      ]
    },
    {
      "cell_type": "markdown",
      "metadata": {
        "id": "-j7TuWuS7RR3"
      },
      "source": [
        "## Printing tweets and attributes of users"
      ]
    },
    {
      "cell_type": "code",
      "metadata": {
        "id": "AG3DHtK07RR3",
        "outputId": "587dca9b-7032-4b55-c85b-d9a782554b33"
      },
      "source": [
        "## construct a hashtag\n",
        "## we're filtering out retweets for simplicity\n",
        "## discussion here of filtering- https://www.earthdatascience.org/courses/use-data-open-source-python/intro-to-apis/twitter-data-in-python/\n",
        "hashtag = \"#metoo\" + \" -filter:retweets\"\n",
        "start_date = \"2021-05-07\"\n",
        "end_date = \"2021-05-11\"\n",
        "\n",
        "tweets = tweepy.Cursor(api.search, q = hashtag, lang = 'en', since = start_date,\n",
        "                      until = end_date)\n"
      ],
      "execution_count": null,
      "outputs": [
        {
          "output_type": "stream",
          "text": [
            "<class 'tweepy.cursor.Cursor'>\n"
          ],
          "name": "stdout"
        }
      ]
    },
    {
      "cell_type": "code",
      "metadata": {
        "id": "3f7x3J-u7RR4",
        "outputId": "3f84b2b1-36d1-4a6b-a99a-97d4e0e18933"
      },
      "source": [
        "## more manually pull some attributes from tweets\n",
        "## see here for a list of attributes of users: https://www.geeksforgeeks.org/python-user-object-in-tweepy/\n",
        "n_examine = 10\n",
        "tweets_subset = tweets.items(n_examine)\n",
        "for one_tweet in tweets_subset:\n",
        "    print(\"{user} from {loc} tweeted {tweet} on {date}\".format(\n",
        "        user = one_tweet.user.screen_name,\n",
        "        loc = np.where(one_tweet.user.location == \"\",\n",
        "                       \"UNKNOWN\", one_tweet.user.location),\n",
        "        tweet = str(one_tweet.text),\n",
        "        date = one_tweet.created_at))\n"
      ],
      "execution_count": null,
      "outputs": [
        {
          "output_type": "stream",
          "text": [
            "Strange_G from New Zealand tweeted Oh Billy boy. How many #metoo are going to pop up now? https://t.co/emiYigggHX on 2021-05-10 23:58:31\n",
            "Rising_Poiema from UNKNOWN tweeted This is the reality. #humantrafficking #churchtoo #metoo #religioustrauma https://t.co/RKb50eWM8A on 2021-05-10 23:54:56\n",
            "Tom_Shone from New York tweeted Totally enjoying the new, sod-it candor of Winslet in MARE/AMMONITE — the first clear, quantifiable instance of… https://t.co/0DzsWdSfnM on 2021-05-10 23:53:54\n",
            "Lorrain99345051 from Grande Prairie, Alberta tweeted And defended by our very own #TrudeauIncompetentPM #IncompetentCabinet #MeToo FAIL #ArmedForces https://t.co/oUSTAc6rmO on 2021-05-10 23:53:42\n",
            "HydroMedic9375 from Connecticut, USA tweeted @AGooseStoic @rockerik01 @nowasforjason @acnewsitics And it's well documented that when he heard of his abuse towar… https://t.co/zuSGalsD9X on 2021-05-10 23:52:22\n",
            "DaveLegacyuk from  Northamptonshire U.K. tweeted https://t.co/2xWXIJXv2T\n",
            "#ThisMorning #Prayer #thoughts for #today This Is For @BorisJohnson @OANN @DonaldJTrumpJr… https://t.co/SdPeVL9ZqP on 2021-05-10 23:50:45\n",
            "Nikki2U from UNKNOWN tweeted Have y'all noticed the preponderance of Republican, Independent, Libertarian, Green, &amp; DSA legislators &amp; their male… https://t.co/omRaOepGHE on 2021-05-10 23:42:17\n",
            "Elainebks from Silly Suffolk, UK tweeted Who heard this programme..#APointOfView on R4?  Highly recommended!\n",
            "\n",
            "A very interesting talk about #MeToo and the r… https://t.co/Uey5wMiv1I on 2021-05-10 23:41:54\n",
            "declanf from UNKNOWN tweeted Here’s the article on Robert Doyle apologizing in case you hadn’t read it @IanRoyall @JMasanauskas \n",
            "#metoo… https://t.co/A4fKQFE8TS on 2021-05-10 23:39:34\n",
            "luvcatsh8drumpf from Wear Your Masks tweeted @WhaleLiberal @klimaathater @116_candles @iansmithfitness @FBI Baffling isn’t it?? Only the #Whites support… https://t.co/cbBbs1pf0t on 2021-05-10 23:39:11\n"
          ],
          "name": "stdout"
        }
      ]
    },
    {
      "cell_type": "markdown",
      "metadata": {
        "id": "4MqYdDAW7RR5"
      },
      "source": [
        "## Storing those in a dataframe\n",
        "\n",
        "We also pull some other attributes of the users and of the tweets"
      ]
    },
    {
      "cell_type": "code",
      "metadata": {
        "id": "dnHgvGCX7RR5"
      },
      "source": [
        "## when running in notebook, set lower\n",
        "## to reduce runtime\n",
        "RUN_PULL = False\n",
        "if RUN_PULL == True:\n",
        "    max_rows = 100000\n",
        "    tweets_list = [[one_tweet.user.screen_name,\n",
        "                   one_tweet.user.location,\n",
        "                   one_tweet.user.description,\n",
        "                   one_tweet.user.followers_count,\n",
        "                   one_tweet.user.geo_enabled,\n",
        "                   one_tweet.text,\n",
        "                   one_tweet.created_at,\n",
        "                   one_tweet.favorite_count] for one_tweet in tweets.items(max_rows)]\n",
        "    \n",
        "    with open('../public_data/tweets_list.pkl', 'wb') as f:\n",
        "        pickle.dump(tweets_list, f)\n",
        "else:\n",
        "    with open('../public_data/tweets_list.pkl', 'rb') as pickle_file:\n",
        "        tweets_list = pickle.load(pickle_file)\n"
      ],
      "execution_count": null,
      "outputs": []
    },
    {
      "cell_type": "code",
      "metadata": {
        "id": "9ghWbx2B7RR6",
        "outputId": "e5e93d4c-aae2-4c66-a3bc-2df90e0a335c"
      },
      "source": [
        "## transform list into a dataframe\n",
        "tweets_df = pd.DataFrame(tweets_list,\n",
        "                        columns = ['sn', 'loc', 'desc', 'followers',\n",
        "                                  'is_geo', 'tweet',\n",
        "                                  'created',\n",
        "                                  'likes'])\n",
        "\n",
        "## look at ones with most and fewest likes\n",
        "tweets_df.sort_values(by = \"likes\", ascending = False).head()\n",
        "\n",
        "tweets_df.sort_values(by = \"likes\", ascending = False).tail()\n"
      ],
      "execution_count": null,
      "outputs": [
        {
          "output_type": "execute_result",
          "data": {
            "text/html": [
              "<div>\n",
              "<style scoped>\n",
              "    .dataframe tbody tr th:only-of-type {\n",
              "        vertical-align: middle;\n",
              "    }\n",
              "\n",
              "    .dataframe tbody tr th {\n",
              "        vertical-align: top;\n",
              "    }\n",
              "\n",
              "    .dataframe thead th {\n",
              "        text-align: right;\n",
              "    }\n",
              "</style>\n",
              "<table border=\"1\" class=\"dataframe\">\n",
              "  <thead>\n",
              "    <tr style=\"text-align: right;\">\n",
              "      <th></th>\n",
              "      <th>sn</th>\n",
              "      <th>loc</th>\n",
              "      <th>desc</th>\n",
              "      <th>followers</th>\n",
              "      <th>is_geo</th>\n",
              "      <th>tweet</th>\n",
              "      <th>created</th>\n",
              "      <th>likes</th>\n",
              "    </tr>\n",
              "  </thead>\n",
              "  <tbody>\n",
              "    <tr>\n",
              "      <th>1703</th>\n",
              "      <td>bette_oh</td>\n",
              "      <td></td>\n",
              "      <td>Death by 2 viral tweets, but I’m back, Jack.</td>\n",
              "      <td>10584</td>\n",
              "      <td>False</td>\n",
              "      <td>And, just like that, the #MeToo movement is gone. They dismantled as soon as Democrats were accused.</td>\n",
              "      <td>2021-05-05 16:21:12</td>\n",
              "      <td>1138</td>\n",
              "    </tr>\n",
              "    <tr>\n",
              "      <th>179</th>\n",
              "      <td>Chantel_Bx0</td>\n",
              "      <td>Ontario, Canada</td>\n",
              "      <td>I have zero patience</td>\n",
              "      <td>2288</td>\n",
              "      <td>True</td>\n",
              "      <td>Who in the hell actually believes @JustinTrudeau didn’t know about the sexual harassment allegations in the military? #MeToo</td>\n",
              "      <td>2021-05-07 18:32:23</td>\n",
              "      <td>703</td>\n",
              "    </tr>\n",
              "    <tr>\n",
              "      <th>1928</th>\n",
              "      <td>helenlewis</td>\n",
              "      <td>helenlewis.substack.com</td>\n",
              "      <td>Staff writer, @theAtlantic; author, Difficult Women: A History of Feminism in 11 Fights; presenter, BBC Radio 4's The Spark. Contact me via https://t.co/QP5QIs4ddM</td>\n",
              "      <td>139027</td>\n",
              "      <td>False</td>\n",
              "      <td>How two feminist flashpoints - #MeToo and the gender wars - have presented the biggest challenge yet to Scotland's… https://t.co/RmEF3l8nqw</td>\n",
              "      <td>2021-05-05 08:08:34</td>\n",
              "      <td>291</td>\n",
              "    </tr>\n",
              "    <tr>\n",
              "      <th>214</th>\n",
              "      <td>IshatReza</td>\n",
              "      <td>Canada</td>\n",
              "      <td>🇨🇦 Lawyer &amp; Workplace Investigator | @WorkplaceLP Host of Law@Work Podcast (link below) | Harvard, McGill, UofT alum | Photos https://t.co/MLmlpsdxTY</td>\n",
              "      <td>14348</td>\n",
              "      <td>False</td>\n",
              "      <td>1) PMJT’s Chief of Staff Katie Telford (@telfordk) is testifying before the HoC Standing Committee on National Defe… https://t.co/GajrO0l3fo</td>\n",
              "      <td>2021-05-07 17:28:06</td>\n",
              "      <td>290</td>\n",
              "    </tr>\n",
              "    <tr>\n",
              "      <th>513</th>\n",
              "      <td>FemCondition</td>\n",
              "      <td></td>\n",
              "      <td>*Editor* Feminist not misandrist.  Using my voice to raise awareness of male DV victims.</td>\n",
              "      <td>2886</td>\n",
              "      <td>False</td>\n",
              "      <td>I believe that if a man/woman is to be fired, labeled and criminalized as an abuser- the evidence should meet crimi… https://t.co/WLTkOUnN02</td>\n",
              "      <td>2021-05-07 10:04:56</td>\n",
              "      <td>276</td>\n",
              "    </tr>\n",
              "  </tbody>\n",
              "</table>\n",
              "</div>"
            ],
            "text/plain": [
              "                sn                      loc  \\\n",
              "1703      bette_oh                            \n",
              "179    Chantel_Bx0          Ontario, Canada   \n",
              "1928    helenlewis  helenlewis.substack.com   \n",
              "214      IshatReza                   Canada   \n",
              "513   FemCondition                            \n",
              "\n",
              "                                                                                                                                                                     desc  \\\n",
              "1703                                                                                                                         Death by 2 viral tweets, but I’m back, Jack.   \n",
              "179                                                                                                                                                  I have zero patience   \n",
              "1928  Staff writer, @theAtlantic; author, Difficult Women: A History of Feminism in 11 Fights; presenter, BBC Radio 4's The Spark. Contact me via https://t.co/QP5QIs4ddM   \n",
              "214                 🇨🇦 Lawyer & Workplace Investigator | @WorkplaceLP Host of Law@Work Podcast (link below) | Harvard, McGill, UofT alum | Photos https://t.co/MLmlpsdxTY   \n",
              "513                                                                              *Editor* Feminist not misandrist.  Using my voice to raise awareness of male DV victims.   \n",
              "\n",
              "      followers  is_geo  \\\n",
              "1703      10584   False   \n",
              "179        2288    True   \n",
              "1928     139027   False   \n",
              "214       14348   False   \n",
              "513        2886   False   \n",
              "\n",
              "                                                                                                                                             tweet  \\\n",
              "1703                                          And, just like that, the #MeToo movement is gone. They dismantled as soon as Democrats were accused.   \n",
              "179                   Who in the hell actually believes @JustinTrudeau didn’t know about the sexual harassment allegations in the military? #MeToo   \n",
              "1928   How two feminist flashpoints - #MeToo and the gender wars - have presented the biggest challenge yet to Scotland's… https://t.co/RmEF3l8nqw   \n",
              "214   1) PMJT’s Chief of Staff Katie Telford (@telfordk) is testifying before the HoC Standing Committee on National Defe… https://t.co/GajrO0l3fo   \n",
              "513   I believe that if a man/woman is to be fired, labeled and criminalized as an abuser- the evidence should meet crimi… https://t.co/WLTkOUnN02   \n",
              "\n",
              "                 created  likes  \n",
              "1703 2021-05-05 16:21:12   1138  \n",
              "179  2021-05-07 18:32:23    703  \n",
              "1928 2021-05-05 08:08:34    291  \n",
              "214  2021-05-07 17:28:06    290  \n",
              "513  2021-05-07 10:04:56    276  "
            ]
          },
          "metadata": {
            "tags": []
          },
          "execution_count": 7
        },
        {
          "output_type": "execute_result",
          "data": {
            "text/html": [
              "<div>\n",
              "<style scoped>\n",
              "    .dataframe tbody tr th:only-of-type {\n",
              "        vertical-align: middle;\n",
              "    }\n",
              "\n",
              "    .dataframe tbody tr th {\n",
              "        vertical-align: top;\n",
              "    }\n",
              "\n",
              "    .dataframe thead th {\n",
              "        text-align: right;\n",
              "    }\n",
              "</style>\n",
              "<table border=\"1\" class=\"dataframe\">\n",
              "  <thead>\n",
              "    <tr style=\"text-align: right;\">\n",
              "      <th></th>\n",
              "      <th>sn</th>\n",
              "      <th>loc</th>\n",
              "      <th>desc</th>\n",
              "      <th>followers</th>\n",
              "      <th>is_geo</th>\n",
              "      <th>tweet</th>\n",
              "      <th>created</th>\n",
              "      <th>likes</th>\n",
              "    </tr>\n",
              "  </thead>\n",
              "  <tbody>\n",
              "    <tr>\n",
              "      <th>961</th>\n",
              "      <td>mdlachner</td>\n",
              "      <td>Durango, CO</td>\n",
              "      <td></td>\n",
              "      <td>4</td>\n",
              "      <td>False</td>\n",
              "      <td>Senator @SenatorHick, will you stand with military sexual assault survivors to pass the Military Justice Improvemen… https://t.co/nA6yzxuoyJ</td>\n",
              "      <td>2021-05-06 16:49:36</td>\n",
              "      <td>0</td>\n",
              "    </tr>\n",
              "    <tr>\n",
              "      <th>960</th>\n",
              "      <td>NoranneLenox</td>\n",
              "      <td>USA</td>\n",
              "      <td>Outlaw#24, Always a Jock, PROUD AMERICAN! JUSTICE FOR ALL! 🥳🇺🇸❤</td>\n",
              "      <td>65</td>\n",
              "      <td>True</td>\n",
              "      <td>@PamelaMorley14 @LindseyBoylan Ummm ... THREATS AGAINST WOMEN ... SEVERAL WOMEN? I THOUGHT that wasn't allowed on T… https://t.co/LfArWlmmrI</td>\n",
              "      <td>2021-05-06 16:50:05</td>\n",
              "      <td>0</td>\n",
              "    </tr>\n",
              "    <tr>\n",
              "      <th>958</th>\n",
              "      <td>urrlynotalone</td>\n",
              "      <td></td>\n",
              "      <td>Disabled DV victim. My story is not what you’ve heard before.... ask for my gofundme PLEASE.</td>\n",
              "      <td>3</td>\n",
              "      <td>False</td>\n",
              "      <td>I cannot understand the lack of resources for victims during covid. No pandemic should be an excuse to neglect our… https://t.co/fAhbrdvWd6</td>\n",
              "      <td>2021-05-06 16:55:46</td>\n",
              "      <td>0</td>\n",
              "    </tr>\n",
              "    <tr>\n",
              "      <th>955</th>\n",
              "      <td>4themilitary</td>\n",
              "      <td>Washington, DC. 20004</td>\n",
              "      <td>New legislation allows active military to file a claim with the Dept. of Defense for military medical malpractice. Call us for a FREE consultation. We can help!</td>\n",
              "      <td>60</td>\n",
              "      <td>False</td>\n",
              "      <td>The family of Vanessa continues to fight for change within the military! They ask Congress to pass the “I Am Vaness… https://t.co/tb8e91WRaP</td>\n",
              "      <td>2021-05-06 17:09:05</td>\n",
              "      <td>0</td>\n",
              "    </tr>\n",
              "    <tr>\n",
              "      <th>1067</th>\n",
              "      <td>Karlyle_Tomms</td>\n",
              "      <td>Currently in Texas</td>\n",
              "      <td>#AwardWinning #Author &amp; #Artist for a better world. #Books: https://t.co/yeXjlx9ZMO</td>\n",
              "      <td>9345</td>\n",
              "      <td>True</td>\n",
              "      <td>Where are the boundaries, the actual boundaries? When do we determine, enough is enough?  https://t.co/4l12JWw1tb… https://t.co/bRjAi9jNAX</td>\n",
              "      <td>2021-05-06 13:29:11</td>\n",
              "      <td>0</td>\n",
              "    </tr>\n",
              "  </tbody>\n",
              "</table>\n",
              "</div>"
            ],
            "text/plain": [
              "                 sn                    loc  \\\n",
              "961       mdlachner            Durango, CO   \n",
              "960    NoranneLenox                    USA   \n",
              "958   urrlynotalone                          \n",
              "955    4themilitary  Washington, DC. 20004   \n",
              "1067  Karlyle_Tomms     Currently in Texas   \n",
              "\n",
              "                                                                                                                                                                  desc  \\\n",
              "961                                                                                                                                                                      \n",
              "960                                                                                                    Outlaw#24, Always a Jock, PROUD AMERICAN! JUSTICE FOR ALL! 🥳🇺🇸❤   \n",
              "958                                                                       Disabled DV victim. My story is not what you’ve heard before.... ask for my gofundme PLEASE.   \n",
              "955   New legislation allows active military to file a claim with the Dept. of Defense for military medical malpractice. Call us for a FREE consultation. We can help!   \n",
              "1067                                                                               #AwardWinning #Author & #Artist for a better world. #Books: https://t.co/yeXjlx9ZMO   \n",
              "\n",
              "      followers  is_geo  \\\n",
              "961           4   False   \n",
              "960          65    True   \n",
              "958           3   False   \n",
              "955          60   False   \n",
              "1067       9345    True   \n",
              "\n",
              "                                                                                                                                             tweet  \\\n",
              "961   Senator @SenatorHick, will you stand with military sexual assault survivors to pass the Military Justice Improvemen… https://t.co/nA6yzxuoyJ   \n",
              "960   @PamelaMorley14 @LindseyBoylan Ummm ... THREATS AGAINST WOMEN ... SEVERAL WOMEN? I THOUGHT that wasn't allowed on T… https://t.co/LfArWlmmrI   \n",
              "958    I cannot understand the lack of resources for victims during covid. No pandemic should be an excuse to neglect our… https://t.co/fAhbrdvWd6   \n",
              "955   The family of Vanessa continues to fight for change within the military! They ask Congress to pass the “I Am Vaness… https://t.co/tb8e91WRaP   \n",
              "1067    Where are the boundaries, the actual boundaries? When do we determine, enough is enough?  https://t.co/4l12JWw1tb… https://t.co/bRjAi9jNAX   \n",
              "\n",
              "                 created  likes  \n",
              "961  2021-05-06 16:49:36      0  \n",
              "960  2021-05-06 16:50:05      0  \n",
              "958  2021-05-06 16:55:46      0  \n",
              "955  2021-05-06 17:09:05      0  \n",
              "1067 2021-05-06 13:29:11      0  "
            ]
          },
          "metadata": {
            "tags": []
          },
          "execution_count": 7
        }
      ]
    },
    {
      "cell_type": "code",
      "metadata": {
        "id": "CiVqkdMr7RR7",
        "outputId": "17aefafb-7a29-4def-9e1f-a8f996d3694e"
      },
      "source": [
        "## some exploration\n",
        "\n",
        "### 1. what percent are geocoded?\n",
        "tweets_df.is_geo.value_counts(normalize = True)\n",
        "\n",
        "### 2. what's the relationship b/t followers and likes? (logged and removing 0)\n",
        "(ggplot(tweets_df[(tweets_df.followers > 0) &\n",
        "                  (tweets_df.likes > 0)], \n",
        "                  aes(x = 'np.log(followers)', y = 'np.log(likes)')) +\n",
        "geom_point() +\n",
        "geom_smooth())\n",
        "\n",
        "## 3. who was tagged?\n",
        "### define pattern\n",
        "tag_pat = r\".*(@\\w+).*\"\n",
        "### iterate over tweets\n",
        "all_tags = [re.findall(tag_pat, one_tweet) \n",
        "            for one_tweet in tweets_df.tweet\n",
        "           if len(re.findall(tag_pat, one_tweet)) > 0]\n",
        "### flatten list to count repeats and summarize top\n",
        "all_tags_onelist = [item for sublist in all_tags for item in sublist]\n",
        "pd.Series(all_tags_onelist).value_counts()\n"
      ],
      "execution_count": null,
      "outputs": [
        {
          "output_type": "execute_result",
          "data": {
            "text/plain": [
              "False    0.659736\n",
              "True     0.340264\n",
              "Name: is_geo, dtype: float64"
            ]
          },
          "metadata": {
            "tags": []
          },
          "execution_count": 8
        },
        {
          "output_type": "stream",
          "text": [
            "/opt/conda/lib/python3.8/site-packages/plotnine/stats/smoothers.py:310: PlotnineWarning: Confidence intervals are not yet implementedfor lowess smoothings.\n"
          ],
          "name": "stderr"
        },
        {
          "output_type": "display_data",
          "data": {
            "image/png": "[encoded data removed]",
            "text/plain": [
              "<Figure size 640x480 with 1 Axes>"
            ]
          },
          "metadata": {
            "tags": []
          }
        },
        {
          "output_type": "execute_result",
          "data": {
            "text/plain": [
              "<ggplot: (8761159056348)>"
            ]
          },
          "metadata": {
            "tags": []
          },
          "execution_count": 8
        },
        {
          "output_type": "execute_result",
          "data": {
            "text/plain": [
              "@ProtectRDfnders    38\n",
              "@YouTube            21\n",
              "@TaranaBurke        17\n",
              "@lucyloveWHAT       13\n",
              "@rosemcgowan        12\n",
              "                    ..\n",
              "@SupremeCourt_TX     1\n",
              "@erin_bsn            1\n",
              "@RonniLaurie         1\n",
              "@vampgirlI           1\n",
              "@utkarsh_aanand      1\n",
              "Length: 664, dtype: int64"
            ]
          },
          "metadata": {
            "tags": []
          },
          "execution_count": 8
        }
      ]
    },
    {
      "cell_type": "code",
      "metadata": {
        "id": "n0R4Cs5I7RR8",
        "outputId": "dd7ab598-3227-4066-9dae-5c4227ea41c5"
      },
      "source": [
        "## print tweets w/ that military SA account tagged\n",
        "## see that high count is the advocacy org\n",
        "## tagging senators and also tagging themselves\n",
        "print(tweets_df.tweet[tweets_df.tweet.str.contains(\"ProtectRDfnders\")].head())"
      ],
      "execution_count": null,
      "outputs": [
        {
          "output_type": "stream",
          "text": [
            "167    @EarlyFaye2 @NotInMyMarines @ProtectRDfnders @Neveraloneadvo1 @SenGillibrand @SenJoniErnst This most likely based o… https://t.co/6KCVUZ2J3j\n",
            "803    .@SenJohnBarrasso will you support the @ProtectRDfnders Senate pledge to make sure military survivors of sexual ass… https://t.co/wk1fDj7L14\n",
            "804    .@SenRonJohnson will you support the @ProtectRDfnders Senate pledge to make sure military survivors of sexual assau… https://t.co/QU0STWlkmd\n",
            "805    .@Sen_JoeManchin will you support the @ProtectRDfnders Senate pledge to make sure military survivors of sexual assa… https://t.co/r52a1GMihi\n",
            "807    .@SenatorRomney will you support the @ProtectRDfnders Senate pledge to make sure military survivors of sexual assau… https://t.co/Dl7JcW3pmm\n",
            "Name: tweet, dtype: object\n"
          ],
          "name": "stdout"
        }
      ]
    },
    {
      "cell_type": "markdown",
      "metadata": {
        "id": "q2Gicqku7RR8"
      },
      "source": [
        "# Use two: examining relationships between those on the site\n",
        "\n",
        "- Previous example showed both who tweeted with a lot of likes/high follower counts, and also who they tended to tag in the tweets\n",
        "- We can also use twitter to form the start of a social network where nodes are different accounts and edges are drawn between followers who follow the same focal account; here, we'll look at a simplified form\n",
        "\n",
        "**Example use**: Mosleh et al. do a field experiment where they create Twitter bots that either self-identify as Republican or Democrat and then the bots follow people. They look at how the partisanship of the user the bot follows predicts whether the user follows a bot back: https://www.pnas.org/content/118/7/e2022761118.short"
      ]
    },
    {
      "cell_type": "code",
      "metadata": {
        "id": "V3BBFbT_7RR9"
      },
      "source": [
        "## pull 50 most recent followers of one user\n",
        "max_follow = 50\n",
        "PULL_FOLLOW = False\n",
        "focal_account = \"ProtectRDfnders\"\n",
        "if PULL_FOLLOW:\n",
        "    followers_list = [follower.screen_name for follower in tweepy.Cursor(api.followers, \n",
        "                                    focal_account).items(max_follow)]\n",
        "    with open('../public_data/followers_list.pkl', 'wb') as f:\n",
        "        pickle.dump(followers_list, f)\n",
        "else:\n",
        "    with open('../public_data/followers_list.pkl', 'rb') as f:\n",
        "        followers_list = pickle.load(f)"
      ],
      "execution_count": null,
      "outputs": []
    },
    {
      "cell_type": "code",
      "metadata": {
        "id": "k8eKa4Il7RR9"
      },
      "source": [
        "## focusing on a couple followers and their 100\n",
        "## most recent follows for runtime management\n",
        "focal_follower1 = 'ArmyofNaveed'\n",
        "focal_follower2 = 'WithoutViolence'\n",
        "\n",
        "PULL_WHOTHEYFOLLOW = False\n",
        "if PULL_WHOTHEYFOLLOW:\n",
        "    followers_focal1 = [follow.screen_name for follow in\n",
        "                    tweepy.Cursor(api.friends, screen_name = focal_follower1).items(100)]\n",
        "    with open(\"../public_data/followers_focal1.pkl\", 'wb') as f:\n",
        "        pickle.dump(followers_focal1, f)\n",
        "    followers_focal2 = [follow.screen_name for follow in\n",
        "                    tweepy.Cursor(api.friends, screen_name = focal_follower2).items(100)]\n",
        "    with open(\"../public_data/followers_focal2.pkl\", 'wb') as f:\n",
        "        pickle.dump(followers_focal2, f)\n",
        "else:\n",
        "    with open(\"../public_data/followers_focal1.pkl\", 'rb') as f:\n",
        "        followers_focal1 = pickle.load(f)\n",
        "    with open(\"../public_data/followers_focal2.pkl\", 'rb') as f:\n",
        "        followers_focal2 = pickle.load(f)\n",
        "\n"
      ],
      "execution_count": null,
      "outputs": []
    },
    {
      "cell_type": "code",
      "metadata": {
        "id": "Rcxne3Db7RR-",
        "outputId": "058ca588-cd15-4caf-bfee-4d66fb23a0a0"
      },
      "source": [
        "overlap_followers = set(followers_focal1).intersection(followers_focal2)\n",
        "overlap_followers\n",
        "\n",
        "## seems like only the military SA account (at least among recent!\n",
        "## but might get diff results with a larger pull)"
      ],
      "execution_count": null,
      "outputs": [
        {
          "output_type": "execute_result",
          "data": {
            "text/plain": [
              "{'ProtectRDfnders'}"
            ]
          },
          "metadata": {
            "tags": []
          },
          "execution_count": 34
        }
      ]
    },
    {
      "cell_type": "markdown",
      "metadata": {
        "id": "RUjmwtT17RR-"
      },
      "source": [
        "# Use three: extract recent tweets from a specific user\n",
        "\n",
        "If we have a dataset or panel of users, can get their tweets and extract properties like likes, retweets, etc; limited to ~3000 most recent (see documentation)\n",
        "\n",
        "**Example use**: Bisbee et al. construct a panel of political science professors use Twitter; they then follow those users and looks at who retweets each other's research, finding that male professors are more likely to pass on research by other male professors than by female professors - https://www.cambridge.org/core/journals/perspectives-on-politics/article/polisci-twitter-a-descriptive-analysis-of-how-political-scientists-use-twitter-in-2019/C8A193C3E939C1ABCD4600DFE8AEF79A"
      ]
    },
    {
      "cell_type": "code",
      "metadata": {
        "id": "iONetDlY7RR-",
        "outputId": "9319f9a5-03f6-47c8-92f1-12d0bbb833be"
      },
      "source": [
        "focal_account = \"SenatorHassan\"\n",
        "max_items = 100\n",
        "senator_tweets = [[tweet.id, tweet.id_str,\n",
        "                tweet.text, tweet.created_at, tweet.retweet_count, tweet.favorite_count] for\n",
        "                 tweet in tweepy.Cursor(api.user_timeline, focal_account).items(100)]\n",
        "\n",
        "senator_tweets_df = pd.DataFrame(senator_tweets,\n",
        "                                columns = ['tweet_id', 'tweet_id_str',\n",
        "                                           'tweet', 'created',\n",
        "                                          'retweets', 'likes'])\n",
        "senator_tweets_df.sort_values(by = 'retweets', ascending = False)"
      ],
      "execution_count": null,
      "outputs": [
        {
          "output_type": "execute_result",
          "data": {
            "text/html": [
              "<div>\n",
              "<style scoped>\n",
              "    .dataframe tbody tr th:only-of-type {\n",
              "        vertical-align: middle;\n",
              "    }\n",
              "\n",
              "    .dataframe tbody tr th {\n",
              "        vertical-align: top;\n",
              "    }\n",
              "\n",
              "    .dataframe thead th {\n",
              "        text-align: right;\n",
              "    }\n",
              "</style>\n",
              "<table border=\"1\" class=\"dataframe\">\n",
              "  <thead>\n",
              "    <tr style=\"text-align: right;\">\n",
              "      <th></th>\n",
              "      <th>tweet_id</th>\n",
              "      <th>tweet_id_str</th>\n",
              "      <th>tweet</th>\n",
              "      <th>created</th>\n",
              "      <th>retweets</th>\n",
              "      <th>likes</th>\n",
              "    </tr>\n",
              "  </thead>\n",
              "  <tbody>\n",
              "    <tr>\n",
              "      <th>20</th>\n",
              "      <td>1391518471159156738</td>\n",
              "      <td>1391518471159156738</td>\n",
              "      <td>RT if you believe workers deserve paid leave to take care of their sick children or elderly parents.</td>\n",
              "      <td>2021-05-09 22:20:31</td>\n",
              "      <td>841</td>\n",
              "      <td>1602</td>\n",
              "    </tr>\n",
              "    <tr>\n",
              "      <th>58</th>\n",
              "      <td>1388584162211282945</td>\n",
              "      <td>1388584162211282945</td>\n",
              "      <td>Broadband is infrastructure. And we need to make sure that every community across the country has access to it.</td>\n",
              "      <td>2021-05-01 20:00:37</td>\n",
              "      <td>204</td>\n",
              "      <td>898</td>\n",
              "    </tr>\n",
              "    <tr>\n",
              "      <th>38</th>\n",
              "      <td>1389939889152708614</td>\n",
              "      <td>1389939889152708614</td>\n",
              "      <td>Without caregivers to help with everyday tasks — grocery shopping, getting dressed — more than 3.5 million American… https://t.co/48FLQf3I19</td>\n",
              "      <td>2021-05-05 13:47:48</td>\n",
              "      <td>193</td>\n",
              "      <td>697</td>\n",
              "    </tr>\n",
              "    <tr>\n",
              "      <th>15</th>\n",
              "      <td>1392127667294593032</td>\n",
              "      <td>1392127667294593032</td>\n",
              "      <td>Today the Senate is marking up the #ForThePeople Act. That means we’re about to get one step closer to stopping cor… https://t.co/28dt0QxEcO</td>\n",
              "      <td>2021-05-11 14:41:15</td>\n",
              "      <td>188</td>\n",
              "      <td>779</td>\n",
              "    </tr>\n",
              "    <tr>\n",
              "      <th>65</th>\n",
              "      <td>1387844748690534401</td>\n",
              "      <td>1387844748690534401</td>\n",
              "      <td>We just passed the Drinking Water and Wastewater Infrastructure Act on an overwhelmingly bipartisan basis. That mea… https://t.co/f0ImSsM2X1</td>\n",
              "      <td>2021-04-29 19:02:27</td>\n",
              "      <td>184</td>\n",
              "      <td>1103</td>\n",
              "    </tr>\n",
              "    <tr>\n",
              "      <th>...</th>\n",
              "      <td>...</td>\n",
              "      <td>...</td>\n",
              "      <td>...</td>\n",
              "      <td>...</td>\n",
              "      <td>...</td>\n",
              "      <td>...</td>\n",
              "    </tr>\n",
              "    <tr>\n",
              "      <th>4</th>\n",
              "      <td>1392596122821177348</td>\n",
              "      <td>1392596122821177348</td>\n",
              "      <td>Today the subcommittee I lead discussed the @USGAO's 2021 report on duplication, overlap, and fragmentation.\\n\\nIn sh… https://t.co/kxr7sqVQSR</td>\n",
              "      <td>2021-05-12 21:42:43</td>\n",
              "      <td>6</td>\n",
              "      <td>18</td>\n",
              "    </tr>\n",
              "    <tr>\n",
              "      <th>26</th>\n",
              "      <td>1390714041476292615</td>\n",
              "      <td>1390714041476292615</td>\n",
              "      <td>The STANDUP Act would require states, public schools, and Tribes to implement evidence-based policies and trainings… https://t.co/QUTbL4EIOb</td>\n",
              "      <td>2021-05-07 17:04:00</td>\n",
              "      <td>5</td>\n",
              "      <td>16</td>\n",
              "    </tr>\n",
              "    <tr>\n",
              "      <th>39</th>\n",
              "      <td>1389743402024112130</td>\n",
              "      <td>1389743402024112130</td>\n",
              "      <td>RT @nhpr: Updated post: A bill supported by @SenatorHassan and @SenatorShaheen would expand coverage of telehealth services through Medicar…</td>\n",
              "      <td>2021-05-05 00:47:01</td>\n",
              "      <td>5</td>\n",
              "      <td>0</td>\n",
              "    </tr>\n",
              "    <tr>\n",
              "      <th>95</th>\n",
              "      <td>1386796561678716933</td>\n",
              "      <td>1386796561678716933</td>\n",
              "      <td>Flying the POW/MIA flag is one way in which we honor the extraordinary sacrifices of service members taken as priso… https://t.co/p0cIBH7iqx</td>\n",
              "      <td>2021-04-26 21:37:20</td>\n",
              "      <td>5</td>\n",
              "      <td>17</td>\n",
              "    </tr>\n",
              "    <tr>\n",
              "      <th>53</th>\n",
              "      <td>1389269636756250633</td>\n",
              "      <td>1389269636756250633</td>\n",
              "      <td>Congratulations to Exeter's Hunter Long on being drafted by the @MiamiDolphins. New Hampshire is rooting you on as… https://t.co/11zFCe5Io9</td>\n",
              "      <td>2021-05-03 17:24:27</td>\n",
              "      <td>3</td>\n",
              "      <td>31</td>\n",
              "    </tr>\n",
              "  </tbody>\n",
              "</table>\n",
              "<p>100 rows × 6 columns</p>\n",
              "</div>"
            ],
            "text/plain": [
              "               tweet_id         tweet_id_str  \\\n",
              "20  1391518471159156738  1391518471159156738   \n",
              "58  1388584162211282945  1388584162211282945   \n",
              "38  1389939889152708614  1389939889152708614   \n",
              "15  1392127667294593032  1392127667294593032   \n",
              "65  1387844748690534401  1387844748690534401   \n",
              "..                  ...                  ...   \n",
              "4   1392596122821177348  1392596122821177348   \n",
              "26  1390714041476292615  1390714041476292615   \n",
              "39  1389743402024112130  1389743402024112130   \n",
              "95  1386796561678716933  1386796561678716933   \n",
              "53  1389269636756250633  1389269636756250633   \n",
              "\n",
              "                                                                                                                                             tweet  \\\n",
              "20                                            RT if you believe workers deserve paid leave to take care of their sick children or elderly parents.   \n",
              "58                                 Broadband is infrastructure. And we need to make sure that every community across the country has access to it.   \n",
              "38    Without caregivers to help with everyday tasks — grocery shopping, getting dressed — more than 3.5 million American… https://t.co/48FLQf3I19   \n",
              "15    Today the Senate is marking up the #ForThePeople Act. That means we’re about to get one step closer to stopping cor… https://t.co/28dt0QxEcO   \n",
              "65    We just passed the Drinking Water and Wastewater Infrastructure Act on an overwhelmingly bipartisan basis. That mea… https://t.co/f0ImSsM2X1   \n",
              "..                                                                                                                                             ...   \n",
              "4   Today the subcommittee I lead discussed the @USGAO's 2021 report on duplication, overlap, and fragmentation.\\n\\nIn sh… https://t.co/kxr7sqVQSR   \n",
              "26    The STANDUP Act would require states, public schools, and Tribes to implement evidence-based policies and trainings… https://t.co/QUTbL4EIOb   \n",
              "39    RT @nhpr: Updated post: A bill supported by @SenatorHassan and @SenatorShaheen would expand coverage of telehealth services through Medicar…   \n",
              "95    Flying the POW/MIA flag is one way in which we honor the extraordinary sacrifices of service members taken as priso… https://t.co/p0cIBH7iqx   \n",
              "53     Congratulations to Exeter's Hunter Long on being drafted by the @MiamiDolphins. New Hampshire is rooting you on as… https://t.co/11zFCe5Io9   \n",
              "\n",
              "               created  retweets  likes  \n",
              "20 2021-05-09 22:20:31       841   1602  \n",
              "58 2021-05-01 20:00:37       204    898  \n",
              "38 2021-05-05 13:47:48       193    697  \n",
              "15 2021-05-11 14:41:15       188    779  \n",
              "65 2021-04-29 19:02:27       184   1103  \n",
              "..                 ...       ...    ...  \n",
              "4  2021-05-12 21:42:43         6     18  \n",
              "26 2021-05-07 17:04:00         5     16  \n",
              "39 2021-05-05 00:47:01         5      0  \n",
              "95 2021-04-26 21:37:20         5     17  \n",
              "53 2021-05-03 17:24:27         3     31  \n",
              "\n",
              "[100 rows x 6 columns]"
            ]
          },
          "metadata": {
            "tags": []
          },
          "execution_count": 68
        }
      ]
    },
    {
      "cell_type": "code",
      "metadata": {
        "id": "lMNHfCWH7RR_",
        "outputId": "94f66dda-458c-43ef-e298-543c6a585ea1"
      },
      "source": [
        "## do sentiment scoring on the tweet\n",
        "si_scorer = SentimentIntensityAnalyzer()\n",
        "senator_tweets_df['compound_sent'] = [si_scorer.polarity_scores(one_tweet)['compound'] \n",
        "                                      for one_tweet in senator_tweets_df.tweet]\n",
        "senator_tweets_df.sort_values(by = 'compound_sent', ascending = False)\n",
        "\n",
        "## no clear relationship\n",
        "(ggplot(senator_tweets_df, aes(x = 'compound_sent', y = 'retweets')) +\n",
        "geom_point() +\n",
        "xlab(\"Sentiment summary\\n(higher = more positive)\") +\n",
        "ylab(\"Number of retweets\") +\n",
        "geom_smooth())\n",
        "\n",
        "(ggplot(senator_tweets_df, aes(x = 'compound_sent', y = 'likes')) +\n",
        "geom_point() +\n",
        "xlab(\"Sentiment summary\\n(higher = more positive)\") +\n",
        "ylab(\"Number of retweets\") +\n",
        "geom_smooth())"
      ],
      "execution_count": null,
      "outputs": [
        {
          "output_type": "execute_result",
          "data": {
            "text/html": [
              "<div>\n",
              "<style scoped>\n",
              "    .dataframe tbody tr th:only-of-type {\n",
              "        vertical-align: middle;\n",
              "    }\n",
              "\n",
              "    .dataframe tbody tr th {\n",
              "        vertical-align: top;\n",
              "    }\n",
              "\n",
              "    .dataframe thead th {\n",
              "        text-align: right;\n",
              "    }\n",
              "</style>\n",
              "<table border=\"1\" class=\"dataframe\">\n",
              "  <thead>\n",
              "    <tr style=\"text-align: right;\">\n",
              "      <th></th>\n",
              "      <th>tweet_id</th>\n",
              "      <th>tweet_id_str</th>\n",
              "      <th>tweet</th>\n",
              "      <th>created</th>\n",
              "      <th>retweets</th>\n",
              "      <th>likes</th>\n",
              "      <th>compound_sent</th>\n",
              "    </tr>\n",
              "  </thead>\n",
              "  <tbody>\n",
              "    <tr>\n",
              "      <th>21</th>\n",
              "      <td>1391478074152259585</td>\n",
              "      <td>1391478074152259585</td>\n",
              "      <td>Get vaccinated so you can hug the people you love — Happy Mother’s Day! https://t.co/4p1zYcGd8T</td>\n",
              "      <td>2021-05-09 19:39:59</td>\n",
              "      <td>49</td>\n",
              "      <td>343</td>\n",
              "      <td>0.9110</td>\n",
              "    </tr>\n",
              "    <tr>\n",
              "      <th>22</th>\n",
              "      <td>1391407798148345858</td>\n",
              "      <td>1391407798148345858</td>\n",
              "      <td>Being the mother of two wonderful children is a pure and unparalleled joy. So is being raised by my own smart, comp… https://t.co/E5XghXI3pW</td>\n",
              "      <td>2021-05-09 15:00:44</td>\n",
              "      <td>7</td>\n",
              "      <td>87</td>\n",
              "      <td>0.8807</td>\n",
              "    </tr>\n",
              "    <tr>\n",
              "      <th>79</th>\n",
              "      <td>1387525717739642880</td>\n",
              "      <td>1387525717739642880</td>\n",
              "      <td>I'm on board! Proud to cosponsor the SHIPYARD Act to help support our national security and economy by investing in… https://t.co/Pzvh4a0HSR</td>\n",
              "      <td>2021-04-28 21:54:44</td>\n",
              "      <td>11</td>\n",
              "      <td>24</td>\n",
              "      <td>0.8805</td>\n",
              "    </tr>\n",
              "    <tr>\n",
              "      <th>8</th>\n",
              "      <td>1392508599289659405</td>\n",
              "      <td>1392508599289659405</td>\n",
              "      <td>This is fantastic — *one million* Americans have enrolled in a health care plan during this Affordable Care Act spe… https://t.co/UiZIpjQOlQ</td>\n",
              "      <td>2021-05-12 15:54:56</td>\n",
              "      <td>10</td>\n",
              "      <td>34</td>\n",
              "      <td>0.8750</td>\n",
              "    </tr>\n",
              "    <tr>\n",
              "      <th>14</th>\n",
              "      <td>1392142012493799427</td>\n",
              "      <td>1392142012493799427</td>\n",
              "      <td>This is great news — authorizing the Pfizer vaccine for children ages 12 to 15 will help protect more American fami… https://t.co/rUQ9Bczbuc</td>\n",
              "      <td>2021-05-11 15:38:15</td>\n",
              "      <td>8</td>\n",
              "      <td>28</td>\n",
              "      <td>0.8555</td>\n",
              "    </tr>\n",
              "    <tr>\n",
              "      <th>...</th>\n",
              "      <td>...</td>\n",
              "      <td>...</td>\n",
              "      <td>...</td>\n",
              "      <td>...</td>\n",
              "      <td>...</td>\n",
              "      <td>...</td>\n",
              "      <td>...</td>\n",
              "    </tr>\n",
              "    <tr>\n",
              "      <th>87</th>\n",
              "      <td>1387179648707141632</td>\n",
              "      <td>1387179648707141632</td>\n",
              "      <td>It can be hard to find doctors that specialize in substance use disorder treatment, especially in rural areas. That… https://t.co/Qf579OjfXk</td>\n",
              "      <td>2021-04-27 22:59:35</td>\n",
              "      <td>9</td>\n",
              "      <td>36</td>\n",
              "      <td>-0.4767</td>\n",
              "    </tr>\n",
              "    <tr>\n",
              "      <th>9</th>\n",
              "      <td>1392292746187186177</td>\n",
              "      <td>1392292746187186177</td>\n",
              "      <td>I condemn Hamas’ attacks on Israeli citizens — they must stop, and Israel has a right to defend itself. I urge de-e… https://t.co/NnFcKFg43n</td>\n",
              "      <td>2021-05-12 01:37:12</td>\n",
              "      <td>58</td>\n",
              "      <td>301</td>\n",
              "      <td>-0.7717</td>\n",
              "    </tr>\n",
              "    <tr>\n",
              "      <th>13</th>\n",
              "      <td>1392158631269998595</td>\n",
              "      <td>1392158631269998595</td>\n",
              "      <td>The substance use disorder crisis has devastated families across our state, leaving many grandparents raising their… https://t.co/OquKI0Kld6</td>\n",
              "      <td>2021-05-11 16:44:17</td>\n",
              "      <td>8</td>\n",
              "      <td>19</td>\n",
              "      <td>-0.8957</td>\n",
              "    </tr>\n",
              "    <tr>\n",
              "      <th>18</th>\n",
              "      <td>1391813900946100229</td>\n",
              "      <td>1391813900946100229</td>\n",
              "      <td>There's no other way to say it: gun violence is a public health crisis. \\nhttps://t.co/nBfGB0bs2x</td>\n",
              "      <td>2021-05-10 17:54:27</td>\n",
              "      <td>44</td>\n",
              "      <td>129</td>\n",
              "      <td>-0.9153</td>\n",
              "    </tr>\n",
              "    <tr>\n",
              "      <th>27</th>\n",
              "      <td>1390714040352219141</td>\n",
              "      <td>1390714040352219141</td>\n",
              "      <td>Youth suicide is a growing issue. Suicide is one of the leading causes of death for people ages 10–24. That's absol… https://t.co/bQoE29zxN6</td>\n",
              "      <td>2021-05-07 17:04:00</td>\n",
              "      <td>6</td>\n",
              "      <td>16</td>\n",
              "      <td>-0.9217</td>\n",
              "    </tr>\n",
              "  </tbody>\n",
              "</table>\n",
              "<p>100 rows × 7 columns</p>\n",
              "</div>"
            ],
            "text/plain": [
              "               tweet_id         tweet_id_str  \\\n",
              "21  1391478074152259585  1391478074152259585   \n",
              "22  1391407798148345858  1391407798148345858   \n",
              "79  1387525717739642880  1387525717739642880   \n",
              "8   1392508599289659405  1392508599289659405   \n",
              "14  1392142012493799427  1392142012493799427   \n",
              "..                  ...                  ...   \n",
              "87  1387179648707141632  1387179648707141632   \n",
              "9   1392292746187186177  1392292746187186177   \n",
              "13  1392158631269998595  1392158631269998595   \n",
              "18  1391813900946100229  1391813900946100229   \n",
              "27  1390714040352219141  1390714040352219141   \n",
              "\n",
              "                                                                                                                                           tweet  \\\n",
              "21                                               Get vaccinated so you can hug the people you love — Happy Mother’s Day! https://t.co/4p1zYcGd8T   \n",
              "22  Being the mother of two wonderful children is a pure and unparalleled joy. So is being raised by my own smart, comp… https://t.co/E5XghXI3pW   \n",
              "79  I'm on board! Proud to cosponsor the SHIPYARD Act to help support our national security and economy by investing in… https://t.co/Pzvh4a0HSR   \n",
              "8   This is fantastic — *one million* Americans have enrolled in a health care plan during this Affordable Care Act spe… https://t.co/UiZIpjQOlQ   \n",
              "14  This is great news — authorizing the Pfizer vaccine for children ages 12 to 15 will help protect more American fami… https://t.co/rUQ9Bczbuc   \n",
              "..                                                                                                                                           ...   \n",
              "87  It can be hard to find doctors that specialize in substance use disorder treatment, especially in rural areas. That… https://t.co/Qf579OjfXk   \n",
              "9   I condemn Hamas’ attacks on Israeli citizens — they must stop, and Israel has a right to defend itself. I urge de-e… https://t.co/NnFcKFg43n   \n",
              "13  The substance use disorder crisis has devastated families across our state, leaving many grandparents raising their… https://t.co/OquKI0Kld6   \n",
              "18                                             There's no other way to say it: gun violence is a public health crisis. \\nhttps://t.co/nBfGB0bs2x   \n",
              "27  Youth suicide is a growing issue. Suicide is one of the leading causes of death for people ages 10–24. That's absol… https://t.co/bQoE29zxN6   \n",
              "\n",
              "               created  retweets  likes  compound_sent  \n",
              "21 2021-05-09 19:39:59        49    343         0.9110  \n",
              "22 2021-05-09 15:00:44         7     87         0.8807  \n",
              "79 2021-04-28 21:54:44        11     24         0.8805  \n",
              "8  2021-05-12 15:54:56        10     34         0.8750  \n",
              "14 2021-05-11 15:38:15         8     28         0.8555  \n",
              "..                 ...       ...    ...            ...  \n",
              "87 2021-04-27 22:59:35         9     36        -0.4767  \n",
              "9  2021-05-12 01:37:12        58    301        -0.7717  \n",
              "13 2021-05-11 16:44:17         8     19        -0.8957  \n",
              "18 2021-05-10 17:54:27        44    129        -0.9153  \n",
              "27 2021-05-07 17:04:00         6     16        -0.9217  \n",
              "\n",
              "[100 rows x 7 columns]"
            ]
          },
          "metadata": {
            "tags": []
          },
          "execution_count": 69
        },
        {
          "output_type": "stream",
          "text": [
            "/opt/conda/lib/python3.8/site-packages/plotnine/stats/smoothers.py:310: PlotnineWarning: Confidence intervals are not yet implementedfor lowess smoothings.\n"
          ],
          "name": "stderr"
        },
        {
          "output_type": "display_data",
          "data": {
            "image/png": "[encoded data removed]",
            "text/plain": [
              "<Figure size 640x480 with 1 Axes>"
            ]
          },
          "metadata": {
            "tags": []
          }
        },
        {
          "output_type": "execute_result",
          "data": {
            "text/plain": [
              "<ggplot: (8761150204992)>"
            ]
          },
          "metadata": {
            "tags": []
          },
          "execution_count": 69
        },
        {
          "output_type": "stream",
          "text": [
            "/opt/conda/lib/python3.8/site-packages/plotnine/stats/smoothers.py:310: PlotnineWarning: Confidence intervals are not yet implementedfor lowess smoothings.\n"
          ],
          "name": "stderr"
        },
        {
          "output_type": "display_data",
          "data": {
            "image/png": "[encoded data removed]",
            "text/plain": [
              "<Figure size 640x480 with 1 Axes>"
            ]
          },
          "metadata": {
            "tags": []
          }
        },
        {
          "output_type": "execute_result",
          "data": {
            "text/plain": [
              "<ggplot: (8761149822196)>"
            ]
          },
          "metadata": {
            "tags": []
          },
          "execution_count": 69
        }
      ]
    }
  ]
}