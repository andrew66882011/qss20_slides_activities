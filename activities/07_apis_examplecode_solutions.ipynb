{
  "nbformat": 4,
  "nbformat_minor": 0,
  "metadata": {
    "kernelspec": {
      "display_name": "Python 3",
      "language": "python",
      "name": "python3"
    },
    "language_info": {
      "codemirror_mode": {
        "name": "ipython",
        "version": 3
      },
      "file_extension": ".py",
      "mimetype": "text/x-python",
      "name": "python",
      "nbconvert_exporter": "python",
      "pygments_lexer": "ipython3",
      "version": "3.8.3"
    },
    "colab": {
      "name": "07_apis_examplecode_solutions.ipynb",
      "provenance": [],
      "include_colab_link": true
    }
  },
  "cells": [
    {
      "cell_type": "markdown",
      "metadata": {
        "id": "view-in-github",
        "colab_type": "text"
      },
      "source": [
        "<a href=\"https://colab.research.google.com/github/andrew66882011/qss20_slides_activities/blob/main/activities/07_apis_examplecode_solutions.ipynb\" target=\"_parent\"><img src=\"https://colab.research.google.com/assets/colab-badge.svg\" alt=\"Open In Colab\"/></a>"
      ]
    },
    {
      "cell_type": "code",
      "metadata": {
        "id": "33gKMJbM6mxd"
      },
      "source": [
        "## imports\n",
        "import pandas as pd\n",
        "import numpy as np\n",
        "import re\n",
        "import requests\n",
        "import yaml\n",
        "\n",
        "\n",
        "## repeated printouts\n",
        "from IPython.core.interactiveshell import InteractiveShell\n",
        "InteractiveShell.ast_node_interactivity = \"all\""
      ],
      "execution_count": null,
      "outputs": []
    },
    {
      "cell_type": "markdown",
      "metadata": {
        "id": "XA_1iLPP6mxg"
      },
      "source": [
        "# Example 1: no credentials; no wrapper\n",
        "\n",
        "Site: National Assessment of Education Progress (NAEP)\n",
        "\n",
        "Documentation: https://www.nationsreportcard.gov/api_documentation.aspx\n",
        "\n",
        "Base link: https://www.nationsreportcard.gov/DataService/GetAdhocData.aspx "
      ]
    },
    {
      "cell_type": "markdown",
      "metadata": {
        "id": "qlClzvfG6mxh"
      },
      "source": [
        "## Query returns something"
      ]
    },
    {
      "cell_type": "code",
      "metadata": {
        "id": "8I9hbxtB6mxh",
        "outputId": "b82fd2c1-2c6a-4436-905c-d1d50949fea1"
      },
      "source": [
        "## using their example query of 2011 writing scores separated by gender\n",
        "## based on here - https://stackoverflow.com/questions/40836749/pythonic-way-of-writing-a-single-line-long-string\n",
        "## using the ( ) syntax to formulate a long\n",
        "## string without linebreaks added\n",
        "example_naep_query = (\n",
        "'https://www.nationsreportcard.gov/'\n",
        "'Dataservice/GetAdhocData.aspx?'\n",
        "'type=data&subject=writing&grade=8&'\n",
        "'subscale=WRIRP&variable=GENDER&jurisdiction=NP&stattype=MN:MN&Year=2011')\n",
        "\n",
        "\n",
        "example_naep_query\n"
      ],
      "execution_count": null,
      "outputs": [
        {
          "output_type": "execute_result",
          "data": {
            "text/plain": [
              "'https://www.nationsreportcard.gov/Dataservice/GetAdhocData.aspx?type=data&subject=writing&grade=8&subscale=WRIRP&variable=GENDER&jurisdiction=NP&stattype=MN:MN&Year=2011'"
            ]
          },
          "metadata": {
            "tags": []
          },
          "execution_count": 2
        }
      ]
    },
    {
      "cell_type": "code",
      "metadata": {
        "id": "HdGRUSCa6mxj",
        "outputId": "3796d11c-b6b1-4603-caea-99279d975aa6"
      },
      "source": [
        "## use requests to call the api\n",
        "naep_resp = requests.get(example_naep_query)\n",
        "naep_resp\n",
        "print(type(naep_resp))\n",
        "\n",
        "## get the json contents of the response \n",
        "## here, we're assuming valid response\n",
        "naep_resp_j = naep_resp.json()\n",
        "naep_resp_j\n",
        "\n",
        "## with result, turn it into a dataframe\n",
        "naep_resp_d = pd.DataFrame(naep_resp_j['result'])\n",
        "naep_resp_d"
      ],
      "execution_count": null,
      "outputs": [
        {
          "output_type": "execute_result",
          "data": {
            "text/plain": [
              "<Response [200]>"
            ]
          },
          "metadata": {
            "tags": []
          },
          "execution_count": 3
        },
        {
          "output_type": "stream",
          "text": [
            "<class 'requests.models.Response'>\n"
          ],
          "name": "stdout"
        },
        {
          "output_type": "execute_result",
          "data": {
            "text/plain": [
              "{'status': 200,\n",
              " 'result': [{'year': 2011,\n",
              "   'sample': 'R3',\n",
              "   'yearSampleLabel': '2011',\n",
              "   'Cohort': 2,\n",
              "   'CohortLabel': 'Grade 8',\n",
              "   'stattype': 'MN:MN',\n",
              "   'subject': 'WRI',\n",
              "   'grade': 8,\n",
              "   'scale': 'WRIRP',\n",
              "   'jurisdiction': 'NP',\n",
              "   'variable': 'GENDER',\n",
              "   'variableLabel': 'Gender',\n",
              "   'varValue': '1',\n",
              "   'varValueLabel': 'Male',\n",
              "   'value': 139.099504632971,\n",
              "   'isStatDisplayable': 1,\n",
              "   'errorFlag': 0},\n",
              "  {'year': 2011,\n",
              "   'sample': 'R3',\n",
              "   'yearSampleLabel': '2011',\n",
              "   'Cohort': 2,\n",
              "   'CohortLabel': 'Grade 8',\n",
              "   'stattype': 'MN:MN',\n",
              "   'subject': 'WRI',\n",
              "   'grade': 8,\n",
              "   'scale': 'WRIRP',\n",
              "   'jurisdiction': 'NP',\n",
              "   'variable': 'GENDER',\n",
              "   'variableLabel': 'Gender',\n",
              "   'varValue': '2',\n",
              "   'varValueLabel': 'Female',\n",
              "   'value': 158.567104984955,\n",
              "   'isStatDisplayable': 1,\n",
              "   'errorFlag': 0}]}"
            ]
          },
          "metadata": {
            "tags": []
          },
          "execution_count": 3
        },
        {
          "output_type": "execute_result",
          "data": {
            "text/html": [
              "<div>\n",
              "<style scoped>\n",
              "    .dataframe tbody tr th:only-of-type {\n",
              "        vertical-align: middle;\n",
              "    }\n",
              "\n",
              "    .dataframe tbody tr th {\n",
              "        vertical-align: top;\n",
              "    }\n",
              "\n",
              "    .dataframe thead th {\n",
              "        text-align: right;\n",
              "    }\n",
              "</style>\n",
              "<table border=\"1\" class=\"dataframe\">\n",
              "  <thead>\n",
              "    <tr style=\"text-align: right;\">\n",
              "      <th></th>\n",
              "      <th>year</th>\n",
              "      <th>sample</th>\n",
              "      <th>yearSampleLabel</th>\n",
              "      <th>Cohort</th>\n",
              "      <th>CohortLabel</th>\n",
              "      <th>stattype</th>\n",
              "      <th>subject</th>\n",
              "      <th>grade</th>\n",
              "      <th>scale</th>\n",
              "      <th>jurisdiction</th>\n",
              "      <th>variable</th>\n",
              "      <th>variableLabel</th>\n",
              "      <th>varValue</th>\n",
              "      <th>varValueLabel</th>\n",
              "      <th>value</th>\n",
              "      <th>isStatDisplayable</th>\n",
              "      <th>errorFlag</th>\n",
              "    </tr>\n",
              "  </thead>\n",
              "  <tbody>\n",
              "    <tr>\n",
              "      <th>0</th>\n",
              "      <td>2011</td>\n",
              "      <td>R3</td>\n",
              "      <td>2011</td>\n",
              "      <td>2</td>\n",
              "      <td>Grade 8</td>\n",
              "      <td>MN:MN</td>\n",
              "      <td>WRI</td>\n",
              "      <td>8</td>\n",
              "      <td>WRIRP</td>\n",
              "      <td>NP</td>\n",
              "      <td>GENDER</td>\n",
              "      <td>Gender</td>\n",
              "      <td>1</td>\n",
              "      <td>Male</td>\n",
              "      <td>139.099505</td>\n",
              "      <td>1</td>\n",
              "      <td>0</td>\n",
              "    </tr>\n",
              "    <tr>\n",
              "      <th>1</th>\n",
              "      <td>2011</td>\n",
              "      <td>R3</td>\n",
              "      <td>2011</td>\n",
              "      <td>2</td>\n",
              "      <td>Grade 8</td>\n",
              "      <td>MN:MN</td>\n",
              "      <td>WRI</td>\n",
              "      <td>8</td>\n",
              "      <td>WRIRP</td>\n",
              "      <td>NP</td>\n",
              "      <td>GENDER</td>\n",
              "      <td>Gender</td>\n",
              "      <td>2</td>\n",
              "      <td>Female</td>\n",
              "      <td>158.567105</td>\n",
              "      <td>1</td>\n",
              "      <td>0</td>\n",
              "    </tr>\n",
              "  </tbody>\n",
              "</table>\n",
              "</div>"
            ],
            "text/plain": [
              "   year sample yearSampleLabel  Cohort CohortLabel stattype subject  grade  \\\n",
              "0  2011     R3            2011       2     Grade 8    MN:MN     WRI      8   \n",
              "1  2011     R3            2011       2     Grade 8    MN:MN     WRI      8   \n",
              "\n",
              "   scale jurisdiction variable variableLabel varValue varValueLabel  \\\n",
              "0  WRIRP           NP   GENDER        Gender        1          Male   \n",
              "1  WRIRP           NP   GENDER        Gender        2        Female   \n",
              "\n",
              "        value  isStatDisplayable  errorFlag  \n",
              "0  139.099505                  1          0  \n",
              "1  158.567105                  1          0  "
            ]
          },
          "metadata": {
            "tags": []
          },
          "execution_count": 3
        }
      ]
    },
    {
      "cell_type": "markdown",
      "metadata": {
        "id": "SL2D3Vqa6mxj"
      },
      "source": [
        "## What happens if there's an error in our query?"
      ]
    },
    {
      "cell_type": "code",
      "metadata": {
        "id": "PfhdIcmC6mxj",
        "outputId": "4759b748-605b-41a9-a370-0e77041c9593"
      },
      "source": [
        "## here's a query that from the documentation we know\n",
        "## won't work since i modified year to 2025 which doesnt\n",
        "## exist in the data\n",
        "wrong_naep_query = (\n",
        "'https://www.nationsreportcard.gov/'\n",
        "'Dataservice/GetAdhocData.aspx?'\n",
        "'type=data&subject=writing&grade=8&'\n",
        "'subscale=WRIRP&variable=GENDER&jurisdiction=NP&stattype=MN:MN&Year=2025')\n",
        "\n",
        "wrong_naep_query"
      ],
      "execution_count": null,
      "outputs": [
        {
          "output_type": "execute_result",
          "data": {
            "text/plain": [
              "'https://www.nationsreportcard.gov/Dataservice/GetAdhocData.aspx?type=data&subject=writing&grade=8&subscale=WRIRP&variable=GENDER&jurisdiction=NP&stattype=MN:MN&Year=2025'"
            ]
          },
          "metadata": {
            "tags": []
          },
          "execution_count": 4
        }
      ]
    },
    {
      "cell_type": "code",
      "metadata": {
        "id": "_utblIOl6mxk",
        "outputId": "4fb7cd5c-e257-4e9d-dc9e-c352d7d99daf"
      },
      "source": [
        "## use requests to call the api\n",
        "naep_wrong_resp = requests.get(wrong_naep_query)\n",
        "naep_wrong_resp\n",
        "\n",
        "## in the case of this particular api,\n",
        "## the call returns some response but\n",
        "## when we try to extract the json containing\n",
        "## status or results, we get in an error\n",
        "# naep_wrong_resp.json()"
      ],
      "execution_count": null,
      "outputs": [
        {
          "output_type": "execute_result",
          "data": {
            "text/plain": [
              "<Response [200]>"
            ]
          },
          "metadata": {
            "tags": []
          },
          "execution_count": 54
        }
      ]
    },
    {
      "cell_type": "markdown",
      "metadata": {
        "id": "j6cUDNLw6mxl"
      },
      "source": [
        "### More all-purpose way of allowing remainder of calls to run: try, except"
      ]
    },
    {
      "cell_type": "code",
      "metadata": {
        "id": "HI38a_Pw6mxl"
      },
      "source": [
        "## putting it in a try; except as general error catching\n",
        "try:\n",
        "    results = naep_wrong_resp.json()['result']\n",
        "except:\n",
        "    pass"
      ],
      "execution_count": null,
      "outputs": []
    },
    {
      "cell_type": "markdown",
      "metadata": {
        "id": "yTUmZYHc6mxl"
      },
      "source": [
        "### Can usually also find more targeted way but that varies more across APIs"
      ]
    },
    {
      "cell_type": "code",
      "metadata": {
        "id": "zikA2etY6mxm",
        "outputId": "9d6a2e81-4cd9-4f0f-d04f-1238106eb1b3"
      },
      "source": [
        "## if we wanted do more specific error catching,\n",
        "## see that the status == 400 actually appears here\n",
        "## so could write if else along thos elines\n",
        "naep_wrong_resp.text\n",
        "naep_resp.text\n",
        "\n",
        "if \"System.Exception\" in naep_wrong_resp.text:\n",
        "    print(\"not found\")"
      ],
      "execution_count": null,
      "outputs": [
        {
          "output_type": "execute_result",
          "data": {
            "text/plain": [
              "'{\"status\":400,\"result\": \"System.Exception: The query \\'SELECT DISTINCT Framework FROM Cycles WHERE Subject=\\'WRI\\' AND Cohort=2 AND CONVERT(VARCHAR(10),Year)+Sample IN (\\'2025R3\\')\\' did not return exactly 1 framework. Make sure you can trend the years defined for the given subject and cohort.\\r\\n   at NRCDataService3.GetAdhocData.GetFramework(NDEContext& ndeContext, String subjectCode, List`1 yearSamples, String cohort) in C:\\\\projects\\\\ndecore2015\\\\NRCDataService2\\\\GetAdhocData.aspx.cs:line 1735\\r\\n   at NRCDataService3.GetAdhocData.PopulateBaseOrchestratorRequest() in C:\\\\projects\\\\ndecore2015\\\\NRCDataService2\\\\GetAdhocData.aspx.cs:line 1495\\r\\n   at NRCDataService3.GetAdhocData.ConstructRequest_Datapoint() in C:\\\\projects\\\\ndecore2015\\\\NRCDataService2\\\\GetAdhocData.aspx.cs:line 482\\r\\n   at NRCDataService3.GetAdhocData.Page_Load(Object sender, EventArgs e) in C:\\\\projects\\\\ndecore2015\\\\NRCDataService2\\\\GetAdhocData.aspx.cs:line 136\"}'"
            ]
          },
          "metadata": {
            "tags": []
          },
          "execution_count": 6
        },
        {
          "output_type": "execute_result",
          "data": {
            "text/plain": [
              "'{\"status\":200,\"result\": [{\"year\":2011,\"sample\":\"R3\",\"yearSampleLabel\":\"2011\",\"Cohort\":2,\"CohortLabel\":\"Grade 8\",\"stattype\":\"MN:MN\",\"subject\":\"WRI\",\"grade\":8,\"scale\":\"WRIRP\",\"jurisdiction\":\"NP\",\"variable\":\"GENDER\",\"variableLabel\":\"Gender\",\"varValue\":\"1\",\"varValueLabel\":\"Male\",\"value\":139.099504632971,\"isStatDisplayable\":1,\"errorFlag\":0},{\"year\":2011,\"sample\":\"R3\",\"yearSampleLabel\":\"2011\",\"Cohort\":2,\"CohortLabel\":\"Grade 8\",\"stattype\":\"MN:MN\",\"subject\":\"WRI\",\"grade\":8,\"scale\":\"WRIRP\",\"jurisdiction\":\"NP\",\"variable\":\"GENDER\",\"variableLabel\":\"Gender\",\"varValue\":\"2\",\"varValueLabel\":\"Female\",\"value\":158.567104984955,\"isStatDisplayable\":1,\"errorFlag\":0}]}'"
            ]
          },
          "metadata": {
            "tags": []
          },
          "execution_count": 6
        },
        {
          "output_type": "stream",
          "text": [
            "not found\n"
          ],
          "name": "stdout"
        }
      ]
    },
    {
      "cell_type": "markdown",
      "metadata": {
        "id": "XUwW0juD6mxm"
      },
      "source": [
        "## Writing a function to make multiple, sequential calls\n",
        "\n",
        "- Say we want to pull the data for grades 4, 8, and 12\n",
        "- How can we write a function that iterates over a list of those grades and pulls the data for each grade?\n",
        "\n",
        "**Note**: an ideal function would have arguments for each parameter in the API like subject, subscale, etc. Here we can leave those other parts constant"
      ]
    },
    {
      "cell_type": "code",
      "metadata": {
        "id": "P8Zx-N2q6mxn"
      },
      "source": [
        "def pull_one_grade(which_grade):\n",
        "    \n",
        "    ## define query \n",
        "    create_query = (\n",
        "    'https://www.nationsreportcard.gov/'\n",
        "    'Dataservice/GetAdhocData.aspx?'\n",
        "    'type=data&subject=writing&grade={grade}&'\n",
        "    'subscale=WRIRP&variable=GENDER&jurisdiction=NP&stattype=MN:MN&Year=2011').format(grade = \n",
        "                                    str(which_grade))\n",
        "    print(create_query)\n",
        "    ## call API\n",
        "    naep_resp = requests.get(create_query)\n",
        "    \n",
        "    ## try/except\n",
        "    try:\n",
        "        print(\"Pulling for this query: \" + create_query)\n",
        "        naep_j = naep_resp.json()\n",
        "        naep_df = pd.DataFrame(naep_j['result'])\n",
        "    \n",
        "    except:\n",
        "        naep_df = pd.DataFrame()\n",
        "    \n",
        "    return(naep_df)\n",
        "         \n",
        "    "
      ],
      "execution_count": null,
      "outputs": []
    },
    {
      "cell_type": "code",
      "metadata": {
        "id": "uDjnoJR-6mxo",
        "outputId": "8b1f9410-bcef-47ef-fa23-7e1311469c37"
      },
      "source": [
        "all_res = [pull_one_grade(grade) for grade in [4, 8, 12]]\n",
        "all_res\n",
        "\n",
        "valid_res = pd.concat([res for res in all_res if not res.empty])\n",
        "valid_res"
      ],
      "execution_count": null,
      "outputs": [
        {
          "output_type": "stream",
          "text": [
            "https://www.nationsreportcard.gov/Dataservice/GetAdhocData.aspx?type=data&subject=writing&grade=4&subscale=WRIRP&variable=GENDER&jurisdiction=NP&stattype=MN:MN&Year=2011\n",
            "Pulling for this query: https://www.nationsreportcard.gov/Dataservice/GetAdhocData.aspx?type=data&subject=writing&grade=4&subscale=WRIRP&variable=GENDER&jurisdiction=NP&stattype=MN:MN&Year=2011\n",
            "https://www.nationsreportcard.gov/Dataservice/GetAdhocData.aspx?type=data&subject=writing&grade=8&subscale=WRIRP&variable=GENDER&jurisdiction=NP&stattype=MN:MN&Year=2011\n",
            "Pulling for this query: https://www.nationsreportcard.gov/Dataservice/GetAdhocData.aspx?type=data&subject=writing&grade=8&subscale=WRIRP&variable=GENDER&jurisdiction=NP&stattype=MN:MN&Year=2011\n",
            "https://www.nationsreportcard.gov/Dataservice/GetAdhocData.aspx?type=data&subject=writing&grade=12&subscale=WRIRP&variable=GENDER&jurisdiction=NP&stattype=MN:MN&Year=2011\n",
            "Pulling for this query: https://www.nationsreportcard.gov/Dataservice/GetAdhocData.aspx?type=data&subject=writing&grade=12&subscale=WRIRP&variable=GENDER&jurisdiction=NP&stattype=MN:MN&Year=2011\n"
          ],
          "name": "stdout"
        },
        {
          "output_type": "execute_result",
          "data": {
            "text/plain": [
              "[Empty DataFrame\n",
              " Columns: []\n",
              " Index: [],\n",
              "    year sample yearSampleLabel  Cohort CohortLabel stattype subject  grade  \\\n",
              " 0  2011     R3            2011       2     Grade 8    MN:MN     WRI      8   \n",
              " 1  2011     R3            2011       2     Grade 8    MN:MN     WRI      8   \n",
              " \n",
              "    scale jurisdiction variable variableLabel varValue varValueLabel  \\\n",
              " 0  WRIRP           NP   GENDER        Gender        1          Male   \n",
              " 1  WRIRP           NP   GENDER        Gender        2        Female   \n",
              " \n",
              "         value  isStatDisplayable  errorFlag  \n",
              " 0  139.099505                  1          0  \n",
              " 1  158.567105                  1          0  ,\n",
              "    year sample yearSampleLabel  Cohort CohortLabel stattype subject  grade  \\\n",
              " 0  2011     R3            2011       3    Grade 12    MN:MN     WRI     12   \n",
              " 1  2011     R3            2011       3    Grade 12    MN:MN     WRI     12   \n",
              " \n",
              "    scale jurisdiction variable variableLabel varValue varValueLabel  \\\n",
              " 0  WRIRP           NP   GENDER        Gender        1          Male   \n",
              " 1  WRIRP           NP   GENDER        Gender        2        Female   \n",
              " \n",
              "         value  isStatDisplayable  errorFlag  \n",
              " 0  141.256978                  1          0  \n",
              " 1  155.385917                  1          0  ]"
            ]
          },
          "metadata": {
            "tags": []
          },
          "execution_count": 9
        },
        {
          "output_type": "execute_result",
          "data": {
            "text/html": [
              "<div>\n",
              "<style scoped>\n",
              "    .dataframe tbody tr th:only-of-type {\n",
              "        vertical-align: middle;\n",
              "    }\n",
              "\n",
              "    .dataframe tbody tr th {\n",
              "        vertical-align: top;\n",
              "    }\n",
              "\n",
              "    .dataframe thead th {\n",
              "        text-align: right;\n",
              "    }\n",
              "</style>\n",
              "<table border=\"1\" class=\"dataframe\">\n",
              "  <thead>\n",
              "    <tr style=\"text-align: right;\">\n",
              "      <th></th>\n",
              "      <th>year</th>\n",
              "      <th>sample</th>\n",
              "      <th>yearSampleLabel</th>\n",
              "      <th>Cohort</th>\n",
              "      <th>CohortLabel</th>\n",
              "      <th>stattype</th>\n",
              "      <th>subject</th>\n",
              "      <th>grade</th>\n",
              "      <th>scale</th>\n",
              "      <th>jurisdiction</th>\n",
              "      <th>variable</th>\n",
              "      <th>variableLabel</th>\n",
              "      <th>varValue</th>\n",
              "      <th>varValueLabel</th>\n",
              "      <th>value</th>\n",
              "      <th>isStatDisplayable</th>\n",
              "      <th>errorFlag</th>\n",
              "    </tr>\n",
              "  </thead>\n",
              "  <tbody>\n",
              "    <tr>\n",
              "      <th>0</th>\n",
              "      <td>2011</td>\n",
              "      <td>R3</td>\n",
              "      <td>2011</td>\n",
              "      <td>2</td>\n",
              "      <td>Grade 8</td>\n",
              "      <td>MN:MN</td>\n",
              "      <td>WRI</td>\n",
              "      <td>8</td>\n",
              "      <td>WRIRP</td>\n",
              "      <td>NP</td>\n",
              "      <td>GENDER</td>\n",
              "      <td>Gender</td>\n",
              "      <td>1</td>\n",
              "      <td>Male</td>\n",
              "      <td>139.099505</td>\n",
              "      <td>1</td>\n",
              "      <td>0</td>\n",
              "    </tr>\n",
              "    <tr>\n",
              "      <th>1</th>\n",
              "      <td>2011</td>\n",
              "      <td>R3</td>\n",
              "      <td>2011</td>\n",
              "      <td>2</td>\n",
              "      <td>Grade 8</td>\n",
              "      <td>MN:MN</td>\n",
              "      <td>WRI</td>\n",
              "      <td>8</td>\n",
              "      <td>WRIRP</td>\n",
              "      <td>NP</td>\n",
              "      <td>GENDER</td>\n",
              "      <td>Gender</td>\n",
              "      <td>2</td>\n",
              "      <td>Female</td>\n",
              "      <td>158.567105</td>\n",
              "      <td>1</td>\n",
              "      <td>0</td>\n",
              "    </tr>\n",
              "    <tr>\n",
              "      <th>0</th>\n",
              "      <td>2011</td>\n",
              "      <td>R3</td>\n",
              "      <td>2011</td>\n",
              "      <td>3</td>\n",
              "      <td>Grade 12</td>\n",
              "      <td>MN:MN</td>\n",
              "      <td>WRI</td>\n",
              "      <td>12</td>\n",
              "      <td>WRIRP</td>\n",
              "      <td>NP</td>\n",
              "      <td>GENDER</td>\n",
              "      <td>Gender</td>\n",
              "      <td>1</td>\n",
              "      <td>Male</td>\n",
              "      <td>141.256978</td>\n",
              "      <td>1</td>\n",
              "      <td>0</td>\n",
              "    </tr>\n",
              "    <tr>\n",
              "      <th>1</th>\n",
              "      <td>2011</td>\n",
              "      <td>R3</td>\n",
              "      <td>2011</td>\n",
              "      <td>3</td>\n",
              "      <td>Grade 12</td>\n",
              "      <td>MN:MN</td>\n",
              "      <td>WRI</td>\n",
              "      <td>12</td>\n",
              "      <td>WRIRP</td>\n",
              "      <td>NP</td>\n",
              "      <td>GENDER</td>\n",
              "      <td>Gender</td>\n",
              "      <td>2</td>\n",
              "      <td>Female</td>\n",
              "      <td>155.385917</td>\n",
              "      <td>1</td>\n",
              "      <td>0</td>\n",
              "    </tr>\n",
              "  </tbody>\n",
              "</table>\n",
              "</div>"
            ],
            "text/plain": [
              "   year sample yearSampleLabel  Cohort CohortLabel stattype subject  grade  \\\n",
              "0  2011     R3            2011       2     Grade 8    MN:MN     WRI      8   \n",
              "1  2011     R3            2011       2     Grade 8    MN:MN     WRI      8   \n",
              "0  2011     R3            2011       3    Grade 12    MN:MN     WRI     12   \n",
              "1  2011     R3            2011       3    Grade 12    MN:MN     WRI     12   \n",
              "\n",
              "   scale jurisdiction variable variableLabel varValue varValueLabel  \\\n",
              "0  WRIRP           NP   GENDER        Gender        1          Male   \n",
              "1  WRIRP           NP   GENDER        Gender        2        Female   \n",
              "0  WRIRP           NP   GENDER        Gender        1          Male   \n",
              "1  WRIRP           NP   GENDER        Gender        2        Female   \n",
              "\n",
              "        value  isStatDisplayable  errorFlag  \n",
              "0  139.099505                  1          0  \n",
              "1  158.567105                  1          0  \n",
              "0  141.256978                  1          0  \n",
              "1  155.385917                  1          0  "
            ]
          },
          "metadata": {
            "tags": []
          },
          "execution_count": 9
        }
      ]
    },
    {
      "cell_type": "markdown",
      "metadata": {
        "id": "sQok_b6D6mxo"
      },
      "source": [
        "# Example 2: needs credentials; no wrapper"
      ]
    },
    {
      "cell_type": "code",
      "metadata": {
        "id": "xBYTUvnH6mxo"
      },
      "source": [
        "## load creds\n",
        "with open(\"../private_data/my_cred.yaml\", 'r') as stream:\n",
        "    try:\n",
        "        creds = yaml.safe_load(stream)\n",
        "    except yaml.YAMLError as exc:\n",
        "        print(exc)\n",
        "\n",
        "## get the key\n",
        "API_KEY = creds['yelp_api']['api_key']"
      ],
      "execution_count": null,
      "outputs": []
    },
    {
      "cell_type": "code",
      "metadata": {
        "id": "xOaDJKFx6mxp",
        "outputId": "1c8647c2-94fc-4cd9-8b6d-e5be738a71b4"
      },
      "source": [
        "## use documentation to define what to search\n",
        "## doc: https://www.yelp.com/developers/documentation/v3/business_search\n",
        "## write the query \n",
        "base_url = \"https://api.yelp.com/v3/businesses/search?\"\n",
        "my_name = \"restaurants\"\n",
        "my_location = \"Hanover,NH,03755\"\n",
        "yelp_genquery = ('{base_url}'\n",
        "                'term={name}'\n",
        "                '&location={loc}').format(base_url = base_url,\n",
        "                name = my_name,\n",
        "                loc = my_location)\n",
        "\n",
        "## use requests to call the API; here, we're\n",
        "## passing it our credentials (structure varies\n",
        "## by API and telling it to only return 10 results\n",
        "## (max is 50 at once)\n",
        "header = {'Authorization': f\"Bearer {API_KEY}\"}\n",
        "yelp_genresp = requests.get(yelp_genquery, headers = header)\n",
        "yelp_genresp\n",
        "\n",
        "## then, look at structure of response\n",
        "yelp_genjson = yelp_genresp.json()\n"
      ],
      "execution_count": null,
      "outputs": [
        {
          "output_type": "execute_result",
          "data": {
            "text/plain": [
              "<Response [200]>"
            ]
          },
          "metadata": {
            "tags": []
          },
          "execution_count": 11
        }
      ]
    },
    {
      "cell_type": "code",
      "metadata": {
        "id": "aHWEGaQ76mxq",
        "outputId": "39f285c8-4fbb-4312-c693-3c857b25d9b5"
      },
      "source": [
        "## example business\n",
        "yelp_genjson['businesses'][0]\n",
        "\n",
        "## more automatic way of summarizing but things end up in lists\n",
        "## within columns\n",
        "yelp_gendf = pd.DataFrame(yelp_genjson['businesses'])\n",
        "yelp_gendf.head()"
      ],
      "execution_count": null,
      "outputs": [
        {
          "output_type": "execute_result",
          "data": {
            "text/plain": [
              "{'id': '8ybF6YyRldtZmU9jil4xlg',\n",
              " 'alias': 'mollys-restaurant-and-bar-hanover',\n",
              " 'name': \"Molly's Restaurant & Bar\",\n",
              " 'image_url': 'https://s3-media2.fl.yelpcdn.com/bphoto/1YkJFic4Czt9b2FsZyOrwQ/o.jpg',\n",
              " 'is_closed': False,\n",
              " 'url': 'https://www.yelp.com/biz/mollys-restaurant-and-bar-hanover?adjust_creative=ABQTB3e9fTiSiyqs0c-3Bg&utm_campaign=yelp_api_v3&utm_medium=api_v3_business_search&utm_source=ABQTB3e9fTiSiyqs0c-3Bg',\n",
              " 'review_count': 403,\n",
              " 'categories': [{'alias': 'tradamerican', 'title': 'American (Traditional)'},\n",
              "  {'alias': 'burgers', 'title': 'Burgers'},\n",
              "  {'alias': 'pizza', 'title': 'Pizza'}],\n",
              " 'rating': 4.0,\n",
              " 'coordinates': {'latitude': 43.701144, 'longitude': -72.2894249},\n",
              " 'transactions': ['delivery'],\n",
              " 'price': '$$',\n",
              " 'location': {'address1': '43 South Main St',\n",
              "  'address2': '',\n",
              "  'address3': '',\n",
              "  'city': 'Hanover',\n",
              "  'zip_code': '03755',\n",
              "  'country': 'US',\n",
              "  'state': 'NH',\n",
              "  'display_address': ['43 South Main St', 'Hanover, NH 03755']},\n",
              " 'phone': '+16036432570',\n",
              " 'display_phone': '(603) 643-2570',\n",
              " 'distance': 250.8301601841674}"
            ]
          },
          "metadata": {
            "tags": []
          },
          "execution_count": 12
        },
        {
          "output_type": "execute_result",
          "data": {
            "text/html": [
              "<div>\n",
              "<style scoped>\n",
              "    .dataframe tbody tr th:only-of-type {\n",
              "        vertical-align: middle;\n",
              "    }\n",
              "\n",
              "    .dataframe tbody tr th {\n",
              "        vertical-align: top;\n",
              "    }\n",
              "\n",
              "    .dataframe thead th {\n",
              "        text-align: right;\n",
              "    }\n",
              "</style>\n",
              "<table border=\"1\" class=\"dataframe\">\n",
              "  <thead>\n",
              "    <tr style=\"text-align: right;\">\n",
              "      <th></th>\n",
              "      <th>id</th>\n",
              "      <th>alias</th>\n",
              "      <th>name</th>\n",
              "      <th>image_url</th>\n",
              "      <th>is_closed</th>\n",
              "      <th>url</th>\n",
              "      <th>review_count</th>\n",
              "      <th>categories</th>\n",
              "      <th>rating</th>\n",
              "      <th>coordinates</th>\n",
              "      <th>transactions</th>\n",
              "      <th>price</th>\n",
              "      <th>location</th>\n",
              "      <th>phone</th>\n",
              "      <th>display_phone</th>\n",
              "      <th>distance</th>\n",
              "    </tr>\n",
              "  </thead>\n",
              "  <tbody>\n",
              "    <tr>\n",
              "      <th>0</th>\n",
              "      <td>8ybF6YyRldtZmU9jil4xlg</td>\n",
              "      <td>mollys-restaurant-and-bar-hanover</td>\n",
              "      <td>Molly's Restaurant &amp; Bar</td>\n",
              "      <td>https://s3-media2.fl.yelpcdn.com/bphoto/1YkJFi...</td>\n",
              "      <td>False</td>\n",
              "      <td>https://www.yelp.com/biz/mollys-restaurant-and...</td>\n",
              "      <td>403</td>\n",
              "      <td>[{'alias': 'tradamerican', 'title': 'American ...</td>\n",
              "      <td>4.0</td>\n",
              "      <td>{'latitude': 43.701144, 'longitude': -72.2894249}</td>\n",
              "      <td>[delivery]</td>\n",
              "      <td>$$</td>\n",
              "      <td>{'address1': '43 South Main St', 'address2': '...</td>\n",
              "      <td>+16036432570</td>\n",
              "      <td>(603) 643-2570</td>\n",
              "      <td>250.830160</td>\n",
              "    </tr>\n",
              "    <tr>\n",
              "      <th>1</th>\n",
              "      <td>XVGEEIH5rVB2QzW-qywcJw</td>\n",
              "      <td>base-camp-cafe-hanover</td>\n",
              "      <td>Base Camp Cafe</td>\n",
              "      <td>https://s3-media2.fl.yelpcdn.com/bphoto/jpAl7T...</td>\n",
              "      <td>False</td>\n",
              "      <td>https://www.yelp.com/biz/base-camp-cafe-hanove...</td>\n",
              "      <td>186</td>\n",
              "      <td>[{'alias': 'himalayan', 'title': 'Himalayan/Ne...</td>\n",
              "      <td>4.5</td>\n",
              "      <td>{'latitude': 43.700626, 'longitude': -72.2887803}</td>\n",
              "      <td>[delivery]</td>\n",
              "      <td>$$</td>\n",
              "      <td>{'address1': '3 Lebanon St', 'address2': 'Ste ...</td>\n",
              "      <td>+16036432007</td>\n",
              "      <td>(603) 643-2007</td>\n",
              "      <td>196.139758</td>\n",
              "    </tr>\n",
              "    <tr>\n",
              "      <th>2</th>\n",
              "      <td>neBEWvgHNhsXIBImCYx_6A</td>\n",
              "      <td>murphys-on-the-green-hanover</td>\n",
              "      <td>Murphy's On the Green</td>\n",
              "      <td>https://s3-media1.fl.yelpcdn.com/bphoto/wv3hxs...</td>\n",
              "      <td>False</td>\n",
              "      <td>https://www.yelp.com/biz/murphys-on-the-green-...</td>\n",
              "      <td>136</td>\n",
              "      <td>[{'alias': 'newamerican', 'title': 'American (...</td>\n",
              "      <td>4.0</td>\n",
              "      <td>{'latitude': 43.702, 'longitude': -72.2894949}</td>\n",
              "      <td>[delivery]</td>\n",
              "      <td>$$</td>\n",
              "      <td>{'address1': '11 S Main St', 'address2': '', '...</td>\n",
              "      <td>+16036434075</td>\n",
              "      <td>(603) 643-4075</td>\n",
              "      <td>295.934683</td>\n",
              "    </tr>\n",
              "    <tr>\n",
              "      <th>3</th>\n",
              "      <td>WFvBi7bA6JZ-rMzm2Ipa_g</td>\n",
              "      <td>candela-tapas-lounge-hanover</td>\n",
              "      <td>Candela Tapas Lounge</td>\n",
              "      <td>https://s3-media1.fl.yelpcdn.com/bphoto/7sd_y_...</td>\n",
              "      <td>False</td>\n",
              "      <td>https://www.yelp.com/biz/candela-tapas-lounge-...</td>\n",
              "      <td>69</td>\n",
              "      <td>[{'alias': 'lounges', 'title': 'Lounges'}, {'a...</td>\n",
              "      <td>4.0</td>\n",
              "      <td>{'latitude': 43.70076, 'longitude': -72.287631...</td>\n",
              "      <td>[pickup]</td>\n",
              "      <td>$$$</td>\n",
              "      <td>{'address1': '15 Lebanon St', 'address2': '', ...</td>\n",
              "      <td>+16032779094</td>\n",
              "      <td>(603) 277-9094</td>\n",
              "      <td>103.183327</td>\n",
              "    </tr>\n",
              "    <tr>\n",
              "      <th>4</th>\n",
              "      <td>KA8yhrd-ClVYMyOefXdVYg</td>\n",
              "      <td>lous-restaurant-and-bakery-hanover</td>\n",
              "      <td>Lou's Restaurant &amp; Bakery</td>\n",
              "      <td>https://s3-media1.fl.yelpcdn.com/bphoto/QCIlbB...</td>\n",
              "      <td>False</td>\n",
              "      <td>https://www.yelp.com/biz/lous-restaurant-and-b...</td>\n",
              "      <td>265</td>\n",
              "      <td>[{'alias': 'tradamerican', 'title': 'American ...</td>\n",
              "      <td>4.0</td>\n",
              "      <td>{'latitude': 43.70143, 'longitude': -72.289001}</td>\n",
              "      <td>[delivery]</td>\n",
              "      <td>$$</td>\n",
              "      <td>{'address1': '30 S Main St', 'address2': '', '...</td>\n",
              "      <td>+16036433321</td>\n",
              "      <td>(603) 643-3321</td>\n",
              "      <td>244.977210</td>\n",
              "    </tr>\n",
              "  </tbody>\n",
              "</table>\n",
              "</div>"
            ],
            "text/plain": [
              "                       id                               alias  \\\n",
              "0  8ybF6YyRldtZmU9jil4xlg   mollys-restaurant-and-bar-hanover   \n",
              "1  XVGEEIH5rVB2QzW-qywcJw              base-camp-cafe-hanover   \n",
              "2  neBEWvgHNhsXIBImCYx_6A        murphys-on-the-green-hanover   \n",
              "3  WFvBi7bA6JZ-rMzm2Ipa_g        candela-tapas-lounge-hanover   \n",
              "4  KA8yhrd-ClVYMyOefXdVYg  lous-restaurant-and-bakery-hanover   \n",
              "\n",
              "                        name  \\\n",
              "0   Molly's Restaurant & Bar   \n",
              "1             Base Camp Cafe   \n",
              "2      Murphy's On the Green   \n",
              "3       Candela Tapas Lounge   \n",
              "4  Lou's Restaurant & Bakery   \n",
              "\n",
              "                                           image_url  is_closed  \\\n",
              "0  https://s3-media2.fl.yelpcdn.com/bphoto/1YkJFi...      False   \n",
              "1  https://s3-media2.fl.yelpcdn.com/bphoto/jpAl7T...      False   \n",
              "2  https://s3-media1.fl.yelpcdn.com/bphoto/wv3hxs...      False   \n",
              "3  https://s3-media1.fl.yelpcdn.com/bphoto/7sd_y_...      False   \n",
              "4  https://s3-media1.fl.yelpcdn.com/bphoto/QCIlbB...      False   \n",
              "\n",
              "                                                 url  review_count  \\\n",
              "0  https://www.yelp.com/biz/mollys-restaurant-and...           403   \n",
              "1  https://www.yelp.com/biz/base-camp-cafe-hanove...           186   \n",
              "2  https://www.yelp.com/biz/murphys-on-the-green-...           136   \n",
              "3  https://www.yelp.com/biz/candela-tapas-lounge-...            69   \n",
              "4  https://www.yelp.com/biz/lous-restaurant-and-b...           265   \n",
              "\n",
              "                                          categories  rating  \\\n",
              "0  [{'alias': 'tradamerican', 'title': 'American ...     4.0   \n",
              "1  [{'alias': 'himalayan', 'title': 'Himalayan/Ne...     4.5   \n",
              "2  [{'alias': 'newamerican', 'title': 'American (...     4.0   \n",
              "3  [{'alias': 'lounges', 'title': 'Lounges'}, {'a...     4.0   \n",
              "4  [{'alias': 'tradamerican', 'title': 'American ...     4.0   \n",
              "\n",
              "                                         coordinates transactions price  \\\n",
              "0  {'latitude': 43.701144, 'longitude': -72.2894249}   [delivery]    $$   \n",
              "1  {'latitude': 43.700626, 'longitude': -72.2887803}   [delivery]    $$   \n",
              "2     {'latitude': 43.702, 'longitude': -72.2894949}   [delivery]    $$   \n",
              "3  {'latitude': 43.70076, 'longitude': -72.287631...     [pickup]   $$$   \n",
              "4    {'latitude': 43.70143, 'longitude': -72.289001}   [delivery]    $$   \n",
              "\n",
              "                                            location         phone  \\\n",
              "0  {'address1': '43 South Main St', 'address2': '...  +16036432570   \n",
              "1  {'address1': '3 Lebanon St', 'address2': 'Ste ...  +16036432007   \n",
              "2  {'address1': '11 S Main St', 'address2': '', '...  +16036434075   \n",
              "3  {'address1': '15 Lebanon St', 'address2': '', ...  +16032779094   \n",
              "4  {'address1': '30 S Main St', 'address2': '', '...  +16036433321   \n",
              "\n",
              "    display_phone    distance  \n",
              "0  (603) 643-2570  250.830160  \n",
              "1  (603) 643-2007  196.139758  \n",
              "2  (603) 643-4075  295.934683  \n",
              "3  (603) 277-9094  103.183327  \n",
              "4  (603) 643-3321  244.977210  "
            ]
          },
          "metadata": {
            "tags": []
          },
          "execution_count": 12
        }
      ]
    },
    {
      "cell_type": "code",
      "metadata": {
        "id": "YO7MdUpJ6mxq",
        "outputId": "04e0c79e-35c0-4a7a-fdac-09787d66cafe"
      },
      "source": [
        "## more data-specific way of summarizing\n",
        "## we're doing a simple approach and just retaining\n",
        "## cols that have a simple str structure\n",
        "## if doing for real, would want to extract things\n",
        "def clean_yelp_json(one_biz):\n",
        "\n",
        "    ## restrict to str cols\n",
        "    d_str = {key:value for key, value in one_biz.items() if type(value) == str}\n",
        "    \n",
        "    df_str = pd.DataFrame(d_str, index = [d_str['id']])\n",
        "    return(df_str)\n",
        "\n",
        "yelp_stronly = [clean_yelp_json(one_b) for one_b in yelp_genjson['businesses']]\n",
        "yelp_stronly_df = pd.concat(yelp_stronly)\n",
        "\n",
        "yelp_stronly_df.head(7)\n"
      ],
      "execution_count": null,
      "outputs": [
        {
          "output_type": "execute_result",
          "data": {
            "text/html": [
              "<div>\n",
              "<style scoped>\n",
              "    .dataframe tbody tr th:only-of-type {\n",
              "        vertical-align: middle;\n",
              "    }\n",
              "\n",
              "    .dataframe tbody tr th {\n",
              "        vertical-align: top;\n",
              "    }\n",
              "\n",
              "    .dataframe thead th {\n",
              "        text-align: right;\n",
              "    }\n",
              "</style>\n",
              "<table border=\"1\" class=\"dataframe\">\n",
              "  <thead>\n",
              "    <tr style=\"text-align: right;\">\n",
              "      <th></th>\n",
              "      <th>id</th>\n",
              "      <th>alias</th>\n",
              "      <th>name</th>\n",
              "      <th>image_url</th>\n",
              "      <th>url</th>\n",
              "      <th>price</th>\n",
              "      <th>phone</th>\n",
              "      <th>display_phone</th>\n",
              "    </tr>\n",
              "  </thead>\n",
              "  <tbody>\n",
              "    <tr>\n",
              "      <th>8ybF6YyRldtZmU9jil4xlg</th>\n",
              "      <td>8ybF6YyRldtZmU9jil4xlg</td>\n",
              "      <td>mollys-restaurant-and-bar-hanover</td>\n",
              "      <td>Molly's Restaurant &amp; Bar</td>\n",
              "      <td>https://s3-media2.fl.yelpcdn.com/bphoto/1YkJFi...</td>\n",
              "      <td>https://www.yelp.com/biz/mollys-restaurant-and...</td>\n",
              "      <td>$$</td>\n",
              "      <td>+16036432570</td>\n",
              "      <td>(603) 643-2570</td>\n",
              "    </tr>\n",
              "    <tr>\n",
              "      <th>XVGEEIH5rVB2QzW-qywcJw</th>\n",
              "      <td>XVGEEIH5rVB2QzW-qywcJw</td>\n",
              "      <td>base-camp-cafe-hanover</td>\n",
              "      <td>Base Camp Cafe</td>\n",
              "      <td>https://s3-media2.fl.yelpcdn.com/bphoto/jpAl7T...</td>\n",
              "      <td>https://www.yelp.com/biz/base-camp-cafe-hanove...</td>\n",
              "      <td>$$</td>\n",
              "      <td>+16036432007</td>\n",
              "      <td>(603) 643-2007</td>\n",
              "    </tr>\n",
              "    <tr>\n",
              "      <th>neBEWvgHNhsXIBImCYx_6A</th>\n",
              "      <td>neBEWvgHNhsXIBImCYx_6A</td>\n",
              "      <td>murphys-on-the-green-hanover</td>\n",
              "      <td>Murphy's On the Green</td>\n",
              "      <td>https://s3-media1.fl.yelpcdn.com/bphoto/wv3hxs...</td>\n",
              "      <td>https://www.yelp.com/biz/murphys-on-the-green-...</td>\n",
              "      <td>$$</td>\n",
              "      <td>+16036434075</td>\n",
              "      <td>(603) 643-4075</td>\n",
              "    </tr>\n",
              "    <tr>\n",
              "      <th>WFvBi7bA6JZ-rMzm2Ipa_g</th>\n",
              "      <td>WFvBi7bA6JZ-rMzm2Ipa_g</td>\n",
              "      <td>candela-tapas-lounge-hanover</td>\n",
              "      <td>Candela Tapas Lounge</td>\n",
              "      <td>https://s3-media1.fl.yelpcdn.com/bphoto/7sd_y_...</td>\n",
              "      <td>https://www.yelp.com/biz/candela-tapas-lounge-...</td>\n",
              "      <td>$$$</td>\n",
              "      <td>+16032779094</td>\n",
              "      <td>(603) 277-9094</td>\n",
              "    </tr>\n",
              "    <tr>\n",
              "      <th>KA8yhrd-ClVYMyOefXdVYg</th>\n",
              "      <td>KA8yhrd-ClVYMyOefXdVYg</td>\n",
              "      <td>lous-restaurant-and-bakery-hanover</td>\n",
              "      <td>Lou's Restaurant &amp; Bakery</td>\n",
              "      <td>https://s3-media1.fl.yelpcdn.com/bphoto/QCIlbB...</td>\n",
              "      <td>https://www.yelp.com/biz/lous-restaurant-and-b...</td>\n",
              "      <td>$$</td>\n",
              "      <td>+16036433321</td>\n",
              "      <td>(603) 643-3321</td>\n",
              "    </tr>\n",
              "    <tr>\n",
              "      <th>vMyN7JL5cJExJORgIobbQg</th>\n",
              "      <td>vMyN7JL5cJExJORgIobbQg</td>\n",
              "      <td>tuk-tuk-thai-cuisine-hanover</td>\n",
              "      <td>Tuk Tuk Thai Cuisine</td>\n",
              "      <td>https://s3-media2.fl.yelpcdn.com/bphoto/Aanb8l...</td>\n",
              "      <td>https://www.yelp.com/biz/tuk-tuk-thai-cuisine-...</td>\n",
              "      <td>$$</td>\n",
              "      <td>+16032779192</td>\n",
              "      <td>(603) 277-9192</td>\n",
              "    </tr>\n",
              "    <tr>\n",
              "      <th>34j_2nRCVQBTKafJvncZlg</th>\n",
              "      <td>34j_2nRCVQBTKafJvncZlg</td>\n",
              "      <td>pine-restaurant-hanover-2</td>\n",
              "      <td>PINE Restaurant</td>\n",
              "      <td>https://s3-media1.fl.yelpcdn.com/bphoto/zWSReI...</td>\n",
              "      <td>https://www.yelp.com/biz/pine-restaurant-hanov...</td>\n",
              "      <td>$$$</td>\n",
              "      <td>+16036468000</td>\n",
              "      <td>(603) 646-8000</td>\n",
              "    </tr>\n",
              "  </tbody>\n",
              "</table>\n",
              "</div>"
            ],
            "text/plain": [
              "                                            id  \\\n",
              "8ybF6YyRldtZmU9jil4xlg  8ybF6YyRldtZmU9jil4xlg   \n",
              "XVGEEIH5rVB2QzW-qywcJw  XVGEEIH5rVB2QzW-qywcJw   \n",
              "neBEWvgHNhsXIBImCYx_6A  neBEWvgHNhsXIBImCYx_6A   \n",
              "WFvBi7bA6JZ-rMzm2Ipa_g  WFvBi7bA6JZ-rMzm2Ipa_g   \n",
              "KA8yhrd-ClVYMyOefXdVYg  KA8yhrd-ClVYMyOefXdVYg   \n",
              "vMyN7JL5cJExJORgIobbQg  vMyN7JL5cJExJORgIobbQg   \n",
              "34j_2nRCVQBTKafJvncZlg  34j_2nRCVQBTKafJvncZlg   \n",
              "\n",
              "                                                     alias  \\\n",
              "8ybF6YyRldtZmU9jil4xlg   mollys-restaurant-and-bar-hanover   \n",
              "XVGEEIH5rVB2QzW-qywcJw              base-camp-cafe-hanover   \n",
              "neBEWvgHNhsXIBImCYx_6A        murphys-on-the-green-hanover   \n",
              "WFvBi7bA6JZ-rMzm2Ipa_g        candela-tapas-lounge-hanover   \n",
              "KA8yhrd-ClVYMyOefXdVYg  lous-restaurant-and-bakery-hanover   \n",
              "vMyN7JL5cJExJORgIobbQg        tuk-tuk-thai-cuisine-hanover   \n",
              "34j_2nRCVQBTKafJvncZlg           pine-restaurant-hanover-2   \n",
              "\n",
              "                                             name  \\\n",
              "8ybF6YyRldtZmU9jil4xlg   Molly's Restaurant & Bar   \n",
              "XVGEEIH5rVB2QzW-qywcJw             Base Camp Cafe   \n",
              "neBEWvgHNhsXIBImCYx_6A      Murphy's On the Green   \n",
              "WFvBi7bA6JZ-rMzm2Ipa_g       Candela Tapas Lounge   \n",
              "KA8yhrd-ClVYMyOefXdVYg  Lou's Restaurant & Bakery   \n",
              "vMyN7JL5cJExJORgIobbQg       Tuk Tuk Thai Cuisine   \n",
              "34j_2nRCVQBTKafJvncZlg            PINE Restaurant   \n",
              "\n",
              "                                                                image_url  \\\n",
              "8ybF6YyRldtZmU9jil4xlg  https://s3-media2.fl.yelpcdn.com/bphoto/1YkJFi...   \n",
              "XVGEEIH5rVB2QzW-qywcJw  https://s3-media2.fl.yelpcdn.com/bphoto/jpAl7T...   \n",
              "neBEWvgHNhsXIBImCYx_6A  https://s3-media1.fl.yelpcdn.com/bphoto/wv3hxs...   \n",
              "WFvBi7bA6JZ-rMzm2Ipa_g  https://s3-media1.fl.yelpcdn.com/bphoto/7sd_y_...   \n",
              "KA8yhrd-ClVYMyOefXdVYg  https://s3-media1.fl.yelpcdn.com/bphoto/QCIlbB...   \n",
              "vMyN7JL5cJExJORgIobbQg  https://s3-media2.fl.yelpcdn.com/bphoto/Aanb8l...   \n",
              "34j_2nRCVQBTKafJvncZlg  https://s3-media1.fl.yelpcdn.com/bphoto/zWSReI...   \n",
              "\n",
              "                                                                      url  \\\n",
              "8ybF6YyRldtZmU9jil4xlg  https://www.yelp.com/biz/mollys-restaurant-and...   \n",
              "XVGEEIH5rVB2QzW-qywcJw  https://www.yelp.com/biz/base-camp-cafe-hanove...   \n",
              "neBEWvgHNhsXIBImCYx_6A  https://www.yelp.com/biz/murphys-on-the-green-...   \n",
              "WFvBi7bA6JZ-rMzm2Ipa_g  https://www.yelp.com/biz/candela-tapas-lounge-...   \n",
              "KA8yhrd-ClVYMyOefXdVYg  https://www.yelp.com/biz/lous-restaurant-and-b...   \n",
              "vMyN7JL5cJExJORgIobbQg  https://www.yelp.com/biz/tuk-tuk-thai-cuisine-...   \n",
              "34j_2nRCVQBTKafJvncZlg  https://www.yelp.com/biz/pine-restaurant-hanov...   \n",
              "\n",
              "                       price         phone   display_phone  \n",
              "8ybF6YyRldtZmU9jil4xlg    $$  +16036432570  (603) 643-2570  \n",
              "XVGEEIH5rVB2QzW-qywcJw    $$  +16036432007  (603) 643-2007  \n",
              "neBEWvgHNhsXIBImCYx_6A    $$  +16036434075  (603) 643-4075  \n",
              "WFvBi7bA6JZ-rMzm2Ipa_g   $$$  +16032779094  (603) 277-9094  \n",
              "KA8yhrd-ClVYMyOefXdVYg    $$  +16036433321  (603) 643-3321  \n",
              "vMyN7JL5cJExJORgIobbQg    $$  +16032779192  (603) 277-9192  \n",
              "34j_2nRCVQBTKafJvncZlg   $$$  +16036468000  (603) 646-8000  "
            ]
          },
          "metadata": {
            "tags": []
          },
          "execution_count": 13
        }
      ]
    },
    {
      "cell_type": "markdown",
      "metadata": {
        "id": "6uLWuOuV6mxr"
      },
      "source": [
        "# Activity\n",
        "\n",
        "- Try running a business search query for your hometown or another place by constructing a query similar to `yelp_genquery` but changing the location parameter\n",
        "- Other endpoints require feeding what's called the fusion id into the API. Take an id from `yelp_stronly.id` and use the documentation here to pull the reviews for that business: https://www.yelp.com/developers/documentation/v3/business_reviews\n",
        "- **Challenge**: generalize the previous step by writing a function that (1) takes a list of ids as an input, (2) calls the reviews API for each id, (3) returns the results, and (4) rowbinds all results\n"
      ]
    },
    {
      "cell_type": "code",
      "metadata": {
        "id": "enVoKB3t6mxr"
      },
      "source": [
        "## change location parameter and see results\n",
        "yelp_mytown = ('{base_url}'\n",
        "                'term={name}'\n",
        "                '&location={loc}').format(base_url = base_url,\n",
        "                name = \"ice cream\",\n",
        "                loc = \"Winnetka, IL, 60093\")\n",
        "\n",
        "## use requests to call the API\n",
        "header = {'Authorization': f\"Bearer {API_KEY}\"}\n",
        "yelp_resp = requests.get(yelp_mytown, headers = header)\n",
        "#yelp_resp.json()['businesses']\n",
        "\n",
        "homers_id = yelp_resp.json()['businesses'][2]['id']\n"
      ],
      "execution_count": null,
      "outputs": []
    },
    {
      "cell_type": "code",
      "metadata": {
        "id": "NNUfg_MU6mxs",
        "outputId": "40b51d4e-c7b0-4e43-82e5-96857ae37bf2"
      },
      "source": [
        "## get reviews\n",
        "new_base = \"https://api.yelp.com/v3/businesses/\"\n",
        "reviews_query = ('{base_url}'\n",
        "                '{yelp_id}'\n",
        "                '/reviews').format(base_url = new_base,\n",
        "                yelp_id = homers_id)\n",
        "one_review = requests.get(reviews_query, headers = header)\n",
        "one_review.json()['reviews']\n",
        "len(one_review.json()['reviews']) # seems max 3- here's discussion of default order: https://www.yelp-support.com/article/How-is-the-order-of-reviews-determined?\n",
        "one_review_df = pd.DataFrame(one_review.json()['reviews'])\n",
        "one_review_df.head()"
      ],
      "execution_count": null,
      "outputs": [
        {
          "output_type": "execute_result",
          "data": {
            "text/plain": [
              "[{'id': 'G03jqutpguTEp4PiAVPlpg',\n",
              "  'url': 'https://www.yelp.com/biz/homers-ice-cream-wilmette?adjust_creative=ABQTB3e9fTiSiyqs0c-3Bg&hrid=G03jqutpguTEp4PiAVPlpg&utm_campaign=yelp_api_v3&utm_medium=api_v3_business_reviews&utm_source=ABQTB3e9fTiSiyqs0c-3Bg',\n",
              "  'text': \"After the first dinner out, post Quarantine, we took a nice drive up the north shore and found ourselves pulling up to Homer's. The patio was full with...\",\n",
              "  'rating': 5,\n",
              "  'time_created': '2020-05-30 18:44:49',\n",
              "  'user': {'id': 'tfHtsYCvpvYv13JETfHABQ',\n",
              "   'profile_url': 'https://www.yelp.com/user_details?userid=tfHtsYCvpvYv13JETfHABQ',\n",
              "   'image_url': 'https://s3-media3.fl.yelpcdn.com/photo/1N7vVT9Giwweel-BMxvVGQ/o.jpg',\n",
              "   'name': 'Dustin M.'}},\n",
              " {'id': 'azhHmb2CgiI6dOVeQ4Knqg',\n",
              "  'url': 'https://www.yelp.com/biz/homers-ice-cream-wilmette?adjust_creative=ABQTB3e9fTiSiyqs0c-3Bg&hrid=azhHmb2CgiI6dOVeQ4Knqg&utm_campaign=yelp_api_v3&utm_medium=api_v3_business_reviews&utm_source=ABQTB3e9fTiSiyqs0c-3Bg',\n",
              "  'text': \"Homer's is the best place I have ever been. It is by far my favorite Wilmette restaurant and if you have never been here let me tell you what you are...\",\n",
              "  'rating': 5,\n",
              "  'time_created': '2020-04-05 16:54:22',\n",
              "  'user': {'id': 'YPM09eQImaIzEMWMjnD4ag',\n",
              "   'profile_url': 'https://www.yelp.com/user_details?userid=YPM09eQImaIzEMWMjnD4ag',\n",
              "   'image_url': None,\n",
              "   'name': 'Elle K.'}},\n",
              " {'id': 'tbiWi15lQ64ryYId0pnsCQ',\n",
              "  'url': 'https://www.yelp.com/biz/homers-ice-cream-wilmette?adjust_creative=ABQTB3e9fTiSiyqs0c-3Bg&hrid=tbiWi15lQ64ryYId0pnsCQ&utm_campaign=yelp_api_v3&utm_medium=api_v3_business_reviews&utm_source=ABQTB3e9fTiSiyqs0c-3Bg',\n",
              "  'text': 'I returned for the Veggie Burger and Apple Cinnamon Ice Cream, and I was much more pleased with my decision over the Rocky Road. Just about $10 and a 5 min...',\n",
              "  'rating': 5,\n",
              "  'time_created': '2021-05-08 12:29:39',\n",
              "  'user': {'id': '976w1TuMGQeW9alwGiguRA',\n",
              "   'profile_url': 'https://www.yelp.com/user_details?userid=976w1TuMGQeW9alwGiguRA',\n",
              "   'image_url': 'https://s3-media2.fl.yelpcdn.com/photo/DaI61crEeU6gbU1PhPjrpA/o.jpg',\n",
              "   'name': 'Georgey Z.'}}]"
            ]
          },
          "metadata": {
            "tags": []
          },
          "execution_count": 42
        },
        {
          "output_type": "execute_result",
          "data": {
            "text/plain": [
              "3"
            ]
          },
          "metadata": {
            "tags": []
          },
          "execution_count": 42
        },
        {
          "output_type": "execute_result",
          "data": {
            "text/html": [
              "<div>\n",
              "<style scoped>\n",
              "    .dataframe tbody tr th:only-of-type {\n",
              "        vertical-align: middle;\n",
              "    }\n",
              "\n",
              "    .dataframe tbody tr th {\n",
              "        vertical-align: top;\n",
              "    }\n",
              "\n",
              "    .dataframe thead th {\n",
              "        text-align: right;\n",
              "    }\n",
              "</style>\n",
              "<table border=\"1\" class=\"dataframe\">\n",
              "  <thead>\n",
              "    <tr style=\"text-align: right;\">\n",
              "      <th></th>\n",
              "      <th>id</th>\n",
              "      <th>url</th>\n",
              "      <th>text</th>\n",
              "      <th>rating</th>\n",
              "      <th>time_created</th>\n",
              "      <th>user</th>\n",
              "    </tr>\n",
              "  </thead>\n",
              "  <tbody>\n",
              "    <tr>\n",
              "      <th>0</th>\n",
              "      <td>G03jqutpguTEp4PiAVPlpg</td>\n",
              "      <td>https://www.yelp.com/biz/homers-ice-cream-wilm...</td>\n",
              "      <td>After the first dinner out, post Quarantine, w...</td>\n",
              "      <td>5</td>\n",
              "      <td>2020-05-30 18:44:49</td>\n",
              "      <td>{'id': 'tfHtsYCvpvYv13JETfHABQ', 'profile_url'...</td>\n",
              "    </tr>\n",
              "    <tr>\n",
              "      <th>1</th>\n",
              "      <td>azhHmb2CgiI6dOVeQ4Knqg</td>\n",
              "      <td>https://www.yelp.com/biz/homers-ice-cream-wilm...</td>\n",
              "      <td>Homer's is the best place I have ever been. It...</td>\n",
              "      <td>5</td>\n",
              "      <td>2020-04-05 16:54:22</td>\n",
              "      <td>{'id': 'YPM09eQImaIzEMWMjnD4ag', 'profile_url'...</td>\n",
              "    </tr>\n",
              "    <tr>\n",
              "      <th>2</th>\n",
              "      <td>tbiWi15lQ64ryYId0pnsCQ</td>\n",
              "      <td>https://www.yelp.com/biz/homers-ice-cream-wilm...</td>\n",
              "      <td>I returned for the Veggie Burger and Apple Cin...</td>\n",
              "      <td>5</td>\n",
              "      <td>2021-05-08 12:29:39</td>\n",
              "      <td>{'id': '976w1TuMGQeW9alwGiguRA', 'profile_url'...</td>\n",
              "    </tr>\n",
              "  </tbody>\n",
              "</table>\n",
              "</div>"
            ],
            "text/plain": [
              "                       id                                                url  \\\n",
              "0  G03jqutpguTEp4PiAVPlpg  https://www.yelp.com/biz/homers-ice-cream-wilm...   \n",
              "1  azhHmb2CgiI6dOVeQ4Knqg  https://www.yelp.com/biz/homers-ice-cream-wilm...   \n",
              "2  tbiWi15lQ64ryYId0pnsCQ  https://www.yelp.com/biz/homers-ice-cream-wilm...   \n",
              "\n",
              "                                                text  rating  \\\n",
              "0  After the first dinner out, post Quarantine, w...       5   \n",
              "1  Homer's is the best place I have ever been. It...       5   \n",
              "2  I returned for the Veggie Burger and Apple Cin...       5   \n",
              "\n",
              "          time_created                                               user  \n",
              "0  2020-05-30 18:44:49  {'id': 'tfHtsYCvpvYv13JETfHABQ', 'profile_url'...  \n",
              "1  2020-04-05 16:54:22  {'id': 'YPM09eQImaIzEMWMjnD4ag', 'profile_url'...  \n",
              "2  2021-05-08 12:29:39  {'id': '976w1TuMGQeW9alwGiguRA', 'profile_url'...  "
            ]
          },
          "metadata": {
            "tags": []
          },
          "execution_count": 42
        }
      ]
    },
    {
      "cell_type": "code",
      "metadata": {
        "id": "tnktAVue6mxs"
      },
      "source": [
        "## generalize into function\n",
        "def getrev_oneid(one_id: str):\n",
        "    \n",
        "    reviews_query = ('{base_url}'\n",
        "                '{yelp_id}'\n",
        "                '/reviews').format(base_url = new_base,\n",
        "                yelp_id = one_id)\n",
        "    one_review = requests.get(reviews_query, headers = header)\n",
        "    try: \n",
        "        one_review_df = pd.DataFrame(one_review.json()['reviews'])\n",
        "        one_review_df['biz_id'] = one_id\n",
        "    except:\n",
        "        one_review_df = pd.DataFrame()\n",
        "    return(one_review_df)"
      ],
      "execution_count": null,
      "outputs": []
    },
    {
      "cell_type": "code",
      "metadata": {
        "id": "6UAywF0_6mxs",
        "outputId": "856cc743-4990-48e6-8d03-0df234a69336"
      },
      "source": [
        "## iterate over ids and get reviews\n",
        "all_rev_list = [getrev_oneid(one_id) for one_id in yelp_stronly_df.id]\n",
        "\n",
        "## rowbind using pd.concat \n",
        "## also merge with the original yelp data to get\n",
        "## the biz name\n",
        "all_rev_df = pd.merge(pd.concat(all_rev_list),\n",
        "                      yelp_stronly_df[['id', 'alias']],\n",
        "                    left_on = \"biz_id\",\n",
        "                    right_on = \"id\", suffixes = ['_reviews', '_business'])\n",
        "all_rev_df.head()"
      ],
      "execution_count": null,
      "outputs": [
        {
          "output_type": "execute_result",
          "data": {
            "text/html": [
              "<div>\n",
              "<style scoped>\n",
              "    .dataframe tbody tr th:only-of-type {\n",
              "        vertical-align: middle;\n",
              "    }\n",
              "\n",
              "    .dataframe tbody tr th {\n",
              "        vertical-align: top;\n",
              "    }\n",
              "\n",
              "    .dataframe thead th {\n",
              "        text-align: right;\n",
              "    }\n",
              "</style>\n",
              "<table border=\"1\" class=\"dataframe\">\n",
              "  <thead>\n",
              "    <tr style=\"text-align: right;\">\n",
              "      <th></th>\n",
              "      <th>id_reviews</th>\n",
              "      <th>url</th>\n",
              "      <th>text</th>\n",
              "      <th>rating</th>\n",
              "      <th>time_created</th>\n",
              "      <th>user</th>\n",
              "      <th>biz_id</th>\n",
              "      <th>id_business</th>\n",
              "      <th>alias</th>\n",
              "    </tr>\n",
              "  </thead>\n",
              "  <tbody>\n",
              "    <tr>\n",
              "      <th>0</th>\n",
              "      <td>BMCP-JBLhQlYhdMKYOBWLg</td>\n",
              "      <td>https://www.yelp.com/biz/mollys-restaurant-and...</td>\n",
              "      <td>Navigating an opening night in the time of COV...</td>\n",
              "      <td>5</td>\n",
              "      <td>2020-06-12 18:44:27</td>\n",
              "      <td>{'id': 'dCQ6UxVTij0oL9BQ7qjyag', 'profile_url'...</td>\n",
              "      <td>8ybF6YyRldtZmU9jil4xlg</td>\n",
              "      <td>8ybF6YyRldtZmU9jil4xlg</td>\n",
              "      <td>mollys-restaurant-and-bar-hanover</td>\n",
              "    </tr>\n",
              "    <tr>\n",
              "      <th>1</th>\n",
              "      <td>GZZ_bpSFkWM9YCha2XMtNw</td>\n",
              "      <td>https://www.yelp.com/biz/mollys-restaurant-and...</td>\n",
              "      <td>Thursday late afternoon August 13, 2020\\nWe we...</td>\n",
              "      <td>5</td>\n",
              "      <td>2020-08-16 09:45:49</td>\n",
              "      <td>{'id': 'HTK2_m375MBlD76DhMX8Ug', 'profile_url'...</td>\n",
              "      <td>8ybF6YyRldtZmU9jil4xlg</td>\n",
              "      <td>8ybF6YyRldtZmU9jil4xlg</td>\n",
              "      <td>mollys-restaurant-and-bar-hanover</td>\n",
              "    </tr>\n",
              "    <tr>\n",
              "      <th>2</th>\n",
              "      <td>p2QpTUqSCWMv16tKFD7PUg</td>\n",
              "      <td>https://www.yelp.com/biz/mollys-restaurant-and...</td>\n",
              "      <td>Got my Moderna #2 today, so decided to head ba...</td>\n",
              "      <td>5</td>\n",
              "      <td>2021-04-24 16:26:49</td>\n",
              "      <td>{'id': '5FJSrMA8z-ZxkXPhV-72OA', 'profile_url'...</td>\n",
              "      <td>8ybF6YyRldtZmU9jil4xlg</td>\n",
              "      <td>8ybF6YyRldtZmU9jil4xlg</td>\n",
              "      <td>mollys-restaurant-and-bar-hanover</td>\n",
              "    </tr>\n",
              "    <tr>\n",
              "      <th>3</th>\n",
              "      <td>8JgEfN_DFYZAv4Vo8Rlntg</td>\n",
              "      <td>https://www.yelp.com/biz/base-camp-cafe-hanove...</td>\n",
              "      <td>I miss sitting and having a meal here but the ...</td>\n",
              "      <td>5</td>\n",
              "      <td>2020-08-27 18:39:00</td>\n",
              "      <td>{'id': 'tikC9_rdMwiSOW-Hoq9-_A', 'profile_url'...</td>\n",
              "      <td>XVGEEIH5rVB2QzW-qywcJw</td>\n",
              "      <td>XVGEEIH5rVB2QzW-qywcJw</td>\n",
              "      <td>base-camp-cafe-hanover</td>\n",
              "    </tr>\n",
              "    <tr>\n",
              "      <th>4</th>\n",
              "      <td>tN-kTUHHb6pbOCuxDQ334A</td>\n",
              "      <td>https://www.yelp.com/biz/base-camp-cafe-hanove...</td>\n",
              "      <td>I grew up in Hanover but haven't lived in the ...</td>\n",
              "      <td>5</td>\n",
              "      <td>2020-08-08 12:56:13</td>\n",
              "      <td>{'id': '5bIwqpc6p0mCfx8oxe9qYg', 'profile_url'...</td>\n",
              "      <td>XVGEEIH5rVB2QzW-qywcJw</td>\n",
              "      <td>XVGEEIH5rVB2QzW-qywcJw</td>\n",
              "      <td>base-camp-cafe-hanover</td>\n",
              "    </tr>\n",
              "  </tbody>\n",
              "</table>\n",
              "</div>"
            ],
            "text/plain": [
              "               id_reviews                                                url  \\\n",
              "0  BMCP-JBLhQlYhdMKYOBWLg  https://www.yelp.com/biz/mollys-restaurant-and...   \n",
              "1  GZZ_bpSFkWM9YCha2XMtNw  https://www.yelp.com/biz/mollys-restaurant-and...   \n",
              "2  p2QpTUqSCWMv16tKFD7PUg  https://www.yelp.com/biz/mollys-restaurant-and...   \n",
              "3  8JgEfN_DFYZAv4Vo8Rlntg  https://www.yelp.com/biz/base-camp-cafe-hanove...   \n",
              "4  tN-kTUHHb6pbOCuxDQ334A  https://www.yelp.com/biz/base-camp-cafe-hanove...   \n",
              "\n",
              "                                                text  rating  \\\n",
              "0  Navigating an opening night in the time of COV...       5   \n",
              "1  Thursday late afternoon August 13, 2020\\nWe we...       5   \n",
              "2  Got my Moderna #2 today, so decided to head ba...       5   \n",
              "3  I miss sitting and having a meal here but the ...       5   \n",
              "4  I grew up in Hanover but haven't lived in the ...       5   \n",
              "\n",
              "          time_created                                               user  \\\n",
              "0  2020-06-12 18:44:27  {'id': 'dCQ6UxVTij0oL9BQ7qjyag', 'profile_url'...   \n",
              "1  2020-08-16 09:45:49  {'id': 'HTK2_m375MBlD76DhMX8Ug', 'profile_url'...   \n",
              "2  2021-04-24 16:26:49  {'id': '5FJSrMA8z-ZxkXPhV-72OA', 'profile_url'...   \n",
              "3  2020-08-27 18:39:00  {'id': 'tikC9_rdMwiSOW-Hoq9-_A', 'profile_url'...   \n",
              "4  2020-08-08 12:56:13  {'id': '5bIwqpc6p0mCfx8oxe9qYg', 'profile_url'...   \n",
              "\n",
              "                   biz_id             id_business  \\\n",
              "0  8ybF6YyRldtZmU9jil4xlg  8ybF6YyRldtZmU9jil4xlg   \n",
              "1  8ybF6YyRldtZmU9jil4xlg  8ybF6YyRldtZmU9jil4xlg   \n",
              "2  8ybF6YyRldtZmU9jil4xlg  8ybF6YyRldtZmU9jil4xlg   \n",
              "3  XVGEEIH5rVB2QzW-qywcJw  XVGEEIH5rVB2QzW-qywcJw   \n",
              "4  XVGEEIH5rVB2QzW-qywcJw  XVGEEIH5rVB2QzW-qywcJw   \n",
              "\n",
              "                               alias  \n",
              "0  mollys-restaurant-and-bar-hanover  \n",
              "1  mollys-restaurant-and-bar-hanover  \n",
              "2  mollys-restaurant-and-bar-hanover  \n",
              "3             base-camp-cafe-hanover  \n",
              "4             base-camp-cafe-hanover  "
            ]
          },
          "metadata": {
            "tags": []
          },
          "execution_count": 58
        }
      ]
    }
  ]
}